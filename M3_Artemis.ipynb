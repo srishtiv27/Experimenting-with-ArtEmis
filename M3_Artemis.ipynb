{
  "nbformat": 4,
  "nbformat_minor": 0,
  "metadata": {
    "colab": {
      "name": "M3_Artemis.ipynb",
      "provenance": []
    },
    "kernelspec": {
      "name": "python3",
      "display_name": "Python 3"
    },
    "language_info": {
      "name": "python"
    },
    "accelerator": "GPU"
  },
  "cells": [
    {
      "cell_type": "code",
      "execution_count": null,
      "metadata": {
        "colab": {
          "base_uri": "https://localhost:8080/"
        },
        "id": "fF--j9Me_TbF",
        "outputId": "cc39ae75-146a-4c89-a32b-09efaf0efce1"
      },
      "outputs": [
        {
          "output_type": "stream",
          "name": "stdout",
          "text": [
            "Mounted at /content/drive\n"
          ]
        }
      ],
      "source": [
        "from google.colab import drive\n",
        "drive.mount('/content/drive')"
      ]
    },
    {
      "cell_type": "markdown",
      "metadata": {
        "papermill": {
          "duration": 0.030876,
          "end_time": "2020-10-06T21:19:31.915205",
          "exception": false,
          "start_time": "2020-10-06T21:19:31.884329",
          "status": "completed"
        },
        "tags": [],
        "id": "nmxgwM5VMQa1"
      },
      "source": [
        "# **Imports**"
      ]
    },
    {
      "cell_type": "code",
      "metadata": {
        "execution": {
          "iopub.execute_input": "2020-10-06T21:19:31.986613Z",
          "iopub.status.busy": "2020-10-06T21:19:31.985943Z",
          "iopub.status.idle": "2020-10-06T21:19:41.514922Z",
          "shell.execute_reply": "2020-10-06T21:19:41.515686Z"
        },
        "papermill": {
          "duration": 9.569887,
          "end_time": "2020-10-06T21:19:41.515898",
          "exception": false,
          "start_time": "2020-10-06T21:19:31.946011",
          "status": "completed"
        },
        "tags": [],
        "colab": {
          "base_uri": "https://localhost:8080/"
        },
        "id": "ahU7tFUmMQa2",
        "outputId": "fa481d6d-2850-463b-ff21-387a69cb475b"
      },
      "source": [
        "import re\n",
        "import matplotlib.pyplot as plt\n",
        "import string\n",
        "from nltk.corpus import stopwords\n",
        "import nltk\n",
        "from nltk.corpus import wordnet\n",
        "from nltk.stem import WordNetLemmatizer\n",
        "from nltk.tokenize.treebank import TreebankWordDetokenizer\n",
        "from collections import Counter\n",
        "from wordcloud import WordCloud\n",
        "from nltk.corpus import stopwords\n",
        "import nltk\n",
        "from gensim.utils import simple_preprocess\n",
        "from nltk.corpus import stopwords\n",
        "import gensim\n",
        "from sklearn.model_selection import train_test_split\n",
        "import spacy\n",
        "import pickle\n",
        "import warnings\n",
        "warnings.filterwarnings('ignore')\n",
        "import seaborn as sns\n",
        "from sklearn.metrics import confusion_matrix\n",
        "import matplotlib.pyplot as plt \n",
        "import tensorflow as tf\n",
        "import keras\n",
        "import numpy as np\n",
        "import pandas as pd\n",
        "print('Done')"
      ],
      "execution_count": null,
      "outputs": [
        {
          "output_type": "stream",
          "name": "stdout",
          "text": [
            "Done\n"
          ]
        }
      ]
    },
    {
      "cell_type": "markdown",
      "metadata": {
        "papermill": {
          "duration": 0.032245,
          "end_time": "2020-10-06T21:19:41.583484",
          "exception": false,
          "start_time": "2020-10-06T21:19:41.551239",
          "status": "completed"
        },
        "tags": [],
        "id": "6FbD3YDsMQa4"
      },
      "source": [
        "# **Data importing**"
      ]
    },
    {
      "cell_type": "code",
      "metadata": {
        "_cell_guid": "79c7e3d0-c299-4dcb-8224-4455121ee9b0",
        "_uuid": "d629ff2d2480ee46fbb7e2d37f6b5fab8052498a",
        "execution": {
          "iopub.execute_input": "2020-10-06T21:19:41.667156Z",
          "iopub.status.busy": "2020-10-06T21:19:41.666425Z",
          "iopub.status.idle": "2020-10-06T21:19:41.753917Z",
          "shell.execute_reply": "2020-10-06T21:19:41.752384Z"
        },
        "papermill": {
          "duration": 0.132806,
          "end_time": "2020-10-06T21:19:41.754037",
          "exception": false,
          "start_time": "2020-10-06T21:19:41.621231",
          "status": "completed"
        },
        "tags": [],
        "id": "NigMF-33MQa4"
      },
      "source": [
        "artemis_preprocessed = pd.read_csv('/content/drive/MyDrive/College/Sem 6/CV/Project/datasets/artemis_preprocessed.csv')"
      ],
      "execution_count": null,
      "outputs": []
    },
    {
      "cell_type": "markdown",
      "metadata": {
        "papermill": {
          "duration": 0.031706,
          "end_time": "2020-10-06T21:19:41.817762",
          "exception": false,
          "start_time": "2020-10-06T21:19:41.786056",
          "status": "completed"
        },
        "tags": [],
        "id": "XITtMOPXMQa5"
      },
      "source": [
        "# **Data exploration**"
      ]
    },
    {
      "cell_type": "code",
      "source": [
        "artemis_preprocessed.head(15)"
      ],
      "metadata": {
        "colab": {
          "base_uri": "https://localhost:8080/",
          "height": 1000
        },
        "id": "xkQL3EC3u5a6",
        "outputId": "5559aa19-3cc2-4533-837c-41f06089a1b7"
      },
      "execution_count": null,
      "outputs": [
        {
          "output_type": "execute_result",
          "data": {
            "text/plain": [
              "             art_style                                           painting  \\\n",
              "0   Post_Impressionism  vincent-van-gogh_portrait-of-madame-ginoux-l-a...   \n",
              "1   Post_Impressionism  vincent-van-gogh_portrait-of-madame-ginoux-l-a...   \n",
              "2   Post_Impressionism  vincent-van-gogh_portrait-of-madame-ginoux-l-a...   \n",
              "3   Post_Impressionism  vincent-van-gogh_portrait-of-madame-ginoux-l-a...   \n",
              "4   Post_Impressionism  vincent-van-gogh_portrait-of-madame-ginoux-l-a...   \n",
              "5        Expressionism            wassily-kandinsky_study-for-autumn-1909   \n",
              "6        Expressionism            wassily-kandinsky_study-for-autumn-1909   \n",
              "7        Impressionism        konstantin-korovin_yaroslavna-s-lament-1909   \n",
              "8        Impressionism        konstantin-korovin_yaroslavna-s-lament-1909   \n",
              "9        Impressionism  paul-gauguin_mette-gauguin-in-an-evening-dress...   \n",
              "10       Impressionism  paul-gauguin_mette-gauguin-in-an-evening-dress...   \n",
              "11       Impressionism     pericles-pantazis_still-life-with-quinces-1880   \n",
              "12       Impressionism     pericles-pantazis_still-life-with-quinces-1880   \n",
              "13       Impressionism                      willard-metcalf_havana-harbor   \n",
              "14       Impressionism                      willard-metcalf_havana-harbor   \n",
              "\n",
              "           emotion                                          utterance  \\\n",
              "0   something else  She seems very happy in the picture, and you w...   \n",
              "1          sadness  This woman has really knotty hands which makes...   \n",
              "2   something else  When looking at this woman, I am filled with c...   \n",
              "3      contentment  A woman looking at ease, peaceful, and satisfi...   \n",
              "4              awe  She looks like a lady from that past that migh...   \n",
              "5              awe  The bright colors make a very unique scene for...   \n",
              "6   something else  The way the image is presented, with large chu...   \n",
              "7              awe  the stroke of blue paint used to outline the h...   \n",
              "8          sadness  Some of the wooden panels are falling from the...   \n",
              "9              awe  The golden gloves and white dress stand out an...   \n",
              "10       amusement  The woman is wearing dish-washing gloves even ...   \n",
              "11     contentment     The pears are just about ripe to eat and enjoy   \n",
              "12  something else  The fruits of this still life are somehwat for...   \n",
              "13             awe  The palm trees have grown so tall they're towe...   \n",
              "14     contentment  The red of the flowers pop off the page, it is...   \n",
              "\n",
              "    repetition  split                                             tokens  \\\n",
              "0           10  train  ['she', 'seems', 'very', 'happy', 'in', 'the',...   \n",
              "1           10  train  ['this', 'woman', 'has', 'really', 'knotty', '...   \n",
              "2           10  train  ['when', 'looking', 'at', 'this', 'woman', 'i'...   \n",
              "3           10  train  ['a', 'woman', 'looking', 'at', 'ease', 'peace...   \n",
              "4           10  train  ['she', 'looks', 'like', 'a', 'lady', 'from', ...   \n",
              "5            7  train  ['the', 'bright', 'colors', 'make', 'a', 'very...   \n",
              "6            7  train  ['the', 'way', 'the', 'image', 'is', 'presente...   \n",
              "7            7  train  ['the', 'stroke', 'of', 'blue', 'paint', 'used...   \n",
              "8            7  train  ['some', 'of', 'the', 'wooden', 'panels', 'are...   \n",
              "9            7  train  ['the', 'golden', 'gloves', 'and', 'white', 'd...   \n",
              "10           7  train  ['the', 'woman', 'is', 'wearing', 'dish', 'was...   \n",
              "11           7  train  ['the', 'pears', 'are', 'just', 'about', 'ripe...   \n",
              "12           7  train  ['the', 'fruits', 'of', 'this', 'still', 'life...   \n",
              "13           7   test  ['the', 'palm', 'trees', 'have', 'grown', 'so'...   \n",
              "14           7   test  ['the', 'red', 'of', 'the', 'flowers', 'pop', ...   \n",
              "\n",
              "    tokens_len                                  utterance_spelled  \\\n",
              "0           18  she seems very happy in the picture and you wa...   \n",
              "1           14  this woman has really knotty hands which makes...   \n",
              "2           27  when looking at this woman i am filled with cu...   \n",
              "3           15  a woman looking at ease peaceful and satisfied...   \n",
              "4           33  she looks like a lady from that past that migh...   \n",
              "5           12  the bright colors make a very unique scene for...   \n",
              "6           43  the way the image is presented with large chun...   \n",
              "7           13  the stroke of blue paint used to outline the h...   \n",
              "8           10  some of the wooden panels are falling from the...   \n",
              "9           17  the golden gloves and white dress stand out an...   \n",
              "10          15  the woman is wearing dish washing gloves even ...   \n",
              "11          10     the pears are just about ripe to eat and enjoy   \n",
              "12          18  the fruits of this still life are somewhat for...   \n",
              "13          13  the palm trees have grown so tall they are tow...   \n",
              "14          24  the red of the flowers pop off the page it is ...   \n",
              "\n",
              "                                       tokens_encoded  emotion_label  \n",
              "0   [1, 4, 5, 6, 7, 8, 9, 10, 11, 12, 13, 14, 15, ...              8  \n",
              "1   [1, 20, 21, 22, 23, 24, 25, 26, 27, 28, 29, 30...              7  \n",
              "2   [1, 32, 33, 34, 20, 21, 35, 36, 37, 38, 39, 40...              8  \n",
              "3   [1, 45, 21, 33, 34, 48, 49, 11, 50, 51, 28, 52...              2  \n",
              "4   [1, 4, 56, 30, 45, 57, 58, 59, 60, 59, 61, 62,...              1  \n",
              "5   [1, 9, 77, 78, 79, 45, 6, 80, 81, 73, 9, 82, 8...              1  \n",
              "6   [1, 9, 84, 9, 85, 17, 86, 38, 87, 88, 89, 90, ...              8  \n",
              "7   [1, 9, 108, 89, 109, 90, 91, 14, 110, 9, 111, ...              1  \n",
              "8   [1, 113, 89, 9, 114, 115, 116, 117, 58, 9, 118...              7  \n",
              "9   [1, 9, 119, 120, 11, 121, 122, 123, 124, 11, 1...              1  \n",
              "10  [1, 9, 21, 17, 129, 130, 131, 120, 132, 133, 4...              0  \n",
              "11  [1, 9, 137, 116, 138, 40, 139, 14, 140, 11, 14...              2  \n",
              "12  [1, 9, 142, 89, 20, 143, 144, 116, 145, 146, 1...              8  \n",
              "13  [1, 9, 3026, 291, 62, 3085, 168, 431, 239, 116...              1  \n",
              "14  [1, 9, 199, 89, 9, 275, 859, 541, 9, 439, 71, ...              2  "
            ],
            "text/html": [
              "\n",
              "  <div id=\"df-87d21ec0-471f-4f53-abd8-7e13c4a19be9\">\n",
              "    <div class=\"colab-df-container\">\n",
              "      <div>\n",
              "<style scoped>\n",
              "    .dataframe tbody tr th:only-of-type {\n",
              "        vertical-align: middle;\n",
              "    }\n",
              "\n",
              "    .dataframe tbody tr th {\n",
              "        vertical-align: top;\n",
              "    }\n",
              "\n",
              "    .dataframe thead th {\n",
              "        text-align: right;\n",
              "    }\n",
              "</style>\n",
              "<table border=\"1\" class=\"dataframe\">\n",
              "  <thead>\n",
              "    <tr style=\"text-align: right;\">\n",
              "      <th></th>\n",
              "      <th>art_style</th>\n",
              "      <th>painting</th>\n",
              "      <th>emotion</th>\n",
              "      <th>utterance</th>\n",
              "      <th>repetition</th>\n",
              "      <th>split</th>\n",
              "      <th>tokens</th>\n",
              "      <th>tokens_len</th>\n",
              "      <th>utterance_spelled</th>\n",
              "      <th>tokens_encoded</th>\n",
              "      <th>emotion_label</th>\n",
              "    </tr>\n",
              "  </thead>\n",
              "  <tbody>\n",
              "    <tr>\n",
              "      <th>0</th>\n",
              "      <td>Post_Impressionism</td>\n",
              "      <td>vincent-van-gogh_portrait-of-madame-ginoux-l-a...</td>\n",
              "      <td>something else</td>\n",
              "      <td>She seems very happy in the picture, and you w...</td>\n",
              "      <td>10</td>\n",
              "      <td>train</td>\n",
              "      <td>['she', 'seems', 'very', 'happy', 'in', 'the',...</td>\n",
              "      <td>18</td>\n",
              "      <td>she seems very happy in the picture and you wa...</td>\n",
              "      <td>[1, 4, 5, 6, 7, 8, 9, 10, 11, 12, 13, 14, 15, ...</td>\n",
              "      <td>8</td>\n",
              "    </tr>\n",
              "    <tr>\n",
              "      <th>1</th>\n",
              "      <td>Post_Impressionism</td>\n",
              "      <td>vincent-van-gogh_portrait-of-madame-ginoux-l-a...</td>\n",
              "      <td>sadness</td>\n",
              "      <td>This woman has really knotty hands which makes...</td>\n",
              "      <td>10</td>\n",
              "      <td>train</td>\n",
              "      <td>['this', 'woman', 'has', 'really', 'knotty', '...</td>\n",
              "      <td>14</td>\n",
              "      <td>this woman has really knotty hands which makes...</td>\n",
              "      <td>[1, 20, 21, 22, 23, 24, 25, 26, 27, 28, 29, 30...</td>\n",
              "      <td>7</td>\n",
              "    </tr>\n",
              "    <tr>\n",
              "      <th>2</th>\n",
              "      <td>Post_Impressionism</td>\n",
              "      <td>vincent-van-gogh_portrait-of-madame-ginoux-l-a...</td>\n",
              "      <td>something else</td>\n",
              "      <td>When looking at this woman, I am filled with c...</td>\n",
              "      <td>10</td>\n",
              "      <td>train</td>\n",
              "      <td>['when', 'looking', 'at', 'this', 'woman', 'i'...</td>\n",
              "      <td>27</td>\n",
              "      <td>when looking at this woman i am filled with cu...</td>\n",
              "      <td>[1, 32, 33, 34, 20, 21, 35, 36, 37, 38, 39, 40...</td>\n",
              "      <td>8</td>\n",
              "    </tr>\n",
              "    <tr>\n",
              "      <th>3</th>\n",
              "      <td>Post_Impressionism</td>\n",
              "      <td>vincent-van-gogh_portrait-of-madame-ginoux-l-a...</td>\n",
              "      <td>contentment</td>\n",
              "      <td>A woman looking at ease, peaceful, and satisfi...</td>\n",
              "      <td>10</td>\n",
              "      <td>train</td>\n",
              "      <td>['a', 'woman', 'looking', 'at', 'ease', 'peace...</td>\n",
              "      <td>15</td>\n",
              "      <td>a woman looking at ease peaceful and satisfied...</td>\n",
              "      <td>[1, 45, 21, 33, 34, 48, 49, 11, 50, 51, 28, 52...</td>\n",
              "      <td>2</td>\n",
              "    </tr>\n",
              "    <tr>\n",
              "      <th>4</th>\n",
              "      <td>Post_Impressionism</td>\n",
              "      <td>vincent-van-gogh_portrait-of-madame-ginoux-l-a...</td>\n",
              "      <td>awe</td>\n",
              "      <td>She looks like a lady from that past that migh...</td>\n",
              "      <td>10</td>\n",
              "      <td>train</td>\n",
              "      <td>['she', 'looks', 'like', 'a', 'lady', 'from', ...</td>\n",
              "      <td>33</td>\n",
              "      <td>she looks like a lady from that past that migh...</td>\n",
              "      <td>[1, 4, 56, 30, 45, 57, 58, 59, 60, 59, 61, 62,...</td>\n",
              "      <td>1</td>\n",
              "    </tr>\n",
              "    <tr>\n",
              "      <th>5</th>\n",
              "      <td>Expressionism</td>\n",
              "      <td>wassily-kandinsky_study-for-autumn-1909</td>\n",
              "      <td>awe</td>\n",
              "      <td>The bright colors make a very unique scene for...</td>\n",
              "      <td>7</td>\n",
              "      <td>train</td>\n",
              "      <td>['the', 'bright', 'colors', 'make', 'a', 'very...</td>\n",
              "      <td>12</td>\n",
              "      <td>the bright colors make a very unique scene for...</td>\n",
              "      <td>[1, 9, 77, 78, 79, 45, 6, 80, 81, 73, 9, 82, 8...</td>\n",
              "      <td>1</td>\n",
              "    </tr>\n",
              "    <tr>\n",
              "      <th>6</th>\n",
              "      <td>Expressionism</td>\n",
              "      <td>wassily-kandinsky_study-for-autumn-1909</td>\n",
              "      <td>something else</td>\n",
              "      <td>The way the image is presented, with large chu...</td>\n",
              "      <td>7</td>\n",
              "      <td>train</td>\n",
              "      <td>['the', 'way', 'the', 'image', 'is', 'presente...</td>\n",
              "      <td>43</td>\n",
              "      <td>the way the image is presented with large chun...</td>\n",
              "      <td>[1, 9, 84, 9, 85, 17, 86, 38, 87, 88, 89, 90, ...</td>\n",
              "      <td>8</td>\n",
              "    </tr>\n",
              "    <tr>\n",
              "      <th>7</th>\n",
              "      <td>Impressionism</td>\n",
              "      <td>konstantin-korovin_yaroslavna-s-lament-1909</td>\n",
              "      <td>awe</td>\n",
              "      <td>the stroke of blue paint used to outline the h...</td>\n",
              "      <td>7</td>\n",
              "      <td>train</td>\n",
              "      <td>['the', 'stroke', 'of', 'blue', 'paint', 'used...</td>\n",
              "      <td>13</td>\n",
              "      <td>the stroke of blue paint used to outline the h...</td>\n",
              "      <td>[1, 9, 108, 89, 109, 90, 91, 14, 110, 9, 111, ...</td>\n",
              "      <td>1</td>\n",
              "    </tr>\n",
              "    <tr>\n",
              "      <th>8</th>\n",
              "      <td>Impressionism</td>\n",
              "      <td>konstantin-korovin_yaroslavna-s-lament-1909</td>\n",
              "      <td>sadness</td>\n",
              "      <td>Some of the wooden panels are falling from the...</td>\n",
              "      <td>7</td>\n",
              "      <td>train</td>\n",
              "      <td>['some', 'of', 'the', 'wooden', 'panels', 'are...</td>\n",
              "      <td>10</td>\n",
              "      <td>some of the wooden panels are falling from the...</td>\n",
              "      <td>[1, 113, 89, 9, 114, 115, 116, 117, 58, 9, 118...</td>\n",
              "      <td>7</td>\n",
              "    </tr>\n",
              "    <tr>\n",
              "      <th>9</th>\n",
              "      <td>Impressionism</td>\n",
              "      <td>paul-gauguin_mette-gauguin-in-an-evening-dress...</td>\n",
              "      <td>awe</td>\n",
              "      <td>The golden gloves and white dress stand out an...</td>\n",
              "      <td>7</td>\n",
              "      <td>train</td>\n",
              "      <td>['the', 'golden', 'gloves', 'and', 'white', 'd...</td>\n",
              "      <td>17</td>\n",
              "      <td>the golden gloves and white dress stand out an...</td>\n",
              "      <td>[1, 9, 119, 120, 11, 121, 122, 123, 124, 11, 1...</td>\n",
              "      <td>1</td>\n",
              "    </tr>\n",
              "    <tr>\n",
              "      <th>10</th>\n",
              "      <td>Impressionism</td>\n",
              "      <td>paul-gauguin_mette-gauguin-in-an-evening-dress...</td>\n",
              "      <td>amusement</td>\n",
              "      <td>The woman is wearing dish-washing gloves even ...</td>\n",
              "      <td>7</td>\n",
              "      <td>train</td>\n",
              "      <td>['the', 'woman', 'is', 'wearing', 'dish', 'was...</td>\n",
              "      <td>15</td>\n",
              "      <td>the woman is wearing dish washing gloves even ...</td>\n",
              "      <td>[1, 9, 21, 17, 129, 130, 131, 120, 132, 133, 4...</td>\n",
              "      <td>0</td>\n",
              "    </tr>\n",
              "    <tr>\n",
              "      <th>11</th>\n",
              "      <td>Impressionism</td>\n",
              "      <td>pericles-pantazis_still-life-with-quinces-1880</td>\n",
              "      <td>contentment</td>\n",
              "      <td>The pears are just about ripe to eat and enjoy</td>\n",
              "      <td>7</td>\n",
              "      <td>train</td>\n",
              "      <td>['the', 'pears', 'are', 'just', 'about', 'ripe...</td>\n",
              "      <td>10</td>\n",
              "      <td>the pears are just about ripe to eat and enjoy</td>\n",
              "      <td>[1, 9, 137, 116, 138, 40, 139, 14, 140, 11, 14...</td>\n",
              "      <td>2</td>\n",
              "    </tr>\n",
              "    <tr>\n",
              "      <th>12</th>\n",
              "      <td>Impressionism</td>\n",
              "      <td>pericles-pantazis_still-life-with-quinces-1880</td>\n",
              "      <td>something else</td>\n",
              "      <td>The fruits of this still life are somehwat for...</td>\n",
              "      <td>7</td>\n",
              "      <td>train</td>\n",
              "      <td>['the', 'fruits', 'of', 'this', 'still', 'life...</td>\n",
              "      <td>18</td>\n",
              "      <td>the fruits of this still life are somewhat for...</td>\n",
              "      <td>[1, 9, 142, 89, 20, 143, 144, 116, 145, 146, 1...</td>\n",
              "      <td>8</td>\n",
              "    </tr>\n",
              "    <tr>\n",
              "      <th>13</th>\n",
              "      <td>Impressionism</td>\n",
              "      <td>willard-metcalf_havana-harbor</td>\n",
              "      <td>awe</td>\n",
              "      <td>The palm trees have grown so tall they're towe...</td>\n",
              "      <td>7</td>\n",
              "      <td>test</td>\n",
              "      <td>['the', 'palm', 'trees', 'have', 'grown', 'so'...</td>\n",
              "      <td>13</td>\n",
              "      <td>the palm trees have grown so tall they are tow...</td>\n",
              "      <td>[1, 9, 3026, 291, 62, 3085, 168, 431, 239, 116...</td>\n",
              "      <td>1</td>\n",
              "    </tr>\n",
              "    <tr>\n",
              "      <th>14</th>\n",
              "      <td>Impressionism</td>\n",
              "      <td>willard-metcalf_havana-harbor</td>\n",
              "      <td>contentment</td>\n",
              "      <td>The red of the flowers pop off the page, it is...</td>\n",
              "      <td>7</td>\n",
              "      <td>test</td>\n",
              "      <td>['the', 'red', 'of', 'the', 'flowers', 'pop', ...</td>\n",
              "      <td>24</td>\n",
              "      <td>the red of the flowers pop off the page it is ...</td>\n",
              "      <td>[1, 9, 199, 89, 9, 275, 859, 541, 9, 439, 71, ...</td>\n",
              "      <td>2</td>\n",
              "    </tr>\n",
              "  </tbody>\n",
              "</table>\n",
              "</div>\n",
              "      <button class=\"colab-df-convert\" onclick=\"convertToInteractive('df-87d21ec0-471f-4f53-abd8-7e13c4a19be9')\"\n",
              "              title=\"Convert this dataframe to an interactive table.\"\n",
              "              style=\"display:none;\">\n",
              "        \n",
              "  <svg xmlns=\"http://www.w3.org/2000/svg\" height=\"24px\"viewBox=\"0 0 24 24\"\n",
              "       width=\"24px\">\n",
              "    <path d=\"M0 0h24v24H0V0z\" fill=\"none\"/>\n",
              "    <path d=\"M18.56 5.44l.94 2.06.94-2.06 2.06-.94-2.06-.94-.94-2.06-.94 2.06-2.06.94zm-11 1L8.5 8.5l.94-2.06 2.06-.94-2.06-.94L8.5 2.5l-.94 2.06-2.06.94zm10 10l.94 2.06.94-2.06 2.06-.94-2.06-.94-.94-2.06-.94 2.06-2.06.94z\"/><path d=\"M17.41 7.96l-1.37-1.37c-.4-.4-.92-.59-1.43-.59-.52 0-1.04.2-1.43.59L10.3 9.45l-7.72 7.72c-.78.78-.78 2.05 0 2.83L4 21.41c.39.39.9.59 1.41.59.51 0 1.02-.2 1.41-.59l7.78-7.78 2.81-2.81c.8-.78.8-2.07 0-2.86zM5.41 20L4 18.59l7.72-7.72 1.47 1.35L5.41 20z\"/>\n",
              "  </svg>\n",
              "      </button>\n",
              "      \n",
              "  <style>\n",
              "    .colab-df-container {\n",
              "      display:flex;\n",
              "      flex-wrap:wrap;\n",
              "      gap: 12px;\n",
              "    }\n",
              "\n",
              "    .colab-df-convert {\n",
              "      background-color: #E8F0FE;\n",
              "      border: none;\n",
              "      border-radius: 50%;\n",
              "      cursor: pointer;\n",
              "      display: none;\n",
              "      fill: #1967D2;\n",
              "      height: 32px;\n",
              "      padding: 0 0 0 0;\n",
              "      width: 32px;\n",
              "    }\n",
              "\n",
              "    .colab-df-convert:hover {\n",
              "      background-color: #E2EBFA;\n",
              "      box-shadow: 0px 1px 2px rgba(60, 64, 67, 0.3), 0px 1px 3px 1px rgba(60, 64, 67, 0.15);\n",
              "      fill: #174EA6;\n",
              "    }\n",
              "\n",
              "    [theme=dark] .colab-df-convert {\n",
              "      background-color: #3B4455;\n",
              "      fill: #D2E3FC;\n",
              "    }\n",
              "\n",
              "    [theme=dark] .colab-df-convert:hover {\n",
              "      background-color: #434B5C;\n",
              "      box-shadow: 0px 1px 3px 1px rgba(0, 0, 0, 0.15);\n",
              "      filter: drop-shadow(0px 1px 2px rgba(0, 0, 0, 0.3));\n",
              "      fill: #FFFFFF;\n",
              "    }\n",
              "  </style>\n",
              "\n",
              "      <script>\n",
              "        const buttonEl =\n",
              "          document.querySelector('#df-87d21ec0-471f-4f53-abd8-7e13c4a19be9 button.colab-df-convert');\n",
              "        buttonEl.style.display =\n",
              "          google.colab.kernel.accessAllowed ? 'block' : 'none';\n",
              "\n",
              "        async function convertToInteractive(key) {\n",
              "          const element = document.querySelector('#df-87d21ec0-471f-4f53-abd8-7e13c4a19be9');\n",
              "          const dataTable =\n",
              "            await google.colab.kernel.invokeFunction('convertToInteractive',\n",
              "                                                     [key], {});\n",
              "          if (!dataTable) return;\n",
              "\n",
              "          const docLinkHtml = 'Like what you see? Visit the ' +\n",
              "            '<a target=\"_blank\" href=https://colab.research.google.com/notebooks/data_table.ipynb>data table notebook</a>'\n",
              "            + ' to learn more about interactive tables.';\n",
              "          element.innerHTML = '';\n",
              "          dataTable['output_type'] = 'display_data';\n",
              "          await google.colab.output.renderOutput(dataTable, element);\n",
              "          const docLink = document.createElement('div');\n",
              "          docLink.innerHTML = docLinkHtml;\n",
              "          element.appendChild(docLink);\n",
              "        }\n",
              "      </script>\n",
              "    </div>\n",
              "  </div>\n",
              "  "
            ]
          },
          "metadata": {},
          "execution_count": 4
        }
      ]
    },
    {
      "cell_type": "code",
      "metadata": {
        "execution": {
          "iopub.execute_input": "2020-10-06T21:19:41.898583Z",
          "iopub.status.busy": "2020-10-06T21:19:41.897942Z",
          "iopub.status.idle": "2020-10-06T21:19:41.908219Z",
          "shell.execute_reply": "2020-10-06T21:19:41.908804Z"
        },
        "papermill": {
          "duration": 0.05902,
          "end_time": "2020-10-06T21:19:41.908931",
          "exception": false,
          "start_time": "2020-10-06T21:19:41.849911",
          "status": "completed"
        },
        "tags": [],
        "colab": {
          "base_uri": "https://localhost:8080/",
          "height": 1000
        },
        "id": "pA-4xgPUMQa6",
        "outputId": "05d1c3ad-65b9-4e59-b81b-4a82e0d0bf3c"
      },
      "source": [
        "artemis_preprocessed[artemis_preprocessed['split'] == 'train']"
      ],
      "execution_count": null,
      "outputs": [
        {
          "output_type": "execute_result",
          "data": {
            "text/plain": [
              "                 art_style                                           painting  \\\n",
              "0       Post_Impressionism  vincent-van-gogh_portrait-of-madame-ginoux-l-a...   \n",
              "1       Post_Impressionism  vincent-van-gogh_portrait-of-madame-ginoux-l-a...   \n",
              "2       Post_Impressionism  vincent-van-gogh_portrait-of-madame-ginoux-l-a...   \n",
              "3       Post_Impressionism  vincent-van-gogh_portrait-of-madame-ginoux-l-a...   \n",
              "4       Post_Impressionism  vincent-van-gogh_portrait-of-madame-ginoux-l-a...   \n",
              "...                    ...                                                ...   \n",
              "454678              Cubism  willi-baumeister_machine-man-with-spiral-turn-...   \n",
              "454679              Cubism                           gino-severini_a-dancer-1   \n",
              "454680         Romanticism                  ivan-aivazovsky_sea-at-night-1861   \n",
              "454681         Romanticism                  ivan-aivazovsky_sea-at-night-1861   \n",
              "454682         Romanticism                  ivan-aivazovsky_sea-at-night-1861   \n",
              "\n",
              "               emotion                                          utterance  \\\n",
              "0       something else  She seems very happy in the picture, and you w...   \n",
              "1              sadness  This woman has really knotty hands which makes...   \n",
              "2       something else  When looking at this woman, I am filled with c...   \n",
              "3          contentment  A woman looking at ease, peaceful, and satisfi...   \n",
              "4                  awe  She looks like a lady from that past that migh...   \n",
              "...                ...                                                ...   \n",
              "454678  something else  The interlocking mechanical shapes fitting tog...   \n",
              "454679             awe  the collection and collage of different colors...   \n",
              "454680             awe  The peaceful reflections of the moonlight on t...   \n",
              "454681      excitement  I can imagine the sailors resting this peacefu...   \n",
              "454682     contentment  The steep mountains and the moonlight provide ...   \n",
              "\n",
              "        repetition  split                                             tokens  \\\n",
              "0               10  train  ['she', 'seems', 'very', 'happy', 'in', 'the',...   \n",
              "1               10  train  ['this', 'woman', 'has', 'really', 'knotty', '...   \n",
              "2               10  train  ['when', 'looking', 'at', 'this', 'woman', 'i'...   \n",
              "3               10  train  ['a', 'woman', 'looking', 'at', 'ease', 'peace...   \n",
              "4               10  train  ['she', 'looks', 'like', 'a', 'lady', 'from', ...   \n",
              "...            ...    ...                                                ...   \n",
              "454678          50  train  ['the', 'interlocking', 'mechanical', 'shapes'...   \n",
              "454679          48  train  ['the', 'collection', 'and', 'collage', 'of', ...   \n",
              "454680           8  train  ['the', 'peaceful', 'reflections', 'of', 'the'...   \n",
              "454681           8  train  ['i', 'can', 'imagine', 'the', 'sailors', 'res...   \n",
              "454682           8  train  ['the', 'steep', 'mountains', 'and', 'the', 'm...   \n",
              "\n",
              "        tokens_len                                  utterance_spelled  \\\n",
              "0               18  she seems very happy in the picture and you wa...   \n",
              "1               14  this woman has really knotty hands which makes...   \n",
              "2               27  when looking at this woman i am filled with cu...   \n",
              "3               15  a woman looking at ease peaceful and satisfied...   \n",
              "4               33  she looks like a lady from that past that migh...   \n",
              "...            ...                                                ...   \n",
              "454678          10  the interlocking mechanical shapes fitting tog...   \n",
              "454679          12  the collection and collage of different colors...   \n",
              "454680          14  the peaceful reflections of the moonlight on t...   \n",
              "454681          13  i can imagine the sailors resting this peacefu...   \n",
              "454682          15  the steep mountains and the moonlight provide ...   \n",
              "\n",
              "                                           tokens_encoded  emotion_label  \n",
              "0       [1, 4, 5, 6, 7, 8, 9, 10, 11, 12, 13, 14, 15, ...              8  \n",
              "1       [1, 20, 21, 22, 23, 24, 25, 26, 27, 28, 29, 30...              7  \n",
              "2       [1, 32, 33, 34, 20, 21, 35, 36, 37, 38, 39, 40...              8  \n",
              "3       [1, 45, 21, 33, 34, 48, 49, 11, 50, 51, 28, 52...              2  \n",
              "4       [1, 4, 56, 30, 45, 57, 58, 59, 60, 59, 61, 62,...              1  \n",
              "...                                                   ...            ...  \n",
              "454678  [1, 9, 10325, 6659, 83, 4371, 749, 116, 4136, ...              8  \n",
              "454679  [1, 9, 4867, 11, 4370, 89, 272, 78, 11, 83, 10...              1  \n",
              "454680  [1, 9, 49, 4037, 89, 9, 456, 43, 9, 269, 126, ...              1  \n",
              "454681  [1, 35, 149, 760, 9, 6361, 1942, 20, 49, 222, ...              3  \n",
              "454682  [1, 9, 2751, 894, 11, 9, 456, 292, 474, 14, 9,...              2  \n",
              "\n",
              "[386120 rows x 11 columns]"
            ],
            "text/html": [
              "\n",
              "  <div id=\"df-30804b88-70d0-4800-a900-32fb8cc2cabc\">\n",
              "    <div class=\"colab-df-container\">\n",
              "      <div>\n",
              "<style scoped>\n",
              "    .dataframe tbody tr th:only-of-type {\n",
              "        vertical-align: middle;\n",
              "    }\n",
              "\n",
              "    .dataframe tbody tr th {\n",
              "        vertical-align: top;\n",
              "    }\n",
              "\n",
              "    .dataframe thead th {\n",
              "        text-align: right;\n",
              "    }\n",
              "</style>\n",
              "<table border=\"1\" class=\"dataframe\">\n",
              "  <thead>\n",
              "    <tr style=\"text-align: right;\">\n",
              "      <th></th>\n",
              "      <th>art_style</th>\n",
              "      <th>painting</th>\n",
              "      <th>emotion</th>\n",
              "      <th>utterance</th>\n",
              "      <th>repetition</th>\n",
              "      <th>split</th>\n",
              "      <th>tokens</th>\n",
              "      <th>tokens_len</th>\n",
              "      <th>utterance_spelled</th>\n",
              "      <th>tokens_encoded</th>\n",
              "      <th>emotion_label</th>\n",
              "    </tr>\n",
              "  </thead>\n",
              "  <tbody>\n",
              "    <tr>\n",
              "      <th>0</th>\n",
              "      <td>Post_Impressionism</td>\n",
              "      <td>vincent-van-gogh_portrait-of-madame-ginoux-l-a...</td>\n",
              "      <td>something else</td>\n",
              "      <td>She seems very happy in the picture, and you w...</td>\n",
              "      <td>10</td>\n",
              "      <td>train</td>\n",
              "      <td>['she', 'seems', 'very', 'happy', 'in', 'the',...</td>\n",
              "      <td>18</td>\n",
              "      <td>she seems very happy in the picture and you wa...</td>\n",
              "      <td>[1, 4, 5, 6, 7, 8, 9, 10, 11, 12, 13, 14, 15, ...</td>\n",
              "      <td>8</td>\n",
              "    </tr>\n",
              "    <tr>\n",
              "      <th>1</th>\n",
              "      <td>Post_Impressionism</td>\n",
              "      <td>vincent-van-gogh_portrait-of-madame-ginoux-l-a...</td>\n",
              "      <td>sadness</td>\n",
              "      <td>This woman has really knotty hands which makes...</td>\n",
              "      <td>10</td>\n",
              "      <td>train</td>\n",
              "      <td>['this', 'woman', 'has', 'really', 'knotty', '...</td>\n",
              "      <td>14</td>\n",
              "      <td>this woman has really knotty hands which makes...</td>\n",
              "      <td>[1, 20, 21, 22, 23, 24, 25, 26, 27, 28, 29, 30...</td>\n",
              "      <td>7</td>\n",
              "    </tr>\n",
              "    <tr>\n",
              "      <th>2</th>\n",
              "      <td>Post_Impressionism</td>\n",
              "      <td>vincent-van-gogh_portrait-of-madame-ginoux-l-a...</td>\n",
              "      <td>something else</td>\n",
              "      <td>When looking at this woman, I am filled with c...</td>\n",
              "      <td>10</td>\n",
              "      <td>train</td>\n",
              "      <td>['when', 'looking', 'at', 'this', 'woman', 'i'...</td>\n",
              "      <td>27</td>\n",
              "      <td>when looking at this woman i am filled with cu...</td>\n",
              "      <td>[1, 32, 33, 34, 20, 21, 35, 36, 37, 38, 39, 40...</td>\n",
              "      <td>8</td>\n",
              "    </tr>\n",
              "    <tr>\n",
              "      <th>3</th>\n",
              "      <td>Post_Impressionism</td>\n",
              "      <td>vincent-van-gogh_portrait-of-madame-ginoux-l-a...</td>\n",
              "      <td>contentment</td>\n",
              "      <td>A woman looking at ease, peaceful, and satisfi...</td>\n",
              "      <td>10</td>\n",
              "      <td>train</td>\n",
              "      <td>['a', 'woman', 'looking', 'at', 'ease', 'peace...</td>\n",
              "      <td>15</td>\n",
              "      <td>a woman looking at ease peaceful and satisfied...</td>\n",
              "      <td>[1, 45, 21, 33, 34, 48, 49, 11, 50, 51, 28, 52...</td>\n",
              "      <td>2</td>\n",
              "    </tr>\n",
              "    <tr>\n",
              "      <th>4</th>\n",
              "      <td>Post_Impressionism</td>\n",
              "      <td>vincent-van-gogh_portrait-of-madame-ginoux-l-a...</td>\n",
              "      <td>awe</td>\n",
              "      <td>She looks like a lady from that past that migh...</td>\n",
              "      <td>10</td>\n",
              "      <td>train</td>\n",
              "      <td>['she', 'looks', 'like', 'a', 'lady', 'from', ...</td>\n",
              "      <td>33</td>\n",
              "      <td>she looks like a lady from that past that migh...</td>\n",
              "      <td>[1, 4, 56, 30, 45, 57, 58, 59, 60, 59, 61, 62,...</td>\n",
              "      <td>1</td>\n",
              "    </tr>\n",
              "    <tr>\n",
              "      <th>...</th>\n",
              "      <td>...</td>\n",
              "      <td>...</td>\n",
              "      <td>...</td>\n",
              "      <td>...</td>\n",
              "      <td>...</td>\n",
              "      <td>...</td>\n",
              "      <td>...</td>\n",
              "      <td>...</td>\n",
              "      <td>...</td>\n",
              "      <td>...</td>\n",
              "      <td>...</td>\n",
              "    </tr>\n",
              "    <tr>\n",
              "      <th>454678</th>\n",
              "      <td>Cubism</td>\n",
              "      <td>willi-baumeister_machine-man-with-spiral-turn-...</td>\n",
              "      <td>something else</td>\n",
              "      <td>The interlocking mechanical shapes fitting tog...</td>\n",
              "      <td>50</td>\n",
              "      <td>train</td>\n",
              "      <td>['the', 'interlocking', 'mechanical', 'shapes'...</td>\n",
              "      <td>10</td>\n",
              "      <td>the interlocking mechanical shapes fitting tog...</td>\n",
              "      <td>[1, 9, 10325, 6659, 83, 4371, 749, 116, 4136, ...</td>\n",
              "      <td>8</td>\n",
              "    </tr>\n",
              "    <tr>\n",
              "      <th>454679</th>\n",
              "      <td>Cubism</td>\n",
              "      <td>gino-severini_a-dancer-1</td>\n",
              "      <td>awe</td>\n",
              "      <td>the collection and collage of different colors...</td>\n",
              "      <td>48</td>\n",
              "      <td>train</td>\n",
              "      <td>['the', 'collection', 'and', 'collage', 'of', ...</td>\n",
              "      <td>12</td>\n",
              "      <td>the collection and collage of different colors...</td>\n",
              "      <td>[1, 9, 4867, 11, 4370, 89, 272, 78, 11, 83, 10...</td>\n",
              "      <td>1</td>\n",
              "    </tr>\n",
              "    <tr>\n",
              "      <th>454680</th>\n",
              "      <td>Romanticism</td>\n",
              "      <td>ivan-aivazovsky_sea-at-night-1861</td>\n",
              "      <td>awe</td>\n",
              "      <td>The peaceful reflections of the moonlight on t...</td>\n",
              "      <td>8</td>\n",
              "      <td>train</td>\n",
              "      <td>['the', 'peaceful', 'reflections', 'of', 'the'...</td>\n",
              "      <td>14</td>\n",
              "      <td>the peaceful reflections of the moonlight on t...</td>\n",
              "      <td>[1, 9, 49, 4037, 89, 9, 456, 43, 9, 269, 126, ...</td>\n",
              "      <td>1</td>\n",
              "    </tr>\n",
              "    <tr>\n",
              "      <th>454681</th>\n",
              "      <td>Romanticism</td>\n",
              "      <td>ivan-aivazovsky_sea-at-night-1861</td>\n",
              "      <td>excitement</td>\n",
              "      <td>I can imagine the sailors resting this peacefu...</td>\n",
              "      <td>8</td>\n",
              "      <td>train</td>\n",
              "      <td>['i', 'can', 'imagine', 'the', 'sailors', 'res...</td>\n",
              "      <td>13</td>\n",
              "      <td>i can imagine the sailors resting this peacefu...</td>\n",
              "      <td>[1, 35, 149, 760, 9, 6361, 1942, 20, 49, 222, ...</td>\n",
              "      <td>3</td>\n",
              "    </tr>\n",
              "    <tr>\n",
              "      <th>454682</th>\n",
              "      <td>Romanticism</td>\n",
              "      <td>ivan-aivazovsky_sea-at-night-1861</td>\n",
              "      <td>contentment</td>\n",
              "      <td>The steep mountains and the moonlight provide ...</td>\n",
              "      <td>8</td>\n",
              "      <td>train</td>\n",
              "      <td>['the', 'steep', 'mountains', 'and', 'the', 'm...</td>\n",
              "      <td>15</td>\n",
              "      <td>the steep mountains and the moonlight provide ...</td>\n",
              "      <td>[1, 9, 2751, 894, 11, 9, 456, 292, 474, 14, 9,...</td>\n",
              "      <td>2</td>\n",
              "    </tr>\n",
              "  </tbody>\n",
              "</table>\n",
              "<p>386120 rows × 11 columns</p>\n",
              "</div>\n",
              "      <button class=\"colab-df-convert\" onclick=\"convertToInteractive('df-30804b88-70d0-4800-a900-32fb8cc2cabc')\"\n",
              "              title=\"Convert this dataframe to an interactive table.\"\n",
              "              style=\"display:none;\">\n",
              "        \n",
              "  <svg xmlns=\"http://www.w3.org/2000/svg\" height=\"24px\"viewBox=\"0 0 24 24\"\n",
              "       width=\"24px\">\n",
              "    <path d=\"M0 0h24v24H0V0z\" fill=\"none\"/>\n",
              "    <path d=\"M18.56 5.44l.94 2.06.94-2.06 2.06-.94-2.06-.94-.94-2.06-.94 2.06-2.06.94zm-11 1L8.5 8.5l.94-2.06 2.06-.94-2.06-.94L8.5 2.5l-.94 2.06-2.06.94zm10 10l.94 2.06.94-2.06 2.06-.94-2.06-.94-.94-2.06-.94 2.06-2.06.94z\"/><path d=\"M17.41 7.96l-1.37-1.37c-.4-.4-.92-.59-1.43-.59-.52 0-1.04.2-1.43.59L10.3 9.45l-7.72 7.72c-.78.78-.78 2.05 0 2.83L4 21.41c.39.39.9.59 1.41.59.51 0 1.02-.2 1.41-.59l7.78-7.78 2.81-2.81c.8-.78.8-2.07 0-2.86zM5.41 20L4 18.59l7.72-7.72 1.47 1.35L5.41 20z\"/>\n",
              "  </svg>\n",
              "      </button>\n",
              "      \n",
              "  <style>\n",
              "    .colab-df-container {\n",
              "      display:flex;\n",
              "      flex-wrap:wrap;\n",
              "      gap: 12px;\n",
              "    }\n",
              "\n",
              "    .colab-df-convert {\n",
              "      background-color: #E8F0FE;\n",
              "      border: none;\n",
              "      border-radius: 50%;\n",
              "      cursor: pointer;\n",
              "      display: none;\n",
              "      fill: #1967D2;\n",
              "      height: 32px;\n",
              "      padding: 0 0 0 0;\n",
              "      width: 32px;\n",
              "    }\n",
              "\n",
              "    .colab-df-convert:hover {\n",
              "      background-color: #E2EBFA;\n",
              "      box-shadow: 0px 1px 2px rgba(60, 64, 67, 0.3), 0px 1px 3px 1px rgba(60, 64, 67, 0.15);\n",
              "      fill: #174EA6;\n",
              "    }\n",
              "\n",
              "    [theme=dark] .colab-df-convert {\n",
              "      background-color: #3B4455;\n",
              "      fill: #D2E3FC;\n",
              "    }\n",
              "\n",
              "    [theme=dark] .colab-df-convert:hover {\n",
              "      background-color: #434B5C;\n",
              "      box-shadow: 0px 1px 3px 1px rgba(0, 0, 0, 0.15);\n",
              "      filter: drop-shadow(0px 1px 2px rgba(0, 0, 0, 0.3));\n",
              "      fill: #FFFFFF;\n",
              "    }\n",
              "  </style>\n",
              "\n",
              "      <script>\n",
              "        const buttonEl =\n",
              "          document.querySelector('#df-30804b88-70d0-4800-a900-32fb8cc2cabc button.colab-df-convert');\n",
              "        buttonEl.style.display =\n",
              "          google.colab.kernel.accessAllowed ? 'block' : 'none';\n",
              "\n",
              "        async function convertToInteractive(key) {\n",
              "          const element = document.querySelector('#df-30804b88-70d0-4800-a900-32fb8cc2cabc');\n",
              "          const dataTable =\n",
              "            await google.colab.kernel.invokeFunction('convertToInteractive',\n",
              "                                                     [key], {});\n",
              "          if (!dataTable) return;\n",
              "\n",
              "          const docLinkHtml = 'Like what you see? Visit the ' +\n",
              "            '<a target=\"_blank\" href=https://colab.research.google.com/notebooks/data_table.ipynb>data table notebook</a>'\n",
              "            + ' to learn more about interactive tables.';\n",
              "          element.innerHTML = '';\n",
              "          dataTable['output_type'] = 'display_data';\n",
              "          await google.colab.output.renderOutput(dataTable, element);\n",
              "          const docLink = document.createElement('div');\n",
              "          docLink.innerHTML = docLinkHtml;\n",
              "          element.appendChild(docLink);\n",
              "        }\n",
              "      </script>\n",
              "    </div>\n",
              "  </div>\n",
              "  "
            ]
          },
          "metadata": {},
          "execution_count": 6
        }
      ]
    },
    {
      "cell_type": "code",
      "source": [
        "artemis_preprocessed.iloc[0]['utterance_spelled']"
      ],
      "metadata": {
        "colab": {
          "base_uri": "https://localhost:8080/",
          "height": 35
        },
        "id": "YOxk0Il0wA26",
        "outputId": "a1d37286-c625-4c96-a850-d464d65da5b8"
      },
      "execution_count": null,
      "outputs": [
        {
          "output_type": "execute_result",
          "data": {
            "text/plain": [
              "'she seems very happy in the picture and you want to know what what is behind the smile'"
            ],
            "application/vnd.google.colaboratory.intrinsic+json": {
              "type": "string"
            }
          },
          "metadata": {},
          "execution_count": 7
        }
      ]
    },
    {
      "cell_type": "code",
      "source": [
        "artemis_preprocessed.iloc[0]['tokens_encoded']"
      ],
      "metadata": {
        "colab": {
          "base_uri": "https://localhost:8080/",
          "height": 124
        },
        "id": "kAGmneSRwNcZ",
        "outputId": "08c475e9-7b0d-4e45-8dff-f886e04e9954"
      },
      "execution_count": null,
      "outputs": [
        {
          "output_type": "execute_result",
          "data": {
            "text/plain": [
              "'[1, 4, 5, 6, 7, 8, 9, 10, 11, 12, 13, 14, 15, 16, 16, 17, 18, 9, 19, 2, 0, 0, 0, 0, 0, 0, 0, 0, 0, 0, 0, 0, 0, 0, 0, 0, 0, 0, 0, 0, 0, 0, 0, 0, 0, 0, 0, 0, 0, 0, 0, 0, 0, 0, 0, 0, 0, 0, 0, 0, 0, 0, 0, 0, 0, 0, 0, 0, 0, 0, 0, 0, 0, 0, 0, 0, 0, 0, 0, 0, 0, 0, 0, 0, 0, 0, 0, 0, 0, 0, 0, 0, 0, 0, 0, 0, 0, 0, 0, 0, 0, 0, 0, 0, 0, 0, 0, 0, 0, 0, 0, 0, 0, 0, 0, 0, 0, 0, 0, 0, 0, 0, 0, 0, 0, 0, 0, 0, 0, 0, 0, 0, 0, 0, 0, 0, 0, 0, 0, 0, 0, 0, 0, 0, 0, 0, 0, 0, 0, 0, 0, 0, 0, 0, 0, 0, 0, 0, 0, 0, 0, 0, 0, 0, 0, 0, 0, 0, 0, 0, 0, 0, 0, 0, 0, 0, 0, 0, 0, 0, 0, 0, 0, 0, 0, 0, 0, 0, 0, 0, 0, 0, 0, 0, 0, 0, 0, 0, 0, 0, 0, 0, 0, 0, 0, 0, 0, 0, 0]'"
            ],
            "application/vnd.google.colaboratory.intrinsic+json": {
              "type": "string"
            }
          },
          "metadata": {},
          "execution_count": 8
        }
      ]
    },
    {
      "cell_type": "code",
      "source": [
        "len(artemis_preprocessed.iloc[0]['tokens'].split(','))"
      ],
      "metadata": {
        "colab": {
          "base_uri": "https://localhost:8080/"
        },
        "id": "9H8orQKzwd8o",
        "outputId": "719a31c6-0585-4e3d-8549-76d01321a50f"
      },
      "execution_count": null,
      "outputs": [
        {
          "output_type": "execute_result",
          "data": {
            "text/plain": [
              "18"
            ]
          },
          "metadata": {},
          "execution_count": 9
        }
      ]
    },
    {
      "cell_type": "code",
      "metadata": {
        "execution": {
          "iopub.execute_input": "2020-10-06T21:19:41.980569Z",
          "iopub.status.busy": "2020-10-06T21:19:41.979730Z",
          "iopub.status.idle": "2020-10-06T21:19:41.983566Z",
          "shell.execute_reply": "2020-10-06T21:19:41.983073Z"
        },
        "papermill": {
          "duration": 0.041264,
          "end_time": "2020-10-06T21:19:41.983666",
          "exception": false,
          "start_time": "2020-10-06T21:19:41.942402",
          "status": "completed"
        },
        "tags": [],
        "colab": {
          "base_uri": "https://localhost:8080/"
        },
        "id": "wOGdosy-MQa6",
        "outputId": "76cb88d1-c697-4100-93a0-0cd0e7cf800b"
      },
      "source": [
        "#Let's get the dataset lenght\n",
        "len(artemis_preprocessed)"
      ],
      "execution_count": null,
      "outputs": [
        {
          "output_type": "execute_result",
          "data": {
            "text/plain": [
              "454684"
            ]
          },
          "metadata": {},
          "execution_count": 11
        }
      ]
    },
    {
      "cell_type": "code",
      "metadata": {
        "execution": {
          "iopub.execute_input": "2020-10-06T21:19:42.060070Z",
          "iopub.status.busy": "2020-10-06T21:19:42.059141Z",
          "iopub.status.idle": "2020-10-06T21:19:42.064587Z",
          "shell.execute_reply": "2020-10-06T21:19:42.064115Z"
        },
        "papermill": {
          "duration": 0.047577,
          "end_time": "2020-10-06T21:19:42.064691",
          "exception": false,
          "start_time": "2020-10-06T21:19:42.017114",
          "status": "completed"
        },
        "tags": [],
        "colab": {
          "base_uri": "https://localhost:8080/"
        },
        "id": "oB7vKFtUMQa7",
        "outputId": "d219f8d5-6307-4142-c56c-0c475976b071"
      },
      "source": [
        "#Is there any other different value than neutral, negative and positive?\n",
        "artemis_preprocessed['emotion'].unique()"
      ],
      "execution_count": null,
      "outputs": [
        {
          "output_type": "execute_result",
          "data": {
            "text/plain": [
              "array(['something else', 'sadness', 'contentment', 'awe', 'amusement',\n",
              "       'excitement', 'fear', 'disgust', 'anger'], dtype=object)"
            ]
          },
          "metadata": {},
          "execution_count": 12
        }
      ]
    },
    {
      "cell_type": "code",
      "source": [
        "artemis_preprocessed['emotion_label'].unique()"
      ],
      "metadata": {
        "colab": {
          "base_uri": "https://localhost:8080/"
        },
        "id": "Q34qnq8gz3qz",
        "outputId": "192dcdd8-bc8a-4d1e-b251-a3334249abda"
      },
      "execution_count": null,
      "outputs": [
        {
          "output_type": "execute_result",
          "data": {
            "text/plain": [
              "array([8, 7, 2, 1, 0, 3, 6, 5, 4])"
            ]
          },
          "metadata": {},
          "execution_count": 13
        }
      ]
    },
    {
      "cell_type": "code",
      "metadata": {
        "execution": {
          "iopub.execute_input": "2020-10-06T21:19:42.143106Z",
          "iopub.status.busy": "2020-10-06T21:19:42.142318Z",
          "iopub.status.idle": "2020-10-06T21:19:42.185676Z",
          "shell.execute_reply": "2020-10-06T21:19:42.186310Z"
        },
        "papermill": {
          "duration": 0.088183,
          "end_time": "2020-10-06T21:19:42.186453",
          "exception": false,
          "start_time": "2020-10-06T21:19:42.098270",
          "status": "completed"
        },
        "tags": [],
        "colab": {
          "base_uri": "https://localhost:8080/",
          "height": 427
        },
        "id": "Maq5sPOCMQa8",
        "outputId": "3c573425-5b81-439f-8163-2e06a24e183c"
      },
      "source": [
        "#How's distributed the dataset? Is it biased?\n",
        "artemis_preprocessed.groupby('emotion_label').nunique()"
      ],
      "execution_count": null,
      "outputs": [
        {
          "output_type": "execute_result",
          "data": {
            "text/plain": [
              "               art_style  painting  emotion  utterance  repetition  split  \\\n",
              "emotion_label                                                               \n",
              "0                     27     29014        1      45287          26      3   \n",
              "1                     27     43866        1      72789          27      3   \n",
              "2                     27     56053        1     125927          27      3   \n",
              "3                     27     26732        1      37574          27      3   \n",
              "4                     27      5860        1       6631          24      3   \n",
              "5                     27     16921        1      22385          26      3   \n",
              "6                     27     24932        1      41550          25      3   \n",
              "7                     27     29339        1      48993          26      3   \n",
              "8                     27     36574        1      52854          27      3   \n",
              "\n",
              "               tokens  tokens_len  utterance_spelled  tokens_encoded  \n",
              "emotion_label                                                         \n",
              "0               45267         102              45267           45267  \n",
              "1               72776         110              72776           72776  \n",
              "2              125876         113             125876          125876  \n",
              "3               37564         101              37564           37564  \n",
              "4                6631          79               6631            6631  \n",
              "5               22383          96              22383           22383  \n",
              "6               41535          98              41535           41535  \n",
              "7               48957         108              48957           48957  \n",
              "8               52825         124              52825           52825  "
            ],
            "text/html": [
              "\n",
              "  <div id=\"df-a6ca5d79-d426-4d8f-8c50-907b5eb708f3\">\n",
              "    <div class=\"colab-df-container\">\n",
              "      <div>\n",
              "<style scoped>\n",
              "    .dataframe tbody tr th:only-of-type {\n",
              "        vertical-align: middle;\n",
              "    }\n",
              "\n",
              "    .dataframe tbody tr th {\n",
              "        vertical-align: top;\n",
              "    }\n",
              "\n",
              "    .dataframe thead th {\n",
              "        text-align: right;\n",
              "    }\n",
              "</style>\n",
              "<table border=\"1\" class=\"dataframe\">\n",
              "  <thead>\n",
              "    <tr style=\"text-align: right;\">\n",
              "      <th></th>\n",
              "      <th>art_style</th>\n",
              "      <th>painting</th>\n",
              "      <th>emotion</th>\n",
              "      <th>utterance</th>\n",
              "      <th>repetition</th>\n",
              "      <th>split</th>\n",
              "      <th>tokens</th>\n",
              "      <th>tokens_len</th>\n",
              "      <th>utterance_spelled</th>\n",
              "      <th>tokens_encoded</th>\n",
              "    </tr>\n",
              "    <tr>\n",
              "      <th>emotion_label</th>\n",
              "      <th></th>\n",
              "      <th></th>\n",
              "      <th></th>\n",
              "      <th></th>\n",
              "      <th></th>\n",
              "      <th></th>\n",
              "      <th></th>\n",
              "      <th></th>\n",
              "      <th></th>\n",
              "      <th></th>\n",
              "    </tr>\n",
              "  </thead>\n",
              "  <tbody>\n",
              "    <tr>\n",
              "      <th>0</th>\n",
              "      <td>27</td>\n",
              "      <td>29014</td>\n",
              "      <td>1</td>\n",
              "      <td>45287</td>\n",
              "      <td>26</td>\n",
              "      <td>3</td>\n",
              "      <td>45267</td>\n",
              "      <td>102</td>\n",
              "      <td>45267</td>\n",
              "      <td>45267</td>\n",
              "    </tr>\n",
              "    <tr>\n",
              "      <th>1</th>\n",
              "      <td>27</td>\n",
              "      <td>43866</td>\n",
              "      <td>1</td>\n",
              "      <td>72789</td>\n",
              "      <td>27</td>\n",
              "      <td>3</td>\n",
              "      <td>72776</td>\n",
              "      <td>110</td>\n",
              "      <td>72776</td>\n",
              "      <td>72776</td>\n",
              "    </tr>\n",
              "    <tr>\n",
              "      <th>2</th>\n",
              "      <td>27</td>\n",
              "      <td>56053</td>\n",
              "      <td>1</td>\n",
              "      <td>125927</td>\n",
              "      <td>27</td>\n",
              "      <td>3</td>\n",
              "      <td>125876</td>\n",
              "      <td>113</td>\n",
              "      <td>125876</td>\n",
              "      <td>125876</td>\n",
              "    </tr>\n",
              "    <tr>\n",
              "      <th>3</th>\n",
              "      <td>27</td>\n",
              "      <td>26732</td>\n",
              "      <td>1</td>\n",
              "      <td>37574</td>\n",
              "      <td>27</td>\n",
              "      <td>3</td>\n",
              "      <td>37564</td>\n",
              "      <td>101</td>\n",
              "      <td>37564</td>\n",
              "      <td>37564</td>\n",
              "    </tr>\n",
              "    <tr>\n",
              "      <th>4</th>\n",
              "      <td>27</td>\n",
              "      <td>5860</td>\n",
              "      <td>1</td>\n",
              "      <td>6631</td>\n",
              "      <td>24</td>\n",
              "      <td>3</td>\n",
              "      <td>6631</td>\n",
              "      <td>79</td>\n",
              "      <td>6631</td>\n",
              "      <td>6631</td>\n",
              "    </tr>\n",
              "    <tr>\n",
              "      <th>5</th>\n",
              "      <td>27</td>\n",
              "      <td>16921</td>\n",
              "      <td>1</td>\n",
              "      <td>22385</td>\n",
              "      <td>26</td>\n",
              "      <td>3</td>\n",
              "      <td>22383</td>\n",
              "      <td>96</td>\n",
              "      <td>22383</td>\n",
              "      <td>22383</td>\n",
              "    </tr>\n",
              "    <tr>\n",
              "      <th>6</th>\n",
              "      <td>27</td>\n",
              "      <td>24932</td>\n",
              "      <td>1</td>\n",
              "      <td>41550</td>\n",
              "      <td>25</td>\n",
              "      <td>3</td>\n",
              "      <td>41535</td>\n",
              "      <td>98</td>\n",
              "      <td>41535</td>\n",
              "      <td>41535</td>\n",
              "    </tr>\n",
              "    <tr>\n",
              "      <th>7</th>\n",
              "      <td>27</td>\n",
              "      <td>29339</td>\n",
              "      <td>1</td>\n",
              "      <td>48993</td>\n",
              "      <td>26</td>\n",
              "      <td>3</td>\n",
              "      <td>48957</td>\n",
              "      <td>108</td>\n",
              "      <td>48957</td>\n",
              "      <td>48957</td>\n",
              "    </tr>\n",
              "    <tr>\n",
              "      <th>8</th>\n",
              "      <td>27</td>\n",
              "      <td>36574</td>\n",
              "      <td>1</td>\n",
              "      <td>52854</td>\n",
              "      <td>27</td>\n",
              "      <td>3</td>\n",
              "      <td>52825</td>\n",
              "      <td>124</td>\n",
              "      <td>52825</td>\n",
              "      <td>52825</td>\n",
              "    </tr>\n",
              "  </tbody>\n",
              "</table>\n",
              "</div>\n",
              "      <button class=\"colab-df-convert\" onclick=\"convertToInteractive('df-a6ca5d79-d426-4d8f-8c50-907b5eb708f3')\"\n",
              "              title=\"Convert this dataframe to an interactive table.\"\n",
              "              style=\"display:none;\">\n",
              "        \n",
              "  <svg xmlns=\"http://www.w3.org/2000/svg\" height=\"24px\"viewBox=\"0 0 24 24\"\n",
              "       width=\"24px\">\n",
              "    <path d=\"M0 0h24v24H0V0z\" fill=\"none\"/>\n",
              "    <path d=\"M18.56 5.44l.94 2.06.94-2.06 2.06-.94-2.06-.94-.94-2.06-.94 2.06-2.06.94zm-11 1L8.5 8.5l.94-2.06 2.06-.94-2.06-.94L8.5 2.5l-.94 2.06-2.06.94zm10 10l.94 2.06.94-2.06 2.06-.94-2.06-.94-.94-2.06-.94 2.06-2.06.94z\"/><path d=\"M17.41 7.96l-1.37-1.37c-.4-.4-.92-.59-1.43-.59-.52 0-1.04.2-1.43.59L10.3 9.45l-7.72 7.72c-.78.78-.78 2.05 0 2.83L4 21.41c.39.39.9.59 1.41.59.51 0 1.02-.2 1.41-.59l7.78-7.78 2.81-2.81c.8-.78.8-2.07 0-2.86zM5.41 20L4 18.59l7.72-7.72 1.47 1.35L5.41 20z\"/>\n",
              "  </svg>\n",
              "      </button>\n",
              "      \n",
              "  <style>\n",
              "    .colab-df-container {\n",
              "      display:flex;\n",
              "      flex-wrap:wrap;\n",
              "      gap: 12px;\n",
              "    }\n",
              "\n",
              "    .colab-df-convert {\n",
              "      background-color: #E8F0FE;\n",
              "      border: none;\n",
              "      border-radius: 50%;\n",
              "      cursor: pointer;\n",
              "      display: none;\n",
              "      fill: #1967D2;\n",
              "      height: 32px;\n",
              "      padding: 0 0 0 0;\n",
              "      width: 32px;\n",
              "    }\n",
              "\n",
              "    .colab-df-convert:hover {\n",
              "      background-color: #E2EBFA;\n",
              "      box-shadow: 0px 1px 2px rgba(60, 64, 67, 0.3), 0px 1px 3px 1px rgba(60, 64, 67, 0.15);\n",
              "      fill: #174EA6;\n",
              "    }\n",
              "\n",
              "    [theme=dark] .colab-df-convert {\n",
              "      background-color: #3B4455;\n",
              "      fill: #D2E3FC;\n",
              "    }\n",
              "\n",
              "    [theme=dark] .colab-df-convert:hover {\n",
              "      background-color: #434B5C;\n",
              "      box-shadow: 0px 1px 3px 1px rgba(0, 0, 0, 0.15);\n",
              "      filter: drop-shadow(0px 1px 2px rgba(0, 0, 0, 0.3));\n",
              "      fill: #FFFFFF;\n",
              "    }\n",
              "  </style>\n",
              "\n",
              "      <script>\n",
              "        const buttonEl =\n",
              "          document.querySelector('#df-a6ca5d79-d426-4d8f-8c50-907b5eb708f3 button.colab-df-convert');\n",
              "        buttonEl.style.display =\n",
              "          google.colab.kernel.accessAllowed ? 'block' : 'none';\n",
              "\n",
              "        async function convertToInteractive(key) {\n",
              "          const element = document.querySelector('#df-a6ca5d79-d426-4d8f-8c50-907b5eb708f3');\n",
              "          const dataTable =\n",
              "            await google.colab.kernel.invokeFunction('convertToInteractive',\n",
              "                                                     [key], {});\n",
              "          if (!dataTable) return;\n",
              "\n",
              "          const docLinkHtml = 'Like what you see? Visit the ' +\n",
              "            '<a target=\"_blank\" href=https://colab.research.google.com/notebooks/data_table.ipynb>data table notebook</a>'\n",
              "            + ' to learn more about interactive tables.';\n",
              "          element.innerHTML = '';\n",
              "          dataTable['output_type'] = 'display_data';\n",
              "          await google.colab.output.renderOutput(dataTable, element);\n",
              "          const docLink = document.createElement('div');\n",
              "          docLink.innerHTML = docLinkHtml;\n",
              "          element.appendChild(docLink);\n",
              "        }\n",
              "      </script>\n",
              "    </div>\n",
              "  </div>\n",
              "  "
            ]
          },
          "metadata": {},
          "execution_count": 14
        }
      ]
    },
    {
      "cell_type": "code",
      "source": [
        "artemis_preprocessed.drop(['tokens_encoded', 'split'], axis = 1)"
      ],
      "metadata": {
        "colab": {
          "base_uri": "https://localhost:8080/",
          "height": 1000
        },
        "id": "pOlEBHjK0NTl",
        "outputId": "c280ed99-f228-4121-a418-f891176124ed"
      },
      "execution_count": null,
      "outputs": [
        {
          "output_type": "execute_result",
          "data": {
            "text/plain": [
              "                 art_style                                           painting  \\\n",
              "0       Post_Impressionism  vincent-van-gogh_portrait-of-madame-ginoux-l-a...   \n",
              "1       Post_Impressionism  vincent-van-gogh_portrait-of-madame-ginoux-l-a...   \n",
              "2       Post_Impressionism  vincent-van-gogh_portrait-of-madame-ginoux-l-a...   \n",
              "3       Post_Impressionism  vincent-van-gogh_portrait-of-madame-ginoux-l-a...   \n",
              "4       Post_Impressionism  vincent-van-gogh_portrait-of-madame-ginoux-l-a...   \n",
              "...                    ...                                                ...   \n",
              "454679              Cubism                           gino-severini_a-dancer-1   \n",
              "454680         Romanticism                  ivan-aivazovsky_sea-at-night-1861   \n",
              "454681         Romanticism                  ivan-aivazovsky_sea-at-night-1861   \n",
              "454682         Romanticism                  ivan-aivazovsky_sea-at-night-1861   \n",
              "454683              Cubism                      joan-miro_not_detected_227963   \n",
              "\n",
              "               emotion                                          utterance  \\\n",
              "0       something else  She seems very happy in the picture, and you w...   \n",
              "1              sadness  This woman has really knotty hands which makes...   \n",
              "2       something else  When looking at this woman, I am filled with c...   \n",
              "3          contentment  A woman looking at ease, peaceful, and satisfi...   \n",
              "4                  awe  She looks like a lady from that past that migh...   \n",
              "...                ...                                                ...   \n",
              "454679             awe  the collection and collage of different colors...   \n",
              "454680             awe  The peaceful reflections of the moonlight on t...   \n",
              "454681      excitement  I can imagine the sailors resting this peacefu...   \n",
              "454682     contentment  The steep mountains and the moonlight provide ...   \n",
              "454683            fear  If you look at the colors individually they ar...   \n",
              "\n",
              "        repetition                                             tokens  \\\n",
              "0               10  ['she', 'seems', 'very', 'happy', 'in', 'the',...   \n",
              "1               10  ['this', 'woman', 'has', 'really', 'knotty', '...   \n",
              "2               10  ['when', 'looking', 'at', 'this', 'woman', 'i'...   \n",
              "3               10  ['a', 'woman', 'looking', 'at', 'ease', 'peace...   \n",
              "4               10  ['she', 'looks', 'like', 'a', 'lady', 'from', ...   \n",
              "...            ...                                                ...   \n",
              "454679          48  ['the', 'collection', 'and', 'collage', 'of', ...   \n",
              "454680           8  ['the', 'peaceful', 'reflections', 'of', 'the'...   \n",
              "454681           8  ['i', 'can', 'imagine', 'the', 'sailors', 'res...   \n",
              "454682           8  ['the', 'steep', 'mountains', 'and', 'the', 'm...   \n",
              "454683          10  ['if', 'you', 'look', 'at', 'the', 'colors', '...   \n",
              "\n",
              "        tokens_len                                  utterance_spelled  \\\n",
              "0               18  she seems very happy in the picture and you wa...   \n",
              "1               14  this woman has really knotty hands which makes...   \n",
              "2               27  when looking at this woman i am filled with cu...   \n",
              "3               15  a woman looking at ease peaceful and satisfied...   \n",
              "4               33  she looks like a lady from that past that migh...   \n",
              "...            ...                                                ...   \n",
              "454679          12  the collection and collage of different colors...   \n",
              "454680          14  the peaceful reflections of the moonlight on t...   \n",
              "454681          13  i can imagine the sailors resting this peacefu...   \n",
              "454682          15  the steep mountains and the moonlight provide ...   \n",
              "454683          38  if you look at the colors individually they ar...   \n",
              "\n",
              "        emotion_label  \n",
              "0                   8  \n",
              "1                   7  \n",
              "2                   8  \n",
              "3                   2  \n",
              "4                   1  \n",
              "...               ...  \n",
              "454679              1  \n",
              "454680              1  \n",
              "454681              3  \n",
              "454682              2  \n",
              "454683              6  \n",
              "\n",
              "[454684 rows x 9 columns]"
            ],
            "text/html": [
              "\n",
              "  <div id=\"df-74e601f0-aae6-4f01-8948-107feabed9a4\">\n",
              "    <div class=\"colab-df-container\">\n",
              "      <div>\n",
              "<style scoped>\n",
              "    .dataframe tbody tr th:only-of-type {\n",
              "        vertical-align: middle;\n",
              "    }\n",
              "\n",
              "    .dataframe tbody tr th {\n",
              "        vertical-align: top;\n",
              "    }\n",
              "\n",
              "    .dataframe thead th {\n",
              "        text-align: right;\n",
              "    }\n",
              "</style>\n",
              "<table border=\"1\" class=\"dataframe\">\n",
              "  <thead>\n",
              "    <tr style=\"text-align: right;\">\n",
              "      <th></th>\n",
              "      <th>art_style</th>\n",
              "      <th>painting</th>\n",
              "      <th>emotion</th>\n",
              "      <th>utterance</th>\n",
              "      <th>repetition</th>\n",
              "      <th>tokens</th>\n",
              "      <th>tokens_len</th>\n",
              "      <th>utterance_spelled</th>\n",
              "      <th>emotion_label</th>\n",
              "    </tr>\n",
              "  </thead>\n",
              "  <tbody>\n",
              "    <tr>\n",
              "      <th>0</th>\n",
              "      <td>Post_Impressionism</td>\n",
              "      <td>vincent-van-gogh_portrait-of-madame-ginoux-l-a...</td>\n",
              "      <td>something else</td>\n",
              "      <td>She seems very happy in the picture, and you w...</td>\n",
              "      <td>10</td>\n",
              "      <td>['she', 'seems', 'very', 'happy', 'in', 'the',...</td>\n",
              "      <td>18</td>\n",
              "      <td>she seems very happy in the picture and you wa...</td>\n",
              "      <td>8</td>\n",
              "    </tr>\n",
              "    <tr>\n",
              "      <th>1</th>\n",
              "      <td>Post_Impressionism</td>\n",
              "      <td>vincent-van-gogh_portrait-of-madame-ginoux-l-a...</td>\n",
              "      <td>sadness</td>\n",
              "      <td>This woman has really knotty hands which makes...</td>\n",
              "      <td>10</td>\n",
              "      <td>['this', 'woman', 'has', 'really', 'knotty', '...</td>\n",
              "      <td>14</td>\n",
              "      <td>this woman has really knotty hands which makes...</td>\n",
              "      <td>7</td>\n",
              "    </tr>\n",
              "    <tr>\n",
              "      <th>2</th>\n",
              "      <td>Post_Impressionism</td>\n",
              "      <td>vincent-van-gogh_portrait-of-madame-ginoux-l-a...</td>\n",
              "      <td>something else</td>\n",
              "      <td>When looking at this woman, I am filled with c...</td>\n",
              "      <td>10</td>\n",
              "      <td>['when', 'looking', 'at', 'this', 'woman', 'i'...</td>\n",
              "      <td>27</td>\n",
              "      <td>when looking at this woman i am filled with cu...</td>\n",
              "      <td>8</td>\n",
              "    </tr>\n",
              "    <tr>\n",
              "      <th>3</th>\n",
              "      <td>Post_Impressionism</td>\n",
              "      <td>vincent-van-gogh_portrait-of-madame-ginoux-l-a...</td>\n",
              "      <td>contentment</td>\n",
              "      <td>A woman looking at ease, peaceful, and satisfi...</td>\n",
              "      <td>10</td>\n",
              "      <td>['a', 'woman', 'looking', 'at', 'ease', 'peace...</td>\n",
              "      <td>15</td>\n",
              "      <td>a woman looking at ease peaceful and satisfied...</td>\n",
              "      <td>2</td>\n",
              "    </tr>\n",
              "    <tr>\n",
              "      <th>4</th>\n",
              "      <td>Post_Impressionism</td>\n",
              "      <td>vincent-van-gogh_portrait-of-madame-ginoux-l-a...</td>\n",
              "      <td>awe</td>\n",
              "      <td>She looks like a lady from that past that migh...</td>\n",
              "      <td>10</td>\n",
              "      <td>['she', 'looks', 'like', 'a', 'lady', 'from', ...</td>\n",
              "      <td>33</td>\n",
              "      <td>she looks like a lady from that past that migh...</td>\n",
              "      <td>1</td>\n",
              "    </tr>\n",
              "    <tr>\n",
              "      <th>...</th>\n",
              "      <td>...</td>\n",
              "      <td>...</td>\n",
              "      <td>...</td>\n",
              "      <td>...</td>\n",
              "      <td>...</td>\n",
              "      <td>...</td>\n",
              "      <td>...</td>\n",
              "      <td>...</td>\n",
              "      <td>...</td>\n",
              "    </tr>\n",
              "    <tr>\n",
              "      <th>454679</th>\n",
              "      <td>Cubism</td>\n",
              "      <td>gino-severini_a-dancer-1</td>\n",
              "      <td>awe</td>\n",
              "      <td>the collection and collage of different colors...</td>\n",
              "      <td>48</td>\n",
              "      <td>['the', 'collection', 'and', 'collage', 'of', ...</td>\n",
              "      <td>12</td>\n",
              "      <td>the collection and collage of different colors...</td>\n",
              "      <td>1</td>\n",
              "    </tr>\n",
              "    <tr>\n",
              "      <th>454680</th>\n",
              "      <td>Romanticism</td>\n",
              "      <td>ivan-aivazovsky_sea-at-night-1861</td>\n",
              "      <td>awe</td>\n",
              "      <td>The peaceful reflections of the moonlight on t...</td>\n",
              "      <td>8</td>\n",
              "      <td>['the', 'peaceful', 'reflections', 'of', 'the'...</td>\n",
              "      <td>14</td>\n",
              "      <td>the peaceful reflections of the moonlight on t...</td>\n",
              "      <td>1</td>\n",
              "    </tr>\n",
              "    <tr>\n",
              "      <th>454681</th>\n",
              "      <td>Romanticism</td>\n",
              "      <td>ivan-aivazovsky_sea-at-night-1861</td>\n",
              "      <td>excitement</td>\n",
              "      <td>I can imagine the sailors resting this peacefu...</td>\n",
              "      <td>8</td>\n",
              "      <td>['i', 'can', 'imagine', 'the', 'sailors', 'res...</td>\n",
              "      <td>13</td>\n",
              "      <td>i can imagine the sailors resting this peacefu...</td>\n",
              "      <td>3</td>\n",
              "    </tr>\n",
              "    <tr>\n",
              "      <th>454682</th>\n",
              "      <td>Romanticism</td>\n",
              "      <td>ivan-aivazovsky_sea-at-night-1861</td>\n",
              "      <td>contentment</td>\n",
              "      <td>The steep mountains and the moonlight provide ...</td>\n",
              "      <td>8</td>\n",
              "      <td>['the', 'steep', 'mountains', 'and', 'the', 'm...</td>\n",
              "      <td>15</td>\n",
              "      <td>the steep mountains and the moonlight provide ...</td>\n",
              "      <td>2</td>\n",
              "    </tr>\n",
              "    <tr>\n",
              "      <th>454683</th>\n",
              "      <td>Cubism</td>\n",
              "      <td>joan-miro_not_detected_227963</td>\n",
              "      <td>fear</td>\n",
              "      <td>If you look at the colors individually they ar...</td>\n",
              "      <td>10</td>\n",
              "      <td>['if', 'you', 'look', 'at', 'the', 'colors', '...</td>\n",
              "      <td>38</td>\n",
              "      <td>if you look at the colors individually they ar...</td>\n",
              "      <td>6</td>\n",
              "    </tr>\n",
              "  </tbody>\n",
              "</table>\n",
              "<p>454684 rows × 9 columns</p>\n",
              "</div>\n",
              "      <button class=\"colab-df-convert\" onclick=\"convertToInteractive('df-74e601f0-aae6-4f01-8948-107feabed9a4')\"\n",
              "              title=\"Convert this dataframe to an interactive table.\"\n",
              "              style=\"display:none;\">\n",
              "        \n",
              "  <svg xmlns=\"http://www.w3.org/2000/svg\" height=\"24px\"viewBox=\"0 0 24 24\"\n",
              "       width=\"24px\">\n",
              "    <path d=\"M0 0h24v24H0V0z\" fill=\"none\"/>\n",
              "    <path d=\"M18.56 5.44l.94 2.06.94-2.06 2.06-.94-2.06-.94-.94-2.06-.94 2.06-2.06.94zm-11 1L8.5 8.5l.94-2.06 2.06-.94-2.06-.94L8.5 2.5l-.94 2.06-2.06.94zm10 10l.94 2.06.94-2.06 2.06-.94-2.06-.94-.94-2.06-.94 2.06-2.06.94z\"/><path d=\"M17.41 7.96l-1.37-1.37c-.4-.4-.92-.59-1.43-.59-.52 0-1.04.2-1.43.59L10.3 9.45l-7.72 7.72c-.78.78-.78 2.05 0 2.83L4 21.41c.39.39.9.59 1.41.59.51 0 1.02-.2 1.41-.59l7.78-7.78 2.81-2.81c.8-.78.8-2.07 0-2.86zM5.41 20L4 18.59l7.72-7.72 1.47 1.35L5.41 20z\"/>\n",
              "  </svg>\n",
              "      </button>\n",
              "      \n",
              "  <style>\n",
              "    .colab-df-container {\n",
              "      display:flex;\n",
              "      flex-wrap:wrap;\n",
              "      gap: 12px;\n",
              "    }\n",
              "\n",
              "    .colab-df-convert {\n",
              "      background-color: #E8F0FE;\n",
              "      border: none;\n",
              "      border-radius: 50%;\n",
              "      cursor: pointer;\n",
              "      display: none;\n",
              "      fill: #1967D2;\n",
              "      height: 32px;\n",
              "      padding: 0 0 0 0;\n",
              "      width: 32px;\n",
              "    }\n",
              "\n",
              "    .colab-df-convert:hover {\n",
              "      background-color: #E2EBFA;\n",
              "      box-shadow: 0px 1px 2px rgba(60, 64, 67, 0.3), 0px 1px 3px 1px rgba(60, 64, 67, 0.15);\n",
              "      fill: #174EA6;\n",
              "    }\n",
              "\n",
              "    [theme=dark] .colab-df-convert {\n",
              "      background-color: #3B4455;\n",
              "      fill: #D2E3FC;\n",
              "    }\n",
              "\n",
              "    [theme=dark] .colab-df-convert:hover {\n",
              "      background-color: #434B5C;\n",
              "      box-shadow: 0px 1px 3px 1px rgba(0, 0, 0, 0.15);\n",
              "      filter: drop-shadow(0px 1px 2px rgba(0, 0, 0, 0.3));\n",
              "      fill: #FFFFFF;\n",
              "    }\n",
              "  </style>\n",
              "\n",
              "      <script>\n",
              "        const buttonEl =\n",
              "          document.querySelector('#df-74e601f0-aae6-4f01-8948-107feabed9a4 button.colab-df-convert');\n",
              "        buttonEl.style.display =\n",
              "          google.colab.kernel.accessAllowed ? 'block' : 'none';\n",
              "\n",
              "        async function convertToInteractive(key) {\n",
              "          const element = document.querySelector('#df-74e601f0-aae6-4f01-8948-107feabed9a4');\n",
              "          const dataTable =\n",
              "            await google.colab.kernel.invokeFunction('convertToInteractive',\n",
              "                                                     [key], {});\n",
              "          if (!dataTable) return;\n",
              "\n",
              "          const docLinkHtml = 'Like what you see? Visit the ' +\n",
              "            '<a target=\"_blank\" href=https://colab.research.google.com/notebooks/data_table.ipynb>data table notebook</a>'\n",
              "            + ' to learn more about interactive tables.';\n",
              "          element.innerHTML = '';\n",
              "          dataTable['output_type'] = 'display_data';\n",
              "          await google.colab.output.renderOutput(dataTable, element);\n",
              "          const docLink = document.createElement('div');\n",
              "          docLink.innerHTML = docLinkHtml;\n",
              "          element.appendChild(docLink);\n",
              "        }\n",
              "      </script>\n",
              "    </div>\n",
              "  </div>\n",
              "  "
            ]
          },
          "metadata": {},
          "execution_count": 15
        }
      ]
    },
    {
      "cell_type": "markdown",
      "metadata": {
        "papermill": {
          "duration": 0.037183,
          "end_time": "2020-10-06T21:19:48.013459",
          "exception": false,
          "start_time": "2020-10-06T21:19:47.976276",
          "status": "completed"
        },
        "tags": [],
        "id": "eRJEoaRYMQbD"
      },
      "source": [
        "# **One hot encoding**\n",
        "\n",
        "As the dataset has labels 0, 1...8. We need to convert them to one hot vector."
      ]
    },
    {
      "cell_type": "code",
      "metadata": {
        "id": "FlkjK1L5ObV4"
      },
      "source": [
        "labels = np.array(artemis_preprocessed['emotion_label'])\n"
      ],
      "execution_count": null,
      "outputs": []
    },
    {
      "cell_type": "code",
      "metadata": {
        "colab": {
          "base_uri": "https://localhost:8080/"
        },
        "id": "Mmi_3hoxOciw",
        "outputId": "7514f167-4592-4868-b141-c569217da4fe"
      },
      "source": [
        "print (labels)"
      ],
      "execution_count": null,
      "outputs": [
        {
          "output_type": "stream",
          "name": "stdout",
          "text": [
            "[8 7 8 ... 3 2 6]\n"
          ]
        }
      ]
    },
    {
      "cell_type": "code",
      "metadata": {
        "id": "_Z_TfeN_PA9B"
      },
      "source": [
        "labels = tf.keras.utils.to_categorical(labels, 9, dtype=\"float32\")"
      ],
      "execution_count": null,
      "outputs": []
    },
    {
      "cell_type": "code",
      "metadata": {
        "colab": {
          "base_uri": "https://localhost:8080/"
        },
        "id": "qtYDpp4OUUAA",
        "outputId": "f098ca4d-7406-441b-d520-4d3339d6a673"
      },
      "source": [
        "print (labels)"
      ],
      "execution_count": null,
      "outputs": [
        {
          "output_type": "stream",
          "name": "stdout",
          "text": [
            "[[0. 0. 0. ... 0. 0. 1.]\n",
            " [0. 0. 0. ... 0. 1. 0.]\n",
            " [0. 0. 0. ... 0. 0. 1.]\n",
            " ...\n",
            " [0. 0. 0. ... 0. 0. 0.]\n",
            " [0. 0. 1. ... 0. 0. 0.]\n",
            " [0. 0. 0. ... 1. 0. 0.]]\n"
          ]
        }
      ]
    },
    {
      "cell_type": "code",
      "metadata": {
        "execution": {
          "iopub.execute_input": "2020-10-06T21:19:48.206863Z",
          "iopub.status.busy": "2020-10-06T21:19:48.206068Z",
          "iopub.status.idle": "2020-10-06T21:19:48.209920Z",
          "shell.execute_reply": "2020-10-06T21:19:48.209425Z"
        },
        "papermill": {
          "duration": 0.046647,
          "end_time": "2020-10-06T21:19:48.210021",
          "exception": false,
          "start_time": "2020-10-06T21:19:48.163374",
          "status": "completed"
        },
        "tags": [],
        "colab": {
          "base_uri": "https://localhost:8080/"
        },
        "id": "S7JISYL2MQbE",
        "outputId": "34d0449b-daec-4955-aea5-d824ebd91bd7"
      },
      "source": [
        "len(labels)"
      ],
      "execution_count": null,
      "outputs": [
        {
          "output_type": "execute_result",
          "data": {
            "text/plain": [
              "454684"
            ]
          },
          "metadata": {},
          "execution_count": 89
        }
      ]
    },
    {
      "cell_type": "markdown",
      "metadata": {
        "papermill": {
          "duration": 0.038298,
          "end_time": "2020-10-06T21:19:48.287312",
          "exception": false,
          "start_time": "2020-10-06T21:19:48.249014",
          "status": "completed"
        },
        "tags": [],
        "id": "dPNxJw_ZMQbE"
      },
      "source": [
        "# **Data sequencing and splitting**\n",
        "\n",
        "We'll implement the Keras tokenizer as well as its pad_sequences method to transform our text data into 3D float data, otherwise our neural networks won't be able to be trained on it."
      ]
    },
    {
      "cell_type": "code",
      "source": [
        "artemis_preprocessed['utterance']"
      ],
      "metadata": {
        "colab": {
          "base_uri": "https://localhost:8080/"
        },
        "id": "efHc7dGd11Gb",
        "outputId": "d1a8aeca-60ac-4737-b918-d5b28f270200"
      },
      "execution_count": null,
      "outputs": [
        {
          "output_type": "execute_result",
          "data": {
            "text/plain": [
              "0         She seems very happy in the picture, and you w...\n",
              "1         This woman has really knotty hands which makes...\n",
              "2         When looking at this woman, I am filled with c...\n",
              "3         A woman looking at ease, peaceful, and satisfi...\n",
              "4         She looks like a lady from that past that migh...\n",
              "                                ...                        \n",
              "454679    the collection and collage of different colors...\n",
              "454680    The peaceful reflections of the moonlight on t...\n",
              "454681    I can imagine the sailors resting this peacefu...\n",
              "454682    The steep mountains and the moonlight provide ...\n",
              "454683    If you look at the colors individually they ar...\n",
              "Name: utterance, Length: 454684, dtype: object"
            ]
          },
          "metadata": {},
          "execution_count": 21
        }
      ]
    },
    {
      "cell_type": "code",
      "source": [
        "unique_words = set()\n",
        "for utterance in artemis_preprocessed['utterance_spelled']:\n",
        "    for word in utterance.split(' '):\n",
        "      unique_words.add(word)"
      ],
      "metadata": {
        "id": "4zHwOBvn17pV"
      },
      "execution_count": null,
      "outputs": []
    },
    {
      "cell_type": "code",
      "source": [
        "len(unique_words)"
      ],
      "metadata": {
        "colab": {
          "base_uri": "https://localhost:8080/"
        },
        "id": "RQeBekRz3SkC",
        "outputId": "98aa1c76-9640-4435-9012-3ae4f0b31d57"
      },
      "execution_count": null,
      "outputs": [
        {
          "output_type": "execute_result",
          "data": {
            "text/plain": [
              "37251"
            ]
          },
          "metadata": {},
          "execution_count": 23
        }
      ]
    },
    {
      "cell_type": "code",
      "source": [
        "too_long_len = np.percentile(artemis_preprocessed['tokens_len'], 100)"
      ],
      "metadata": {
        "id": "vrExS3Lw1Ic-"
      },
      "execution_count": null,
      "outputs": []
    },
    {
      "cell_type": "code",
      "source": [
        "too_long_len"
      ],
      "metadata": {
        "colab": {
          "base_uri": "https://localhost:8080/"
        },
        "id": "2Lo_o4yH1PQE",
        "outputId": "13847716-f90f-4228-8d0a-a19379e5a768"
      },
      "execution_count": null,
      "outputs": [
        {
          "output_type": "execute_result",
          "data": {
            "text/plain": [
              "207.0"
            ]
          },
          "metadata": {},
          "execution_count": 25
        }
      ]
    },
    {
      "cell_type": "code",
      "source": [
        "data = np.array(artemis_preprocessed['utterance_spelled'])"
      ],
      "metadata": {
        "id": "FeHq3Qqh3r1Y"
      },
      "execution_count": null,
      "outputs": []
    },
    {
      "cell_type": "code",
      "source": [
        "data[:5]"
      ],
      "metadata": {
        "colab": {
          "base_uri": "https://localhost:8080/"
        },
        "id": "CynBuHQo3yta",
        "outputId": "548be5c8-8a0b-4499-9617-9c350fe0a324"
      },
      "execution_count": null,
      "outputs": [
        {
          "output_type": "execute_result",
          "data": {
            "text/plain": [
              "array(['she seems very happy in the picture and you want to know what what is behind the smile',\n",
              "       'this woman has really knotty hands which makes her look like she has arthritis',\n",
              "       'when looking at this woman i am filled with curiosity about what she is thinking about with her elbow on the table and a very emotionless face',\n",
              "       'a woman looking at ease peaceful and satisfied amongst her books makes me feel content',\n",
              "       'she looks like a lady from that past that might have been a teacher ( books ) she looks tired and i wondered how hard it must have been for them back then'],\n",
              "      dtype=object)"
            ]
          },
          "metadata": {},
          "execution_count": 27
        }
      ]
    },
    {
      "cell_type": "code",
      "source": [
        "len(data)"
      ],
      "metadata": {
        "colab": {
          "base_uri": "https://localhost:8080/"
        },
        "id": "aPAsSXBp39Qo",
        "outputId": "3290575e-3332-4751-dd69-770b06ab7722"
      },
      "execution_count": null,
      "outputs": [
        {
          "output_type": "execute_result",
          "data": {
            "text/plain": [
              "454684"
            ]
          },
          "metadata": {},
          "execution_count": 28
        }
      ]
    },
    {
      "cell_type": "code",
      "metadata": {
        "execution": {
          "iopub.execute_input": "2020-10-06T21:19:48.373707Z",
          "iopub.status.busy": "2020-10-06T21:19:48.372469Z",
          "iopub.status.idle": "2020-10-06T21:19:49.386819Z",
          "shell.execute_reply": "2020-10-06T21:19:49.387562Z"
        },
        "papermill": {
          "duration": 1.062302,
          "end_time": "2020-10-06T21:19:49.387739",
          "exception": false,
          "start_time": "2020-10-06T21:19:48.325437",
          "status": "completed"
        },
        "tags": [],
        "colab": {
          "base_uri": "https://localhost:8080/"
        },
        "id": "RsOKF4AKMQbF",
        "outputId": "4b626a58-66ae-4270-a907-c4756abd0744"
      },
      "source": [
        "from keras.models import Sequential\n",
        "from keras import layers\n",
        "from tensorflow.keras.optimizers import RMSprop,Adam\n",
        "from keras.preprocessing.text import Tokenizer\n",
        "from keras.preprocessing.sequence import pad_sequences\n",
        "from keras import regularizers\n",
        "from keras import backend as K\n",
        "from keras.callbacks import ModelCheckpoint\n",
        "max_words = 37521\n",
        "max_len = 207\n",
        "\n",
        "tokenizer = Tokenizer(num_words=max_words)\n",
        "tokenizer.fit_on_texts(data)\n",
        "sequences = tokenizer.texts_to_sequences(data)\n",
        "utterances = pad_sequences(sequences, maxlen=max_len)\n",
        "print(utterances)"
      ],
      "execution_count": null,
      "outputs": [
        {
          "output_type": "stream",
          "name": "stdout",
          "text": [
            "[[    0     0     0 ...   243     1   339]\n",
            " [    0     0     0 ...    33    41 15713]\n",
            " [    0     0     0 ...    22  3532    44]\n",
            " ...\n",
            " [    0     0     0 ...     5   464  3114]\n",
            " [    0     0     0 ...     1  1555  3839]\n",
            " [    0     0     0 ...   770 17887     9]]\n"
          ]
        }
      ]
    },
    {
      "cell_type": "code",
      "source": [
        "utterances"
      ],
      "metadata": {
        "colab": {
          "base_uri": "https://localhost:8080/"
        },
        "id": "BvUxFciqYqQO",
        "outputId": "6a60bdbe-f587-4c3f-e86e-d120dc39cf19"
      },
      "execution_count": null,
      "outputs": [
        {
          "output_type": "execute_result",
          "data": {
            "text/plain": [
              "array([[    0,     0,     0, ...,   243,     1,   339],\n",
              "       [    0,     0,     0, ...,    33,    41, 15713],\n",
              "       [    0,     0,     0, ...,    22,  3532,    44],\n",
              "       ...,\n",
              "       [    0,     0,     0, ...,     5,   464,  3114],\n",
              "       [    0,     0,     0, ...,     1,  1555,  3839],\n",
              "       [    0,     0,     0, ...,   770, 17887,     9]], dtype=int32)"
            ]
          },
          "metadata": {},
          "execution_count": 72
        }
      ]
    },
    {
      "cell_type": "code",
      "source": [
        "artemis_preprocessed.iloc[0]['tokens_encoded']"
      ],
      "metadata": {
        "colab": {
          "base_uri": "https://localhost:8080/",
          "height": 124
        },
        "id": "XUd96tEeOvkj",
        "outputId": "aebab053-3fe0-499c-b669-6bd24d0bc4a5"
      },
      "execution_count": null,
      "outputs": [
        {
          "output_type": "execute_result",
          "data": {
            "text/plain": [
              "'[1, 4, 5, 6, 7, 8, 9, 10, 11, 12, 13, 14, 15, 16, 16, 17, 18, 9, 19, 2, 0, 0, 0, 0, 0, 0, 0, 0, 0, 0, 0, 0, 0, 0, 0, 0, 0, 0, 0, 0, 0, 0, 0, 0, 0, 0, 0, 0, 0, 0, 0, 0, 0, 0, 0, 0, 0, 0, 0, 0, 0, 0, 0, 0, 0, 0, 0, 0, 0, 0, 0, 0, 0, 0, 0, 0, 0, 0, 0, 0, 0, 0, 0, 0, 0, 0, 0, 0, 0, 0, 0, 0, 0, 0, 0, 0, 0, 0, 0, 0, 0, 0, 0, 0, 0, 0, 0, 0, 0, 0, 0, 0, 0, 0, 0, 0, 0, 0, 0, 0, 0, 0, 0, 0, 0, 0, 0, 0, 0, 0, 0, 0, 0, 0, 0, 0, 0, 0, 0, 0, 0, 0, 0, 0, 0, 0, 0, 0, 0, 0, 0, 0, 0, 0, 0, 0, 0, 0, 0, 0, 0, 0, 0, 0, 0, 0, 0, 0, 0, 0, 0, 0, 0, 0, 0, 0, 0, 0, 0, 0, 0, 0, 0, 0, 0, 0, 0, 0, 0, 0, 0, 0, 0, 0, 0, 0, 0, 0, 0, 0, 0, 0, 0, 0, 0, 0, 0, 0, 0]'"
            ],
            "application/vnd.google.colaboratory.intrinsic+json": {
              "type": "string"
            }
          },
          "metadata": {},
          "execution_count": 57
        }
      ]
    },
    {
      "cell_type": "code",
      "source": [
        "new_tokens_encoded = []"
      ],
      "metadata": {
        "id": "AdWpmljGO0Xc"
      },
      "execution_count": null,
      "outputs": []
    },
    {
      "cell_type": "code",
      "source": [
        "for tokens_encoded in artemis_preprocessed['tokens_encoded']:\n",
        "  tokens_encoded = tokens_encoded[1:-3]\n",
        "  tokens_encoded = tokens_encoded.strip(',')\n",
        "  tokens_encoded = tokens_encoded.split(', ')\n",
        "  tokens_encoded = [int(x) for x in tokens_encoded]\n",
        "  tokens_encoded = np.array(tokens_encoded)\n",
        "  new_tokens_encoded.append(tokens_encoded)"
      ],
      "metadata": {
        "id": "kGUh9xLzOtfP"
      },
      "execution_count": null,
      "outputs": []
    },
    {
      "cell_type": "code",
      "source": [
        "artemis_preprocessed['new_tokens_encoded'] = new_tokens_encoded"
      ],
      "metadata": {
        "id": "I1o53n4NPgni"
      },
      "execution_count": null,
      "outputs": []
    },
    {
      "cell_type": "code",
      "source": [
        "utterances[0]"
      ],
      "metadata": {
        "colab": {
          "base_uri": "https://localhost:8080/"
        },
        "id": "D064_dndMidW",
        "outputId": "df92d9cc-2fda-4a14-c0dd-c98d37510e36"
      },
      "execution_count": null,
      "outputs": [
        {
          "output_type": "execute_result",
          "data": {
            "text/plain": [
              "array([  0,   0,   0,   0,   0,   0,   0,   0,   0,   0,   0,   0,   0,\n",
              "         0,   0,   0,   0,   0,   0,   0,   0,   0,   0,   0,   0,   0,\n",
              "         0,   0,   0,   0,   0,   0,   0,   0,   0,   0,   0,   0,   0,\n",
              "         0,   0,   0,   0,   0,   0,   0,   0,   0,   0,   0,   0,   0,\n",
              "         0,   0,   0,   0,   0,   0,   0,   0,   0,   0,   0,   0,   0,\n",
              "         0,   0,   0,   0,   0,   0,   0,   0,   0,   0,   0,   0,   0,\n",
              "         0,   0,   0,   0,   0,   0,   0,   0,   0,   0,   0,   0,   0,\n",
              "         0,   0,   0,   0,   0,   0,   0,   0,   0,   0,   0,   0,   0,\n",
              "         0,   0,   0,   0,   0,   0,   0,   0,   0,   0,   0,   0,   0,\n",
              "         0,   0,   0,   0,   0,   0,   0,   0,   0,   0,   0,   0,   0,\n",
              "         0,   0,   0,   0,   0,   0,   0,   0,   0,   0,   0,   0,   0,\n",
              "         0,   0,   0,   0,   0,   0,   0,   0,   0,   0,   0,   0,   0,\n",
              "         0,   0,   0,   0,   0,   0,   0,   0,   0,   0,   0,   0,   0,\n",
              "         0,   0,   0,   0,   0,   0,   0,   0,   0,   0,   0,   0,   0,\n",
              "         0,   0,   0,   0,   0,   0,   0,  33,  42,  22,  88,   7,   1,\n",
              "        54,   2,  86, 158,   6, 188,  47,  47,   4, 243,   1, 339],\n",
              "      dtype=int32)"
            ]
          },
          "metadata": {},
          "execution_count": 31
        }
      ]
    },
    {
      "cell_type": "code",
      "metadata": {
        "colab": {
          "base_uri": "https://localhost:8080/"
        },
        "id": "om55YrQJUksr",
        "outputId": "f272e0f8-460d-4948-b487-cb2826b0e157"
      },
      "source": [
        "len(utterances)"
      ],
      "execution_count": null,
      "outputs": [
        {
          "output_type": "execute_result",
          "data": {
            "text/plain": [
              "454684"
            ]
          },
          "metadata": {},
          "execution_count": 54
        }
      ]
    },
    {
      "cell_type": "code",
      "metadata": {
        "colab": {
          "base_uri": "https://localhost:8080/"
        },
        "id": "e5GTFAyFaGqT",
        "outputId": "951cb9d2-1416-4257-f206-2ccfbf1532a7"
      },
      "source": [
        "len(utterances[19])"
      ],
      "execution_count": null,
      "outputs": [
        {
          "output_type": "execute_result",
          "data": {
            "text/plain": [
              "207"
            ]
          },
          "metadata": {},
          "execution_count": 55
        }
      ]
    },
    {
      "cell_type": "code",
      "metadata": {
        "execution": {
          "iopub.execute_input": "2020-10-06T21:19:49.478734Z",
          "iopub.status.busy": "2020-10-06T21:19:49.477823Z",
          "iopub.status.idle": "2020-10-06T21:19:49.482217Z",
          "shell.execute_reply": "2020-10-06T21:19:49.483329Z"
        },
        "papermill": {
          "duration": 0.054099,
          "end_time": "2020-10-06T21:19:49.483550",
          "exception": false,
          "start_time": "2020-10-06T21:19:49.429451",
          "status": "completed"
        },
        "tags": [],
        "colab": {
          "base_uri": "https://localhost:8080/"
        },
        "id": "EyHg4PJaMQbH",
        "outputId": "1aa80007-5c90-4e70-9961-2ca54034f07d"
      },
      "source": [
        "print(labels)"
      ],
      "execution_count": null,
      "outputs": [
        {
          "output_type": "stream",
          "name": "stdout",
          "text": [
            "[[0. 0. 0. ... 0. 0. 1.]\n",
            " [0. 0. 0. ... 0. 1. 0.]\n",
            " [0. 0. 0. ... 0. 0. 1.]\n",
            " ...\n",
            " [0. 0. 0. ... 0. 0. 0.]\n",
            " [0. 0. 1. ... 0. 0. 0.]\n",
            " [0. 0. 0. ... 1. 0. 0.]]\n"
          ]
        }
      ]
    },
    {
      "cell_type": "code",
      "source": [
        "len(new_tokens_encoded[0])"
      ],
      "metadata": {
        "colab": {
          "base_uri": "https://localhost:8080/"
        },
        "id": "nYfJ5y8uaNUN",
        "outputId": "a81bb7ef-2728-48a7-f0d4-69c4aaf826cd"
      },
      "execution_count": null,
      "outputs": [
        {
          "output_type": "execute_result",
          "data": {
            "text/plain": [
              "208"
            ]
          },
          "metadata": {},
          "execution_count": 78
        }
      ]
    },
    {
      "cell_type": "code",
      "source": [
        "# Train Test Split using Startified Sampling\n",
        "# 80% - Training Data and 20% - Testing Data\n",
        "from sklearn.model_selection import train_test_split\n",
        "\n",
        "X_train, X_test, y_train, y_test = train_test_split(utterances, labels, test_size = 0.2, \n",
        "                                                    random_state = 1, stratify = labels)\n",
        "print (len(X_train),len(X_test),len(y_train),len(y_test))"
      ],
      "metadata": {
        "colab": {
          "base_uri": "https://localhost:8080/"
        },
        "id": "MDuVn99P5Ucm",
        "outputId": "958c71e6-744f-407e-9df5-0fbad62d3852"
      },
      "execution_count": null,
      "outputs": [
        {
          "output_type": "stream",
          "name": "stdout",
          "text": [
            "363747 90937 363747 90937\n"
          ]
        }
      ]
    },
    {
      "cell_type": "markdown",
      "source": [
        "# **Train, Test Split using the base papers encoding**"
      ],
      "metadata": {
        "id": "MdM69m86P4Rf"
      }
    },
    {
      "cell_type": "code",
      "source": [
        "from sklearn.model_selection import train_test_split\n",
        "\n",
        "X_train_base, X_test_base, y_train_base, y_test_base = train_test_split(new_tokens_encoded, labels, test_size = 0.2, \n",
        "                                                    random_state = 1, stratify = labels)\n",
        "print (len(X_train_base),len(X_test_base),len(y_train_base),len(y_test_base))"
      ],
      "metadata": {
        "colab": {
          "base_uri": "https://localhost:8080/"
        },
        "id": "BXo4o2rnP2ZQ",
        "outputId": "0b544dfd-e66d-4567-ff6f-23c82b7f528c"
      },
      "execution_count": null,
      "outputs": [
        {
          "output_type": "stream",
          "name": "stdout",
          "text": [
            "363747 90937 363747 90937\n"
          ]
        }
      ]
    },
    {
      "cell_type": "markdown",
      "source": [
        "## **Function to plot learning curves**"
      ],
      "metadata": {
        "id": "XJjPs_LdmXHm"
      }
    },
    {
      "cell_type": "code",
      "source": [
        "from matplotlib import pyplot\n",
        "\n",
        "def summarize_model(history):\n",
        "\t# plot loss during training\n",
        "  pyplot.figure(figsize=(8,6))\n",
        "  pyplot.subplot(211)\n",
        "  pyplot.title('Loss')\n",
        "  pyplot.plot(history.history['loss'], label='train')\n",
        "  pyplot.plot(history.history['val_loss'], label='validation')\n",
        "  pyplot.legend()\n",
        "  # plot accuracy during training\n",
        "  pyplot.subplot(212)\n",
        "  pyplot.title('Accuracy')\n",
        "  pyplot.plot(history.history['accuracy'], label='train')\n",
        "  pyplot.plot(history.history['val_accuracy'], label='validation')\n",
        "  pyplot.legend()\n",
        "  pyplot.show()"
      ],
      "metadata": {
        "id": "bQCfrj6QmWc8"
      },
      "execution_count": null,
      "outputs": []
    },
    {
      "cell_type": "markdown",
      "source": [
        "# **Classification Report Helper Functions**"
      ],
      "metadata": {
        "id": "3xjbr_DR5ekO"
      }
    },
    {
      "cell_type": "code",
      "source": [
        "# Function to get a list of values of a performance metric corresponding to each class \n",
        "# Possible performance metrics: precision, recall and f1_score\n",
        "\n",
        "def get_performance_from_classification_report(report, performance_metric):\n",
        "  performance = []\n",
        "  for class_id in range(9):\n",
        "    class_id = str(class_id)\n",
        "    performance.append(round(report[class_id][performance_metric], 2))\n",
        "  return performance"
      ],
      "metadata": {
        "id": "nN7tfAE45Pqt"
      },
      "execution_count": null,
      "outputs": []
    },
    {
      "cell_type": "code",
      "source": [
        "# Function to plot performance bar plot to show classification report graphically\n",
        "\n",
        "import numpy as np\n",
        "import matplotlib.pyplot as plt\n",
        "\n",
        "def draw_performance_plot(precision, recall, f1_score, model_name): \n",
        "\tbarWidth = 0.25\n",
        "\tfig = plt.subplots(figsize =(12, 8))\n",
        " \n",
        "\tbr1 = np.arange(9)\n",
        "\tbr2 = [x + barWidth for x in br1]\n",
        "\tbr3 = [x + barWidth for x in br2]\n",
        "\n",
        "\tplt.bar(br1, precision, color ='mediumaquamarine', width = barWidth,\n",
        "\t\t\tedgecolor ='grey', label ='Precision')\n",
        "\tplt.bar(br2, recall, color ='palegreen', width = barWidth,\n",
        "\t\t\tedgecolor ='grey', label ='Recall')\n",
        "\tplt.bar(br3, f1_score, color ='moccasin', width = barWidth,\n",
        "\t\t\tedgecolor ='grey', label ='F1 Score')\n",
        "\n",
        "\tplt.title(f'Performance of {model_name} on Artemis', fontweight ='bold', fontsize = 20)\n",
        "\tplt.ylabel('Performance', fontweight ='bold', fontsize = 15)\n",
        "\tplt.xlabel('Classes', fontweight ='bold', fontsize = 15)\n",
        "\tplt.xticks([r + barWidth for r in range(9)], classes)\n",
        "\n",
        "\tplt.legend()\n",
        "\tplt.show()"
      ],
      "metadata": {
        "id": "WGGviNFK5UfF"
      },
      "execution_count": null,
      "outputs": []
    },
    {
      "cell_type": "markdown",
      "metadata": {
        "papermill": {
          "duration": 0.044937,
          "end_time": "2020-10-06T21:19:49.968644",
          "exception": false,
          "start_time": "2020-10-06T21:19:49.923707",
          "status": "completed"
        },
        "tags": [],
        "id": "4UwzisWcMQbK"
      },
      "source": [
        "# **Single LSTM layer model**"
      ]
    },
    {
      "cell_type": "code",
      "metadata": {
        "execution": {
          "iopub.execute_input": "2020-10-06T21:19:50.068632Z",
          "iopub.status.busy": "2020-10-06T21:19:50.067909Z",
          "iopub.status.idle": "2020-10-06T21:30:02.803265Z",
          "shell.execute_reply": "2020-10-06T21:30:02.805203Z"
        },
        "papermill": {
          "duration": 612.793273,
          "end_time": "2020-10-06T21:30:02.806611",
          "exception": false,
          "start_time": "2020-10-06T21:19:50.013338",
          "status": "completed"
        },
        "tags": [],
        "id": "onEKDuptMQbK"
      },
      "source": [
        "model1 = Sequential()\n",
        "model1.add(layers.Embedding(max_words, 207))\n",
        "model1.add(layers.LSTM(15, dropout=0.5))\n",
        "model1.add(layers.Dense(9,activation='softmax'))\n",
        "\n",
        "\n",
        "model1.compile(optimizer='rmsprop',loss='categorical_crossentropy', metrics=['accuracy'])\n"
      ],
      "execution_count": null,
      "outputs": []
    },
    {
      "cell_type": "code",
      "metadata": {
        "colab": {
          "base_uri": "https://localhost:8080/"
        },
        "id": "QucrvseBPqmw",
        "outputId": "32d24e75-4610-42e8-a133-107dae3167fc"
      },
      "source": [
        "model1.summary()"
      ],
      "execution_count": null,
      "outputs": [
        {
          "output_type": "stream",
          "name": "stdout",
          "text": [
            "Model: \"sequential_1\"\n",
            "_________________________________________________________________\n",
            " Layer (type)                Output Shape              Param #   \n",
            "=================================================================\n",
            " embedding_1 (Embedding)     (None, None, 208)         7804368   \n",
            "                                                                 \n",
            " lstm_1 (LSTM)               (None, 15)                13440     \n",
            "                                                                 \n",
            " dense_1 (Dense)             (None, 9)                 144       \n",
            "                                                                 \n",
            "=================================================================\n",
            "Total params: 7,817,952\n",
            "Trainable params: 7,817,952\n",
            "Non-trainable params: 0\n",
            "_________________________________________________________________\n"
          ]
        }
      ]
    },
    {
      "cell_type": "code",
      "metadata": {
        "colab": {
          "base_uri": "https://localhost:8080/"
        },
        "id": "dq6psiL6Puqq",
        "outputId": "a77b0d7a-68c4-425b-a432-fc6a06971e22"
      },
      "source": [
        "#Implementing model checkpoins to save the best metric and do not lose it on training.\n",
        "#checkpoint1 = ModelCheckpoint(\"best_model1.hdf5\", monitor='val_accuracy', verbose=1,save_best_only=True, mode='auto', period=1,save_weights_only=False)\n",
        "history = model1.fit(X_train, y_train, epochs=20,validation_split = 0.2) #,callbacks=[checkpoint1])"
      ],
      "execution_count": null,
      "outputs": [
        {
          "output_type": "stream",
          "name": "stdout",
          "text": [
            "Epoch 1/20\n",
            "9094/9094 [==============================] - 354s 39ms/step - loss: 1.2779 - accuracy: 0.5615 - val_loss: 1.1529 - val_accuracy: 0.6045\n",
            "Epoch 2/20\n",
            "9094/9094 [==============================] - 346s 38ms/step - loss: 1.1333 - accuracy: 0.6133 - val_loss: 1.1181 - val_accuracy: 0.6165\n",
            "Epoch 3/20\n",
            "9094/9094 [==============================] - 341s 37ms/step - loss: 1.0971 - accuracy: 0.6261 - val_loss: 1.1116 - val_accuracy: 0.6183\n",
            "Epoch 4/20\n",
            "9094/9094 [==============================] - 341s 37ms/step - loss: 1.0757 - accuracy: 0.6332 - val_loss: 1.1037 - val_accuracy: 0.6204\n",
            "Epoch 5/20\n",
            "9094/9094 [==============================] - 354s 39ms/step - loss: 1.0612 - accuracy: 0.6388 - val_loss: 1.1056 - val_accuracy: 0.6209\n",
            "Epoch 6/20\n",
            "9094/9094 [==============================] - 342s 38ms/step - loss: 1.0503 - accuracy: 0.6433 - val_loss: 1.1052 - val_accuracy: 0.6219\n",
            "Epoch 7/20\n",
            "9094/9094 [==============================] - 341s 37ms/step - loss: 1.0424 - accuracy: 0.6466 - val_loss: 1.1079 - val_accuracy: 0.6206\n",
            "Epoch 8/20\n",
            "9094/9094 [==============================] - 340s 37ms/step - loss: 1.0346 - accuracy: 0.6499 - val_loss: 1.1097 - val_accuracy: 0.6209\n",
            "Epoch 9/20\n",
            "9094/9094 [==============================] - 341s 38ms/step - loss: 1.0283 - accuracy: 0.6514 - val_loss: 1.1082 - val_accuracy: 0.6224\n",
            "Epoch 10/20\n",
            "9094/9094 [==============================] - 343s 38ms/step - loss: 1.0225 - accuracy: 0.6547 - val_loss: 1.1154 - val_accuracy: 0.6205\n",
            "Epoch 11/20\n",
            "9094/9094 [==============================] - 342s 38ms/step - loss: 1.0177 - accuracy: 0.6565 - val_loss: 1.1093 - val_accuracy: 0.6207\n",
            "Epoch 12/20\n",
            "9094/9094 [==============================] - 340s 37ms/step - loss: 1.0153 - accuracy: 0.6571 - val_loss: 1.1170 - val_accuracy: 0.6202\n",
            "Epoch 13/20\n",
            "9094/9094 [==============================] - 341s 37ms/step - loss: 1.0102 - accuracy: 0.6591 - val_loss: 1.1218 - val_accuracy: 0.6199\n",
            "Epoch 14/20\n",
            "9094/9094 [==============================] - 346s 38ms/step - loss: 1.0077 - accuracy: 0.6603 - val_loss: 1.1201 - val_accuracy: 0.6201\n",
            "Epoch 15/20\n",
            "9094/9094 [==============================] - 345s 38ms/step - loss: 1.0062 - accuracy: 0.6616 - val_loss: 1.1246 - val_accuracy: 0.6185\n",
            "Epoch 16/20\n",
            "9094/9094 [==============================] - 341s 37ms/step - loss: 1.0020 - accuracy: 0.6628 - val_loss: 1.1265 - val_accuracy: 0.6186\n",
            "Epoch 17/20\n",
            "9094/9094 [==============================] - 341s 37ms/step - loss: 0.9998 - accuracy: 0.6638 - val_loss: 1.1233 - val_accuracy: 0.6185\n",
            "Epoch 18/20\n",
            "9094/9094 [==============================] - 358s 39ms/step - loss: 0.9975 - accuracy: 0.6646 - val_loss: 1.1293 - val_accuracy: 0.6175\n",
            "Epoch 19/20\n",
            "9094/9094 [==============================] - 345s 38ms/step - loss: 0.9945 - accuracy: 0.6653 - val_loss: 1.1320 - val_accuracy: 0.6179\n",
            "Epoch 20/20\n",
            "9093/9094 [============================>.] - ETA: 0s - loss: 0.9939 - accuracy: 0.6665"
          ]
        }
      ]
    },
    {
      "cell_type": "code",
      "source": [
        "# Learning curve for the model\n",
        "\n",
        "summarize_model(history)"
      ],
      "metadata": {
        "colab": {
          "base_uri": "https://localhost:8080/",
          "height": 390
        },
        "id": "HBSirEDQGhss",
        "outputId": "3eb9e28b-dd82-4ed6-cd3b-e3e3f7e9bd21"
      },
      "execution_count": null,
      "outputs": [
        {
          "output_type": "display_data",
          "data": {
            "text/plain": [
              "<Figure size 576x432 with 2 Axes>"
            ],
            "image/png": "[encoded data removed]"
          },
          "metadata": {
            "needs_background": "light"
          }
        }
      ]
    },
    {
      "cell_type": "code",
      "source": [
        "# Evaluating the trained LSTM model on the test data\n",
        "testLoss, testAccuracy= model1.evaluate(X_test, y_test)"
      ],
      "metadata": {
        "colab": {
          "base_uri": "https://localhost:8080/"
        },
        "id": "L6hDYv_HG4Eg",
        "outputId": "22d15766-d362-4707-dfe5-d57ab5330e35"
      },
      "execution_count": null,
      "outputs": [
        {
          "output_type": "stream",
          "name": "stdout",
          "text": [
            "2842/2842 [==============================] - 39s 14ms/step - loss: 1.1383 - accuracy: 0.6176\n"
          ]
        }
      ]
    },
    {
      "cell_type": "markdown",
      "source": [
        "The test average accuracy is 61.76%"
      ],
      "metadata": {
        "id": "yA6TqHzLLsdq"
      }
    },
    {
      "cell_type": "code",
      "source": [
        "# Using the LSTM model to make predictions\n",
        "y_pred = model1.predict(X_test)"
      ],
      "metadata": {
        "id": "9_T6nq0JG-T_"
      },
      "execution_count": null,
      "outputs": []
    },
    {
      "cell_type": "code",
      "source": [
        "import numpy as np \n",
        "# Converting the predicted classes and actual classes vectors to get the predicted and actual classes\n",
        "y_pred_classes = np.argmax(y_pred, axis = 1) \n",
        "y_true_classes = np.argmax(y_test, axis = 1)"
      ],
      "metadata": {
        "id": "T8h_MTdkLzdg"
      },
      "execution_count": null,
      "outputs": []
    },
    {
      "cell_type": "markdown",
      "source": [
        "**Output precision, recall, F1-score for each class**"
      ],
      "metadata": {
        "id": "iMd2DzmXMLQP"
      }
    },
    {
      "cell_type": "code",
      "source": [
        "# Classification Report\n",
        "from sklearn.metrics import classification_report \n",
        "\n",
        "report_LSTM_dict = classification_report(y_true_classes, y_pred_classes, output_dict = True)\n",
        "report = classification_report(y_true_classes, y_pred_classes)\n",
        "print(report)"
      ],
      "metadata": {
        "colab": {
          "base_uri": "https://localhost:8080/"
        },
        "id": "bdOBYeq_MKWo",
        "outputId": "3e834fab-6f11-4cf7-b2e5-f0a5fbe4fe49"
      },
      "execution_count": null,
      "outputs": [
        {
          "output_type": "stream",
          "name": "stdout",
          "text": [
            "              precision    recall  f1-score   support\n",
            "\n",
            "           0       0.61      0.53      0.56      9067\n",
            "           1       0.55      0.54      0.54     14586\n",
            "           2       0.64      0.76      0.69     25227\n",
            "           3       0.59      0.40      0.48      7527\n",
            "           4       0.54      0.26      0.35      1328\n",
            "           5       0.56      0.51      0.53      4482\n",
            "           6       0.65      0.71      0.68      8315\n",
            "           7       0.69      0.73      0.71      9812\n",
            "           8       0.61      0.53      0.57     10593\n",
            "\n",
            "    accuracy                           0.62     90937\n",
            "   macro avg       0.60      0.55      0.57     90937\n",
            "weighted avg       0.61      0.62      0.61     90937\n",
            "\n"
          ]
        }
      ]
    },
    {
      "cell_type": "code",
      "source": [
        "# Storing the class-wise values of performance metrics which will be needed to draw the bar plot\n",
        "\n",
        "precision = get_performance_from_classification_report(report_LSTM_dict, 'precision')\n",
        "recall =  get_performance_from_classification_report(report_LSTM_dict, 'recall')\n",
        "f1_score = get_performance_from_classification_report(report_LSTM_dict, 'f1-score')"
      ],
      "metadata": {
        "id": "cHNS71XOtcWC"
      },
      "execution_count": null,
      "outputs": []
    },
    {
      "cell_type": "code",
      "source": [
        "classes = artemis_preprocessed['emotion'].unique()"
      ],
      "metadata": {
        "id": "b36rICE456p0"
      },
      "execution_count": null,
      "outputs": []
    },
    {
      "cell_type": "code",
      "source": [
        "# Displaying classification report as a bar plot\n",
        "draw_performance_plot(precision, recall, f1_score, 'LSTM')"
      ],
      "metadata": {
        "colab": {
          "base_uri": "https://localhost:8080/",
          "height": 523
        },
        "id": "wV1aO-BhtjHi",
        "outputId": "ed1916a1-d047-4b6b-b620-51bb12d4abb8"
      },
      "execution_count": null,
      "outputs": [
        {
          "output_type": "display_data",
          "data": {
            "text/plain": [
              "<Figure size 864x576 with 1 Axes>"
            ],
            "image/png": "[encoded data removed]"
          },
          "metadata": {
            "needs_background": "light"
          }
        }
      ]
    },
    {
      "cell_type": "markdown",
      "metadata": {
        "papermill": {
          "duration": 0.044937,
          "end_time": "2020-10-06T21:19:49.968644",
          "exception": false,
          "start_time": "2020-10-06T21:19:49.923707",
          "status": "completed"
        },
        "tags": [],
        "id": "raemba35awdf"
      },
      "source": [
        "# **LSTM model 2**"
      ]
    },
    {
      "cell_type": "code",
      "metadata": {
        "execution": {
          "iopub.execute_input": "2020-10-06T21:19:50.068632Z",
          "iopub.status.busy": "2020-10-06T21:19:50.067909Z",
          "iopub.status.idle": "2020-10-06T21:30:02.803265Z",
          "shell.execute_reply": "2020-10-06T21:30:02.805203Z"
        },
        "papermill": {
          "duration": 612.793273,
          "end_time": "2020-10-06T21:30:02.806611",
          "exception": false,
          "start_time": "2020-10-06T21:19:50.013338",
          "status": "completed"
        },
        "tags": [],
        "id": "iKlmk0JWawdf"
      },
      "source": [
        "model2 = Sequential()\n",
        "model2.add(layers.Embedding(max_words, 207))\n",
        "model2.add(layers.LSTM(50, dropout=0.5))\n",
        "model2.add(layers.Dense(9,activation='softmax'))\n",
        "\n",
        "model2.compile(optimizer='rmsprop',loss='categorical_crossentropy', metrics=['accuracy'])"
      ],
      "execution_count": null,
      "outputs": []
    },
    {
      "cell_type": "code",
      "metadata": {
        "colab": {
          "base_uri": "https://localhost:8080/"
        },
        "outputId": "d566f57e-59df-4ee7-8079-f8d4bf644923",
        "id": "iHJLK5Auawdf"
      },
      "source": [
        "model2.summary()"
      ],
      "execution_count": null,
      "outputs": [
        {
          "output_type": "stream",
          "name": "stdout",
          "text": [
            "Model: \"sequential_3\"\n",
            "_________________________________________________________________\n",
            " Layer (type)                Output Shape              Param #   \n",
            "=================================================================\n",
            " embedding_3 (Embedding)     (None, None, 207)         7766847   \n",
            "                                                                 \n",
            " lstm_4 (LSTM)               (None, 50)                51600     \n",
            "                                                                 \n",
            " dense_2 (Dense)             (None, 9)                 459       \n",
            "                                                                 \n",
            "=================================================================\n",
            "Total params: 7,818,906\n",
            "Trainable params: 7,818,906\n",
            "Non-trainable params: 0\n",
            "_________________________________________________________________\n"
          ]
        }
      ]
    },
    {
      "cell_type": "code",
      "metadata": {
        "colab": {
          "base_uri": "https://localhost:8080/"
        },
        "outputId": "6b35de2f-45fe-45d7-d51f-b0e1e0553b36",
        "id": "Vbm0uU_9awdg"
      },
      "source": [
        "#Implementing model checkpoins to save the best metric and do not lose it on training.\n",
        "#checkpoint1 = ModelCheckpoint(\"best_model1.hdf5\", monitor='val_accuracy', verbose=1,save_best_only=True, mode='auto', period=1,save_weights_only=False)\n",
        "history_2_10 = model2.fit(X_train, y_train, epochs=10,validation_split = 0.2) #,callbacks=[checkpoint1])"
      ],
      "execution_count": null,
      "outputs": [
        {
          "output_type": "stream",
          "name": "stdout",
          "text": [
            "Epoch 1/10\n",
            "9094/9094 [==============================] - 438s 47ms/step - loss: 1.2686 - accuracy: 0.5605 - val_loss: 1.1344 - val_accuracy: 0.6074\n",
            "Epoch 2/10\n",
            "9094/9094 [==============================] - 426s 47ms/step - loss: 1.1104 - accuracy: 0.6173 - val_loss: 1.0943 - val_accuracy: 0.6227\n",
            "Epoch 3/10\n",
            "9094/9094 [==============================] - 425s 47ms/step - loss: 1.0694 - accuracy: 0.6321 - val_loss: 1.0783 - val_accuracy: 0.6270\n",
            "Epoch 4/10\n",
            "9094/9094 [==============================] - 424s 47ms/step - loss: 1.0444 - accuracy: 0.6424 - val_loss: 1.0811 - val_accuracy: 0.6275\n",
            "Epoch 5/10\n",
            "9094/9094 [==============================] - 422s 46ms/step - loss: 1.0266 - accuracy: 0.6493 - val_loss: 1.0758 - val_accuracy: 0.6294\n",
            "Epoch 6/10\n",
            "9094/9094 [==============================] - 427s 47ms/step - loss: 1.0123 - accuracy: 0.6545 - val_loss: 1.0748 - val_accuracy: 0.6296\n",
            "Epoch 7/10\n",
            "9094/9094 [==============================] - 425s 47ms/step - loss: 1.0016 - accuracy: 0.6591 - val_loss: 1.0851 - val_accuracy: 0.6283\n",
            "Epoch 8/10\n",
            "9094/9094 [==============================] - 426s 47ms/step - loss: 0.9937 - accuracy: 0.6622 - val_loss: 1.0864 - val_accuracy: 0.6290\n",
            "Epoch 9/10\n",
            "9094/9094 [==============================] - 425s 47ms/step - loss: 0.9862 - accuracy: 0.6649 - val_loss: 1.0950 - val_accuracy: 0.6283\n",
            "Epoch 10/10\n",
            "9094/9094 [==============================] - 425s 47ms/step - loss: 0.9799 - accuracy: 0.6673 - val_loss: 1.0959 - val_accuracy: 0.6277\n"
          ]
        }
      ]
    },
    {
      "cell_type": "code",
      "source": [
        "# Learning curve for the model\n",
        "\n",
        "summarize_model(history_2_10)"
      ],
      "metadata": {
        "colab": {
          "base_uri": "https://localhost:8080/",
          "height": 390
        },
        "outputId": "ced3c3a9-98f8-4361-f09a-8eed853af002",
        "id": "xqBZzCbhawdg"
      },
      "execution_count": null,
      "outputs": [
        {
          "output_type": "display_data",
          "data": {
            "text/plain": [
              "<Figure size 576x432 with 2 Axes>"
            ],
            "image/png": "[encoded data removed]"
          },
          "metadata": {
            "needs_background": "light"
          }
        }
      ]
    },
    {
      "cell_type": "code",
      "source": [
        "# Evaluating the trained LSTM model on the test data\n",
        "testLoss, testAccuracy= model2.evaluate(X_test, y_test)"
      ],
      "metadata": {
        "colab": {
          "base_uri": "https://localhost:8080/"
        },
        "outputId": "bb2a6500-d9e9-43e0-897f-e07802f234fe",
        "id": "dfSlXkLNawdg"
      },
      "execution_count": null,
      "outputs": [
        {
          "output_type": "stream",
          "name": "stdout",
          "text": [
            "2842/2842 [==============================] - 51s 18ms/step - loss: 1.1034 - accuracy: 0.6268\n"
          ]
        }
      ]
    },
    {
      "cell_type": "markdown",
      "source": [
        "The test average accuracy is 62.68%"
      ],
      "metadata": {
        "id": "2TM2J2wyawdg"
      }
    },
    {
      "cell_type": "code",
      "source": [
        "# Using the LSTM model to make predictions\n",
        "y_pred = model2.predict(X_test)"
      ],
      "metadata": {
        "id": "62ac0t0zawdg"
      },
      "execution_count": null,
      "outputs": []
    },
    {
      "cell_type": "code",
      "source": [
        "import numpy as np \n",
        "# Converting the predicted classes and actual classes vectors to get the predicted and actual classes\n",
        "y_pred_classes = np.argmax(y_pred, axis = 1) \n",
        "y_true_classes = np.argmax(y_test, axis = 1)"
      ],
      "metadata": {
        "id": "EPURNXtOawdh"
      },
      "execution_count": null,
      "outputs": []
    },
    {
      "cell_type": "markdown",
      "source": [
        "**Output precision, recall, F1-score for each class**"
      ],
      "metadata": {
        "id": "GFxPEnuTawdh"
      }
    },
    {
      "cell_type": "code",
      "source": [
        "# Classification Report\n",
        "from sklearn.metrics import classification_report \n",
        "\n",
        "report_LSTM_dict = classification_report(y_true_classes, y_pred_classes, output_dict = True)\n",
        "report = classification_report(y_true_classes, y_pred_classes)\n",
        "print(report)"
      ],
      "metadata": {
        "colab": {
          "base_uri": "https://localhost:8080/"
        },
        "outputId": "9d1fb4b8-219c-4bdf-bb40-b781fa18e859",
        "id": "58AypZZQawdh"
      },
      "execution_count": null,
      "outputs": [
        {
          "output_type": "stream",
          "name": "stdout",
          "text": [
            "              precision    recall  f1-score   support\n",
            "\n",
            "           0       0.62      0.53      0.57      9067\n",
            "           1       0.56      0.55      0.56     14586\n",
            "           2       0.64      0.77      0.70     25227\n",
            "           3       0.63      0.39      0.48      7527\n",
            "           4       0.58      0.27      0.37      1328\n",
            "           5       0.56      0.53      0.55      4482\n",
            "           6       0.62      0.75      0.68      8315\n",
            "           7       0.70      0.73      0.72      9812\n",
            "           8       0.64      0.54      0.59     10593\n",
            "\n",
            "    accuracy                           0.63     90937\n",
            "   macro avg       0.62      0.56      0.58     90937\n",
            "weighted avg       0.63      0.63      0.62     90937\n",
            "\n"
          ]
        }
      ]
    },
    {
      "cell_type": "code",
      "source": [
        "# Storing the class-wise values of performance metrics which will be needed to draw the bar plot\n",
        "\n",
        "precision = get_performance_from_classification_report(report_LSTM_dict, 'precision')\n",
        "recall =  get_performance_from_classification_report(report_LSTM_dict, 'recall')\n",
        "f1_score = get_performance_from_classification_report(report_LSTM_dict, 'f1-score')"
      ],
      "metadata": {
        "id": "rhonD68Xawdh"
      },
      "execution_count": null,
      "outputs": []
    },
    {
      "cell_type": "code",
      "source": [
        "classes = artemis_preprocessed['emotion'].unique()"
      ],
      "metadata": {
        "id": "8veB-Ihvawdi"
      },
      "execution_count": null,
      "outputs": []
    },
    {
      "cell_type": "code",
      "source": [
        "# Displaying classification report as a bar plot\n",
        "draw_performance_plot(precision, recall, f1_score, 'LSTM Model 2')"
      ],
      "metadata": {
        "colab": {
          "base_uri": "https://localhost:8080/",
          "height": 523
        },
        "outputId": "f7c3215c-4ab8-4f0b-ea6b-88360cacbec6",
        "id": "2idMhKiVawdi"
      },
      "execution_count": null,
      "outputs": [
        {
          "output_type": "display_data",
          "data": {
            "text/plain": [
              "<Figure size 864x576 with 1 Axes>"
            ],
            "image/png": "[encoded data removed]"
          },
          "metadata": {
            "needs_background": "light"
          }
        }
      ]
    },
    {
      "cell_type": "markdown",
      "source": [
        "# **Running LSTM model on base paper tokens**"
      ],
      "metadata": {
        "id": "6lzvkMEgQb2z"
      }
    },
    {
      "cell_type": "code",
      "metadata": {
        "colab": {
          "base_uri": "https://localhost:8080/",
          "height": 407
        },
        "outputId": "784c2c38-fca5-4c48-8b34-67c94784fae1",
        "id": "1zSPEiPKQqCr"
      },
      "source": [
        "#Implementing model checkpoins to save the best metric and do not lose it on training.\n",
        "#checkpoint1 = ModelCheckpoint(\"best_model1.hdf5\", monitor='val_accuracy', verbose=1,save_best_only=True, mode='auto', period=1,save_weights_only=False)\n",
        "history_base_1_10 = model1.fit(X_train_base, y_train_base, epochs=10,validation_split = 0.2) #,callbacks=[checkpoint1])"
      ],
      "execution_count": null,
      "outputs": [
        {
          "output_type": "error",
          "ename": "KeyboardInterrupt",
          "evalue": "ignored",
          "traceback": [
            "\u001b[0;31m---------------------------------------------------------------------------\u001b[0m",
            "\u001b[0;31mKeyboardInterrupt\u001b[0m                         Traceback (most recent call last)",
            "\u001b[0;32m<ipython-input-81-52200fc6b7a4>\u001b[0m in \u001b[0;36m<module>\u001b[0;34m()\u001b[0m\n\u001b[1;32m      1\u001b[0m \u001b[0;31m#Implementing model checkpoins to save the best metric and do not lose it on training.\u001b[0m\u001b[0;34m\u001b[0m\u001b[0;34m\u001b[0m\u001b[0;34m\u001b[0m\u001b[0m\n\u001b[1;32m      2\u001b[0m \u001b[0;31m#checkpoint1 = ModelCheckpoint(\"best_model1.hdf5\", monitor='val_accuracy', verbose=1,save_best_only=True, mode='auto', period=1,save_weights_only=False)\u001b[0m\u001b[0;34m\u001b[0m\u001b[0;34m\u001b[0m\u001b[0;34m\u001b[0m\u001b[0m\n\u001b[0;32m----> 3\u001b[0;31m \u001b[0mhistory_base_1_10\u001b[0m \u001b[0;34m=\u001b[0m \u001b[0mmodel1\u001b[0m\u001b[0;34m.\u001b[0m\u001b[0mfit\u001b[0m\u001b[0;34m(\u001b[0m\u001b[0mX_train_base\u001b[0m\u001b[0;34m,\u001b[0m \u001b[0my_train_base\u001b[0m\u001b[0;34m,\u001b[0m \u001b[0mepochs\u001b[0m\u001b[0;34m=\u001b[0m\u001b[0;36m10\u001b[0m\u001b[0;34m,\u001b[0m\u001b[0mvalidation_split\u001b[0m \u001b[0;34m=\u001b[0m \u001b[0;36m0.2\u001b[0m\u001b[0;34m)\u001b[0m \u001b[0;31m#,callbacks=[checkpoint1])\u001b[0m\u001b[0;34m\u001b[0m\u001b[0;34m\u001b[0m\u001b[0m\n\u001b[0m",
            "\u001b[0;32m/usr/local/lib/python3.7/dist-packages/keras/utils/traceback_utils.py\u001b[0m in \u001b[0;36merror_handler\u001b[0;34m(*args, **kwargs)\u001b[0m\n\u001b[1;32m     62\u001b[0m     \u001b[0mfiltered_tb\u001b[0m \u001b[0;34m=\u001b[0m \u001b[0;32mNone\u001b[0m\u001b[0;34m\u001b[0m\u001b[0;34m\u001b[0m\u001b[0m\n\u001b[1;32m     63\u001b[0m     \u001b[0;32mtry\u001b[0m\u001b[0;34m:\u001b[0m\u001b[0;34m\u001b[0m\u001b[0;34m\u001b[0m\u001b[0m\n\u001b[0;32m---> 64\u001b[0;31m       \u001b[0;32mreturn\u001b[0m \u001b[0mfn\u001b[0m\u001b[0;34m(\u001b[0m\u001b[0;34m*\u001b[0m\u001b[0margs\u001b[0m\u001b[0;34m,\u001b[0m \u001b[0;34m**\u001b[0m\u001b[0mkwargs\u001b[0m\u001b[0;34m)\u001b[0m\u001b[0;34m\u001b[0m\u001b[0;34m\u001b[0m\u001b[0m\n\u001b[0m\u001b[1;32m     65\u001b[0m     \u001b[0;32mexcept\u001b[0m \u001b[0mException\u001b[0m \u001b[0;32mas\u001b[0m \u001b[0me\u001b[0m\u001b[0;34m:\u001b[0m  \u001b[0;31m# pylint: disable=broad-except\u001b[0m\u001b[0;34m\u001b[0m\u001b[0;34m\u001b[0m\u001b[0m\n\u001b[1;32m     66\u001b[0m       \u001b[0mfiltered_tb\u001b[0m \u001b[0;34m=\u001b[0m \u001b[0m_process_traceback_frames\u001b[0m\u001b[0;34m(\u001b[0m\u001b[0me\u001b[0m\u001b[0;34m.\u001b[0m\u001b[0m__traceback__\u001b[0m\u001b[0;34m)\u001b[0m\u001b[0;34m\u001b[0m\u001b[0;34m\u001b[0m\u001b[0m\n",
            "\u001b[0;32m/usr/local/lib/python3.7/dist-packages/keras/engine/training.py\u001b[0m in \u001b[0;36mfit\u001b[0;34m(self, x, y, batch_size, epochs, verbose, callbacks, validation_split, validation_data, shuffle, class_weight, sample_weight, initial_epoch, steps_per_epoch, validation_steps, validation_batch_size, validation_freq, max_queue_size, workers, use_multiprocessing)\u001b[0m\n\u001b[1;32m   1346\u001b[0m           \u001b[0muse_multiprocessing\u001b[0m\u001b[0;34m=\u001b[0m\u001b[0muse_multiprocessing\u001b[0m\u001b[0;34m,\u001b[0m\u001b[0;34m\u001b[0m\u001b[0;34m\u001b[0m\u001b[0m\n\u001b[1;32m   1347\u001b[0m           \u001b[0mmodel\u001b[0m\u001b[0;34m=\u001b[0m\u001b[0mself\u001b[0m\u001b[0;34m,\u001b[0m\u001b[0;34m\u001b[0m\u001b[0;34m\u001b[0m\u001b[0m\n\u001b[0;32m-> 1348\u001b[0;31m           steps_per_execution=self._steps_per_execution)\n\u001b[0m\u001b[1;32m   1349\u001b[0m \u001b[0;34m\u001b[0m\u001b[0m\n\u001b[1;32m   1350\u001b[0m       \u001b[0;31m# Container that configures and calls `tf.keras.Callback`s.\u001b[0m\u001b[0;34m\u001b[0m\u001b[0;34m\u001b[0m\u001b[0;34m\u001b[0m\u001b[0m\n",
            "\u001b[0;32m/usr/local/lib/python3.7/dist-packages/keras/engine/data_adapter.py\u001b[0m in \u001b[0;36mget_data_handler\u001b[0;34m(*args, **kwargs)\u001b[0m\n\u001b[1;32m   1397\u001b[0m   \u001b[0;32mif\u001b[0m \u001b[0mgetattr\u001b[0m\u001b[0;34m(\u001b[0m\u001b[0mkwargs\u001b[0m\u001b[0;34m[\u001b[0m\u001b[0;34m\"model\"\u001b[0m\u001b[0;34m]\u001b[0m\u001b[0;34m,\u001b[0m \u001b[0;34m\"_cluster_coordinator\"\u001b[0m\u001b[0;34m,\u001b[0m \u001b[0;32mNone\u001b[0m\u001b[0;34m)\u001b[0m\u001b[0;34m:\u001b[0m\u001b[0;34m\u001b[0m\u001b[0;34m\u001b[0m\u001b[0m\n\u001b[1;32m   1398\u001b[0m     \u001b[0;32mreturn\u001b[0m \u001b[0m_ClusterCoordinatorDataHandler\u001b[0m\u001b[0;34m(\u001b[0m\u001b[0;34m*\u001b[0m\u001b[0margs\u001b[0m\u001b[0;34m,\u001b[0m \u001b[0;34m**\u001b[0m\u001b[0mkwargs\u001b[0m\u001b[0;34m)\u001b[0m\u001b[0;34m\u001b[0m\u001b[0;34m\u001b[0m\u001b[0m\n\u001b[0;32m-> 1399\u001b[0;31m   \u001b[0;32mreturn\u001b[0m \u001b[0mDataHandler\u001b[0m\u001b[0;34m(\u001b[0m\u001b[0;34m*\u001b[0m\u001b[0margs\u001b[0m\u001b[0;34m,\u001b[0m \u001b[0;34m**\u001b[0m\u001b[0mkwargs\u001b[0m\u001b[0;34m)\u001b[0m\u001b[0;34m\u001b[0m\u001b[0;34m\u001b[0m\u001b[0m\n\u001b[0m\u001b[1;32m   1400\u001b[0m \u001b[0;34m\u001b[0m\u001b[0m\n\u001b[1;32m   1401\u001b[0m \u001b[0;34m\u001b[0m\u001b[0m\n",
            "\u001b[0;32m/usr/local/lib/python3.7/dist-packages/keras/engine/data_adapter.py\u001b[0m in \u001b[0;36m__init__\u001b[0;34m(self, x, y, sample_weight, batch_size, steps_per_epoch, initial_epoch, epochs, shuffle, class_weight, max_queue_size, workers, use_multiprocessing, model, steps_per_execution, distribute)\u001b[0m\n\u001b[1;32m   1159\u001b[0m         \u001b[0muse_multiprocessing\u001b[0m\u001b[0;34m=\u001b[0m\u001b[0muse_multiprocessing\u001b[0m\u001b[0;34m,\u001b[0m\u001b[0;34m\u001b[0m\u001b[0;34m\u001b[0m\u001b[0m\n\u001b[1;32m   1160\u001b[0m         \u001b[0mdistribution_strategy\u001b[0m\u001b[0;34m=\u001b[0m\u001b[0mtf\u001b[0m\u001b[0;34m.\u001b[0m\u001b[0mdistribute\u001b[0m\u001b[0;34m.\u001b[0m\u001b[0mget_strategy\u001b[0m\u001b[0;34m(\u001b[0m\u001b[0;34m)\u001b[0m\u001b[0;34m,\u001b[0m\u001b[0;34m\u001b[0m\u001b[0;34m\u001b[0m\u001b[0m\n\u001b[0;32m-> 1161\u001b[0;31m         model=model)\n\u001b[0m\u001b[1;32m   1162\u001b[0m \u001b[0;34m\u001b[0m\u001b[0m\n\u001b[1;32m   1163\u001b[0m     \u001b[0mstrategy\u001b[0m \u001b[0;34m=\u001b[0m \u001b[0mtf\u001b[0m\u001b[0;34m.\u001b[0m\u001b[0mdistribute\u001b[0m\u001b[0;34m.\u001b[0m\u001b[0mget_strategy\u001b[0m\u001b[0;34m(\u001b[0m\u001b[0;34m)\u001b[0m\u001b[0;34m\u001b[0m\u001b[0;34m\u001b[0m\u001b[0m\n",
            "\u001b[0;32m/usr/local/lib/python3.7/dist-packages/keras/engine/data_adapter.py\u001b[0m in \u001b[0;36m__init__\u001b[0;34m(self, x, y, sample_weights, sample_weight_modes, batch_size, epochs, steps, shuffle, **kwargs)\u001b[0m\n\u001b[1;32m    234\u001b[0m                **kwargs):\n\u001b[1;32m    235\u001b[0m     \u001b[0msuper\u001b[0m\u001b[0;34m(\u001b[0m\u001b[0mTensorLikeDataAdapter\u001b[0m\u001b[0;34m,\u001b[0m \u001b[0mself\u001b[0m\u001b[0;34m)\u001b[0m\u001b[0;34m.\u001b[0m\u001b[0m__init__\u001b[0m\u001b[0;34m(\u001b[0m\u001b[0mx\u001b[0m\u001b[0;34m,\u001b[0m \u001b[0my\u001b[0m\u001b[0;34m,\u001b[0m \u001b[0;34m**\u001b[0m\u001b[0mkwargs\u001b[0m\u001b[0;34m)\u001b[0m\u001b[0;34m\u001b[0m\u001b[0;34m\u001b[0m\u001b[0m\n\u001b[0;32m--> 236\u001b[0;31m     \u001b[0mx\u001b[0m\u001b[0;34m,\u001b[0m \u001b[0my\u001b[0m\u001b[0;34m,\u001b[0m \u001b[0msample_weights\u001b[0m \u001b[0;34m=\u001b[0m \u001b[0m_process_tensorlike\u001b[0m\u001b[0;34m(\u001b[0m\u001b[0;34m(\u001b[0m\u001b[0mx\u001b[0m\u001b[0;34m,\u001b[0m \u001b[0my\u001b[0m\u001b[0;34m,\u001b[0m \u001b[0msample_weights\u001b[0m\u001b[0;34m)\u001b[0m\u001b[0;34m)\u001b[0m\u001b[0;34m\u001b[0m\u001b[0;34m\u001b[0m\u001b[0m\n\u001b[0m\u001b[1;32m    237\u001b[0m     sample_weight_modes = broadcast_sample_weight_modes(\n\u001b[1;32m    238\u001b[0m         sample_weights, sample_weight_modes)\n",
            "\u001b[0;32m/usr/local/lib/python3.7/dist-packages/keras/engine/data_adapter.py\u001b[0m in \u001b[0;36m_process_tensorlike\u001b[0;34m(inputs)\u001b[0m\n\u001b[1;32m   1041\u001b[0m     \u001b[0;32mreturn\u001b[0m \u001b[0mx\u001b[0m\u001b[0;34m\u001b[0m\u001b[0;34m\u001b[0m\u001b[0m\n\u001b[1;32m   1042\u001b[0m \u001b[0;34m\u001b[0m\u001b[0m\n\u001b[0;32m-> 1043\u001b[0;31m   \u001b[0minputs\u001b[0m \u001b[0;34m=\u001b[0m \u001b[0mtf\u001b[0m\u001b[0;34m.\u001b[0m\u001b[0mnest\u001b[0m\u001b[0;34m.\u001b[0m\u001b[0mmap_structure\u001b[0m\u001b[0;34m(\u001b[0m\u001b[0m_convert_single_tensor\u001b[0m\u001b[0;34m,\u001b[0m \u001b[0minputs\u001b[0m\u001b[0;34m)\u001b[0m\u001b[0;34m\u001b[0m\u001b[0;34m\u001b[0m\u001b[0m\n\u001b[0m\u001b[1;32m   1044\u001b[0m   \u001b[0;32mreturn\u001b[0m \u001b[0mtf\u001b[0m\u001b[0;34m.\u001b[0m\u001b[0m__internal__\u001b[0m\u001b[0;34m.\u001b[0m\u001b[0mnest\u001b[0m\u001b[0;34m.\u001b[0m\u001b[0mlist_to_tuple\u001b[0m\u001b[0;34m(\u001b[0m\u001b[0minputs\u001b[0m\u001b[0;34m)\u001b[0m\u001b[0;34m\u001b[0m\u001b[0;34m\u001b[0m\u001b[0m\n\u001b[1;32m   1045\u001b[0m \u001b[0;34m\u001b[0m\u001b[0m\n",
            "\u001b[0;32m/usr/local/lib/python3.7/dist-packages/tensorflow/python/util/nest.py\u001b[0m in \u001b[0;36mmap_structure\u001b[0;34m(func, *structure, **kwargs)\u001b[0m\n\u001b[1;32m    912\u001b[0m \u001b[0;34m\u001b[0m\u001b[0m\n\u001b[1;32m    913\u001b[0m   return pack_sequence_as(\n\u001b[0;32m--> 914\u001b[0;31m       \u001b[0mstructure\u001b[0m\u001b[0;34m[\u001b[0m\u001b[0;36m0\u001b[0m\u001b[0;34m]\u001b[0m\u001b[0;34m,\u001b[0m \u001b[0;34m[\u001b[0m\u001b[0mfunc\u001b[0m\u001b[0;34m(\u001b[0m\u001b[0;34m*\u001b[0m\u001b[0mx\u001b[0m\u001b[0;34m)\u001b[0m \u001b[0;32mfor\u001b[0m \u001b[0mx\u001b[0m \u001b[0;32min\u001b[0m \u001b[0mentries\u001b[0m\u001b[0;34m]\u001b[0m\u001b[0;34m,\u001b[0m\u001b[0;34m\u001b[0m\u001b[0;34m\u001b[0m\u001b[0m\n\u001b[0m\u001b[1;32m    915\u001b[0m       expand_composites=expand_composites)\n\u001b[1;32m    916\u001b[0m \u001b[0;34m\u001b[0m\u001b[0m\n",
            "\u001b[0;32m/usr/local/lib/python3.7/dist-packages/tensorflow/python/util/nest.py\u001b[0m in \u001b[0;36m<listcomp>\u001b[0;34m(.0)\u001b[0m\n\u001b[1;32m    912\u001b[0m \u001b[0;34m\u001b[0m\u001b[0m\n\u001b[1;32m    913\u001b[0m   return pack_sequence_as(\n\u001b[0;32m--> 914\u001b[0;31m       \u001b[0mstructure\u001b[0m\u001b[0;34m[\u001b[0m\u001b[0;36m0\u001b[0m\u001b[0;34m]\u001b[0m\u001b[0;34m,\u001b[0m \u001b[0;34m[\u001b[0m\u001b[0mfunc\u001b[0m\u001b[0;34m(\u001b[0m\u001b[0;34m*\u001b[0m\u001b[0mx\u001b[0m\u001b[0;34m)\u001b[0m \u001b[0;32mfor\u001b[0m \u001b[0mx\u001b[0m \u001b[0;32min\u001b[0m \u001b[0mentries\u001b[0m\u001b[0;34m]\u001b[0m\u001b[0;34m,\u001b[0m\u001b[0;34m\u001b[0m\u001b[0;34m\u001b[0m\u001b[0m\n\u001b[0m\u001b[1;32m    915\u001b[0m       expand_composites=expand_composites)\n\u001b[1;32m    916\u001b[0m \u001b[0;34m\u001b[0m\u001b[0m\n",
            "\u001b[0;32m/usr/local/lib/python3.7/dist-packages/keras/engine/data_adapter.py\u001b[0m in \u001b[0;36m_convert_single_tensor\u001b[0;34m(x)\u001b[0m\n\u001b[1;32m   1036\u001b[0m       \u001b[0;32mif\u001b[0m \u001b[0missubclass\u001b[0m\u001b[0;34m(\u001b[0m\u001b[0mx\u001b[0m\u001b[0;34m.\u001b[0m\u001b[0mdtype\u001b[0m\u001b[0;34m.\u001b[0m\u001b[0mtype\u001b[0m\u001b[0;34m,\u001b[0m \u001b[0mnp\u001b[0m\u001b[0;34m.\u001b[0m\u001b[0mfloating\u001b[0m\u001b[0;34m)\u001b[0m\u001b[0;34m:\u001b[0m\u001b[0;34m\u001b[0m\u001b[0;34m\u001b[0m\u001b[0m\n\u001b[1;32m   1037\u001b[0m         \u001b[0mdtype\u001b[0m \u001b[0;34m=\u001b[0m \u001b[0mbackend\u001b[0m\u001b[0;34m.\u001b[0m\u001b[0mfloatx\u001b[0m\u001b[0;34m(\u001b[0m\u001b[0;34m)\u001b[0m\u001b[0;34m\u001b[0m\u001b[0;34m\u001b[0m\u001b[0m\n\u001b[0;32m-> 1038\u001b[0;31m       \u001b[0;32mreturn\u001b[0m \u001b[0mtf\u001b[0m\u001b[0;34m.\u001b[0m\u001b[0mconvert_to_tensor\u001b[0m\u001b[0;34m(\u001b[0m\u001b[0mx\u001b[0m\u001b[0;34m,\u001b[0m \u001b[0mdtype\u001b[0m\u001b[0;34m=\u001b[0m\u001b[0mdtype\u001b[0m\u001b[0;34m)\u001b[0m\u001b[0;34m\u001b[0m\u001b[0;34m\u001b[0m\u001b[0m\n\u001b[0m\u001b[1;32m   1039\u001b[0m     \u001b[0;32melif\u001b[0m \u001b[0m_is_scipy_sparse\u001b[0m\u001b[0;34m(\u001b[0m\u001b[0mx\u001b[0m\u001b[0;34m)\u001b[0m\u001b[0;34m:\u001b[0m\u001b[0;34m\u001b[0m\u001b[0;34m\u001b[0m\u001b[0m\n\u001b[1;32m   1040\u001b[0m       \u001b[0;32mreturn\u001b[0m \u001b[0m_scipy_sparse_to_sparse_tensor\u001b[0m\u001b[0;34m(\u001b[0m\u001b[0mx\u001b[0m\u001b[0;34m)\u001b[0m\u001b[0;34m\u001b[0m\u001b[0;34m\u001b[0m\u001b[0m\n",
            "\u001b[0;32m/usr/local/lib/python3.7/dist-packages/tensorflow/python/util/traceback_utils.py\u001b[0m in \u001b[0;36merror_handler\u001b[0;34m(*args, **kwargs)\u001b[0m\n\u001b[1;32m    148\u001b[0m     \u001b[0mfiltered_tb\u001b[0m \u001b[0;34m=\u001b[0m \u001b[0;32mNone\u001b[0m\u001b[0;34m\u001b[0m\u001b[0;34m\u001b[0m\u001b[0m\n\u001b[1;32m    149\u001b[0m     \u001b[0;32mtry\u001b[0m\u001b[0;34m:\u001b[0m\u001b[0;34m\u001b[0m\u001b[0;34m\u001b[0m\u001b[0m\n\u001b[0;32m--> 150\u001b[0;31m       \u001b[0;32mreturn\u001b[0m \u001b[0mfn\u001b[0m\u001b[0;34m(\u001b[0m\u001b[0;34m*\u001b[0m\u001b[0margs\u001b[0m\u001b[0;34m,\u001b[0m \u001b[0;34m**\u001b[0m\u001b[0mkwargs\u001b[0m\u001b[0;34m)\u001b[0m\u001b[0;34m\u001b[0m\u001b[0;34m\u001b[0m\u001b[0m\n\u001b[0m\u001b[1;32m    151\u001b[0m     \u001b[0;32mexcept\u001b[0m \u001b[0mException\u001b[0m \u001b[0;32mas\u001b[0m \u001b[0me\u001b[0m\u001b[0;34m:\u001b[0m\u001b[0;34m\u001b[0m\u001b[0;34m\u001b[0m\u001b[0m\n\u001b[1;32m    152\u001b[0m       \u001b[0mfiltered_tb\u001b[0m \u001b[0;34m=\u001b[0m \u001b[0m_process_traceback_frames\u001b[0m\u001b[0;34m(\u001b[0m\u001b[0me\u001b[0m\u001b[0;34m.\u001b[0m\u001b[0m__traceback__\u001b[0m\u001b[0;34m)\u001b[0m\u001b[0;34m\u001b[0m\u001b[0;34m\u001b[0m\u001b[0m\n",
            "\u001b[0;32m/usr/local/lib/python3.7/dist-packages/tensorflow/python/util/dispatch.py\u001b[0m in \u001b[0;36mop_dispatch_handler\u001b[0;34m(*args, **kwargs)\u001b[0m\n\u001b[1;32m   1080\u001b[0m       \u001b[0;31m# Fallback dispatch system (dispatch v1):\u001b[0m\u001b[0;34m\u001b[0m\u001b[0;34m\u001b[0m\u001b[0;34m\u001b[0m\u001b[0m\n\u001b[1;32m   1081\u001b[0m       \u001b[0;32mtry\u001b[0m\u001b[0;34m:\u001b[0m\u001b[0;34m\u001b[0m\u001b[0;34m\u001b[0m\u001b[0m\n\u001b[0;32m-> 1082\u001b[0;31m         \u001b[0;32mreturn\u001b[0m \u001b[0mdispatch_target\u001b[0m\u001b[0;34m(\u001b[0m\u001b[0;34m*\u001b[0m\u001b[0margs\u001b[0m\u001b[0;34m,\u001b[0m \u001b[0;34m**\u001b[0m\u001b[0mkwargs\u001b[0m\u001b[0;34m)\u001b[0m\u001b[0;34m\u001b[0m\u001b[0;34m\u001b[0m\u001b[0m\n\u001b[0m\u001b[1;32m   1083\u001b[0m       \u001b[0;32mexcept\u001b[0m \u001b[0;34m(\u001b[0m\u001b[0mTypeError\u001b[0m\u001b[0;34m,\u001b[0m \u001b[0mValueError\u001b[0m\u001b[0;34m)\u001b[0m\u001b[0;34m:\u001b[0m\u001b[0;34m\u001b[0m\u001b[0;34m\u001b[0m\u001b[0m\n\u001b[1;32m   1084\u001b[0m         \u001b[0;31m# Note: convert_to_eager_tensor currently raises a ValueError, not a\u001b[0m\u001b[0;34m\u001b[0m\u001b[0;34m\u001b[0m\u001b[0;34m\u001b[0m\u001b[0m\n",
            "\u001b[0;32m/usr/local/lib/python3.7/dist-packages/tensorflow/python/framework/ops.py\u001b[0m in \u001b[0;36mconvert_to_tensor_v2_with_dispatch\u001b[0;34m(value, dtype, dtype_hint, name)\u001b[0m\n\u001b[1;32m   1558\u001b[0m   \"\"\"\n\u001b[1;32m   1559\u001b[0m   return convert_to_tensor_v2(\n\u001b[0;32m-> 1560\u001b[0;31m       value, dtype=dtype, dtype_hint=dtype_hint, name=name)\n\u001b[0m\u001b[1;32m   1561\u001b[0m \u001b[0;34m\u001b[0m\u001b[0m\n\u001b[1;32m   1562\u001b[0m \u001b[0;34m\u001b[0m\u001b[0m\n",
            "\u001b[0;32m/usr/local/lib/python3.7/dist-packages/tensorflow/python/framework/ops.py\u001b[0m in \u001b[0;36mconvert_to_tensor_v2\u001b[0;34m(value, dtype, dtype_hint, name)\u001b[0m\n\u001b[1;32m   1568\u001b[0m       \u001b[0mname\u001b[0m\u001b[0;34m=\u001b[0m\u001b[0mname\u001b[0m\u001b[0;34m,\u001b[0m\u001b[0;34m\u001b[0m\u001b[0;34m\u001b[0m\u001b[0m\n\u001b[1;32m   1569\u001b[0m       \u001b[0mpreferred_dtype\u001b[0m\u001b[0;34m=\u001b[0m\u001b[0mdtype_hint\u001b[0m\u001b[0;34m,\u001b[0m\u001b[0;34m\u001b[0m\u001b[0;34m\u001b[0m\u001b[0m\n\u001b[0;32m-> 1570\u001b[0;31m       as_ref=False)\n\u001b[0m\u001b[1;32m   1571\u001b[0m \u001b[0;34m\u001b[0m\u001b[0m\n\u001b[1;32m   1572\u001b[0m \u001b[0;34m\u001b[0m\u001b[0m\n",
            "\u001b[0;32m/usr/local/lib/python3.7/dist-packages/tensorflow/python/profiler/trace.py\u001b[0m in \u001b[0;36mwrapped\u001b[0;34m(*args, **kwargs)\u001b[0m\n\u001b[1;32m    181\u001b[0m         \u001b[0;32mwith\u001b[0m \u001b[0mTrace\u001b[0m\u001b[0;34m(\u001b[0m\u001b[0mtrace_name\u001b[0m\u001b[0;34m,\u001b[0m \u001b[0;34m**\u001b[0m\u001b[0mtrace_kwargs\u001b[0m\u001b[0;34m)\u001b[0m\u001b[0;34m:\u001b[0m\u001b[0;34m\u001b[0m\u001b[0;34m\u001b[0m\u001b[0m\n\u001b[1;32m    182\u001b[0m           \u001b[0;32mreturn\u001b[0m \u001b[0mfunc\u001b[0m\u001b[0;34m(\u001b[0m\u001b[0;34m*\u001b[0m\u001b[0margs\u001b[0m\u001b[0;34m,\u001b[0m \u001b[0;34m**\u001b[0m\u001b[0mkwargs\u001b[0m\u001b[0;34m)\u001b[0m\u001b[0;34m\u001b[0m\u001b[0;34m\u001b[0m\u001b[0m\n\u001b[0;32m--> 183\u001b[0;31m       \u001b[0;32mreturn\u001b[0m \u001b[0mfunc\u001b[0m\u001b[0;34m(\u001b[0m\u001b[0;34m*\u001b[0m\u001b[0margs\u001b[0m\u001b[0;34m,\u001b[0m \u001b[0;34m**\u001b[0m\u001b[0mkwargs\u001b[0m\u001b[0;34m)\u001b[0m\u001b[0;34m\u001b[0m\u001b[0;34m\u001b[0m\u001b[0m\n\u001b[0m\u001b[1;32m    184\u001b[0m \u001b[0;34m\u001b[0m\u001b[0m\n\u001b[1;32m    185\u001b[0m     \u001b[0;32mreturn\u001b[0m \u001b[0mwrapped\u001b[0m\u001b[0;34m\u001b[0m\u001b[0;34m\u001b[0m\u001b[0m\n",
            "\u001b[0;32m/usr/local/lib/python3.7/dist-packages/tensorflow/python/framework/ops.py\u001b[0m in \u001b[0;36mconvert_to_tensor\u001b[0;34m(value, dtype, name, as_ref, preferred_dtype, dtype_hint, ctx, accepted_result_types)\u001b[0m\n\u001b[1;32m   1693\u001b[0m \u001b[0;34m\u001b[0m\u001b[0m\n\u001b[1;32m   1694\u001b[0m     \u001b[0;32mif\u001b[0m \u001b[0mret\u001b[0m \u001b[0;32mis\u001b[0m \u001b[0;32mNone\u001b[0m\u001b[0;34m:\u001b[0m\u001b[0;34m\u001b[0m\u001b[0;34m\u001b[0m\u001b[0m\n\u001b[0;32m-> 1695\u001b[0;31m       \u001b[0mret\u001b[0m \u001b[0;34m=\u001b[0m \u001b[0mconversion_func\u001b[0m\u001b[0;34m(\u001b[0m\u001b[0mvalue\u001b[0m\u001b[0;34m,\u001b[0m \u001b[0mdtype\u001b[0m\u001b[0;34m=\u001b[0m\u001b[0mdtype\u001b[0m\u001b[0;34m,\u001b[0m \u001b[0mname\u001b[0m\u001b[0;34m=\u001b[0m\u001b[0mname\u001b[0m\u001b[0;34m,\u001b[0m \u001b[0mas_ref\u001b[0m\u001b[0;34m=\u001b[0m\u001b[0mas_ref\u001b[0m\u001b[0;34m)\u001b[0m\u001b[0;34m\u001b[0m\u001b[0;34m\u001b[0m\u001b[0m\n\u001b[0m\u001b[1;32m   1696\u001b[0m \u001b[0;34m\u001b[0m\u001b[0m\n\u001b[1;32m   1697\u001b[0m     \u001b[0;32mif\u001b[0m \u001b[0mret\u001b[0m \u001b[0;32mis\u001b[0m \u001b[0mNotImplemented\u001b[0m\u001b[0;34m:\u001b[0m\u001b[0;34m\u001b[0m\u001b[0;34m\u001b[0m\u001b[0m\n",
            "\u001b[0;32m/usr/local/lib/python3.7/dist-packages/tensorflow/python/framework/tensor_conversion_registry.py\u001b[0m in \u001b[0;36m_default_conversion_function\u001b[0;34m(***failed resolving arguments***)\u001b[0m\n\u001b[1;32m     46\u001b[0m \u001b[0;32mdef\u001b[0m \u001b[0m_default_conversion_function\u001b[0m\u001b[0;34m(\u001b[0m\u001b[0mvalue\u001b[0m\u001b[0;34m,\u001b[0m \u001b[0mdtype\u001b[0m\u001b[0;34m,\u001b[0m \u001b[0mname\u001b[0m\u001b[0;34m,\u001b[0m \u001b[0mas_ref\u001b[0m\u001b[0;34m)\u001b[0m\u001b[0;34m:\u001b[0m\u001b[0;34m\u001b[0m\u001b[0;34m\u001b[0m\u001b[0m\n\u001b[1;32m     47\u001b[0m   \u001b[0;32mdel\u001b[0m \u001b[0mas_ref\u001b[0m  \u001b[0;31m# Unused.\u001b[0m\u001b[0;34m\u001b[0m\u001b[0;34m\u001b[0m\u001b[0m\n\u001b[0;32m---> 48\u001b[0;31m   \u001b[0;32mreturn\u001b[0m \u001b[0mconstant_op\u001b[0m\u001b[0;34m.\u001b[0m\u001b[0mconstant\u001b[0m\u001b[0;34m(\u001b[0m\u001b[0mvalue\u001b[0m\u001b[0;34m,\u001b[0m \u001b[0mdtype\u001b[0m\u001b[0;34m,\u001b[0m \u001b[0mname\u001b[0m\u001b[0;34m=\u001b[0m\u001b[0mname\u001b[0m\u001b[0;34m)\u001b[0m\u001b[0;34m\u001b[0m\u001b[0;34m\u001b[0m\u001b[0m\n\u001b[0m\u001b[1;32m     49\u001b[0m \u001b[0;34m\u001b[0m\u001b[0m\n\u001b[1;32m     50\u001b[0m \u001b[0;34m\u001b[0m\u001b[0m\n",
            "\u001b[0;32m/usr/local/lib/python3.7/dist-packages/tensorflow/python/framework/constant_op.py\u001b[0m in \u001b[0;36mconstant\u001b[0;34m(value, dtype, shape, name)\u001b[0m\n\u001b[1;32m    266\u001b[0m   \"\"\"\n\u001b[1;32m    267\u001b[0m   return _constant_impl(value, dtype, shape, name, verify_shape=False,\n\u001b[0;32m--> 268\u001b[0;31m                         allow_broadcast=True)\n\u001b[0m\u001b[1;32m    269\u001b[0m \u001b[0;34m\u001b[0m\u001b[0m\n\u001b[1;32m    270\u001b[0m \u001b[0;34m\u001b[0m\u001b[0m\n",
            "\u001b[0;32m/usr/local/lib/python3.7/dist-packages/tensorflow/python/framework/constant_op.py\u001b[0m in \u001b[0;36m_constant_impl\u001b[0;34m(value, dtype, shape, name, verify_shape, allow_broadcast)\u001b[0m\n\u001b[1;32m    277\u001b[0m       \u001b[0;32mwith\u001b[0m \u001b[0mtrace\u001b[0m\u001b[0;34m.\u001b[0m\u001b[0mTrace\u001b[0m\u001b[0;34m(\u001b[0m\u001b[0;34m\"tf.constant\"\u001b[0m\u001b[0;34m)\u001b[0m\u001b[0;34m:\u001b[0m\u001b[0;34m\u001b[0m\u001b[0;34m\u001b[0m\u001b[0m\n\u001b[1;32m    278\u001b[0m         \u001b[0;32mreturn\u001b[0m \u001b[0m_constant_eager_impl\u001b[0m\u001b[0;34m(\u001b[0m\u001b[0mctx\u001b[0m\u001b[0;34m,\u001b[0m \u001b[0mvalue\u001b[0m\u001b[0;34m,\u001b[0m \u001b[0mdtype\u001b[0m\u001b[0;34m,\u001b[0m \u001b[0mshape\u001b[0m\u001b[0;34m,\u001b[0m \u001b[0mverify_shape\u001b[0m\u001b[0;34m)\u001b[0m\u001b[0;34m\u001b[0m\u001b[0;34m\u001b[0m\u001b[0m\n\u001b[0;32m--> 279\u001b[0;31m     \u001b[0;32mreturn\u001b[0m \u001b[0m_constant_eager_impl\u001b[0m\u001b[0;34m(\u001b[0m\u001b[0mctx\u001b[0m\u001b[0;34m,\u001b[0m \u001b[0mvalue\u001b[0m\u001b[0;34m,\u001b[0m \u001b[0mdtype\u001b[0m\u001b[0;34m,\u001b[0m \u001b[0mshape\u001b[0m\u001b[0;34m,\u001b[0m \u001b[0mverify_shape\u001b[0m\u001b[0;34m)\u001b[0m\u001b[0;34m\u001b[0m\u001b[0;34m\u001b[0m\u001b[0m\n\u001b[0m\u001b[1;32m    280\u001b[0m \u001b[0;34m\u001b[0m\u001b[0m\n\u001b[1;32m    281\u001b[0m   \u001b[0mg\u001b[0m \u001b[0;34m=\u001b[0m \u001b[0mops\u001b[0m\u001b[0;34m.\u001b[0m\u001b[0mget_default_graph\u001b[0m\u001b[0;34m(\u001b[0m\u001b[0;34m)\u001b[0m\u001b[0;34m\u001b[0m\u001b[0;34m\u001b[0m\u001b[0m\n",
            "\u001b[0;32m/usr/local/lib/python3.7/dist-packages/tensorflow/python/framework/constant_op.py\u001b[0m in \u001b[0;36m_constant_eager_impl\u001b[0;34m(ctx, value, dtype, shape, verify_shape)\u001b[0m\n\u001b[1;32m    302\u001b[0m \u001b[0;32mdef\u001b[0m \u001b[0m_constant_eager_impl\u001b[0m\u001b[0;34m(\u001b[0m\u001b[0mctx\u001b[0m\u001b[0;34m,\u001b[0m \u001b[0mvalue\u001b[0m\u001b[0;34m,\u001b[0m \u001b[0mdtype\u001b[0m\u001b[0;34m,\u001b[0m \u001b[0mshape\u001b[0m\u001b[0;34m,\u001b[0m \u001b[0mverify_shape\u001b[0m\u001b[0;34m)\u001b[0m\u001b[0;34m:\u001b[0m\u001b[0;34m\u001b[0m\u001b[0;34m\u001b[0m\u001b[0m\n\u001b[1;32m    303\u001b[0m   \u001b[0;34m\"\"\"Creates a constant on the current device.\"\"\"\u001b[0m\u001b[0;34m\u001b[0m\u001b[0;34m\u001b[0m\u001b[0m\n\u001b[0;32m--> 304\u001b[0;31m   \u001b[0mt\u001b[0m \u001b[0;34m=\u001b[0m \u001b[0mconvert_to_eager_tensor\u001b[0m\u001b[0;34m(\u001b[0m\u001b[0mvalue\u001b[0m\u001b[0;34m,\u001b[0m \u001b[0mctx\u001b[0m\u001b[0;34m,\u001b[0m \u001b[0mdtype\u001b[0m\u001b[0;34m)\u001b[0m\u001b[0;34m\u001b[0m\u001b[0;34m\u001b[0m\u001b[0m\n\u001b[0m\u001b[1;32m    305\u001b[0m   \u001b[0;32mif\u001b[0m \u001b[0mshape\u001b[0m \u001b[0;32mis\u001b[0m \u001b[0;32mNone\u001b[0m\u001b[0;34m:\u001b[0m\u001b[0;34m\u001b[0m\u001b[0;34m\u001b[0m\u001b[0m\n\u001b[1;32m    306\u001b[0m     \u001b[0;32mreturn\u001b[0m \u001b[0mt\u001b[0m\u001b[0;34m\u001b[0m\u001b[0;34m\u001b[0m\u001b[0m\n",
            "\u001b[0;32m/usr/local/lib/python3.7/dist-packages/tensorflow/python/framework/constant_op.py\u001b[0m in \u001b[0;36mconvert_to_eager_tensor\u001b[0;34m(value, ctx, dtype)\u001b[0m\n\u001b[1;32m    100\u001b[0m       \u001b[0mdtype\u001b[0m \u001b[0;34m=\u001b[0m \u001b[0mdtypes\u001b[0m\u001b[0;34m.\u001b[0m\u001b[0mas_dtype\u001b[0m\u001b[0;34m(\u001b[0m\u001b[0mdtype\u001b[0m\u001b[0;34m)\u001b[0m\u001b[0;34m.\u001b[0m\u001b[0mas_datatype_enum\u001b[0m\u001b[0;34m\u001b[0m\u001b[0;34m\u001b[0m\u001b[0m\n\u001b[1;32m    101\u001b[0m   \u001b[0mctx\u001b[0m\u001b[0;34m.\u001b[0m\u001b[0mensure_initialized\u001b[0m\u001b[0;34m(\u001b[0m\u001b[0;34m)\u001b[0m\u001b[0;34m\u001b[0m\u001b[0;34m\u001b[0m\u001b[0m\n\u001b[0;32m--> 102\u001b[0;31m   \u001b[0;32mreturn\u001b[0m \u001b[0mops\u001b[0m\u001b[0;34m.\u001b[0m\u001b[0mEagerTensor\u001b[0m\u001b[0;34m(\u001b[0m\u001b[0mvalue\u001b[0m\u001b[0;34m,\u001b[0m \u001b[0mctx\u001b[0m\u001b[0;34m.\u001b[0m\u001b[0mdevice_name\u001b[0m\u001b[0;34m,\u001b[0m \u001b[0mdtype\u001b[0m\u001b[0;34m)\u001b[0m\u001b[0;34m\u001b[0m\u001b[0;34m\u001b[0m\u001b[0m\n\u001b[0m\u001b[1;32m    103\u001b[0m \u001b[0;34m\u001b[0m\u001b[0m\n\u001b[1;32m    104\u001b[0m \u001b[0;34m\u001b[0m\u001b[0m\n",
            "\u001b[0;31mKeyboardInterrupt\u001b[0m: "
          ]
        }
      ]
    },
    {
      "cell_type": "code",
      "source": [
        "# Learning curve for the model\n",
        "\n",
        "summarize_model(history_base_1_10)"
      ],
      "metadata": {
        "colab": {
          "base_uri": "https://localhost:8080/",
          "height": 390
        },
        "outputId": "3eb9e28b-dd82-4ed6-cd3b-e3e3f7e9bd21",
        "id": "2dEp5UhDQqCs"
      },
      "execution_count": null,
      "outputs": [
        {
          "output_type": "display_data",
          "data": {
            "text/plain": [
              "<Figure size 576x432 with 2 Axes>"
            ],
            "image/png": "[encoded data removed]"
          },
          "metadata": {
            "needs_background": "light"
          }
        }
      ]
    },
    {
      "cell_type": "code",
      "source": [
        "# Evaluating the trained LSTM model on the test data\n",
        "testLoss, testAccuracy= model1.evaluate(X_test_base, y_test_base)"
      ],
      "metadata": {
        "colab": {
          "base_uri": "https://localhost:8080/"
        },
        "outputId": "22d15766-d362-4707-dfe5-d57ab5330e35",
        "id": "_i7x5l2TQqCs"
      },
      "execution_count": null,
      "outputs": [
        {
          "output_type": "stream",
          "name": "stdout",
          "text": [
            "2842/2842 [==============================] - 39s 14ms/step - loss: 1.1383 - accuracy: 0.6176\n"
          ]
        }
      ]
    },
    {
      "cell_type": "markdown",
      "source": [
        "The test average accuracy is 33%"
      ],
      "metadata": {
        "id": "TZaf1wyxQqCt"
      }
    },
    {
      "cell_type": "code",
      "source": [
        "# Using the LSTM model to make predictions\n",
        "y_pred_base = model1.predict(X_test_base)"
      ],
      "metadata": {
        "id": "PxjjrYIIQqCt"
      },
      "execution_count": null,
      "outputs": []
    },
    {
      "cell_type": "code",
      "source": [
        "import numpy as np \n",
        "# Converting the predicted classes and actual classes vectors to get the predicted and actual classes\n",
        "y_pred_classes = np.argmax(y_pred, axis = 1) \n",
        "y_true_classes = np.argmax(y_test, axis = 1)"
      ],
      "metadata": {
        "id": "jQjIemopQqCt"
      },
      "execution_count": null,
      "outputs": []
    },
    {
      "cell_type": "markdown",
      "source": [
        "**Output precision, recall, F1-score for each class**"
      ],
      "metadata": {
        "id": "eeWXuIviQqCt"
      }
    },
    {
      "cell_type": "code",
      "source": [
        "# Classification Report\n",
        "from sklearn.metrics import classification_report \n",
        "\n",
        "report_LSTM_dict = classification_report(y_true_classes, y_pred_classes, output_dict = True)\n",
        "report = classification_report(y_true_classes, y_pred_classes)\n",
        "print(report)"
      ],
      "metadata": {
        "colab": {
          "base_uri": "https://localhost:8080/"
        },
        "outputId": "3e834fab-6f11-4cf7-b2e5-f0a5fbe4fe49",
        "id": "eeYEeYwGQqCt"
      },
      "execution_count": null,
      "outputs": [
        {
          "output_type": "stream",
          "name": "stdout",
          "text": [
            "              precision    recall  f1-score   support\n",
            "\n",
            "           0       0.61      0.53      0.56      9067\n",
            "           1       0.55      0.54      0.54     14586\n",
            "           2       0.64      0.76      0.69     25227\n",
            "           3       0.59      0.40      0.48      7527\n",
            "           4       0.54      0.26      0.35      1328\n",
            "           5       0.56      0.51      0.53      4482\n",
            "           6       0.65      0.71      0.68      8315\n",
            "           7       0.69      0.73      0.71      9812\n",
            "           8       0.61      0.53      0.57     10593\n",
            "\n",
            "    accuracy                           0.62     90937\n",
            "   macro avg       0.60      0.55      0.57     90937\n",
            "weighted avg       0.61      0.62      0.61     90937\n",
            "\n"
          ]
        }
      ]
    },
    {
      "cell_type": "code",
      "source": [
        "# Storing the class-wise values of performance metrics which will be needed to draw the bar plot\n",
        "\n",
        "precision = get_performance_from_classification_report(report_LSTM_dict, 'precision')\n",
        "recall =  get_performance_from_classification_report(report_LSTM_dict, 'recall')\n",
        "f1_score = get_performance_from_classification_report(report_LSTM_dict, 'f1-score')"
      ],
      "metadata": {
        "id": "WYXZzNLjQqCt"
      },
      "execution_count": null,
      "outputs": []
    },
    {
      "cell_type": "code",
      "source": [
        "classes = artemis_preprocessed['emotion'].unique()"
      ],
      "metadata": {
        "id": "LpkChkGMQqCu"
      },
      "execution_count": null,
      "outputs": []
    },
    {
      "cell_type": "code",
      "source": [
        "# Displaying classification report as a bar plot\n",
        "draw_performance_plot(precision, recall, f1_score, 'LSTM')"
      ],
      "metadata": {
        "colab": {
          "base_uri": "https://localhost:8080/",
          "height": 523
        },
        "outputId": "ed1916a1-d047-4b6b-b620-51bb12d4abb8",
        "id": "z0tzGilhQqCu"
      },
      "execution_count": null,
      "outputs": [
        {
          "output_type": "display_data",
          "data": {
            "text/plain": [
              "<Figure size 864x576 with 1 Axes>"
            ],
            "image/png": "[encoded data removed]"
          },
          "metadata": {
            "needs_background": "light"
          }
        }
      ]
    }
  ]
}