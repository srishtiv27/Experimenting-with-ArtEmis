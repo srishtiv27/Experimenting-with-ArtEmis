{
  "nbformat": 4,
  "nbformat_minor": 0,
  "metadata": {
    "colab": {
      "name": "ImageCaptioningModelWithDuplicates.ipynb",
      "provenance": [],
      "collapsed_sections": []
    },
    "kernelspec": {
      "name": "python3",
      "display_name": "Python 3"
    },
    "language_info": {
      "name": "python"
    },
    "accelerator": "GPU"
  },
  "cells": [
    {
      "cell_type": "code",
      "execution_count": null,
      "metadata": {
        "colab": {
          "base_uri": "https://localhost:8080/"
        },
        "id": "hD3K-4nAwaXW",
        "outputId": "dbd9d961-39e6-4976-9ed9-074fdd340c7a"
      },
      "outputs": [
        {
          "output_type": "stream",
          "name": "stdout",
          "text": [
            "Mounted at /content/drive\n"
          ]
        }
      ],
      "source": [
        "from google.colab import drive\n",
        "drive.mount('/content/drive')"
      ]
    },
    {
      "cell_type": "code",
      "source": [
        "import pandas as pd\n",
        "import numpy as np"
      ],
      "metadata": {
        "id": "WFJ9q4Ye0tJq"
      },
      "execution_count": null,
      "outputs": []
    },
    {
      "cell_type": "code",
      "source": [
        "from numpy import array\n",
        "from pickle import load\n",
        "from keras.preprocessing.text import Tokenizer\n",
        "from keras.preprocessing.sequence import pad_sequences\n",
        "from tensorflow.keras.utils import to_categorical\n",
        "from keras.utils.vis_utils import plot_model\n",
        "from keras.models import Model\n",
        "from keras.layers import Input\n",
        "from keras.layers import Dense\n",
        "from keras.layers import LSTM\n",
        "from keras.layers import Embedding\n",
        "from keras.layers import Dropout\n",
        "from keras.layers.merge import add\n",
        "from keras.callbacks import ModelCheckpoint"
      ],
      "metadata": {
        "id": "m0JWMeIYxFhV"
      },
      "execution_count": null,
      "outputs": []
    },
    {
      "cell_type": "code",
      "source": [
        "artemis_preprocessed = pd.read_csv('/content/drive/MyDrive/College/Sem 6/CV/Project/datasets/artemis_preprocessed.csv')"
      ],
      "metadata": {
        "id": "COTNVW9U0usv"
      },
      "execution_count": null,
      "outputs": []
    },
    {
      "cell_type": "code",
      "source": [
        "artemis_preprocessed"
      ],
      "metadata": {
        "colab": {
          "base_uri": "https://localhost:8080/",
          "height": 1000
        },
        "id": "Qfki7Ja_1C0C",
        "outputId": "e3ebf51a-4f5d-4c1f-ed0e-75b5cdeb501b"
      },
      "execution_count": null,
      "outputs": [
        {
          "output_type": "execute_result",
          "data": {
            "text/plain": [
              "                 art_style                                           painting  \\\n",
              "0       Post_Impressionism  vincent-van-gogh_portrait-of-madame-ginoux-l-a...   \n",
              "1       Post_Impressionism  vincent-van-gogh_portrait-of-madame-ginoux-l-a...   \n",
              "2       Post_Impressionism  vincent-van-gogh_portrait-of-madame-ginoux-l-a...   \n",
              "3       Post_Impressionism  vincent-van-gogh_portrait-of-madame-ginoux-l-a...   \n",
              "4       Post_Impressionism  vincent-van-gogh_portrait-of-madame-ginoux-l-a...   \n",
              "...                    ...                                                ...   \n",
              "454679              Cubism                           gino-severini_a-dancer-1   \n",
              "454680         Romanticism                  ivan-aivazovsky_sea-at-night-1861   \n",
              "454681         Romanticism                  ivan-aivazovsky_sea-at-night-1861   \n",
              "454682         Romanticism                  ivan-aivazovsky_sea-at-night-1861   \n",
              "454683              Cubism                      joan-miro_not_detected_227963   \n",
              "\n",
              "               emotion                                          utterance  \\\n",
              "0       something else  She seems very happy in the picture, and you w...   \n",
              "1              sadness  This woman has really knotty hands which makes...   \n",
              "2       something else  When looking at this woman, I am filled with c...   \n",
              "3          contentment  A woman looking at ease, peaceful, and satisfi...   \n",
              "4                  awe  She looks like a lady from that past that migh...   \n",
              "...                ...                                                ...   \n",
              "454679             awe  the collection and collage of different colors...   \n",
              "454680             awe  The peaceful reflections of the moonlight on t...   \n",
              "454681      excitement  I can imagine the sailors resting this peacefu...   \n",
              "454682     contentment  The steep mountains and the moonlight provide ...   \n",
              "454683            fear  If you look at the colors individually they ar...   \n",
              "\n",
              "        repetition  split                                             tokens  \\\n",
              "0               10  train  ['she', 'seems', 'very', 'happy', 'in', 'the',...   \n",
              "1               10  train  ['this', 'woman', 'has', 'really', 'knotty', '...   \n",
              "2               10  train  ['when', 'looking', 'at', 'this', 'woman', 'i'...   \n",
              "3               10  train  ['a', 'woman', 'looking', 'at', 'ease', 'peace...   \n",
              "4               10  train  ['she', 'looks', 'like', 'a', 'lady', 'from', ...   \n",
              "...            ...    ...                                                ...   \n",
              "454679          48  train  ['the', 'collection', 'and', 'collage', 'of', ...   \n",
              "454680           8  train  ['the', 'peaceful', 'reflections', 'of', 'the'...   \n",
              "454681           8  train  ['i', 'can', 'imagine', 'the', 'sailors', 'res...   \n",
              "454682           8  train  ['the', 'steep', 'mountains', 'and', 'the', 'm...   \n",
              "454683          10    val  ['if', 'you', 'look', 'at', 'the', 'colors', '...   \n",
              "\n",
              "        tokens_len                                  utterance_spelled  \\\n",
              "0               18  she seems very happy in the picture and you wa...   \n",
              "1               14  this woman has really knotty hands which makes...   \n",
              "2               27  when looking at this woman i am filled with cu...   \n",
              "3               15  a woman looking at ease peaceful and satisfied...   \n",
              "4               33  she looks like a lady from that past that migh...   \n",
              "...            ...                                                ...   \n",
              "454679          12  the collection and collage of different colors...   \n",
              "454680          14  the peaceful reflections of the moonlight on t...   \n",
              "454681          13  i can imagine the sailors resting this peacefu...   \n",
              "454682          15  the steep mountains and the moonlight provide ...   \n",
              "454683          38  if you look at the colors individually they ar...   \n",
              "\n",
              "                                           tokens_encoded  emotion_label  \n",
              "0       [1, 4, 5, 6, 7, 8, 9, 10, 11, 12, 13, 14, 15, ...              8  \n",
              "1       [1, 20, 21, 22, 23, 24, 25, 26, 27, 28, 29, 30...              7  \n",
              "2       [1, 32, 33, 34, 20, 21, 35, 36, 37, 38, 39, 40...              8  \n",
              "3       [1, 45, 21, 33, 34, 48, 49, 11, 50, 51, 28, 52...              2  \n",
              "4       [1, 4, 56, 30, 45, 57, 58, 59, 60, 59, 61, 62,...              1  \n",
              "...                                                   ...            ...  \n",
              "454679  [1, 9, 4867, 11, 4370, 89, 272, 78, 11, 83, 10...              1  \n",
              "454680  [1, 9, 49, 4037, 89, 9, 456, 43, 9, 269, 126, ...              1  \n",
              "454681  [1, 35, 149, 760, 9, 6361, 1942, 20, 49, 222, ...              3  \n",
              "454682  [1, 9, 2751, 894, 11, 9, 456, 292, 474, 14, 9,...              2  \n",
              "454683  [1, 264, 12, 29, 34, 9, 78, 9240, 239, 116, 20...              6  \n",
              "\n",
              "[454684 rows x 11 columns]"
            ],
            "text/html": [
              "\n",
              "  <div id=\"df-1d743820-600e-4fbd-b706-68a3bc45cbc8\">\n",
              "    <div class=\"colab-df-container\">\n",
              "      <div>\n",
              "<style scoped>\n",
              "    .dataframe tbody tr th:only-of-type {\n",
              "        vertical-align: middle;\n",
              "    }\n",
              "\n",
              "    .dataframe tbody tr th {\n",
              "        vertical-align: top;\n",
              "    }\n",
              "\n",
              "    .dataframe thead th {\n",
              "        text-align: right;\n",
              "    }\n",
              "</style>\n",
              "<table border=\"1\" class=\"dataframe\">\n",
              "  <thead>\n",
              "    <tr style=\"text-align: right;\">\n",
              "      <th></th>\n",
              "      <th>art_style</th>\n",
              "      <th>painting</th>\n",
              "      <th>emotion</th>\n",
              "      <th>utterance</th>\n",
              "      <th>repetition</th>\n",
              "      <th>split</th>\n",
              "      <th>tokens</th>\n",
              "      <th>tokens_len</th>\n",
              "      <th>utterance_spelled</th>\n",
              "      <th>tokens_encoded</th>\n",
              "      <th>emotion_label</th>\n",
              "    </tr>\n",
              "  </thead>\n",
              "  <tbody>\n",
              "    <tr>\n",
              "      <th>0</th>\n",
              "      <td>Post_Impressionism</td>\n",
              "      <td>vincent-van-gogh_portrait-of-madame-ginoux-l-a...</td>\n",
              "      <td>something else</td>\n",
              "      <td>She seems very happy in the picture, and you w...</td>\n",
              "      <td>10</td>\n",
              "      <td>train</td>\n",
              "      <td>['she', 'seems', 'very', 'happy', 'in', 'the',...</td>\n",
              "      <td>18</td>\n",
              "      <td>she seems very happy in the picture and you wa...</td>\n",
              "      <td>[1, 4, 5, 6, 7, 8, 9, 10, 11, 12, 13, 14, 15, ...</td>\n",
              "      <td>8</td>\n",
              "    </tr>\n",
              "    <tr>\n",
              "      <th>1</th>\n",
              "      <td>Post_Impressionism</td>\n",
              "      <td>vincent-van-gogh_portrait-of-madame-ginoux-l-a...</td>\n",
              "      <td>sadness</td>\n",
              "      <td>This woman has really knotty hands which makes...</td>\n",
              "      <td>10</td>\n",
              "      <td>train</td>\n",
              "      <td>['this', 'woman', 'has', 'really', 'knotty', '...</td>\n",
              "      <td>14</td>\n",
              "      <td>this woman has really knotty hands which makes...</td>\n",
              "      <td>[1, 20, 21, 22, 23, 24, 25, 26, 27, 28, 29, 30...</td>\n",
              "      <td>7</td>\n",
              "    </tr>\n",
              "    <tr>\n",
              "      <th>2</th>\n",
              "      <td>Post_Impressionism</td>\n",
              "      <td>vincent-van-gogh_portrait-of-madame-ginoux-l-a...</td>\n",
              "      <td>something else</td>\n",
              "      <td>When looking at this woman, I am filled with c...</td>\n",
              "      <td>10</td>\n",
              "      <td>train</td>\n",
              "      <td>['when', 'looking', 'at', 'this', 'woman', 'i'...</td>\n",
              "      <td>27</td>\n",
              "      <td>when looking at this woman i am filled with cu...</td>\n",
              "      <td>[1, 32, 33, 34, 20, 21, 35, 36, 37, 38, 39, 40...</td>\n",
              "      <td>8</td>\n",
              "    </tr>\n",
              "    <tr>\n",
              "      <th>3</th>\n",
              "      <td>Post_Impressionism</td>\n",
              "      <td>vincent-van-gogh_portrait-of-madame-ginoux-l-a...</td>\n",
              "      <td>contentment</td>\n",
              "      <td>A woman looking at ease, peaceful, and satisfi...</td>\n",
              "      <td>10</td>\n",
              "      <td>train</td>\n",
              "      <td>['a', 'woman', 'looking', 'at', 'ease', 'peace...</td>\n",
              "      <td>15</td>\n",
              "      <td>a woman looking at ease peaceful and satisfied...</td>\n",
              "      <td>[1, 45, 21, 33, 34, 48, 49, 11, 50, 51, 28, 52...</td>\n",
              "      <td>2</td>\n",
              "    </tr>\n",
              "    <tr>\n",
              "      <th>4</th>\n",
              "      <td>Post_Impressionism</td>\n",
              "      <td>vincent-van-gogh_portrait-of-madame-ginoux-l-a...</td>\n",
              "      <td>awe</td>\n",
              "      <td>She looks like a lady from that past that migh...</td>\n",
              "      <td>10</td>\n",
              "      <td>train</td>\n",
              "      <td>['she', 'looks', 'like', 'a', 'lady', 'from', ...</td>\n",
              "      <td>33</td>\n",
              "      <td>she looks like a lady from that past that migh...</td>\n",
              "      <td>[1, 4, 56, 30, 45, 57, 58, 59, 60, 59, 61, 62,...</td>\n",
              "      <td>1</td>\n",
              "    </tr>\n",
              "    <tr>\n",
              "      <th>...</th>\n",
              "      <td>...</td>\n",
              "      <td>...</td>\n",
              "      <td>...</td>\n",
              "      <td>...</td>\n",
              "      <td>...</td>\n",
              "      <td>...</td>\n",
              "      <td>...</td>\n",
              "      <td>...</td>\n",
              "      <td>...</td>\n",
              "      <td>...</td>\n",
              "      <td>...</td>\n",
              "    </tr>\n",
              "    <tr>\n",
              "      <th>454679</th>\n",
              "      <td>Cubism</td>\n",
              "      <td>gino-severini_a-dancer-1</td>\n",
              "      <td>awe</td>\n",
              "      <td>the collection and collage of different colors...</td>\n",
              "      <td>48</td>\n",
              "      <td>train</td>\n",
              "      <td>['the', 'collection', 'and', 'collage', 'of', ...</td>\n",
              "      <td>12</td>\n",
              "      <td>the collection and collage of different colors...</td>\n",
              "      <td>[1, 9, 4867, 11, 4370, 89, 272, 78, 11, 83, 10...</td>\n",
              "      <td>1</td>\n",
              "    </tr>\n",
              "    <tr>\n",
              "      <th>454680</th>\n",
              "      <td>Romanticism</td>\n",
              "      <td>ivan-aivazovsky_sea-at-night-1861</td>\n",
              "      <td>awe</td>\n",
              "      <td>The peaceful reflections of the moonlight on t...</td>\n",
              "      <td>8</td>\n",
              "      <td>train</td>\n",
              "      <td>['the', 'peaceful', 'reflections', 'of', 'the'...</td>\n",
              "      <td>14</td>\n",
              "      <td>the peaceful reflections of the moonlight on t...</td>\n",
              "      <td>[1, 9, 49, 4037, 89, 9, 456, 43, 9, 269, 126, ...</td>\n",
              "      <td>1</td>\n",
              "    </tr>\n",
              "    <tr>\n",
              "      <th>454681</th>\n",
              "      <td>Romanticism</td>\n",
              "      <td>ivan-aivazovsky_sea-at-night-1861</td>\n",
              "      <td>excitement</td>\n",
              "      <td>I can imagine the sailors resting this peacefu...</td>\n",
              "      <td>8</td>\n",
              "      <td>train</td>\n",
              "      <td>['i', 'can', 'imagine', 'the', 'sailors', 'res...</td>\n",
              "      <td>13</td>\n",
              "      <td>i can imagine the sailors resting this peacefu...</td>\n",
              "      <td>[1, 35, 149, 760, 9, 6361, 1942, 20, 49, 222, ...</td>\n",
              "      <td>3</td>\n",
              "    </tr>\n",
              "    <tr>\n",
              "      <th>454682</th>\n",
              "      <td>Romanticism</td>\n",
              "      <td>ivan-aivazovsky_sea-at-night-1861</td>\n",
              "      <td>contentment</td>\n",
              "      <td>The steep mountains and the moonlight provide ...</td>\n",
              "      <td>8</td>\n",
              "      <td>train</td>\n",
              "      <td>['the', 'steep', 'mountains', 'and', 'the', 'm...</td>\n",
              "      <td>15</td>\n",
              "      <td>the steep mountains and the moonlight provide ...</td>\n",
              "      <td>[1, 9, 2751, 894, 11, 9, 456, 292, 474, 14, 9,...</td>\n",
              "      <td>2</td>\n",
              "    </tr>\n",
              "    <tr>\n",
              "      <th>454683</th>\n",
              "      <td>Cubism</td>\n",
              "      <td>joan-miro_not_detected_227963</td>\n",
              "      <td>fear</td>\n",
              "      <td>If you look at the colors individually they ar...</td>\n",
              "      <td>10</td>\n",
              "      <td>val</td>\n",
              "      <td>['if', 'you', 'look', 'at', 'the', 'colors', '...</td>\n",
              "      <td>38</td>\n",
              "      <td>if you look at the colors individually they ar...</td>\n",
              "      <td>[1, 264, 12, 29, 34, 9, 78, 9240, 239, 116, 20...</td>\n",
              "      <td>6</td>\n",
              "    </tr>\n",
              "  </tbody>\n",
              "</table>\n",
              "<p>454684 rows × 11 columns</p>\n",
              "</div>\n",
              "      <button class=\"colab-df-convert\" onclick=\"convertToInteractive('df-1d743820-600e-4fbd-b706-68a3bc45cbc8')\"\n",
              "              title=\"Convert this dataframe to an interactive table.\"\n",
              "              style=\"display:none;\">\n",
              "        \n",
              "  <svg xmlns=\"http://www.w3.org/2000/svg\" height=\"24px\"viewBox=\"0 0 24 24\"\n",
              "       width=\"24px\">\n",
              "    <path d=\"M0 0h24v24H0V0z\" fill=\"none\"/>\n",
              "    <path d=\"M18.56 5.44l.94 2.06.94-2.06 2.06-.94-2.06-.94-.94-2.06-.94 2.06-2.06.94zm-11 1L8.5 8.5l.94-2.06 2.06-.94-2.06-.94L8.5 2.5l-.94 2.06-2.06.94zm10 10l.94 2.06.94-2.06 2.06-.94-2.06-.94-.94-2.06-.94 2.06-2.06.94z\"/><path d=\"M17.41 7.96l-1.37-1.37c-.4-.4-.92-.59-1.43-.59-.52 0-1.04.2-1.43.59L10.3 9.45l-7.72 7.72c-.78.78-.78 2.05 0 2.83L4 21.41c.39.39.9.59 1.41.59.51 0 1.02-.2 1.41-.59l7.78-7.78 2.81-2.81c.8-.78.8-2.07 0-2.86zM5.41 20L4 18.59l7.72-7.72 1.47 1.35L5.41 20z\"/>\n",
              "  </svg>\n",
              "      </button>\n",
              "      \n",
              "  <style>\n",
              "    .colab-df-container {\n",
              "      display:flex;\n",
              "      flex-wrap:wrap;\n",
              "      gap: 12px;\n",
              "    }\n",
              "\n",
              "    .colab-df-convert {\n",
              "      background-color: #E8F0FE;\n",
              "      border: none;\n",
              "      border-radius: 50%;\n",
              "      cursor: pointer;\n",
              "      display: none;\n",
              "      fill: #1967D2;\n",
              "      height: 32px;\n",
              "      padding: 0 0 0 0;\n",
              "      width: 32px;\n",
              "    }\n",
              "\n",
              "    .colab-df-convert:hover {\n",
              "      background-color: #E2EBFA;\n",
              "      box-shadow: 0px 1px 2px rgba(60, 64, 67, 0.3), 0px 1px 3px 1px rgba(60, 64, 67, 0.15);\n",
              "      fill: #174EA6;\n",
              "    }\n",
              "\n",
              "    [theme=dark] .colab-df-convert {\n",
              "      background-color: #3B4455;\n",
              "      fill: #D2E3FC;\n",
              "    }\n",
              "\n",
              "    [theme=dark] .colab-df-convert:hover {\n",
              "      background-color: #434B5C;\n",
              "      box-shadow: 0px 1px 3px 1px rgba(0, 0, 0, 0.15);\n",
              "      filter: drop-shadow(0px 1px 2px rgba(0, 0, 0, 0.3));\n",
              "      fill: #FFFFFF;\n",
              "    }\n",
              "  </style>\n",
              "\n",
              "      <script>\n",
              "        const buttonEl =\n",
              "          document.querySelector('#df-1d743820-600e-4fbd-b706-68a3bc45cbc8 button.colab-df-convert');\n",
              "        buttonEl.style.display =\n",
              "          google.colab.kernel.accessAllowed ? 'block' : 'none';\n",
              "\n",
              "        async function convertToInteractive(key) {\n",
              "          const element = document.querySelector('#df-1d743820-600e-4fbd-b706-68a3bc45cbc8');\n",
              "          const dataTable =\n",
              "            await google.colab.kernel.invokeFunction('convertToInteractive',\n",
              "                                                     [key], {});\n",
              "          if (!dataTable) return;\n",
              "\n",
              "          const docLinkHtml = 'Like what you see? Visit the ' +\n",
              "            '<a target=\"_blank\" href=https://colab.research.google.com/notebooks/data_table.ipynb>data table notebook</a>'\n",
              "            + ' to learn more about interactive tables.';\n",
              "          element.innerHTML = '';\n",
              "          dataTable['output_type'] = 'display_data';\n",
              "          await google.colab.output.renderOutput(dataTable, element);\n",
              "          const docLink = document.createElement('div');\n",
              "          docLink.innerHTML = docLinkHtml;\n",
              "          element.appendChild(docLink);\n",
              "        }\n",
              "      </script>\n",
              "    </div>\n",
              "  </div>\n",
              "  "
            ]
          },
          "metadata": {},
          "execution_count": 7
        }
      ]
    },
    {
      "cell_type": "code",
      "source": [
        "painting_features_1000_subset = pd.read_csv('/content/drive/MyDrive/College/Sem 6/CV/Project/datasets/features_1000_subset.csv')"
      ],
      "metadata": {
        "id": "ZHsL5TioytiD"
      },
      "execution_count": null,
      "outputs": []
    },
    {
      "cell_type": "code",
      "source": [
        "painting_features_1000_subset['utterance'] = artemis_preprocessed_no_duplicate['utterance'][:1000]"
      ],
      "metadata": {
        "id": "beMKS0toy9DH"
      },
      "execution_count": null,
      "outputs": []
    },
    {
      "cell_type": "code",
      "source": [
        "painting_features_1000_subset['utterance_spelled'] = artemis_preprocessed_no_duplicate['utterance_spelled'][:1000]"
      ],
      "metadata": {
        "id": "2P80KMAM6bXU"
      },
      "execution_count": null,
      "outputs": []
    },
    {
      "cell_type": "code",
      "source": [
        "painting_features_1000_subset['tokens_len'] = artemis_preprocessed_no_duplicate['tokens_len'][:1000]"
      ],
      "metadata": {
        "id": "idhiVfpoMUy_"
      },
      "execution_count": null,
      "outputs": []
    },
    {
      "cell_type": "code",
      "source": [
        "painting_features_1000_subset"
      ],
      "metadata": {
        "colab": {
          "base_uri": "https://localhost:8080/",
          "height": 1000
        },
        "id": "tIXWgj-V4l34",
        "outputId": "eeb6ccc0-f4a6-4ef5-dde5-30c32f637c71"
      },
      "execution_count": null,
      "outputs": [
        {
          "output_type": "execute_result",
          "data": {
            "text/plain": [
              "                art_style                                           painting  \\\n",
              "0      Post_Impressionism  vincent-van-gogh_portrait-of-madame-ginoux-l-a...   \n",
              "1           Expressionism            wassily-kandinsky_study-for-autumn-1909   \n",
              "2           Impressionism        konstantin-korovin_yaroslavna-s-lament-1909   \n",
              "3           Impressionism  paul-gauguin_mette-gauguin-in-an-evening-dress...   \n",
              "4           Impressionism     pericles-pantazis_still-life-with-quinces-1880   \n",
              "..                    ...                                                ...   \n",
              "995               Realism                  vasily-vereshchagin_two-jews-1884   \n",
              "996               Realism  james-tissot_men-of-the-day-no-4-the-mob-rule-...   \n",
              "997         Impressionism              konstantin-korovin_on-the-square-1912   \n",
              "998    Post_Impressionism  vincent-van-gogh_zouave-sitting-whole-figure-1888   \n",
              "999  Northern_Renaissance  albrecht-durer_the-holy-family-with-st-john-th...   \n",
              "\n",
              "            emotion image_features  feature_0  feature_1  feature_2  \\\n",
              "0    something else       img0.pkl   0.278422   0.527606   0.021193   \n",
              "1               awe       img1.pkl   0.106432   0.703795   0.000000   \n",
              "2               awe       img2.pkl   0.151917   2.557872   0.826035   \n",
              "3               awe       img3.pkl   0.063078   1.351175   0.037122   \n",
              "4       contentment       img4.pkl   2.203687   0.367822   0.976512   \n",
              "..              ...            ...        ...        ...        ...   \n",
              "995      excitement     img995.pkl   0.017043   2.136100   0.044468   \n",
              "996       amusement     img996.pkl   1.255179   0.000000   1.611124   \n",
              "997       amusement     img997.pkl   0.000000   4.839285   0.158369   \n",
              "998       amusement     img998.pkl   0.082224   1.892309   0.065868   \n",
              "999     contentment     img999.pkl   0.016874   0.687560   0.569180   \n",
              "\n",
              "     feature_3  feature_4  feature_5  ...  feature_2043  feature_2044  \\\n",
              "0     1.104790   0.033097   0.149384  ...      0.006962      0.031829   \n",
              "1     0.007888   0.015668   0.182670  ...      0.197032      0.151990   \n",
              "2     0.093906   0.009230   0.494370  ...      0.902976      0.122635   \n",
              "3     0.448079   0.033715   0.117056  ...      0.122929      0.000000   \n",
              "4     0.472500   0.302199   0.152941  ...      0.154419      0.874045   \n",
              "..         ...        ...        ...  ...           ...           ...   \n",
              "995   0.118175   0.509737   0.597605  ...      0.985465      2.046885   \n",
              "996   0.055478   1.011541   0.078781  ...      0.479490      0.423200   \n",
              "997   0.084149   0.087437   0.362394  ...      0.549750      0.062910   \n",
              "998   0.180113   0.583887   0.154840  ...      0.880139      0.318111   \n",
              "999   0.144738   0.141986   0.686750  ...      2.412200      0.250112   \n",
              "\n",
              "     feature_2045  feature_2046  feature_2047  label  \\\n",
              "0        0.876327      1.170455      0.284816      8   \n",
              "1        0.000000      0.468789      0.256748      2   \n",
              "2        0.026057      0.000000      0.046566      2   \n",
              "3        0.145163      1.442093      0.533309      2   \n",
              "4        0.415222      3.152984      0.093512      3   \n",
              "..            ...           ...           ...    ...   \n",
              "995      0.104100      1.999464      0.612785      5   \n",
              "996      0.713766      0.091844      2.059210      0   \n",
              "997      0.000000      1.550344      0.015552      0   \n",
              "998      2.336420      0.000000      0.000000      0   \n",
              "999      0.063959      1.309669      0.811216      3   \n",
              "\n",
              "                                             utterance  \\\n",
              "0    She seems very happy in the picture, and you w...   \n",
              "1    The bright colors make a very unique scene for...   \n",
              "2    the stroke of blue paint used to outline the h...   \n",
              "3    The golden gloves and white dress stand out an...   \n",
              "4       The pears are just about ripe to eat and enjoy   \n",
              "..                                                 ...   \n",
              "995  The men seem engaged in quite a lively discuss...   \n",
              "996  The cross-sided eyes make me laugh and this pe...   \n",
              "997  It looks to me like three very happy figures t...   \n",
              "998  The figure is quite odd and I find their appea...   \n",
              "999  The family seems quite lovely in the way they ...   \n",
              "\n",
              "                                     utterance_spelled  \\\n",
              "0    she seems very happy in the picture and you wa...   \n",
              "1    the bright colors make a very unique scene for...   \n",
              "2    the stroke of blue paint used to outline the h...   \n",
              "3    the golden gloves and white dress stand out an...   \n",
              "4       the pears are just about ripe to eat and enjoy   \n",
              "..                                                 ...   \n",
              "995  the men seem engaged in quite a lively discuss...   \n",
              "996  the cross sided eyes make me laugh and this pe...   \n",
              "997  it looks to me like three very happy figures t...   \n",
              "998  the figure is quite odd and i find their appea...   \n",
              "999  the family seems quite lovely in the way they ...   \n",
              "\n",
              "                               utterance_spelled_model  tokens_len  \n",
              "0    startseq she seems very happy in the picture a...          18  \n",
              "1    startseq the bright colors make a very unique ...          12  \n",
              "2    startseq the stroke of blue paint used to outl...          13  \n",
              "3    startseq the golden gloves and white dress sta...          17  \n",
              "4    startseq the pears are just about ripe to eat ...          10  \n",
              "..                                                 ...         ...  \n",
              "995  startseq the men seem engaged in quite a livel...          15  \n",
              "996  startseq the cross sided eyes make me laugh an...          26  \n",
              "997  startseq it looks to me like three very happy ...          17  \n",
              "998  startseq the figure is quite odd and i find th...          12  \n",
              "999  startseq the family seems quite lovely in the ...          19  \n",
              "\n",
              "[1000 rows x 2057 columns]"
            ],
            "text/html": [
              "\n",
              "  <div id=\"df-39d97faf-2475-4f04-b5ae-eb3b2850f35b\">\n",
              "    <div class=\"colab-df-container\">\n",
              "      <div>\n",
              "<style scoped>\n",
              "    .dataframe tbody tr th:only-of-type {\n",
              "        vertical-align: middle;\n",
              "    }\n",
              "\n",
              "    .dataframe tbody tr th {\n",
              "        vertical-align: top;\n",
              "    }\n",
              "\n",
              "    .dataframe thead th {\n",
              "        text-align: right;\n",
              "    }\n",
              "</style>\n",
              "<table border=\"1\" class=\"dataframe\">\n",
              "  <thead>\n",
              "    <tr style=\"text-align: right;\">\n",
              "      <th></th>\n",
              "      <th>art_style</th>\n",
              "      <th>painting</th>\n",
              "      <th>emotion</th>\n",
              "      <th>image_features</th>\n",
              "      <th>feature_0</th>\n",
              "      <th>feature_1</th>\n",
              "      <th>feature_2</th>\n",
              "      <th>feature_3</th>\n",
              "      <th>feature_4</th>\n",
              "      <th>feature_5</th>\n",
              "      <th>...</th>\n",
              "      <th>feature_2043</th>\n",
              "      <th>feature_2044</th>\n",
              "      <th>feature_2045</th>\n",
              "      <th>feature_2046</th>\n",
              "      <th>feature_2047</th>\n",
              "      <th>label</th>\n",
              "      <th>utterance</th>\n",
              "      <th>utterance_spelled</th>\n",
              "      <th>utterance_spelled_model</th>\n",
              "      <th>tokens_len</th>\n",
              "    </tr>\n",
              "  </thead>\n",
              "  <tbody>\n",
              "    <tr>\n",
              "      <th>0</th>\n",
              "      <td>Post_Impressionism</td>\n",
              "      <td>vincent-van-gogh_portrait-of-madame-ginoux-l-a...</td>\n",
              "      <td>something else</td>\n",
              "      <td>img0.pkl</td>\n",
              "      <td>0.278422</td>\n",
              "      <td>0.527606</td>\n",
              "      <td>0.021193</td>\n",
              "      <td>1.104790</td>\n",
              "      <td>0.033097</td>\n",
              "      <td>0.149384</td>\n",
              "      <td>...</td>\n",
              "      <td>0.006962</td>\n",
              "      <td>0.031829</td>\n",
              "      <td>0.876327</td>\n",
              "      <td>1.170455</td>\n",
              "      <td>0.284816</td>\n",
              "      <td>8</td>\n",
              "      <td>She seems very happy in the picture, and you w...</td>\n",
              "      <td>she seems very happy in the picture and you wa...</td>\n",
              "      <td>startseq she seems very happy in the picture a...</td>\n",
              "      <td>18</td>\n",
              "    </tr>\n",
              "    <tr>\n",
              "      <th>1</th>\n",
              "      <td>Expressionism</td>\n",
              "      <td>wassily-kandinsky_study-for-autumn-1909</td>\n",
              "      <td>awe</td>\n",
              "      <td>img1.pkl</td>\n",
              "      <td>0.106432</td>\n",
              "      <td>0.703795</td>\n",
              "      <td>0.000000</td>\n",
              "      <td>0.007888</td>\n",
              "      <td>0.015668</td>\n",
              "      <td>0.182670</td>\n",
              "      <td>...</td>\n",
              "      <td>0.197032</td>\n",
              "      <td>0.151990</td>\n",
              "      <td>0.000000</td>\n",
              "      <td>0.468789</td>\n",
              "      <td>0.256748</td>\n",
              "      <td>2</td>\n",
              "      <td>The bright colors make a very unique scene for...</td>\n",
              "      <td>the bright colors make a very unique scene for...</td>\n",
              "      <td>startseq the bright colors make a very unique ...</td>\n",
              "      <td>12</td>\n",
              "    </tr>\n",
              "    <tr>\n",
              "      <th>2</th>\n",
              "      <td>Impressionism</td>\n",
              "      <td>konstantin-korovin_yaroslavna-s-lament-1909</td>\n",
              "      <td>awe</td>\n",
              "      <td>img2.pkl</td>\n",
              "      <td>0.151917</td>\n",
              "      <td>2.557872</td>\n",
              "      <td>0.826035</td>\n",
              "      <td>0.093906</td>\n",
              "      <td>0.009230</td>\n",
              "      <td>0.494370</td>\n",
              "      <td>...</td>\n",
              "      <td>0.902976</td>\n",
              "      <td>0.122635</td>\n",
              "      <td>0.026057</td>\n",
              "      <td>0.000000</td>\n",
              "      <td>0.046566</td>\n",
              "      <td>2</td>\n",
              "      <td>the stroke of blue paint used to outline the h...</td>\n",
              "      <td>the stroke of blue paint used to outline the h...</td>\n",
              "      <td>startseq the stroke of blue paint used to outl...</td>\n",
              "      <td>13</td>\n",
              "    </tr>\n",
              "    <tr>\n",
              "      <th>3</th>\n",
              "      <td>Impressionism</td>\n",
              "      <td>paul-gauguin_mette-gauguin-in-an-evening-dress...</td>\n",
              "      <td>awe</td>\n",
              "      <td>img3.pkl</td>\n",
              "      <td>0.063078</td>\n",
              "      <td>1.351175</td>\n",
              "      <td>0.037122</td>\n",
              "      <td>0.448079</td>\n",
              "      <td>0.033715</td>\n",
              "      <td>0.117056</td>\n",
              "      <td>...</td>\n",
              "      <td>0.122929</td>\n",
              "      <td>0.000000</td>\n",
              "      <td>0.145163</td>\n",
              "      <td>1.442093</td>\n",
              "      <td>0.533309</td>\n",
              "      <td>2</td>\n",
              "      <td>The golden gloves and white dress stand out an...</td>\n",
              "      <td>the golden gloves and white dress stand out an...</td>\n",
              "      <td>startseq the golden gloves and white dress sta...</td>\n",
              "      <td>17</td>\n",
              "    </tr>\n",
              "    <tr>\n",
              "      <th>4</th>\n",
              "      <td>Impressionism</td>\n",
              "      <td>pericles-pantazis_still-life-with-quinces-1880</td>\n",
              "      <td>contentment</td>\n",
              "      <td>img4.pkl</td>\n",
              "      <td>2.203687</td>\n",
              "      <td>0.367822</td>\n",
              "      <td>0.976512</td>\n",
              "      <td>0.472500</td>\n",
              "      <td>0.302199</td>\n",
              "      <td>0.152941</td>\n",
              "      <td>...</td>\n",
              "      <td>0.154419</td>\n",
              "      <td>0.874045</td>\n",
              "      <td>0.415222</td>\n",
              "      <td>3.152984</td>\n",
              "      <td>0.093512</td>\n",
              "      <td>3</td>\n",
              "      <td>The pears are just about ripe to eat and enjoy</td>\n",
              "      <td>the pears are just about ripe to eat and enjoy</td>\n",
              "      <td>startseq the pears are just about ripe to eat ...</td>\n",
              "      <td>10</td>\n",
              "    </tr>\n",
              "    <tr>\n",
              "      <th>...</th>\n",
              "      <td>...</td>\n",
              "      <td>...</td>\n",
              "      <td>...</td>\n",
              "      <td>...</td>\n",
              "      <td>...</td>\n",
              "      <td>...</td>\n",
              "      <td>...</td>\n",
              "      <td>...</td>\n",
              "      <td>...</td>\n",
              "      <td>...</td>\n",
              "      <td>...</td>\n",
              "      <td>...</td>\n",
              "      <td>...</td>\n",
              "      <td>...</td>\n",
              "      <td>...</td>\n",
              "      <td>...</td>\n",
              "      <td>...</td>\n",
              "      <td>...</td>\n",
              "      <td>...</td>\n",
              "      <td>...</td>\n",
              "      <td>...</td>\n",
              "    </tr>\n",
              "    <tr>\n",
              "      <th>995</th>\n",
              "      <td>Realism</td>\n",
              "      <td>vasily-vereshchagin_two-jews-1884</td>\n",
              "      <td>excitement</td>\n",
              "      <td>img995.pkl</td>\n",
              "      <td>0.017043</td>\n",
              "      <td>2.136100</td>\n",
              "      <td>0.044468</td>\n",
              "      <td>0.118175</td>\n",
              "      <td>0.509737</td>\n",
              "      <td>0.597605</td>\n",
              "      <td>...</td>\n",
              "      <td>0.985465</td>\n",
              "      <td>2.046885</td>\n",
              "      <td>0.104100</td>\n",
              "      <td>1.999464</td>\n",
              "      <td>0.612785</td>\n",
              "      <td>5</td>\n",
              "      <td>The men seem engaged in quite a lively discuss...</td>\n",
              "      <td>the men seem engaged in quite a lively discuss...</td>\n",
              "      <td>startseq the men seem engaged in quite a livel...</td>\n",
              "      <td>15</td>\n",
              "    </tr>\n",
              "    <tr>\n",
              "      <th>996</th>\n",
              "      <td>Realism</td>\n",
              "      <td>james-tissot_men-of-the-day-no-4-the-mob-rule-...</td>\n",
              "      <td>amusement</td>\n",
              "      <td>img996.pkl</td>\n",
              "      <td>1.255179</td>\n",
              "      <td>0.000000</td>\n",
              "      <td>1.611124</td>\n",
              "      <td>0.055478</td>\n",
              "      <td>1.011541</td>\n",
              "      <td>0.078781</td>\n",
              "      <td>...</td>\n",
              "      <td>0.479490</td>\n",
              "      <td>0.423200</td>\n",
              "      <td>0.713766</td>\n",
              "      <td>0.091844</td>\n",
              "      <td>2.059210</td>\n",
              "      <td>0</td>\n",
              "      <td>The cross-sided eyes make me laugh and this pe...</td>\n",
              "      <td>the cross sided eyes make me laugh and this pe...</td>\n",
              "      <td>startseq the cross sided eyes make me laugh an...</td>\n",
              "      <td>26</td>\n",
              "    </tr>\n",
              "    <tr>\n",
              "      <th>997</th>\n",
              "      <td>Impressionism</td>\n",
              "      <td>konstantin-korovin_on-the-square-1912</td>\n",
              "      <td>amusement</td>\n",
              "      <td>img997.pkl</td>\n",
              "      <td>0.000000</td>\n",
              "      <td>4.839285</td>\n",
              "      <td>0.158369</td>\n",
              "      <td>0.084149</td>\n",
              "      <td>0.087437</td>\n",
              "      <td>0.362394</td>\n",
              "      <td>...</td>\n",
              "      <td>0.549750</td>\n",
              "      <td>0.062910</td>\n",
              "      <td>0.000000</td>\n",
              "      <td>1.550344</td>\n",
              "      <td>0.015552</td>\n",
              "      <td>0</td>\n",
              "      <td>It looks to me like three very happy figures t...</td>\n",
              "      <td>it looks to me like three very happy figures t...</td>\n",
              "      <td>startseq it looks to me like three very happy ...</td>\n",
              "      <td>17</td>\n",
              "    </tr>\n",
              "    <tr>\n",
              "      <th>998</th>\n",
              "      <td>Post_Impressionism</td>\n",
              "      <td>vincent-van-gogh_zouave-sitting-whole-figure-1888</td>\n",
              "      <td>amusement</td>\n",
              "      <td>img998.pkl</td>\n",
              "      <td>0.082224</td>\n",
              "      <td>1.892309</td>\n",
              "      <td>0.065868</td>\n",
              "      <td>0.180113</td>\n",
              "      <td>0.583887</td>\n",
              "      <td>0.154840</td>\n",
              "      <td>...</td>\n",
              "      <td>0.880139</td>\n",
              "      <td>0.318111</td>\n",
              "      <td>2.336420</td>\n",
              "      <td>0.000000</td>\n",
              "      <td>0.000000</td>\n",
              "      <td>0</td>\n",
              "      <td>The figure is quite odd and I find their appea...</td>\n",
              "      <td>the figure is quite odd and i find their appea...</td>\n",
              "      <td>startseq the figure is quite odd and i find th...</td>\n",
              "      <td>12</td>\n",
              "    </tr>\n",
              "    <tr>\n",
              "      <th>999</th>\n",
              "      <td>Northern_Renaissance</td>\n",
              "      <td>albrecht-durer_the-holy-family-with-st-john-th...</td>\n",
              "      <td>contentment</td>\n",
              "      <td>img999.pkl</td>\n",
              "      <td>0.016874</td>\n",
              "      <td>0.687560</td>\n",
              "      <td>0.569180</td>\n",
              "      <td>0.144738</td>\n",
              "      <td>0.141986</td>\n",
              "      <td>0.686750</td>\n",
              "      <td>...</td>\n",
              "      <td>2.412200</td>\n",
              "      <td>0.250112</td>\n",
              "      <td>0.063959</td>\n",
              "      <td>1.309669</td>\n",
              "      <td>0.811216</td>\n",
              "      <td>3</td>\n",
              "      <td>The family seems quite lovely in the way they ...</td>\n",
              "      <td>the family seems quite lovely in the way they ...</td>\n",
              "      <td>startseq the family seems quite lovely in the ...</td>\n",
              "      <td>19</td>\n",
              "    </tr>\n",
              "  </tbody>\n",
              "</table>\n",
              "<p>1000 rows × 2057 columns</p>\n",
              "</div>\n",
              "      <button class=\"colab-df-convert\" onclick=\"convertToInteractive('df-39d97faf-2475-4f04-b5ae-eb3b2850f35b')\"\n",
              "              title=\"Convert this dataframe to an interactive table.\"\n",
              "              style=\"display:none;\">\n",
              "        \n",
              "  <svg xmlns=\"http://www.w3.org/2000/svg\" height=\"24px\"viewBox=\"0 0 24 24\"\n",
              "       width=\"24px\">\n",
              "    <path d=\"M0 0h24v24H0V0z\" fill=\"none\"/>\n",
              "    <path d=\"M18.56 5.44l.94 2.06.94-2.06 2.06-.94-2.06-.94-.94-2.06-.94 2.06-2.06.94zm-11 1L8.5 8.5l.94-2.06 2.06-.94-2.06-.94L8.5 2.5l-.94 2.06-2.06.94zm10 10l.94 2.06.94-2.06 2.06-.94-2.06-.94-.94-2.06-.94 2.06-2.06.94z\"/><path d=\"M17.41 7.96l-1.37-1.37c-.4-.4-.92-.59-1.43-.59-.52 0-1.04.2-1.43.59L10.3 9.45l-7.72 7.72c-.78.78-.78 2.05 0 2.83L4 21.41c.39.39.9.59 1.41.59.51 0 1.02-.2 1.41-.59l7.78-7.78 2.81-2.81c.8-.78.8-2.07 0-2.86zM5.41 20L4 18.59l7.72-7.72 1.47 1.35L5.41 20z\"/>\n",
              "  </svg>\n",
              "      </button>\n",
              "      \n",
              "  <style>\n",
              "    .colab-df-container {\n",
              "      display:flex;\n",
              "      flex-wrap:wrap;\n",
              "      gap: 12px;\n",
              "    }\n",
              "\n",
              "    .colab-df-convert {\n",
              "      background-color: #E8F0FE;\n",
              "      border: none;\n",
              "      border-radius: 50%;\n",
              "      cursor: pointer;\n",
              "      display: none;\n",
              "      fill: #1967D2;\n",
              "      height: 32px;\n",
              "      padding: 0 0 0 0;\n",
              "      width: 32px;\n",
              "    }\n",
              "\n",
              "    .colab-df-convert:hover {\n",
              "      background-color: #E2EBFA;\n",
              "      box-shadow: 0px 1px 2px rgba(60, 64, 67, 0.3), 0px 1px 3px 1px rgba(60, 64, 67, 0.15);\n",
              "      fill: #174EA6;\n",
              "    }\n",
              "\n",
              "    [theme=dark] .colab-df-convert {\n",
              "      background-color: #3B4455;\n",
              "      fill: #D2E3FC;\n",
              "    }\n",
              "\n",
              "    [theme=dark] .colab-df-convert:hover {\n",
              "      background-color: #434B5C;\n",
              "      box-shadow: 0px 1px 3px 1px rgba(0, 0, 0, 0.15);\n",
              "      filter: drop-shadow(0px 1px 2px rgba(0, 0, 0, 0.3));\n",
              "      fill: #FFFFFF;\n",
              "    }\n",
              "  </style>\n",
              "\n",
              "      <script>\n",
              "        const buttonEl =\n",
              "          document.querySelector('#df-39d97faf-2475-4f04-b5ae-eb3b2850f35b button.colab-df-convert');\n",
              "        buttonEl.style.display =\n",
              "          google.colab.kernel.accessAllowed ? 'block' : 'none';\n",
              "\n",
              "        async function convertToInteractive(key) {\n",
              "          const element = document.querySelector('#df-39d97faf-2475-4f04-b5ae-eb3b2850f35b');\n",
              "          const dataTable =\n",
              "            await google.colab.kernel.invokeFunction('convertToInteractive',\n",
              "                                                     [key], {});\n",
              "          if (!dataTable) return;\n",
              "\n",
              "          const docLinkHtml = 'Like what you see? Visit the ' +\n",
              "            '<a target=\"_blank\" href=https://colab.research.google.com/notebooks/data_table.ipynb>data table notebook</a>'\n",
              "            + ' to learn more about interactive tables.';\n",
              "          element.innerHTML = '';\n",
              "          dataTable['output_type'] = 'display_data';\n",
              "          await google.colab.output.renderOutput(dataTable, element);\n",
              "          const docLink = document.createElement('div');\n",
              "          docLink.innerHTML = docLinkHtml;\n",
              "          element.appendChild(docLink);\n",
              "        }\n",
              "      </script>\n",
              "    </div>\n",
              "  </div>\n",
              "  "
            ]
          },
          "metadata": {},
          "execution_count": 35
        }
      ]
    },
    {
      "cell_type": "code",
      "source": [
        "painting_features_1000_subset['utterance_spelled_model'] = ['startseq ' + x  + ' endseq' for x in painting_features_1000_subset['utterance_spelled']]"
      ],
      "metadata": {
        "id": "P2Ed17hV65TH"
      },
      "execution_count": null,
      "outputs": []
    },
    {
      "cell_type": "code",
      "source": [
        "artemis_2000_subset = artemis_preprocessed[:2000]"
      ],
      "metadata": {
        "id": "UDkRV15mQQYF"
      },
      "execution_count": null,
      "outputs": []
    },
    {
      "cell_type": "code",
      "source": [
        "artemis_2000_subset"
      ],
      "metadata": {
        "colab": {
          "base_uri": "https://localhost:8080/",
          "height": 1000
        },
        "id": "-PMmiHl6R65_",
        "outputId": "ebcca231-3913-4051-8a19-743dd0cbf85b"
      },
      "execution_count": null,
      "outputs": [
        {
          "output_type": "execute_result",
          "data": {
            "text/plain": [
              "               art_style                                           painting  \\\n",
              "0     Post_Impressionism  vincent-van-gogh_portrait-of-madame-ginoux-l-a...   \n",
              "1     Post_Impressionism  vincent-van-gogh_portrait-of-madame-ginoux-l-a...   \n",
              "2     Post_Impressionism  vincent-van-gogh_portrait-of-madame-ginoux-l-a...   \n",
              "3     Post_Impressionism  vincent-van-gogh_portrait-of-madame-ginoux-l-a...   \n",
              "4     Post_Impressionism  vincent-van-gogh_portrait-of-madame-ginoux-l-a...   \n",
              "...                  ...                                                ...   \n",
              "1995           Symbolism                            nicholas-roerich_lahaul   \n",
              "1996       Impressionism                     camille-pissarro_the-hayymaker   \n",
              "1997           Symbolism              mikhail-vrubel_roses-and-orchids-1894   \n",
              "1998  Art_Nouveau_Modern  jules-cheret_hippodrome-de-la-porte-maillot-pa...   \n",
              "1999              Cubism  vicente-manansala_philippines-mother-and-child...   \n",
              "\n",
              "             emotion                                          utterance  \\\n",
              "0     something else  She seems very happy in the picture, and you w...   \n",
              "1            sadness  This woman has really knotty hands which makes...   \n",
              "2     something else  When looking at this woman, I am filled with c...   \n",
              "3        contentment  A woman looking at ease, peaceful, and satisfi...   \n",
              "4                awe  She looks like a lady from that past that migh...   \n",
              "...              ...                                                ...   \n",
              "1995             awe  The interesting shape of buildings and a mello...   \n",
              "1996  something else          This is a simple black and white drawing.   \n",
              "1997     contentment  A rosebush with cloud and open sky in the back...   \n",
              "1998             awe  The background colors behind the horse really ...   \n",
              "1999     contentment  The shapes and figure reminds me of a mother, ...   \n",
              "\n",
              "      repetition  split                                             tokens  \\\n",
              "0             10  train  ['she', 'seems', 'very', 'happy', 'in', 'the',...   \n",
              "1             10  train  ['this', 'woman', 'has', 'really', 'knotty', '...   \n",
              "2             10  train  ['when', 'looking', 'at', 'this', 'woman', 'i'...   \n",
              "3             10  train  ['a', 'woman', 'looking', 'at', 'ease', 'peace...   \n",
              "4             10  train  ['she', 'looks', 'like', 'a', 'lady', 'from', ...   \n",
              "...          ...    ...                                                ...   \n",
              "1995           5  train  ['the', 'interesting', 'shape', 'of', 'buildin...   \n",
              "1996           6  train  ['this', 'is', 'a', 'simple', 'black', 'and', ...   \n",
              "1997           5  train  ['a', 'rosebush', 'with', 'cloud', 'and', 'ope...   \n",
              "1998           6  train  ['the', 'background', 'colors', 'behind', 'the...   \n",
              "1999           6  train  ['the', 'shapes', 'and', 'figure', 'reminds', ...   \n",
              "\n",
              "      tokens_len                                  utterance_spelled  \\\n",
              "0             18  she seems very happy in the picture and you wa...   \n",
              "1             14  this woman has really knotty hands which makes...   \n",
              "2             27  when looking at this woman i am filled with cu...   \n",
              "3             15  a woman looking at ease peaceful and satisfied...   \n",
              "4             33  she looks like a lady from that past that migh...   \n",
              "...          ...                                                ...   \n",
              "1995          14  the interesting shape of buildings and a mello...   \n",
              "1996           8           this is a simple black and white drawing   \n",
              "1997          15  a rosebush with cloud and open sky in the back...   \n",
              "1998          19  the background colors behind the horse really ...   \n",
              "1999          13  the shapes and figure reminds me of a mother c...   \n",
              "\n",
              "                                         tokens_encoded  emotion_label  \n",
              "0     [1, 4, 5, 6, 7, 8, 9, 10, 11, 12, 13, 14, 15, ...              8  \n",
              "1     [1, 20, 21, 22, 23, 24, 25, 26, 27, 28, 29, 30...              7  \n",
              "2     [1, 32, 33, 34, 20, 21, 35, 36, 37, 38, 39, 40...              8  \n",
              "3     [1, 45, 21, 33, 34, 48, 49, 11, 50, 51, 28, 52...              2  \n",
              "4     [1, 4, 56, 30, 45, 57, 58, 59, 60, 59, 61, 62,...              1  \n",
              "...                                                 ...            ...  \n",
              "1995  [1, 9, 82, 609, 89, 118, 11, 45, 3231, 732, 51...              1  \n",
              "1996  [1, 20, 17, 45, 1120, 216, 11, 121, 1495, 2, 0...              8  \n",
              "1997  [1, 45, 3232, 38, 686, 11, 524, 159, 8, 9, 128...              2  \n",
              "1998  [1, 9, 128, 78, 18, 9, 487, 23, 79, 71, 165, 3...              1  \n",
              "1999  [1, 9, 83, 11, 569, 228, 53, 89, 45, 633, 1740...              2  \n",
              "\n",
              "[2000 rows x 11 columns]"
            ],
            "text/html": [
              "\n",
              "  <div id=\"df-9dced552-30fe-4752-b129-5cbec9c086ad\">\n",
              "    <div class=\"colab-df-container\">\n",
              "      <div>\n",
              "<style scoped>\n",
              "    .dataframe tbody tr th:only-of-type {\n",
              "        vertical-align: middle;\n",
              "    }\n",
              "\n",
              "    .dataframe tbody tr th {\n",
              "        vertical-align: top;\n",
              "    }\n",
              "\n",
              "    .dataframe thead th {\n",
              "        text-align: right;\n",
              "    }\n",
              "</style>\n",
              "<table border=\"1\" class=\"dataframe\">\n",
              "  <thead>\n",
              "    <tr style=\"text-align: right;\">\n",
              "      <th></th>\n",
              "      <th>art_style</th>\n",
              "      <th>painting</th>\n",
              "      <th>emotion</th>\n",
              "      <th>utterance</th>\n",
              "      <th>repetition</th>\n",
              "      <th>split</th>\n",
              "      <th>tokens</th>\n",
              "      <th>tokens_len</th>\n",
              "      <th>utterance_spelled</th>\n",
              "      <th>tokens_encoded</th>\n",
              "      <th>emotion_label</th>\n",
              "    </tr>\n",
              "  </thead>\n",
              "  <tbody>\n",
              "    <tr>\n",
              "      <th>0</th>\n",
              "      <td>Post_Impressionism</td>\n",
              "      <td>vincent-van-gogh_portrait-of-madame-ginoux-l-a...</td>\n",
              "      <td>something else</td>\n",
              "      <td>She seems very happy in the picture, and you w...</td>\n",
              "      <td>10</td>\n",
              "      <td>train</td>\n",
              "      <td>['she', 'seems', 'very', 'happy', 'in', 'the',...</td>\n",
              "      <td>18</td>\n",
              "      <td>she seems very happy in the picture and you wa...</td>\n",
              "      <td>[1, 4, 5, 6, 7, 8, 9, 10, 11, 12, 13, 14, 15, ...</td>\n",
              "      <td>8</td>\n",
              "    </tr>\n",
              "    <tr>\n",
              "      <th>1</th>\n",
              "      <td>Post_Impressionism</td>\n",
              "      <td>vincent-van-gogh_portrait-of-madame-ginoux-l-a...</td>\n",
              "      <td>sadness</td>\n",
              "      <td>This woman has really knotty hands which makes...</td>\n",
              "      <td>10</td>\n",
              "      <td>train</td>\n",
              "      <td>['this', 'woman', 'has', 'really', 'knotty', '...</td>\n",
              "      <td>14</td>\n",
              "      <td>this woman has really knotty hands which makes...</td>\n",
              "      <td>[1, 20, 21, 22, 23, 24, 25, 26, 27, 28, 29, 30...</td>\n",
              "      <td>7</td>\n",
              "    </tr>\n",
              "    <tr>\n",
              "      <th>2</th>\n",
              "      <td>Post_Impressionism</td>\n",
              "      <td>vincent-van-gogh_portrait-of-madame-ginoux-l-a...</td>\n",
              "      <td>something else</td>\n",
              "      <td>When looking at this woman, I am filled with c...</td>\n",
              "      <td>10</td>\n",
              "      <td>train</td>\n",
              "      <td>['when', 'looking', 'at', 'this', 'woman', 'i'...</td>\n",
              "      <td>27</td>\n",
              "      <td>when looking at this woman i am filled with cu...</td>\n",
              "      <td>[1, 32, 33, 34, 20, 21, 35, 36, 37, 38, 39, 40...</td>\n",
              "      <td>8</td>\n",
              "    </tr>\n",
              "    <tr>\n",
              "      <th>3</th>\n",
              "      <td>Post_Impressionism</td>\n",
              "      <td>vincent-van-gogh_portrait-of-madame-ginoux-l-a...</td>\n",
              "      <td>contentment</td>\n",
              "      <td>A woman looking at ease, peaceful, and satisfi...</td>\n",
              "      <td>10</td>\n",
              "      <td>train</td>\n",
              "      <td>['a', 'woman', 'looking', 'at', 'ease', 'peace...</td>\n",
              "      <td>15</td>\n",
              "      <td>a woman looking at ease peaceful and satisfied...</td>\n",
              "      <td>[1, 45, 21, 33, 34, 48, 49, 11, 50, 51, 28, 52...</td>\n",
              "      <td>2</td>\n",
              "    </tr>\n",
              "    <tr>\n",
              "      <th>4</th>\n",
              "      <td>Post_Impressionism</td>\n",
              "      <td>vincent-van-gogh_portrait-of-madame-ginoux-l-a...</td>\n",
              "      <td>awe</td>\n",
              "      <td>She looks like a lady from that past that migh...</td>\n",
              "      <td>10</td>\n",
              "      <td>train</td>\n",
              "      <td>['she', 'looks', 'like', 'a', 'lady', 'from', ...</td>\n",
              "      <td>33</td>\n",
              "      <td>she looks like a lady from that past that migh...</td>\n",
              "      <td>[1, 4, 56, 30, 45, 57, 58, 59, 60, 59, 61, 62,...</td>\n",
              "      <td>1</td>\n",
              "    </tr>\n",
              "    <tr>\n",
              "      <th>...</th>\n",
              "      <td>...</td>\n",
              "      <td>...</td>\n",
              "      <td>...</td>\n",
              "      <td>...</td>\n",
              "      <td>...</td>\n",
              "      <td>...</td>\n",
              "      <td>...</td>\n",
              "      <td>...</td>\n",
              "      <td>...</td>\n",
              "      <td>...</td>\n",
              "      <td>...</td>\n",
              "    </tr>\n",
              "    <tr>\n",
              "      <th>1995</th>\n",
              "      <td>Symbolism</td>\n",
              "      <td>nicholas-roerich_lahaul</td>\n",
              "      <td>awe</td>\n",
              "      <td>The interesting shape of buildings and a mello...</td>\n",
              "      <td>5</td>\n",
              "      <td>train</td>\n",
              "      <td>['the', 'interesting', 'shape', 'of', 'buildin...</td>\n",
              "      <td>14</td>\n",
              "      <td>the interesting shape of buildings and a mello...</td>\n",
              "      <td>[1, 9, 82, 609, 89, 118, 11, 45, 3231, 732, 51...</td>\n",
              "      <td>1</td>\n",
              "    </tr>\n",
              "    <tr>\n",
              "      <th>1996</th>\n",
              "      <td>Impressionism</td>\n",
              "      <td>camille-pissarro_the-hayymaker</td>\n",
              "      <td>something else</td>\n",
              "      <td>This is a simple black and white drawing.</td>\n",
              "      <td>6</td>\n",
              "      <td>train</td>\n",
              "      <td>['this', 'is', 'a', 'simple', 'black', 'and', ...</td>\n",
              "      <td>8</td>\n",
              "      <td>this is a simple black and white drawing</td>\n",
              "      <td>[1, 20, 17, 45, 1120, 216, 11, 121, 1495, 2, 0...</td>\n",
              "      <td>8</td>\n",
              "    </tr>\n",
              "    <tr>\n",
              "      <th>1997</th>\n",
              "      <td>Symbolism</td>\n",
              "      <td>mikhail-vrubel_roses-and-orchids-1894</td>\n",
              "      <td>contentment</td>\n",
              "      <td>A rosebush with cloud and open sky in the back...</td>\n",
              "      <td>5</td>\n",
              "      <td>train</td>\n",
              "      <td>['a', 'rosebush', 'with', 'cloud', 'and', 'ope...</td>\n",
              "      <td>15</td>\n",
              "      <td>a rosebush with cloud and open sky in the back...</td>\n",
              "      <td>[1, 45, 3232, 38, 686, 11, 524, 159, 8, 9, 128...</td>\n",
              "      <td>2</td>\n",
              "    </tr>\n",
              "    <tr>\n",
              "      <th>1998</th>\n",
              "      <td>Art_Nouveau_Modern</td>\n",
              "      <td>jules-cheret_hippodrome-de-la-porte-maillot-pa...</td>\n",
              "      <td>awe</td>\n",
              "      <td>The background colors behind the horse really ...</td>\n",
              "      <td>6</td>\n",
              "      <td>train</td>\n",
              "      <td>['the', 'background', 'colors', 'behind', 'the...</td>\n",
              "      <td>19</td>\n",
              "      <td>the background colors behind the horse really ...</td>\n",
              "      <td>[1, 9, 128, 78, 18, 9, 487, 23, 79, 71, 165, 3...</td>\n",
              "      <td>1</td>\n",
              "    </tr>\n",
              "    <tr>\n",
              "      <th>1999</th>\n",
              "      <td>Cubism</td>\n",
              "      <td>vicente-manansala_philippines-mother-and-child...</td>\n",
              "      <td>contentment</td>\n",
              "      <td>The shapes and figure reminds me of a mother, ...</td>\n",
              "      <td>6</td>\n",
              "      <td>train</td>\n",
              "      <td>['the', 'shapes', 'and', 'figure', 'reminds', ...</td>\n",
              "      <td>13</td>\n",
              "      <td>the shapes and figure reminds me of a mother c...</td>\n",
              "      <td>[1, 9, 83, 11, 569, 228, 53, 89, 45, 633, 1740...</td>\n",
              "      <td>2</td>\n",
              "    </tr>\n",
              "  </tbody>\n",
              "</table>\n",
              "<p>2000 rows × 11 columns</p>\n",
              "</div>\n",
              "      <button class=\"colab-df-convert\" onclick=\"convertToInteractive('df-9dced552-30fe-4752-b129-5cbec9c086ad')\"\n",
              "              title=\"Convert this dataframe to an interactive table.\"\n",
              "              style=\"display:none;\">\n",
              "        \n",
              "  <svg xmlns=\"http://www.w3.org/2000/svg\" height=\"24px\"viewBox=\"0 0 24 24\"\n",
              "       width=\"24px\">\n",
              "    <path d=\"M0 0h24v24H0V0z\" fill=\"none\"/>\n",
              "    <path d=\"M18.56 5.44l.94 2.06.94-2.06 2.06-.94-2.06-.94-.94-2.06-.94 2.06-2.06.94zm-11 1L8.5 8.5l.94-2.06 2.06-.94-2.06-.94L8.5 2.5l-.94 2.06-2.06.94zm10 10l.94 2.06.94-2.06 2.06-.94-2.06-.94-.94-2.06-.94 2.06-2.06.94z\"/><path d=\"M17.41 7.96l-1.37-1.37c-.4-.4-.92-.59-1.43-.59-.52 0-1.04.2-1.43.59L10.3 9.45l-7.72 7.72c-.78.78-.78 2.05 0 2.83L4 21.41c.39.39.9.59 1.41.59.51 0 1.02-.2 1.41-.59l7.78-7.78 2.81-2.81c.8-.78.8-2.07 0-2.86zM5.41 20L4 18.59l7.72-7.72 1.47 1.35L5.41 20z\"/>\n",
              "  </svg>\n",
              "      </button>\n",
              "      \n",
              "  <style>\n",
              "    .colab-df-container {\n",
              "      display:flex;\n",
              "      flex-wrap:wrap;\n",
              "      gap: 12px;\n",
              "    }\n",
              "\n",
              "    .colab-df-convert {\n",
              "      background-color: #E8F0FE;\n",
              "      border: none;\n",
              "      border-radius: 50%;\n",
              "      cursor: pointer;\n",
              "      display: none;\n",
              "      fill: #1967D2;\n",
              "      height: 32px;\n",
              "      padding: 0 0 0 0;\n",
              "      width: 32px;\n",
              "    }\n",
              "\n",
              "    .colab-df-convert:hover {\n",
              "      background-color: #E2EBFA;\n",
              "      box-shadow: 0px 1px 2px rgba(60, 64, 67, 0.3), 0px 1px 3px 1px rgba(60, 64, 67, 0.15);\n",
              "      fill: #174EA6;\n",
              "    }\n",
              "\n",
              "    [theme=dark] .colab-df-convert {\n",
              "      background-color: #3B4455;\n",
              "      fill: #D2E3FC;\n",
              "    }\n",
              "\n",
              "    [theme=dark] .colab-df-convert:hover {\n",
              "      background-color: #434B5C;\n",
              "      box-shadow: 0px 1px 3px 1px rgba(0, 0, 0, 0.15);\n",
              "      filter: drop-shadow(0px 1px 2px rgba(0, 0, 0, 0.3));\n",
              "      fill: #FFFFFF;\n",
              "    }\n",
              "  </style>\n",
              "\n",
              "      <script>\n",
              "        const buttonEl =\n",
              "          document.querySelector('#df-9dced552-30fe-4752-b129-5cbec9c086ad button.colab-df-convert');\n",
              "        buttonEl.style.display =\n",
              "          google.colab.kernel.accessAllowed ? 'block' : 'none';\n",
              "\n",
              "        async function convertToInteractive(key) {\n",
              "          const element = document.querySelector('#df-9dced552-30fe-4752-b129-5cbec9c086ad');\n",
              "          const dataTable =\n",
              "            await google.colab.kernel.invokeFunction('convertToInteractive',\n",
              "                                                     [key], {});\n",
              "          if (!dataTable) return;\n",
              "\n",
              "          const docLinkHtml = 'Like what you see? Visit the ' +\n",
              "            '<a target=\"_blank\" href=https://colab.research.google.com/notebooks/data_table.ipynb>data table notebook</a>'\n",
              "            + ' to learn more about interactive tables.';\n",
              "          element.innerHTML = '';\n",
              "          dataTable['output_type'] = 'display_data';\n",
              "          await google.colab.output.renderOutput(dataTable, element);\n",
              "          const docLink = document.createElement('div');\n",
              "          docLink.innerHTML = docLinkHtml;\n",
              "          element.appendChild(docLink);\n",
              "        }\n",
              "      </script>\n",
              "    </div>\n",
              "  </div>\n",
              "  "
            ]
          },
          "metadata": {},
          "execution_count": 10
        }
      ]
    },
    {
      "cell_type": "markdown",
      "metadata": {
        "papermill": {
          "duration": 0.037183,
          "end_time": "2020-10-06T21:19:48.013459",
          "exception": false,
          "start_time": "2020-10-06T21:19:47.976276",
          "status": "completed"
        },
        "tags": [],
        "id": "eRJEoaRYMQbD"
      },
      "source": [
        "# **One hot encoding**\n",
        "\n",
        "As the dataset has labels 0, 1...8. We need to convert them to one hot vector."
      ]
    },
    {
      "cell_type": "code",
      "metadata": {
        "id": "FlkjK1L5ObV4"
      },
      "source": [
        "labels = np.array(artemis_2000_subset['emotion_label'])\n"
      ],
      "execution_count": null,
      "outputs": []
    },
    {
      "cell_type": "code",
      "metadata": {
        "colab": {
          "base_uri": "https://localhost:8080/"
        },
        "id": "Mmi_3hoxOciw",
        "outputId": "82ca6f88-6001-4d01-fe23-077a28b12e03"
      },
      "source": [
        "print (labels)"
      ],
      "execution_count": null,
      "outputs": [
        {
          "output_type": "stream",
          "name": "stdout",
          "text": [
            "[8 7 8 ... 2 1 2]\n"
          ]
        }
      ]
    },
    {
      "cell_type": "code",
      "metadata": {
        "id": "_Z_TfeN_PA9B"
      },
      "source": [
        "import tensorflow as tf\n",
        "labels = tf.keras.utils.to_categorical(labels, 9, dtype=\"float32\")"
      ],
      "execution_count": null,
      "outputs": []
    },
    {
      "cell_type": "code",
      "metadata": {
        "colab": {
          "base_uri": "https://localhost:8080/"
        },
        "id": "qtYDpp4OUUAA",
        "outputId": "04b99995-9757-40c8-a826-b137c0c1a8ba"
      },
      "source": [
        "print (labels)"
      ],
      "execution_count": null,
      "outputs": [
        {
          "output_type": "stream",
          "name": "stdout",
          "text": [
            "[[0. 0. 0. ... 0. 0. 1.]\n",
            " [0. 0. 0. ... 0. 1. 0.]\n",
            " [0. 0. 0. ... 0. 0. 1.]\n",
            " ...\n",
            " [0. 0. 1. ... 0. 0. 0.]\n",
            " [0. 1. 0. ... 0. 0. 0.]\n",
            " [0. 0. 1. ... 0. 0. 0.]]\n"
          ]
        }
      ]
    },
    {
      "cell_type": "code",
      "metadata": {
        "execution": {
          "iopub.execute_input": "2020-10-06T21:19:48.206863Z",
          "iopub.status.busy": "2020-10-06T21:19:48.206068Z",
          "iopub.status.idle": "2020-10-06T21:19:48.209920Z",
          "shell.execute_reply": "2020-10-06T21:19:48.209425Z"
        },
        "papermill": {
          "duration": 0.046647,
          "end_time": "2020-10-06T21:19:48.210021",
          "exception": false,
          "start_time": "2020-10-06T21:19:48.163374",
          "status": "completed"
        },
        "tags": [],
        "colab": {
          "base_uri": "https://localhost:8080/"
        },
        "id": "S7JISYL2MQbE",
        "outputId": "61c07d73-b812-4702-9ffa-acdeb3e4887d"
      },
      "source": [
        "len(labels)"
      ],
      "execution_count": null,
      "outputs": [
        {
          "output_type": "execute_result",
          "data": {
            "text/plain": [
              "2000"
            ]
          },
          "metadata": {},
          "execution_count": 15
        }
      ]
    },
    {
      "cell_type": "markdown",
      "source": [
        "**Train, Test Split**"
      ],
      "metadata": {
        "id": "qILY4LzYkAgT"
      }
    },
    {
      "cell_type": "code",
      "source": [
        "# Train Test Split using Startified Sampling\n",
        "# 80% - Training Data and 20% - Testing Data\n",
        "from sklearn.model_selection import train_test_split\n",
        "\n",
        "X_train, X_test, y_train, y_test = train_test_split(artemis_2000_subset, labels, test_size = 0.2, \n",
        "                                                    random_state = 1, stratify = labels)\n",
        "print (len(X_train),len(X_test),len(y_train),len(y_test))"
      ],
      "metadata": {
        "colab": {
          "base_uri": "https://localhost:8080/"
        },
        "id": "nqP8ZSLsj4jQ",
        "outputId": "16b86130-3e3b-474a-cebb-5c3b41167a6d"
      },
      "execution_count": null,
      "outputs": [
        {
          "output_type": "stream",
          "name": "stdout",
          "text": [
            "1600 400 1600 400\n"
          ]
        }
      ]
    },
    {
      "cell_type": "code",
      "source": [
        "X_train"
      ],
      "metadata": {
        "colab": {
          "base_uri": "https://localhost:8080/",
          "height": 1000
        },
        "id": "bNyxEJRfkond",
        "outputId": "d474c175-7ef1-4237-e154-b9bfba35ecb7"
      },
      "execution_count": null,
      "outputs": [
        {
          "output_type": "execute_result",
          "data": {
            "text/plain": [
              "                   art_style                                      painting  \\\n",
              "488            Impressionism         julian-alden-weir_nassau-bahamas-1913   \n",
              "1397           Impressionism                     theodor-pallady_haystacks   \n",
              "1793  Abstract_Expressionism                william-baziotes_red-wall-1961   \n",
              "871            Impressionism                 francis-picabia_the-martigues   \n",
              "1905  Abstract_Expressionism  sam-francis_upper-yellow-ii-lembark-l73-1964   \n",
              "...                      ...                                           ...   \n",
              "180              Romanticism   orest-kiprensky_portrait-of-m-a-kikina-1816   \n",
              "1007             Romanticism                thomas-moran_amalfi-coast-1868   \n",
              "72               Romanticism            orest-kiprensky_putto-with-a-globe   \n",
              "1165           Impressionism   edmund-charles-tarbell_across-the-room-1899   \n",
              "1138           Expressionism          wassily-kandinsky_rotterdam-sun-1906   \n",
              "\n",
              "          emotion                                          utterance  \\\n",
              "488           awe  The ocean scene is gorgeous in the way the gre...   \n",
              "1397  contentment  The huts look like chocolate candies covered i...   \n",
              "1793          awe  The eye is off-center, so that we encounter it...   \n",
              "871   contentment        The water is lightly rippling near the dock   \n",
              "1905  contentment  The splashes of yellow and blue feel like they...   \n",
              "...           ...                                                ...   \n",
              "180   contentment  The young woman is quite lovely and I apprecia...   \n",
              "1007  contentment  The coastline and the numerous plants along it...   \n",
              "72      amusement  The little boy is trying to roll the globe aro...   \n",
              "1165          awe  This bride looks like she needed to rest for a...   \n",
              "1138  contentment        I like the light on the waves of the water.   \n",
              "\n",
              "      repetition  split                                             tokens  \\\n",
              "488            6  train  ['the', 'ocean', 'scene', 'is', 'gorgeous', 'i...   \n",
              "1397           6  train  ['the', 'huts', 'look', 'like', 'chocolate', '...   \n",
              "1793           5  train  ['the', 'eye', 'is', 'off', 'center', 'so', 't...   \n",
              "871            6  train  ['the', 'water', 'is', 'lightly', 'rippling', ...   \n",
              "1905           5  train  ['the', 'splashes', 'of', 'yellow', 'and', 'bl...   \n",
              "...          ...    ...                                                ...   \n",
              "180            6  train  ['the', 'young', 'woman', 'is', 'quite', 'love...   \n",
              "1007           6  train  ['the', 'coastline', 'and', 'the', 'numerous',...   \n",
              "72             6  train  ['the', 'little', 'boy', 'is', 'trying', 'to',...   \n",
              "1165           6  train  ['this', 'bride', 'looks', 'like', 'she', 'nee...   \n",
              "1138           6  train  ['i', 'like', 'the', 'light', 'on', 'the', 'wa...   \n",
              "\n",
              "      tokens_len                                  utterance_spelled  \\\n",
              "488           15  the ocean scene is gorgeous in the way the gre...   \n",
              "1397           9  the huts look like chocolate candies covered i...   \n",
              "1793          17  the eye is off center so that we encounter it ...   \n",
              "871            8        the water is lightly rippling near the dock   \n",
              "1905          10  the splashes of yellow and blue feel like they...   \n",
              "...          ...                                                ...   \n",
              "180           15  the young woman is quite lovely and i apprecia...   \n",
              "1007          22  the coastline and the numerous plants along it...   \n",
              "72            13  the little boy is trying to roll the globe aro...   \n",
              "1165          17  this bride looks like she needed to rest for a...   \n",
              "1138          10         i like the light on the waves of the water   \n",
              "\n",
              "                                         tokens_encoded  emotion_label  \n",
              "488   [1, 9, 793, 81, 17, 344, 8, 9, 84, 9, 246, 144...              1  \n",
              "1397  [1, 9, 260, 29, 30, 662, 2647, 643, 8, 2648, 2...              2  \n",
              "1793  [1, 9, 367, 17, 541, 1310, 168, 59, 1779, 2745...              1  \n",
              "871   [1, 9, 269, 17, 1986, 1987, 696, 9, 1235, 2, 0...              2  \n",
              "1905  [1, 9, 3149, 89, 479, 11, 109, 54, 30, 239, 10...              2  \n",
              "...                                                 ...            ...  \n",
              "180   [1, 9, 629, 21, 17, 154, 475, 11, 35, 156, 9, ...              2  \n",
              "1007  [1, 9, 2155, 11, 9, 550, 453, 778, 71, 1696, 4...              2  \n",
              "72    [1, 9, 420, 212, 17, 105, 14, 421, 9, 422, 196...              0  \n",
              "1165  [1, 20, 2374, 56, 30, 4, 2375, 14, 967, 73, 45...              1  \n",
              "1138  [1, 35, 30, 9, 509, 43, 9, 1349, 89, 9, 269, 2...              2  \n",
              "\n",
              "[1600 rows x 11 columns]"
            ],
            "text/html": [
              "\n",
              "  <div id=\"df-9db8c291-510a-4a19-8144-d62194beb0ef\">\n",
              "    <div class=\"colab-df-container\">\n",
              "      <div>\n",
              "<style scoped>\n",
              "    .dataframe tbody tr th:only-of-type {\n",
              "        vertical-align: middle;\n",
              "    }\n",
              "\n",
              "    .dataframe tbody tr th {\n",
              "        vertical-align: top;\n",
              "    }\n",
              "\n",
              "    .dataframe thead th {\n",
              "        text-align: right;\n",
              "    }\n",
              "</style>\n",
              "<table border=\"1\" class=\"dataframe\">\n",
              "  <thead>\n",
              "    <tr style=\"text-align: right;\">\n",
              "      <th></th>\n",
              "      <th>art_style</th>\n",
              "      <th>painting</th>\n",
              "      <th>emotion</th>\n",
              "      <th>utterance</th>\n",
              "      <th>repetition</th>\n",
              "      <th>split</th>\n",
              "      <th>tokens</th>\n",
              "      <th>tokens_len</th>\n",
              "      <th>utterance_spelled</th>\n",
              "      <th>tokens_encoded</th>\n",
              "      <th>emotion_label</th>\n",
              "    </tr>\n",
              "  </thead>\n",
              "  <tbody>\n",
              "    <tr>\n",
              "      <th>488</th>\n",
              "      <td>Impressionism</td>\n",
              "      <td>julian-alden-weir_nassau-bahamas-1913</td>\n",
              "      <td>awe</td>\n",
              "      <td>The ocean scene is gorgeous in the way the gre...</td>\n",
              "      <td>6</td>\n",
              "      <td>train</td>\n",
              "      <td>['the', 'ocean', 'scene', 'is', 'gorgeous', 'i...</td>\n",
              "      <td>15</td>\n",
              "      <td>the ocean scene is gorgeous in the way the gre...</td>\n",
              "      <td>[1, 9, 793, 81, 17, 344, 8, 9, 84, 9, 246, 144...</td>\n",
              "      <td>1</td>\n",
              "    </tr>\n",
              "    <tr>\n",
              "      <th>1397</th>\n",
              "      <td>Impressionism</td>\n",
              "      <td>theodor-pallady_haystacks</td>\n",
              "      <td>contentment</td>\n",
              "      <td>The huts look like chocolate candies covered i...</td>\n",
              "      <td>6</td>\n",
              "      <td>train</td>\n",
              "      <td>['the', 'huts', 'look', 'like', 'chocolate', '...</td>\n",
              "      <td>9</td>\n",
              "      <td>the huts look like chocolate candies covered i...</td>\n",
              "      <td>[1, 9, 260, 29, 30, 662, 2647, 643, 8, 2648, 2...</td>\n",
              "      <td>2</td>\n",
              "    </tr>\n",
              "    <tr>\n",
              "      <th>1793</th>\n",
              "      <td>Abstract_Expressionism</td>\n",
              "      <td>william-baziotes_red-wall-1961</td>\n",
              "      <td>awe</td>\n",
              "      <td>The eye is off-center, so that we encounter it...</td>\n",
              "      <td>5</td>\n",
              "      <td>train</td>\n",
              "      <td>['the', 'eye', 'is', 'off', 'center', 'so', 't...</td>\n",
              "      <td>17</td>\n",
              "      <td>the eye is off center so that we encounter it ...</td>\n",
              "      <td>[1, 9, 367, 17, 541, 1310, 168, 59, 1779, 2745...</td>\n",
              "      <td>1</td>\n",
              "    </tr>\n",
              "    <tr>\n",
              "      <th>871</th>\n",
              "      <td>Impressionism</td>\n",
              "      <td>francis-picabia_the-martigues</td>\n",
              "      <td>contentment</td>\n",
              "      <td>The water is lightly rippling near the dock</td>\n",
              "      <td>6</td>\n",
              "      <td>train</td>\n",
              "      <td>['the', 'water', 'is', 'lightly', 'rippling', ...</td>\n",
              "      <td>8</td>\n",
              "      <td>the water is lightly rippling near the dock</td>\n",
              "      <td>[1, 9, 269, 17, 1986, 1987, 696, 9, 1235, 2, 0...</td>\n",
              "      <td>2</td>\n",
              "    </tr>\n",
              "    <tr>\n",
              "      <th>1905</th>\n",
              "      <td>Abstract_Expressionism</td>\n",
              "      <td>sam-francis_upper-yellow-ii-lembark-l73-1964</td>\n",
              "      <td>contentment</td>\n",
              "      <td>The splashes of yellow and blue feel like they...</td>\n",
              "      <td>5</td>\n",
              "      <td>train</td>\n",
              "      <td>['the', 'splashes', 'of', 'yellow', 'and', 'bl...</td>\n",
              "      <td>10</td>\n",
              "      <td>the splashes of yellow and blue feel like they...</td>\n",
              "      <td>[1, 9, 3149, 89, 479, 11, 109, 54, 30, 239, 10...</td>\n",
              "      <td>2</td>\n",
              "    </tr>\n",
              "    <tr>\n",
              "      <th>...</th>\n",
              "      <td>...</td>\n",
              "      <td>...</td>\n",
              "      <td>...</td>\n",
              "      <td>...</td>\n",
              "      <td>...</td>\n",
              "      <td>...</td>\n",
              "      <td>...</td>\n",
              "      <td>...</td>\n",
              "      <td>...</td>\n",
              "      <td>...</td>\n",
              "      <td>...</td>\n",
              "    </tr>\n",
              "    <tr>\n",
              "      <th>180</th>\n",
              "      <td>Romanticism</td>\n",
              "      <td>orest-kiprensky_portrait-of-m-a-kikina-1816</td>\n",
              "      <td>contentment</td>\n",
              "      <td>The young woman is quite lovely and I apprecia...</td>\n",
              "      <td>6</td>\n",
              "      <td>train</td>\n",
              "      <td>['the', 'young', 'woman', 'is', 'quite', 'love...</td>\n",
              "      <td>15</td>\n",
              "      <td>the young woman is quite lovely and i apprecia...</td>\n",
              "      <td>[1, 9, 629, 21, 17, 154, 475, 11, 35, 156, 9, ...</td>\n",
              "      <td>2</td>\n",
              "    </tr>\n",
              "    <tr>\n",
              "      <th>1007</th>\n",
              "      <td>Romanticism</td>\n",
              "      <td>thomas-moran_amalfi-coast-1868</td>\n",
              "      <td>contentment</td>\n",
              "      <td>The coastline and the numerous plants along it...</td>\n",
              "      <td>6</td>\n",
              "      <td>train</td>\n",
              "      <td>['the', 'coastline', 'and', 'the', 'numerous',...</td>\n",
              "      <td>22</td>\n",
              "      <td>the coastline and the numerous plants along it...</td>\n",
              "      <td>[1, 9, 2155, 11, 9, 550, 453, 778, 71, 1696, 4...</td>\n",
              "      <td>2</td>\n",
              "    </tr>\n",
              "    <tr>\n",
              "      <th>72</th>\n",
              "      <td>Romanticism</td>\n",
              "      <td>orest-kiprensky_putto-with-a-globe</td>\n",
              "      <td>amusement</td>\n",
              "      <td>The little boy is trying to roll the globe aro...</td>\n",
              "      <td>6</td>\n",
              "      <td>train</td>\n",
              "      <td>['the', 'little', 'boy', 'is', 'trying', 'to',...</td>\n",
              "      <td>13</td>\n",
              "      <td>the little boy is trying to roll the globe aro...</td>\n",
              "      <td>[1, 9, 420, 212, 17, 105, 14, 421, 9, 422, 196...</td>\n",
              "      <td>0</td>\n",
              "    </tr>\n",
              "    <tr>\n",
              "      <th>1165</th>\n",
              "      <td>Impressionism</td>\n",
              "      <td>edmund-charles-tarbell_across-the-room-1899</td>\n",
              "      <td>awe</td>\n",
              "      <td>This bride looks like she needed to rest for a...</td>\n",
              "      <td>6</td>\n",
              "      <td>train</td>\n",
              "      <td>['this', 'bride', 'looks', 'like', 'she', 'nee...</td>\n",
              "      <td>17</td>\n",
              "      <td>this bride looks like she needed to rest for a...</td>\n",
              "      <td>[1, 20, 2374, 56, 30, 4, 2375, 14, 967, 73, 45...</td>\n",
              "      <td>1</td>\n",
              "    </tr>\n",
              "    <tr>\n",
              "      <th>1138</th>\n",
              "      <td>Expressionism</td>\n",
              "      <td>wassily-kandinsky_rotterdam-sun-1906</td>\n",
              "      <td>contentment</td>\n",
              "      <td>I like the light on the waves of the water.</td>\n",
              "      <td>6</td>\n",
              "      <td>train</td>\n",
              "      <td>['i', 'like', 'the', 'light', 'on', 'the', 'wa...</td>\n",
              "      <td>10</td>\n",
              "      <td>i like the light on the waves of the water</td>\n",
              "      <td>[1, 35, 30, 9, 509, 43, 9, 1349, 89, 9, 269, 2...</td>\n",
              "      <td>2</td>\n",
              "    </tr>\n",
              "  </tbody>\n",
              "</table>\n",
              "<p>1600 rows × 11 columns</p>\n",
              "</div>\n",
              "      <button class=\"colab-df-convert\" onclick=\"convertToInteractive('df-9db8c291-510a-4a19-8144-d62194beb0ef')\"\n",
              "              title=\"Convert this dataframe to an interactive table.\"\n",
              "              style=\"display:none;\">\n",
              "        \n",
              "  <svg xmlns=\"http://www.w3.org/2000/svg\" height=\"24px\"viewBox=\"0 0 24 24\"\n",
              "       width=\"24px\">\n",
              "    <path d=\"M0 0h24v24H0V0z\" fill=\"none\"/>\n",
              "    <path d=\"M18.56 5.44l.94 2.06.94-2.06 2.06-.94-2.06-.94-.94-2.06-.94 2.06-2.06.94zm-11 1L8.5 8.5l.94-2.06 2.06-.94-2.06-.94L8.5 2.5l-.94 2.06-2.06.94zm10 10l.94 2.06.94-2.06 2.06-.94-2.06-.94-.94-2.06-.94 2.06-2.06.94z\"/><path d=\"M17.41 7.96l-1.37-1.37c-.4-.4-.92-.59-1.43-.59-.52 0-1.04.2-1.43.59L10.3 9.45l-7.72 7.72c-.78.78-.78 2.05 0 2.83L4 21.41c.39.39.9.59 1.41.59.51 0 1.02-.2 1.41-.59l7.78-7.78 2.81-2.81c.8-.78.8-2.07 0-2.86zM5.41 20L4 18.59l7.72-7.72 1.47 1.35L5.41 20z\"/>\n",
              "  </svg>\n",
              "      </button>\n",
              "      \n",
              "  <style>\n",
              "    .colab-df-container {\n",
              "      display:flex;\n",
              "      flex-wrap:wrap;\n",
              "      gap: 12px;\n",
              "    }\n",
              "\n",
              "    .colab-df-convert {\n",
              "      background-color: #E8F0FE;\n",
              "      border: none;\n",
              "      border-radius: 50%;\n",
              "      cursor: pointer;\n",
              "      display: none;\n",
              "      fill: #1967D2;\n",
              "      height: 32px;\n",
              "      padding: 0 0 0 0;\n",
              "      width: 32px;\n",
              "    }\n",
              "\n",
              "    .colab-df-convert:hover {\n",
              "      background-color: #E2EBFA;\n",
              "      box-shadow: 0px 1px 2px rgba(60, 64, 67, 0.3), 0px 1px 3px 1px rgba(60, 64, 67, 0.15);\n",
              "      fill: #174EA6;\n",
              "    }\n",
              "\n",
              "    [theme=dark] .colab-df-convert {\n",
              "      background-color: #3B4455;\n",
              "      fill: #D2E3FC;\n",
              "    }\n",
              "\n",
              "    [theme=dark] .colab-df-convert:hover {\n",
              "      background-color: #434B5C;\n",
              "      box-shadow: 0px 1px 3px 1px rgba(0, 0, 0, 0.15);\n",
              "      filter: drop-shadow(0px 1px 2px rgba(0, 0, 0, 0.3));\n",
              "      fill: #FFFFFF;\n",
              "    }\n",
              "  </style>\n",
              "\n",
              "      <script>\n",
              "        const buttonEl =\n",
              "          document.querySelector('#df-9db8c291-510a-4a19-8144-d62194beb0ef button.colab-df-convert');\n",
              "        buttonEl.style.display =\n",
              "          google.colab.kernel.accessAllowed ? 'block' : 'none';\n",
              "\n",
              "        async function convertToInteractive(key) {\n",
              "          const element = document.querySelector('#df-9db8c291-510a-4a19-8144-d62194beb0ef');\n",
              "          const dataTable =\n",
              "            await google.colab.kernel.invokeFunction('convertToInteractive',\n",
              "                                                     [key], {});\n",
              "          if (!dataTable) return;\n",
              "\n",
              "          const docLinkHtml = 'Like what you see? Visit the ' +\n",
              "            '<a target=\"_blank\" href=https://colab.research.google.com/notebooks/data_table.ipynb>data table notebook</a>'\n",
              "            + ' to learn more about interactive tables.';\n",
              "          element.innerHTML = '';\n",
              "          dataTable['output_type'] = 'display_data';\n",
              "          await google.colab.output.renderOutput(dataTable, element);\n",
              "          const docLink = document.createElement('div');\n",
              "          docLink.innerHTML = docLinkHtml;\n",
              "          element.appendChild(docLink);\n",
              "        }\n",
              "      </script>\n",
              "    </div>\n",
              "  </div>\n",
              "  "
            ]
          },
          "metadata": {},
          "execution_count": 17
        }
      ]
    },
    {
      "cell_type": "code",
      "source": [
        "def load_clean_descriptions(df):\n",
        "  descriptions = dict()\n",
        "  for i in range(len(df)):\n",
        "    image_id = df.iloc[i]['painting']\n",
        "    image_desc = df.iloc[i]['utterance_spelled']\n",
        "    if image_id not in descriptions:\n",
        "      descriptions[image_id] = list()\n",
        "    desc = 'startseq ' + image_desc + ' endseq'\n",
        "    descriptions[image_id].append(desc)\n",
        "  return descriptions"
      ],
      "metadata": {
        "id": "a7bKA0R2ksnP"
      },
      "execution_count": null,
      "outputs": []
    },
    {
      "cell_type": "code",
      "source": [
        "train_descriptions = load_clean_descriptions(X_train)"
      ],
      "metadata": {
        "id": "5EhwXb6mla7Z"
      },
      "execution_count": null,
      "outputs": []
    },
    {
      "cell_type": "code",
      "source": [
        "test_descriptions = load_clean_descriptions(X_test)"
      ],
      "metadata": {
        "id": "TboNrWyHlgtR"
      },
      "execution_count": null,
      "outputs": []
    },
    {
      "cell_type": "code",
      "source": [
        "# descriptions = dict()\n",
        "# for i in range(len(artemis_2000_subset)):\n",
        "#   image_id = artemis_2000_subset.iloc[i]['painting']\n",
        "#   image_desc = artemis_2000_subset.iloc[i]['utterance_spelled']\n",
        "#   if image_id not in descriptions:\n",
        "#     descriptions[image_id] = list()\n",
        "#   desc = 'startseq ' + image_desc + ' endseq'\n",
        "#   descriptions[image_id].append(desc)"
      ],
      "metadata": {
        "id": "kH0n8_SrTd1c"
      },
      "execution_count": null,
      "outputs": []
    },
    {
      "cell_type": "code",
      "source": [
        "len(artemis_2000_subset['painting'].unique())"
      ],
      "metadata": {
        "colab": {
          "base_uri": "https://localhost:8080/"
        },
        "id": "HzMzJMSDTTRH",
        "outputId": "a0840aea-6571-4737-d5d0-6f381fe1a0c8"
      },
      "execution_count": null,
      "outputs": [
        {
          "output_type": "execute_result",
          "data": {
            "text/plain": [
              "1979"
            ]
          },
          "metadata": {},
          "execution_count": 30
        }
      ]
    },
    {
      "cell_type": "code",
      "metadata": {
        "id": "kDE2NOnVqhjQ"
      },
      "source": [
        "import pickle\n",
        "import numpy as np\n",
        "\n",
        "X = []\n",
        "for i in range(1979):\n",
        "    with open(f'/content/drive/MyDrive/College/Sem 6/CV/Project/features/img{i}.pkl', 'rb') as f:\n",
        "        data = pickle.load(f)\n",
        "    X.append(data[0])\n",
        "\n",
        "X = np.asarray(X)"
      ],
      "execution_count": null,
      "outputs": []
    },
    {
      "cell_type": "code",
      "source": [
        "X.shape"
      ],
      "metadata": {
        "colab": {
          "base_uri": "https://localhost:8080/"
        },
        "id": "DbcOUW-YakB5",
        "outputId": "2635ef22-8bb1-4e8c-eb44-985b11eec94f"
      },
      "execution_count": null,
      "outputs": [
        {
          "output_type": "execute_result",
          "data": {
            "text/plain": [
              "(1979, 2048)"
            ]
          },
          "metadata": {},
          "execution_count": 24
        }
      ]
    },
    {
      "cell_type": "code",
      "source": [
        "features = {artemis_2000_subset['painting'].unique()[i]: X[i] for i in range(len(artemis_2000_subset['painting'].unique()))}"
      ],
      "metadata": {
        "id": "aNzNexAZcWrR"
      },
      "execution_count": null,
      "outputs": []
    },
    {
      "cell_type": "code",
      "source": [
        "features['vincent-van-gogh_portrait-of-madame-ginoux-l-arlesienne-1890']"
      ],
      "metadata": {
        "colab": {
          "base_uri": "https://localhost:8080/"
        },
        "id": "XFnNh2KiczTU",
        "outputId": "7a284d6c-b9d9-4574-8994-bbe1a963c8d3"
      },
      "execution_count": null,
      "outputs": [
        {
          "output_type": "execute_result",
          "data": {
            "text/plain": [
              "array([0.2784216 , 0.527606  , 0.02119292, ..., 0.8763272 , 1.1704551 ,\n",
              "       0.28481564], dtype=float32)"
            ]
          },
          "metadata": {},
          "execution_count": 26
        }
      ]
    },
    {
      "cell_type": "code",
      "source": [
        "def load_photo_features(df, all_features):\n",
        "  features = dict()\n",
        "  for painting in df['painting'].unique():\n",
        "    features[painting] = all_features[painting]\n",
        "  return features"
      ],
      "metadata": {
        "id": "Oc_uw4Arlqwm"
      },
      "execution_count": null,
      "outputs": []
    },
    {
      "cell_type": "code",
      "source": [
        "train_features = load_photo_features(X_train, features)"
      ],
      "metadata": {
        "id": "IqpwFsMQmHI4"
      },
      "execution_count": null,
      "outputs": []
    },
    {
      "cell_type": "code",
      "source": [
        "test_features = load_photo_features(X_test, features)"
      ],
      "metadata": {
        "id": "naQZvwLomOXY"
      },
      "execution_count": null,
      "outputs": []
    },
    {
      "cell_type": "code",
      "source": [
        "train_unique_words = set()\n",
        "for key in train_descriptions:\n",
        "  utterances = train_descriptions[key]\n",
        "  for utterance in utterances:\n",
        "    for word in utterance.split(' '):\n",
        "      train_unique_words.add(word)"
      ],
      "metadata": {
        "id": "StgGuMbfdT4R"
      },
      "execution_count": null,
      "outputs": []
    },
    {
      "cell_type": "code",
      "source": [
        "# unique_words = set()\n",
        "# for utterance in painting_features_1000_subset['utterance_spelled_model']:\n",
        "#     for word in utterance.split(' '):\n",
        "#       unique_words.add(word)"
      ],
      "metadata": {
        "id": "5KFQt-0ILhVy"
      },
      "execution_count": null,
      "outputs": []
    },
    {
      "cell_type": "code",
      "source": [
        "len(train_unique_words)"
      ],
      "metadata": {
        "colab": {
          "base_uri": "https://localhost:8080/"
        },
        "id": "mGTK9C7mMwIS",
        "outputId": "1c717b87-bd25-44c5-9cf9-4f2a6817115a"
      },
      "execution_count": null,
      "outputs": [
        {
          "output_type": "execute_result",
          "data": {
            "text/plain": [
              "3171"
            ]
          },
          "metadata": {},
          "execution_count": 49
        }
      ]
    },
    {
      "cell_type": "code",
      "source": [
        "test_unique_words = set()\n",
        "for key in test_descriptions:\n",
        "  utterances = test_descriptions[key]\n",
        "  for utterance in utterances:\n",
        "    for word in utterance.split(' '):\n",
        "      test_unique_words.add(word)"
      ],
      "metadata": {
        "id": "0v6JJxxUjrQm"
      },
      "execution_count": null,
      "outputs": []
    },
    {
      "cell_type": "code",
      "source": [
        "len(test_unique_words)"
      ],
      "metadata": {
        "colab": {
          "base_uri": "https://localhost:8080/"
        },
        "outputId": "795397de-8d12-486d-f80e-38cbc38e62ea",
        "id": "KhGThvPGjrQn"
      },
      "execution_count": null,
      "outputs": [
        {
          "output_type": "execute_result",
          "data": {
            "text/plain": [
              "1352"
            ]
          },
          "metadata": {},
          "execution_count": 51
        }
      ]
    },
    {
      "cell_type": "code",
      "source": [
        "too_long_len = np.percentile(artemis_2000_subset['tokens_len'], 100)"
      ],
      "metadata": {
        "id": "vrExS3Lw1Ic-"
      },
      "execution_count": null,
      "outputs": []
    },
    {
      "cell_type": "code",
      "source": [
        "too_long_len"
      ],
      "metadata": {
        "colab": {
          "base_uri": "https://localhost:8080/"
        },
        "id": "Xs3_tDL7M3oI",
        "outputId": "6af463c7-1764-4306-903a-d1b49629f29a"
      },
      "execution_count": null,
      "outputs": [
        {
          "output_type": "execute_result",
          "data": {
            "text/plain": [
              "68.0"
            ]
          },
          "metadata": {},
          "execution_count": 45
        }
      ]
    },
    {
      "cell_type": "code",
      "source": [
        "# covert a dictionary of clean descriptions to a list of descriptions\n",
        "def to_lines(descriptions):\n",
        "\tall_desc = list()\n",
        "\tfor key in descriptions.keys():\n",
        "\t\t[all_desc.append(d) for d in descriptions[key]]\n",
        "\treturn all_desc"
      ],
      "metadata": {
        "id": "RvZSMhMVfU-l"
      },
      "execution_count": null,
      "outputs": []
    },
    {
      "cell_type": "code",
      "source": [
        "# fit a tokenizer given caption descriptions\n",
        "def create_tokenizer(descriptions):\n",
        "\tlines = to_lines(descriptions)\n",
        "\ttokenizer = Tokenizer()\n",
        "\ttokenizer.fit_on_texts(lines)\n",
        "\treturn tokenizer"
      ],
      "metadata": {
        "id": "YyjJpg7rfZjT"
      },
      "execution_count": null,
      "outputs": []
    },
    {
      "cell_type": "code",
      "source": [
        "# calculate the length of the description with the most words\n",
        "def max_length(descriptions):\n",
        "\tlines = to_lines(descriptions)\n",
        "\treturn max(len(d.split()) for d in lines)"
      ],
      "metadata": {
        "id": "Mf1fEStcfteE"
      },
      "execution_count": null,
      "outputs": []
    },
    {
      "cell_type": "code",
      "source": [
        "# create sequences of images, input sequences and output words for an image\n",
        "def create_sequences(tokenizer, max_length, descriptions, photos, vocab_size):\n",
        "\tX1, X2, y = list(), list(), list()\n",
        "\t# walk through each image identifier\n",
        "\tfor key, desc_list in descriptions.items():\n",
        "\t\t# walk through each description for the image\n",
        "\t\tfor desc in desc_list:\n",
        "\t\t\t# encode the sequence\n",
        "\t\t\tseq = tokenizer.texts_to_sequences([desc])[0]\n",
        "\t\t\t# split one sequence into multiple X,y pairs\n",
        "\t\t\tfor i in range(1, len(seq)):\n",
        "\t\t\t\t# split into input and output pair\n",
        "\t\t\t\tin_seq, out_seq = seq[:i], seq[i]\n",
        "\t\t\t\t# pad input sequence\n",
        "\t\t\t\tin_seq = pad_sequences([in_seq], maxlen=max_length)[0]\n",
        "\t\t\t\t# encode output sequence\n",
        "\t\t\t\tout_seq = to_categorical([out_seq], num_classes=vocab_size)[0]\n",
        "\t\t\t\t# store\n",
        "\t\t\t\tX1.append(photos[key])\n",
        "\t\t\t\tX2.append(in_seq)\n",
        "\t\t\t\ty.append(out_seq)\n",
        "\treturn array(X1), array(X2), array(y)"
      ],
      "metadata": {
        "id": "S0wbosOAfx7R"
      },
      "execution_count": null,
      "outputs": []
    },
    {
      "cell_type": "code",
      "source": [
        "# define the captioning model\n",
        "def define_model(vocab_size, max_length):\n",
        "\t# feature extractor model\n",
        "\tinputs1 = Input(shape=(2048,))\n",
        "\tfe1 = Dropout(0.5)(inputs1)\n",
        "\tfe2 = Dense(256, activation='relu')(fe1)\n",
        "\t# sequence model\n",
        "\tinputs2 = Input(shape=(max_length,))\n",
        "\tse1 = Embedding(vocab_size, 256, mask_zero=True)(inputs2)\n",
        "\tse2 = Dropout(0.5)(se1)\n",
        "\tse3 = LSTM(256)(se2)\n",
        "\t# decoder model\n",
        "\tdecoder1 = add([fe2, se3])\n",
        "\tdecoder2 = Dense(256, activation='relu')(decoder1)\n",
        "\toutputs = Dense(vocab_size, activation='softmax')(decoder2)\n",
        "\t# tie it together [image, seq] [word]\n",
        "\tmodel = Model(inputs=[inputs1, inputs2], outputs=outputs)\n",
        "\tmodel.compile(loss='categorical_crossentropy', optimizer='adam')\n",
        "\t# summarize model\n",
        "\tprint(model.summary())\n",
        "\tplot_model(model, to_file='model.png', show_shapes=True)\n",
        "\treturn model"
      ],
      "metadata": {
        "id": "Pw5wy7QCf6YM"
      },
      "execution_count": null,
      "outputs": []
    },
    {
      "cell_type": "code",
      "source": [
        "tokenizer = create_tokenizer(train_descriptions)\n",
        "vocab_size = len(tokenizer.word_index) + 1\n",
        "max_length = max_length(train_descriptions)"
      ],
      "metadata": {
        "id": "Y5t4qayFkZDv"
      },
      "execution_count": null,
      "outputs": []
    },
    {
      "cell_type": "code",
      "source": [
        "max_length"
      ],
      "metadata": {
        "colab": {
          "base_uri": "https://localhost:8080/"
        },
        "id": "qAyBxs4nUX8V",
        "outputId": "a40fb4ab-3990-4153-86e8-8eddea7ec003"
      },
      "execution_count": null,
      "outputs": [
        {
          "output_type": "execute_result",
          "data": {
            "text/plain": [
              "70"
            ]
          },
          "metadata": {},
          "execution_count": 158
        }
      ]
    },
    {
      "cell_type": "code",
      "source": [
        "vocab_size"
      ],
      "metadata": {
        "colab": {
          "base_uri": "https://localhost:8080/"
        },
        "id": "_fXdD70XkcNv",
        "outputId": "7f4337e7-a1dc-4c52-e1d4-57534046fddd"
      },
      "execution_count": null,
      "outputs": [
        {
          "output_type": "execute_result",
          "data": {
            "text/plain": [
              "3169"
            ]
          },
          "metadata": {},
          "execution_count": 159
        }
      ]
    },
    {
      "cell_type": "code",
      "source": [
        "# prepare sequences\n",
        "# X1train, X2train, ytrain = create_sequences(create_tokenizer(train_descriptions), max_length(train_descriptions), train_descriptions, train_features, len(train_unique_words))"
      ],
      "metadata": {
        "id": "Pbp0MG8hiLY5"
      },
      "execution_count": null,
      "outputs": []
    },
    {
      "cell_type": "code",
      "source": [
        "# prepare sequences\n",
        "X1train, X2train, ytrain = create_sequences(tokenizer, max_length, train_descriptions, train_features, vocab_size)"
      ],
      "metadata": {
        "id": "R5UyKZd8krup"
      },
      "execution_count": null,
      "outputs": []
    },
    {
      "cell_type": "code",
      "source": [
        "# prepare sequences\n",
        "X1test, X2test, ytest = create_sequences(tokenizer, max_length, test_descriptions, test_features, vocab_size)"
      ],
      "metadata": {
        "id": "J68KKgfqiTOd"
      },
      "execution_count": null,
      "outputs": []
    },
    {
      "cell_type": "code",
      "source": [
        "# X1, X2, y = create_sequences(create_tokenizer(descriptions), max_length(descriptions), descriptions, features, 3548)"
      ],
      "metadata": {
        "id": "FRSw1GLyhLwz"
      },
      "execution_count": null,
      "outputs": []
    },
    {
      "cell_type": "code",
      "source": [
        "len(X1train)"
      ],
      "metadata": {
        "colab": {
          "base_uri": "https://localhost:8080/"
        },
        "id": "afvx0dPYiw3_",
        "outputId": "e6292cab-987d-491f-e475-499827826a6d"
      },
      "execution_count": null,
      "outputs": [
        {
          "output_type": "execute_result",
          "data": {
            "text/plain": [
              "26481"
            ]
          },
          "metadata": {},
          "execution_count": 60
        }
      ]
    },
    {
      "cell_type": "code",
      "source": [
        "model = define_model(vocab_size, max_length)"
      ],
      "metadata": {
        "colab": {
          "base_uri": "https://localhost:8080/"
        },
        "id": "nOtW2ZkVlKjO",
        "outputId": "dc412965-5d8c-4c1d-bd60-24df48c71957"
      },
      "execution_count": null,
      "outputs": [
        {
          "output_type": "stream",
          "name": "stdout",
          "text": [
            "Model: \"model\"\n",
            "__________________________________________________________________________________________________\n",
            " Layer (type)                   Output Shape         Param #     Connected to                     \n",
            "==================================================================================================\n",
            " input_2 (InputLayer)           [(None, 70)]         0           []                               \n",
            "                                                                                                  \n",
            " input_1 (InputLayer)           [(None, 2048)]       0           []                               \n",
            "                                                                                                  \n",
            " embedding (Embedding)          (None, 70, 256)      811264      ['input_2[0][0]']                \n",
            "                                                                                                  \n",
            " dropout (Dropout)              (None, 2048)         0           ['input_1[0][0]']                \n",
            "                                                                                                  \n",
            " dropout_1 (Dropout)            (None, 70, 256)      0           ['embedding[0][0]']              \n",
            "                                                                                                  \n",
            " dense (Dense)                  (None, 256)          524544      ['dropout[0][0]']                \n",
            "                                                                                                  \n",
            " lstm (LSTM)                    (None, 256)          525312      ['dropout_1[0][0]']              \n",
            "                                                                                                  \n",
            " add (Add)                      (None, 256)          0           ['dense[0][0]',                  \n",
            "                                                                  'lstm[0][0]']                   \n",
            "                                                                                                  \n",
            " dense_1 (Dense)                (None, 256)          65792       ['add[0][0]']                    \n",
            "                                                                                                  \n",
            " dense_2 (Dense)                (None, 3169)         814433      ['dense_1[0][0]']                \n",
            "                                                                                                  \n",
            "==================================================================================================\n",
            "Total params: 2,741,345\n",
            "Trainable params: 2,741,345\n",
            "Non-trainable params: 0\n",
            "__________________________________________________________________________________________________\n",
            "None\n"
          ]
        }
      ]
    },
    {
      "cell_type": "code",
      "source": [
        "# define checkpoint callback\n",
        "filepath = 'model-ep{epoch:03d}-loss{loss:.3f}-val_loss{val_loss:.3f}.h5'\n",
        "checkpoint = ModelCheckpoint(filepath, monitor='val_loss', verbose=1, save_best_only=True, mode='min')"
      ],
      "metadata": {
        "id": "B1L-ZqtwlPTz"
      },
      "execution_count": null,
      "outputs": []
    },
    {
      "cell_type": "code",
      "source": [
        "# fit model\n",
        "model.fit([X1train, X2train], ytrain, epochs=20, verbose=1, callbacks=[checkpoint], validation_data=([X1test, X2test], ytest))"
      ],
      "metadata": {
        "colab": {
          "base_uri": "https://localhost:8080/"
        },
        "id": "GgqbFNvulW8k",
        "outputId": "7f265c8f-4694-4542-ccb1-42bb3216b9a2"
      },
      "execution_count": null,
      "outputs": [
        {
          "output_type": "stream",
          "name": "stdout",
          "text": [
            "Epoch 1/20\n",
            "828/828 [==============================] - ETA: 0s - loss: 5.3367\n",
            "Epoch 1: val_loss improved from inf to 4.91436, saving model to model-ep001-loss5.337-val_loss4.914.h5\n",
            "828/828 [==============================] - 306s 369ms/step - loss: 5.3367 - val_loss: 4.9144\n",
            "Epoch 2/20\n",
            "828/828 [==============================] - ETA: 0s - loss: 4.7723\n",
            "Epoch 2: val_loss improved from 4.91436 to 4.61848, saving model to model-ep002-loss4.772-val_loss4.618.h5\n",
            "828/828 [==============================] - 288s 347ms/step - loss: 4.7723 - val_loss: 4.6185\n",
            "Epoch 3/20\n",
            "828/828 [==============================] - ETA: 0s - loss: 4.3841\n",
            "Epoch 3: val_loss improved from 4.61848 to 4.52182, saving model to model-ep003-loss4.384-val_loss4.522.h5\n",
            "828/828 [==============================] - 278s 335ms/step - loss: 4.3841 - val_loss: 4.5218\n",
            "Epoch 4/20\n",
            "828/828 [==============================] - ETA: 0s - loss: 4.0765\n",
            "Epoch 4: val_loss did not improve from 4.52182\n",
            "828/828 [==============================] - 280s 338ms/step - loss: 4.0765 - val_loss: 4.5245\n",
            "Epoch 5/20\n",
            "828/828 [==============================] - ETA: 0s - loss: 3.8161\n",
            "Epoch 5: val_loss did not improve from 4.52182\n",
            "828/828 [==============================] - 278s 336ms/step - loss: 3.8161 - val_loss: 4.5888\n",
            "Epoch 6/20\n",
            "828/828 [==============================] - ETA: 0s - loss: 3.5704\n",
            "Epoch 6: val_loss did not improve from 4.52182\n",
            "828/828 [==============================] - 278s 336ms/step - loss: 3.5704 - val_loss: 4.7681\n",
            "Epoch 7/20\n",
            "828/828 [==============================] - ETA: 0s - loss: 3.3313\n",
            "Epoch 7: val_loss did not improve from 4.52182\n",
            "828/828 [==============================] - 275s 332ms/step - loss: 3.3313 - val_loss: 4.9136\n",
            "Epoch 8/20\n",
            "828/828 [==============================] - ETA: 0s - loss: 3.0905\n",
            "Epoch 8: val_loss did not improve from 4.52182\n",
            "828/828 [==============================] - 270s 327ms/step - loss: 3.0905 - val_loss: 5.2339\n",
            "Epoch 9/20\n",
            "828/828 [==============================] - ETA: 0s - loss: 2.8458\n",
            "Epoch 9: val_loss did not improve from 4.52182\n",
            "828/828 [==============================] - 272s 328ms/step - loss: 2.8458 - val_loss: 5.4823\n",
            "Epoch 10/20\n",
            "828/828 [==============================] - ETA: 0s - loss: 2.5993\n",
            "Epoch 10: val_loss did not improve from 4.52182\n",
            "828/828 [==============================] - 273s 330ms/step - loss: 2.5993 - val_loss: 5.8845\n",
            "Epoch 11/20\n",
            "828/828 [==============================] - ETA: 0s - loss: 2.3690\n",
            "Epoch 11: val_loss did not improve from 4.52182\n",
            "828/828 [==============================] - 272s 329ms/step - loss: 2.3690 - val_loss: 6.2899\n",
            "Epoch 12/20\n",
            "828/828 [==============================] - ETA: 0s - loss: 2.1479\n",
            "Epoch 12: val_loss did not improve from 4.52182\n",
            "828/828 [==============================] - 273s 329ms/step - loss: 2.1479 - val_loss: 6.7256\n",
            "Epoch 13/20\n",
            "828/828 [==============================] - ETA: 0s - loss: 1.9434\n",
            "Epoch 13: val_loss did not improve from 4.52182\n",
            "828/828 [==============================] - 272s 329ms/step - loss: 1.9434 - val_loss: 7.1365\n",
            "Epoch 14/20\n",
            "828/828 [==============================] - ETA: 0s - loss: 1.7617\n",
            "Epoch 14: val_loss did not improve from 4.52182\n",
            "828/828 [==============================] - 272s 328ms/step - loss: 1.7617 - val_loss: 7.6281\n",
            "Epoch 15/20\n",
            "828/828 [==============================] - ETA: 0s - loss: 1.5983\n",
            "Epoch 15: val_loss did not improve from 4.52182\n",
            "828/828 [==============================] - 271s 327ms/step - loss: 1.5983 - val_loss: 7.9390\n",
            "Epoch 16/20\n",
            "828/828 [==============================] - ETA: 0s - loss: 1.4638\n",
            "Epoch 16: val_loss did not improve from 4.52182\n",
            "828/828 [==============================] - 273s 330ms/step - loss: 1.4638 - val_loss: 8.3106\n",
            "Epoch 17/20\n",
            "828/828 [==============================] - ETA: 0s - loss: 1.3284\n",
            "Epoch 17: val_loss did not improve from 4.52182\n",
            "828/828 [==============================] - 269s 325ms/step - loss: 1.3284 - val_loss: 8.6448\n",
            "Epoch 18/20\n",
            "828/828 [==============================] - ETA: 0s - loss: 1.2151\n",
            "Epoch 18: val_loss did not improve from 4.52182\n",
            "828/828 [==============================] - 272s 328ms/step - loss: 1.2151 - val_loss: 8.9331\n",
            "Epoch 19/20\n",
            "828/828 [==============================] - ETA: 0s - loss: 1.1287\n",
            "Epoch 19: val_loss did not improve from 4.52182\n",
            "828/828 [==============================] - 267s 322ms/step - loss: 1.1287 - val_loss: 9.3236\n",
            "Epoch 20/20\n",
            "828/828 [==============================] - ETA: 0s - loss: 1.0427\n",
            "Epoch 20: val_loss did not improve from 4.52182\n",
            "828/828 [==============================] - 270s 326ms/step - loss: 1.0427 - val_loss: 9.5511\n"
          ]
        },
        {
          "output_type": "execute_result",
          "data": {
            "text/plain": [
              "<keras.callbacks.History at 0x7fd2345fa5d0>"
            ]
          },
          "metadata": {},
          "execution_count": 67
        }
      ]
    },
    {
      "cell_type": "markdown",
      "source": [
        "# **Evaluate Model**"
      ],
      "metadata": {
        "id": "wP27UE-DmKH4"
      }
    },
    {
      "cell_type": "code",
      "source": [
        "# map an integer to a word\n",
        "def word_for_id(integer, tokenizer):\n",
        "\tfor word, index in tokenizer.word_index.items():\n",
        "\t\tif index == integer:\n",
        "\t\t\treturn word\n",
        "\treturn None"
      ],
      "metadata": {
        "id": "-PZL-X21mJfn"
      },
      "execution_count": null,
      "outputs": []
    },
    {
      "cell_type": "code",
      "source": [
        "from numpy import argmax\n",
        "\n",
        "# generate a description for an image\n",
        "def generate_desc(model, tokenizer, photo, max_length):\n",
        "  # seed the generation process\n",
        "  in_text = 'startseq'\n",
        "  # iterate over the whole length of the sequence\n",
        "  for i in range(max_length):\n",
        "    # integer encode input sequence\n",
        "    sequence = tokenizer.texts_to_sequences([in_text])[0]\n",
        "    # pad input\n",
        "    sequence = pad_sequences([sequence], maxlen=max_length)\n",
        "    # predict next word\n",
        "    # print([photo,sequence])\n",
        "    yhat = model.predict([photo,sequence], verbose=0)\n",
        "    # convert probability to integer\n",
        "    yhat = argmax(yhat)\n",
        "    # map integer to word\n",
        "    word = word_for_id(yhat, tokenizer)\n",
        "    # stop if we cannot map the word\n",
        "    if word is None:\n",
        "      break\n",
        "    # append as input for generating the next word\n",
        "    in_text += ' ' + word\n",
        "\t\t# stop if we predict the end of the sequence\n",
        "    if word == 'endseq':\n",
        "      break\n",
        "  return in_text"
      ],
      "metadata": {
        "id": "oIz1YhVF-5Nb"
      },
      "execution_count": null,
      "outputs": []
    },
    {
      "cell_type": "code",
      "source": [
        "from keras.models import load_model\n",
        "from nltk.translate.bleu_score import corpus_bleu"
      ],
      "metadata": {
        "id": "WqgSmnaP75Fw"
      },
      "execution_count": null,
      "outputs": []
    },
    {
      "cell_type": "code",
      "source": [
        "# evaluate the skill of the model\n",
        "def evaluate_model(model, descriptions, photos, tokenizer, max_length):\n",
        "\tactual, predicted = list(), list()\n",
        "\t# step over the whole set\n",
        "\tfor key, desc_list in descriptions.items():\n",
        "\t\t# generate description\n",
        "\t\tyhat = generate_desc(model, tokenizer, np.array([photos[key]]), max_length)\n",
        "\t\t# store actual and predicted\n",
        "\t\treferences = [d.split() for d in desc_list]\n",
        "\t\tactual.append(references)\n",
        "\t\tpredicted.append(yhat.split())\n",
        "\t# calculate BLEU score\n",
        "\tprint('BLEU-1: %f' % corpus_bleu(actual, predicted, weights=(1.0, 0, 0, 0)))\n",
        "\tprint('BLEU-2: %f' % corpus_bleu(actual, predicted, weights=(0.5, 0.5, 0, 0)))\n",
        "\tprint('BLEU-3: %f' % corpus_bleu(actual, predicted, weights=(0.3, 0.3, 0.3, 0)))\n",
        "\tprint('BLEU-4: %f' % corpus_bleu(actual, predicted, weights=(0.25, 0.25, 0.25, 0.25)))"
      ],
      "metadata": {
        "id": "QZwzci-ZmWmU"
      },
      "execution_count": null,
      "outputs": []
    },
    {
      "cell_type": "code",
      "source": [
        "np.array([test_features['laszlo-mednyanszky_angler-1890']])"
      ],
      "metadata": {
        "colab": {
          "base_uri": "https://localhost:8080/"
        },
        "id": "O6HhoRQ0Omlw",
        "outputId": "8dc9d068-813f-468d-931f-34bbc66c5c15"
      },
      "execution_count": null,
      "outputs": [
        {
          "output_type": "execute_result",
          "data": {
            "text/plain": [
              "array([[0.11662248, 0.31405002, 0.0572401 , ..., 0.7801989 , 0.03264289,\n",
              "        0.00292518]], dtype=float32)"
            ]
          },
          "metadata": {},
          "execution_count": 204
        }
      ]
    },
    {
      "cell_type": "code",
      "source": [
        "# load the model\n",
        "filename = 'model-ep002-loss3.245-val_loss3.612.h5'\n",
        "model = load_model(filename)"
      ],
      "metadata": {
        "id": "zMDhUuR3mnmS"
      },
      "execution_count": null,
      "outputs": []
    },
    {
      "cell_type": "code",
      "source": [
        "test_descriptions"
      ],
      "metadata": {
        "id": "Dfs6LX968Svt"
      },
      "execution_count": null,
      "outputs": []
    },
    {
      "cell_type": "code",
      "source": [
        "a = np.array(list(test_features.values()))"
      ],
      "metadata": {
        "id": "eP6qyIlG8cxc"
      },
      "execution_count": null,
      "outputs": []
    },
    {
      "cell_type": "code",
      "source": [
        "a.shape"
      ],
      "metadata": {
        "colab": {
          "base_uri": "https://localhost:8080/"
        },
        "id": "AyGW0n-19FxS",
        "outputId": "19a29316-c2a8-425d-a91d-96724878bafa"
      },
      "execution_count": null,
      "outputs": [
        {
          "output_type": "execute_result",
          "data": {
            "text/plain": [
              "(399, 2048)"
            ]
          },
          "metadata": {},
          "execution_count": 93
        }
      ]
    },
    {
      "cell_type": "code",
      "source": [
        "# evaluate model\n",
        "evaluate_model(model, test_descriptions, test_features, tokenizer, max_length)"
      ],
      "metadata": {
        "id": "I9T4A6-WmpsJ"
      },
      "execution_count": null,
      "outputs": []
    },
    {
      "cell_type": "markdown",
      "source": [
        "\n",
        "\n",
        "```\n",
        "BLEU-1: 0.283648\n",
        "BLEU-2: 0.142414\n",
        "BLEU-3: 0.083636\n",
        "BLEU-4: 0.033998\n",
        "```\n",
        "\n"
      ],
      "metadata": {
        "id": "0C3TYsYfUKlx"
      }
    },
    {
      "cell_type": "code",
      "source": [
        "test_descriptions['vincent-van-gogh_la-crau-1888']"
      ],
      "metadata": {
        "colab": {
          "base_uri": "https://localhost:8080/"
        },
        "id": "E2SsmipsUoa8",
        "outputId": "1f47e35c-4f8d-4fbb-9ea1-12f3d9ae0706"
      },
      "execution_count": null,
      "outputs": [
        {
          "output_type": "execute_result",
          "data": {
            "text/plain": [
              "['startseq its a sketch of a long and wide field where not much is happening endseq']"
            ]
          },
          "metadata": {},
          "execution_count": 161
        }
      ]
    },
    {
      "cell_type": "code",
      "source": [
        "from PIL import Image\n",
        "from matplotlib.pyplot import imshow\n",
        "# creating a object\n",
        "im = Image.open(\"/content/drive/MyDrive/College/Sem 6/CV/Project/wikiart/Post_Impressionism/vincent-van-gogh_la-crau-1888.jpg\")\n",
        " \n",
        "imshow(im)\n",
        "\n",
        "print(' '.join(generate_desc(model, tokenizer, np.array([test_features['vincent-van-gogh_la-crau-1888']]), max_length).split(' ')[1:-1]))"
      ],
      "metadata": {
        "colab": {
          "base_uri": "https://localhost:8080/",
          "height": 285
        },
        "id": "7SSMQidMW7yV",
        "outputId": "bcc84179-b2c5-4fc8-9502-3485b4f31dbd"
      },
      "execution_count": null,
      "outputs": [
        {
          "output_type": "stream",
          "name": "stdout",
          "text": [
            "the trees are quite lovely and i find the way it is like the water\n"
          ]
        },
        {
          "output_type": "display_data",
          "data": {
            "text/plain": [
              "<Figure size 432x288 with 1 Axes>"
            ],
            "image/png": "[encoded data removed]"
          },
          "metadata": {
            "needs_background": "light"
          }
        }
      ]
    },
    {
      "cell_type": "code",
      "source": [
        "' '.join(generate_desc(model, tokenizer, np.array([test_features['vincent-van-gogh_la-crau-1888']]), max_length).split(' ')[1:-1])"
      ],
      "metadata": {
        "colab": {
          "base_uri": "https://localhost:8080/",
          "height": 35
        },
        "id": "eS4jZFLZUzVz",
        "outputId": "968da4d8-820c-454a-e154-97027668fcc5"
      },
      "execution_count": null,
      "outputs": [
        {
          "output_type": "execute_result",
          "data": {
            "text/plain": [
              "'the trees are quite lovely and i find the way it is like the water'"
            ],
            "application/vnd.google.colaboratory.intrinsic+json": {
              "type": "string"
            }
          },
          "metadata": {},
          "execution_count": 206
        }
      ]
    },
    {
      "cell_type": "markdown",
      "source": [
        "# **Generate Caption for random image**"
      ],
      "metadata": {
        "id": "Hyfq3IXlYZ7m"
      }
    },
    {
      "cell_type": "code",
      "source": [
        "from keras.preprocessing.image import load_img\n",
        "from keras.preprocessing.image import img_to_array\n",
        "from keras.applications.resnet import preprocess_input\n",
        "from keras.applications.resnet import decode_predictions\n",
        "from keras.applications.resnet import ResNet50\n",
        "from keras.models import Model\n",
        "from pickle import dump\n",
        "\n",
        "image_path = f\"/content/drive/MyDrive/College/Sem 6/CV/Project/starry_night.jpeg\"\n",
        "image = load_img(image_path, target_size=(224, 224))\n",
        "# convert the image pixels to a numpy array\n",
        "image = img_to_array(image)\n",
        "# reshape data for the model\n",
        "image = image.reshape((1, image.shape[0], image.shape[1], image.shape[2]))\n",
        "# prepare the image for the VGG model\n",
        "image = preprocess_input(image)\n",
        "# load model\n",
        "model = ResNet50()\n",
        "# remove the output layer\n",
        "model = Model(inputs=model.inputs, outputs=model.layers[-2].output)\n",
        "# get extracted features\n",
        "features = model.predict(image)\n",
        "if i % 500 == 0:\n",
        "  print(features.shape)\n",
        "# save to file\n",
        "dump(features, open(f'/content/drive/MyDrive/College/Sem 6/CV/Project/starry_night.pkl', 'wb'))"
      ],
      "metadata": {
        "colab": {
          "base_uri": "https://localhost:8080/"
        },
        "id": "xJuFYF01YZcg",
        "outputId": "121ece2a-6f25-4e15-b7b2-6ac148377b4a"
      },
      "execution_count": null,
      "outputs": [
        {
          "output_type": "stream",
          "name": "stdout",
          "text": [
            "Downloading data from https://storage.googleapis.com/tensorflow/keras-applications/resnet/resnet50_weights_tf_dim_ordering_tf_kernels.h5\n",
            "102973440/102967424 [==============================] - 1s 0us/step\n",
            "102981632/102967424 [==============================] - 1s 0us/step\n"
          ]
        }
      ]
    },
    {
      "cell_type": "code",
      "source": [
        "path = \"/content/drive/MyDrive/College/Sem 6/CV/Project/starry_night.jpeg\"\n",
        "path.split('/')[-1].split('.')[0]"
      ],
      "metadata": {
        "colab": {
          "base_uri": "https://localhost:8080/",
          "height": 35
        },
        "id": "fNed3Aa3cRZY",
        "outputId": "3fe6e79b-cbc6-4566-abab-ab44b4a8e9f7"
      },
      "execution_count": null,
      "outputs": [
        {
          "output_type": "execute_result",
          "data": {
            "text/plain": [
              "'starry_night'"
            ],
            "application/vnd.google.colaboratory.intrinsic+json": {
              "type": "string"
            }
          },
          "metadata": {},
          "execution_count": 208
        }
      ]
    },
    {
      "cell_type": "code",
      "source": [
        "with open(f'/content/drive/MyDrive/College/Sem 6/CV/Project/Random Caption Generations/starry_night.pkl', 'rb') as f:\n",
        "  data = pickle.load(f)"
      ],
      "metadata": {
        "id": "P1yiy-bCZGya"
      },
      "execution_count": null,
      "outputs": []
    },
    {
      "cell_type": "code",
      "source": [
        "data"
      ],
      "metadata": {
        "colab": {
          "base_uri": "https://localhost:8080/"
        },
        "id": "ujKCJ0HmaTG_",
        "outputId": "fa1fe115-d260-4969-9357-a0caca56ca5b"
      },
      "execution_count": null,
      "outputs": [
        {
          "output_type": "execute_result",
          "data": {
            "text/plain": [
              "array([[0.12275859, 1.1882615 , 0.31884986, ..., 0.        , 0.41195327,\n",
              "        0.30720192]], dtype=float32)"
            ]
          },
          "metadata": {},
          "execution_count": 197
        }
      ]
    },
    {
      "cell_type": "code",
      "source": [
        "np.array([test_features['vincent-van-gogh_la-crau-1888']])"
      ],
      "metadata": {
        "colab": {
          "base_uri": "https://localhost:8080/"
        },
        "id": "vMIlP8P6aXIL",
        "outputId": "be59b556-781b-478d-c945-f80cc8146597"
      },
      "execution_count": null,
      "outputs": [
        {
          "output_type": "execute_result",
          "data": {
            "text/plain": [
              "array([[0.29857787, 0.00343432, 0.        , ..., 0.17570846, 0.03945144,\n",
              "        0.24450475]], dtype=float32)"
            ]
          },
          "metadata": {},
          "execution_count": 198
        }
      ]
    },
    {
      "cell_type": "code",
      "source": [
        "data.shape"
      ],
      "metadata": {
        "colab": {
          "base_uri": "https://localhost:8080/"
        },
        "id": "8dFExwXjZOP9",
        "outputId": "6dbac98e-94ff-4c19-e1a8-0761f2ec999d"
      },
      "execution_count": null,
      "outputs": [
        {
          "output_type": "execute_result",
          "data": {
            "text/plain": [
              "(1, 2048)"
            ]
          },
          "metadata": {},
          "execution_count": 193
        }
      ]
    },
    {
      "cell_type": "code",
      "source": [
        "np.array([test_features['vincent-van-gogh_la-crau-1888']]).shape"
      ],
      "metadata": {
        "colab": {
          "base_uri": "https://localhost:8080/"
        },
        "id": "KffqEzbvZw10",
        "outputId": "bd2ea9d1-0cc0-47ae-d782-2e973749818c"
      },
      "execution_count": null,
      "outputs": [
        {
          "output_type": "execute_result",
          "data": {
            "text/plain": [
              "(1, 2048)"
            ]
          },
          "metadata": {},
          "execution_count": 194
        }
      ]
    },
    {
      "cell_type": "code",
      "source": [
        "' '.join(generate_desc(model, tokenizer, data, max_length).split(' ')[1:-1])"
      ],
      "metadata": {
        "colab": {
          "base_uri": "https://localhost:8080/",
          "height": 35
        },
        "outputId": "807c1e51-2701-4479-e9ad-e3979318b6cb",
        "id": "nihXtxC2ZZmK"
      },
      "execution_count": null,
      "outputs": [
        {
          "output_type": "execute_result",
          "data": {
            "text/plain": [
              "'the man is quite lovely and i find the way it is like a lot of the way'"
            ],
            "application/vnd.google.colaboratory.intrinsic+json": {
              "type": "string"
            }
          },
          "metadata": {},
          "execution_count": 207
        }
      ]
    },
    {
      "cell_type": "code",
      "source": [
        "def save_image_to_pkl(image_path):\n",
        "  image_name_with_type = image_path.split('/')[-1]\n",
        "  image_name = image_name_with_type.split('.')[0]\n",
        "  image = load_img(image_path, target_size=(224, 224))\n",
        "  # convert the image pixels to a numpy array\n",
        "  image = img_to_array(image)\n",
        "  # reshape data for the model\n",
        "  image = image.reshape((1, image.shape[0], image.shape[1], image.shape[2]))\n",
        "  # prepare the image for the VGG model\n",
        "  image = preprocess_input(image)\n",
        "  # load model\n",
        "  model = ResNet50()\n",
        "  # remove the output layer\n",
        "  model = Model(inputs=model.inputs, outputs=model.layers[-2].output)\n",
        "  # get extracted features\n",
        "  features = model.predict(image)\n",
        "  # save to file\n",
        "  pkl_path = f'/content/drive/MyDrive/College/Sem 6/CV/Project/Random Caption Generations/{image_name}.pkl'\n",
        "  dump(features, open(pkl_path, 'wb'))\n",
        "  return pkl_path"
      ],
      "metadata": {
        "id": "pn9QY997bjE6"
      },
      "execution_count": null,
      "outputs": []
    },
    {
      "cell_type": "code",
      "source": [
        "def get_features(pkl_path):\n",
        "  with open(pkl_path, 'rb') as f:\n",
        "    data = pickle.load(f)\n",
        "  return data"
      ],
      "metadata": {
        "id": "H1IUUBn4cjUd"
      },
      "execution_count": null,
      "outputs": []
    },
    {
      "cell_type": "code",
      "source": [
        "def generate_caption(data):\n",
        "  caption = ' '.join(generate_desc(model, tokenizer, data, max_length).split(' ')[1:-1])\n",
        "  return caption"
      ],
      "metadata": {
        "id": "SyoWoIbLkVnK"
      },
      "execution_count": null,
      "outputs": []
    },
    {
      "cell_type": "code",
      "source": [
        "path = save_image_to_pkl('/content/drive/MyDrive/College/Sem 6/CV/Project/Random Caption Generations/the_scream.jpeg')"
      ],
      "metadata": {
        "colab": {
          "base_uri": "https://localhost:8080/"
        },
        "id": "G8do1EZxdGXe",
        "outputId": "1b345d65-3c66-4860-c215-3c260ea389e4"
      },
      "execution_count": null,
      "outputs": [
        {
          "output_type": "stream",
          "name": "stdout",
          "text": [
            "WARNING:tensorflow:5 out of the last 39 calls to <function Model.make_predict_function.<locals>.predict_function at 0x7fd1b76c39e0> triggered tf.function retracing. Tracing is expensive and the excessive number of tracings could be due to (1) creating @tf.function repeatedly in a loop, (2) passing tensors with different shapes, (3) passing Python objects instead of tensors. For (1), please define your @tf.function outside of the loop. For (2), @tf.function has experimental_relax_shapes=True option that relaxes argument shapes that can avoid unnecessary retracing. For (3), please refer to https://www.tensorflow.org/guide/function#controlling_retracing and https://www.tensorflow.org/api_docs/python/tf/function for  more details.\n"
          ]
        }
      ]
    },
    {
      "cell_type": "code",
      "source": [
        "path"
      ],
      "metadata": {
        "colab": {
          "base_uri": "https://localhost:8080/",
          "height": 35
        },
        "id": "Lu1y58DGdZQp",
        "outputId": "bf90e429-5690-418f-fda1-ede36947a4b4"
      },
      "execution_count": null,
      "outputs": [
        {
          "output_type": "execute_result",
          "data": {
            "text/plain": [
              "'/content/drive/MyDrive/College/Sem 6/CV/Project/Random Caption Generations/sir.pkl'"
            ],
            "application/vnd.google.colaboratory.intrinsic+json": {
              "type": "string"
            }
          },
          "metadata": {},
          "execution_count": 250
        }
      ]
    },
    {
      "cell_type": "code",
      "source": [
        "data = get_features(path)"
      ],
      "metadata": {
        "id": "rUKd07J5dSB5"
      },
      "execution_count": null,
      "outputs": []
    },
    {
      "cell_type": "code",
      "source": [
        "generate_caption(data)"
      ],
      "metadata": {
        "colab": {
          "base_uri": "https://localhost:8080/",
          "height": 35
        },
        "id": "ky_WFD1Xkc2q",
        "outputId": "85ee31a9-5acb-4d24-f89a-4de0b74e290e"
      },
      "execution_count": null,
      "outputs": [
        {
          "output_type": "execute_result",
          "data": {
            "text/plain": [
              "'the woman is quite lovely in the way she is quite lovely and i find the man'"
            ],
            "application/vnd.google.colaboratory.intrinsic+json": {
              "type": "string"
            }
          },
          "metadata": {},
          "execution_count": 256
        }
      ]
    },
    {
      "cell_type": "markdown",
      "source": [
        "**Trying other model**"
      ],
      "metadata": {
        "id": "CyBxLyHGlEI3"
      }
    },
    {
      "cell_type": "code",
      "source": [
        "# load the model\n",
        "filename = '/content/model-ep003-loss4.384-val_loss4.522.h5'\n",
        "model = load_model(filename)"
      ],
      "metadata": {
        "id": "379v5u0GlG2I"
      },
      "execution_count": null,
      "outputs": []
    },
    {
      "cell_type": "code",
      "source": [
        "a = np.array(list(test_features.values()))"
      ],
      "metadata": {
        "id": "0hWVepKelG2J"
      },
      "execution_count": null,
      "outputs": []
    },
    {
      "cell_type": "code",
      "source": [
        "a.shape"
      ],
      "metadata": {
        "colab": {
          "base_uri": "https://localhost:8080/"
        },
        "outputId": "0bf39952-b2e7-4785-ec34-325a6ce2088a",
        "id": "dHAOr_-KlG2J"
      },
      "execution_count": null,
      "outputs": [
        {
          "output_type": "execute_result",
          "data": {
            "text/plain": [
              "(399, 2048)"
            ]
          },
          "metadata": {},
          "execution_count": 261
        }
      ]
    },
    {
      "cell_type": "code",
      "source": [
        "# evaluate model\n",
        "evaluate_model(model, test_descriptions, test_features, tokenizer, max_length)"
      ],
      "metadata": {
        "colab": {
          "base_uri": "https://localhost:8080/"
        },
        "id": "Aicy34OWlG2J",
        "outputId": "b4a29e8f-c18f-448b-9618-4d4bf72e920c"
      },
      "execution_count": null,
      "outputs": [
        {
          "output_type": "stream",
          "name": "stdout",
          "text": [
            "BLEU-1: 0.283648\n",
            "BLEU-2: 0.142414\n",
            "BLEU-3: 0.083636\n",
            "BLEU-4: 0.033998\n"
          ]
        }
      ]
    },
    {
      "cell_type": "code",
      "source": [
        "path = save_image_to_pkl('/content/drive/MyDrive/College/Sem 6/CV/Project/Random Caption Generations/almond_blossom.jpeg')"
      ],
      "metadata": {
        "id": "u2BmECd5njfc"
      },
      "execution_count": null,
      "outputs": []
    },
    {
      "cell_type": "code",
      "source": [
        "data = get_features(path)"
      ],
      "metadata": {
        "id": "gyucfcszoWs0"
      },
      "execution_count": null,
      "outputs": []
    },
    {
      "cell_type": "code",
      "source": [
        "generate_caption(data)"
      ],
      "metadata": {
        "id": "VEY7dyDLoY-T",
        "outputId": "bb5693cf-c389-49c1-f11d-c3720f01df45",
        "colab": {
          "base_uri": "https://localhost:8080/",
          "height": 35
        }
      },
      "execution_count": null,
      "outputs": [
        {
          "output_type": "execute_result",
          "data": {
            "text/plain": [
              "'the man is quite lovely and i find the way it is like a lot of the water'"
            ],
            "application/vnd.google.colaboratory.intrinsic+json": {
              "type": "string"
            }
          },
          "metadata": {},
          "execution_count": 265
        }
      ]
    },
    {
      "cell_type": "markdown",
      "source": [
        "# **Rough Work**"
      ],
      "metadata": {
        "id": "dvyM4_NufTY2"
      }
    },
    {
      "cell_type": "code",
      "source": [
        "data = np.array(painting_features_1000_subset['utterance_spelled'])"
      ],
      "metadata": {
        "id": "pU7TPi7VLrRp"
      },
      "execution_count": null,
      "outputs": []
    },
    {
      "cell_type": "code",
      "source": [
        "data"
      ],
      "metadata": {
        "colab": {
          "base_uri": "https://localhost:8080/"
        },
        "id": "oI7HXxxffLNq",
        "outputId": "b84ac0c7-6058-4ee3-80c2-3da7e46b8cbf"
      },
      "execution_count": null,
      "outputs": [
        {
          "output_type": "execute_result",
          "data": {
            "text/plain": [
              "array([[1.1200637 , 1.6651758 , 0.35291988, ..., 0.25827467, 1.542104  ,\n",
              "        0.5236593 ]], dtype=float32)"
            ]
          },
          "metadata": {},
          "execution_count": 46
        }
      ]
    },
    {
      "cell_type": "code",
      "source": [
        "from keras.models import Sequential\n",
        "from keras import layers\n",
        "from tensorflow.keras.optimizers import RMSprop,Adam\n",
        "from keras.preprocessing.text import Tokenizer\n",
        "from keras.preprocessing.sequence import pad_sequences\n",
        "from keras import regularizers\n",
        "from keras import backend as K\n",
        "from keras.callbacks import ModelCheckpoint\n",
        "max_words = 2370\n",
        "max_len = 63\n",
        "\n",
        "tokenizer = Tokenizer(num_words=max_words)\n",
        "tokenizer.fit_on_texts(data)\n",
        "sequences = tokenizer.texts_to_sequences(data)\n",
        "utterances = pad_sequences(sequences, maxlen=max_len)\n",
        "print(utterances)"
      ],
      "metadata": {
        "colab": {
          "base_uri": "https://localhost:8080/"
        },
        "id": "qngq9WwvLygm",
        "outputId": "48895ed1-30c0-42ae-d55e-a3410efffdab"
      },
      "execution_count": null,
      "outputs": [
        {
          "output_type": "stream",
          "name": "stdout",
          "text": [
            "[[   0    0    0 ...  418    1  236]\n",
            " [   0    0    0 ...    1  136  507]\n",
            " [   0    0    0 ...    6    1   45]\n",
            " ...\n",
            " [   0    0    0 ...   33    4 2366]\n",
            " [   0    0    0 ...  130   12  325]\n",
            " [   0    0    0 ...    4  172  196]]\n"
          ]
        }
      ]
    }
  ]
}