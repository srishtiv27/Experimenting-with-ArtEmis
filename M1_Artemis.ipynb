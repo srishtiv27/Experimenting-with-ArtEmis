{
  "cells": [
    {
      "cell_type": "code",
      "execution_count": null,
      "metadata": {
        "colab": {
          "base_uri": "https://localhost:8080/"
        },
        "id": "k10glPj4f-G6",
        "outputId": "2191c83e-408b-41a0-d8f4-2f216df3e90b"
      },
      "outputs": [
        {
          "name": "stdout",
          "output_type": "stream",
          "text": [
            "Mounted at /content/drive\n"
          ]
        }
      ],
      "source": [
        "from google.colab import drive\n",
        "drive.mount('/content/drive')"
      ]
    },
    {
      "cell_type": "code",
      "execution_count": null,
      "metadata": {
        "id": "_6_hnGw_ixKk"
      },
      "outputs": [],
      "source": [
        "from keras.preprocessing.image import load_img\n",
        "from keras.preprocessing.image import img_to_array\n",
        "from keras.applications.resnet import preprocess_input\n",
        "from keras.applications.resnet import decode_predictions\n",
        "from keras.applications.resnet import ResNet50\n",
        "from keras.models import Model\n",
        "from pickle import dump"
      ]
    },
    {
      "cell_type": "code",
      "execution_count": null,
      "metadata": {
        "id": "TpkYYS7On_zl"
      },
      "outputs": [],
      "source": [
        "import pandas as pd\n",
        "\n",
        "painting_features = pd.read_csv('/content/drive/MyDrive/College/Sem 6/CV/Project/datasets/no_duplicate_painting_features.csv')"
      ]
    },
    {
      "cell_type": "code",
      "execution_count": null,
      "metadata": {
        "colab": {
          "base_uri": "https://localhost:8080/",
          "height": 423
        },
        "id": "SZaI_9qVoP2A",
        "outputId": "084023e2-68f4-4754-8252-0421cebf9e23"
      },
      "outputs": [
        {
          "data": {
            "text/html": [
              "\n",
              "  <div id=\"df-dd4f1585-bf7a-4756-86bc-56165ad86ef4\">\n",
              "    <div class=\"colab-df-container\">\n",
              "      <div>\n",
              "<style scoped>\n",
              "    .dataframe tbody tr th:only-of-type {\n",
              "        vertical-align: middle;\n",
              "    }\n",
              "\n",
              "    .dataframe tbody tr th {\n",
              "        vertical-align: top;\n",
              "    }\n",
              "\n",
              "    .dataframe thead th {\n",
              "        text-align: right;\n",
              "    }\n",
              "</style>\n",
              "<table border=\"1\" class=\"dataframe\">\n",
              "  <thead>\n",
              "    <tr style=\"text-align: right;\">\n",
              "      <th></th>\n",
              "      <th>art_style</th>\n",
              "      <th>painting</th>\n",
              "      <th>emotion</th>\n",
              "    </tr>\n",
              "  </thead>\n",
              "  <tbody>\n",
              "    <tr>\n",
              "      <th>0</th>\n",
              "      <td>Post_Impressionism</td>\n",
              "      <td>vincent-van-gogh_portrait-of-madame-ginoux-l-a...</td>\n",
              "      <td>something else</td>\n",
              "    </tr>\n",
              "    <tr>\n",
              "      <th>1</th>\n",
              "      <td>Expressionism</td>\n",
              "      <td>wassily-kandinsky_study-for-autumn-1909</td>\n",
              "      <td>awe</td>\n",
              "    </tr>\n",
              "    <tr>\n",
              "      <th>2</th>\n",
              "      <td>Impressionism</td>\n",
              "      <td>konstantin-korovin_yaroslavna-s-lament-1909</td>\n",
              "      <td>awe</td>\n",
              "    </tr>\n",
              "    <tr>\n",
              "      <th>3</th>\n",
              "      <td>Impressionism</td>\n",
              "      <td>paul-gauguin_mette-gauguin-in-an-evening-dress...</td>\n",
              "      <td>awe</td>\n",
              "    </tr>\n",
              "    <tr>\n",
              "      <th>4</th>\n",
              "      <td>Impressionism</td>\n",
              "      <td>pericles-pantazis_still-life-with-quinces-1880</td>\n",
              "      <td>contentment</td>\n",
              "    </tr>\n",
              "    <tr>\n",
              "      <th>...</th>\n",
              "      <td>...</td>\n",
              "      <td>...</td>\n",
              "      <td>...</td>\n",
              "    </tr>\n",
              "    <tr>\n",
              "      <th>80026</th>\n",
              "      <td>Northern_Renaissance</td>\n",
              "      <td>pieter-bruegel-the-elder_go-ye-into-the-emmaus</td>\n",
              "      <td>awe</td>\n",
              "    </tr>\n",
              "    <tr>\n",
              "      <th>80027</th>\n",
              "      <td>Northern_Renaissance</td>\n",
              "      <td>albrecht-durer_the-small-chariot</td>\n",
              "      <td>awe</td>\n",
              "    </tr>\n",
              "    <tr>\n",
              "      <th>80028</th>\n",
              "      <td>Northern_Renaissance</td>\n",
              "      <td>albrecht-durer_sitting-mary-with-child</td>\n",
              "      <td>awe</td>\n",
              "    </tr>\n",
              "    <tr>\n",
              "      <th>80029</th>\n",
              "      <td>Northern_Renaissance</td>\n",
              "      <td>jan-van-hemessen_tobias-restores-his-father-s-...</td>\n",
              "      <td>sadness</td>\n",
              "    </tr>\n",
              "    <tr>\n",
              "      <th>80030</th>\n",
              "      <td>Northern_Renaissance</td>\n",
              "      <td>albrecht-durer_standing-apostle-1508</td>\n",
              "      <td>contentment</td>\n",
              "    </tr>\n",
              "  </tbody>\n",
              "</table>\n",
              "<p>80031 rows × 3 columns</p>\n",
              "</div>\n",
              "      <button class=\"colab-df-convert\" onclick=\"convertToInteractive('df-dd4f1585-bf7a-4756-86bc-56165ad86ef4')\"\n",
              "              title=\"Convert this dataframe to an interactive table.\"\n",
              "              style=\"display:none;\">\n",
              "        \n",
              "  <svg xmlns=\"http://www.w3.org/2000/svg\" height=\"24px\"viewBox=\"0 0 24 24\"\n",
              "       width=\"24px\">\n",
              "    <path d=\"M0 0h24v24H0V0z\" fill=\"none\"/>\n",
              "    <path d=\"M18.56 5.44l.94 2.06.94-2.06 2.06-.94-2.06-.94-.94-2.06-.94 2.06-2.06.94zm-11 1L8.5 8.5l.94-2.06 2.06-.94-2.06-.94L8.5 2.5l-.94 2.06-2.06.94zm10 10l.94 2.06.94-2.06 2.06-.94-2.06-.94-.94-2.06-.94 2.06-2.06.94z\"/><path d=\"M17.41 7.96l-1.37-1.37c-.4-.4-.92-.59-1.43-.59-.52 0-1.04.2-1.43.59L10.3 9.45l-7.72 7.72c-.78.78-.78 2.05 0 2.83L4 21.41c.39.39.9.59 1.41.59.51 0 1.02-.2 1.41-.59l7.78-7.78 2.81-2.81c.8-.78.8-2.07 0-2.86zM5.41 20L4 18.59l7.72-7.72 1.47 1.35L5.41 20z\"/>\n",
              "  </svg>\n",
              "      </button>\n",
              "      \n",
              "  <style>\n",
              "    .colab-df-container {\n",
              "      display:flex;\n",
              "      flex-wrap:wrap;\n",
              "      gap: 12px;\n",
              "    }\n",
              "\n",
              "    .colab-df-convert {\n",
              "      background-color: #E8F0FE;\n",
              "      border: none;\n",
              "      border-radius: 50%;\n",
              "      cursor: pointer;\n",
              "      display: none;\n",
              "      fill: #1967D2;\n",
              "      height: 32px;\n",
              "      padding: 0 0 0 0;\n",
              "      width: 32px;\n",
              "    }\n",
              "\n",
              "    .colab-df-convert:hover {\n",
              "      background-color: #E2EBFA;\n",
              "      box-shadow: 0px 1px 2px rgba(60, 64, 67, 0.3), 0px 1px 3px 1px rgba(60, 64, 67, 0.15);\n",
              "      fill: #174EA6;\n",
              "    }\n",
              "\n",
              "    [theme=dark] .colab-df-convert {\n",
              "      background-color: #3B4455;\n",
              "      fill: #D2E3FC;\n",
              "    }\n",
              "\n",
              "    [theme=dark] .colab-df-convert:hover {\n",
              "      background-color: #434B5C;\n",
              "      box-shadow: 0px 1px 3px 1px rgba(0, 0, 0, 0.15);\n",
              "      filter: drop-shadow(0px 1px 2px rgba(0, 0, 0, 0.3));\n",
              "      fill: #FFFFFF;\n",
              "    }\n",
              "  </style>\n",
              "\n",
              "      <script>\n",
              "        const buttonEl =\n",
              "          document.querySelector('#df-dd4f1585-bf7a-4756-86bc-56165ad86ef4 button.colab-df-convert');\n",
              "        buttonEl.style.display =\n",
              "          google.colab.kernel.accessAllowed ? 'block' : 'none';\n",
              "\n",
              "        async function convertToInteractive(key) {\n",
              "          const element = document.querySelector('#df-dd4f1585-bf7a-4756-86bc-56165ad86ef4');\n",
              "          const dataTable =\n",
              "            await google.colab.kernel.invokeFunction('convertToInteractive',\n",
              "                                                     [key], {});\n",
              "          if (!dataTable) return;\n",
              "\n",
              "          const docLinkHtml = 'Like what you see? Visit the ' +\n",
              "            '<a target=\"_blank\" href=https://colab.research.google.com/notebooks/data_table.ipynb>data table notebook</a>'\n",
              "            + ' to learn more about interactive tables.';\n",
              "          element.innerHTML = '';\n",
              "          dataTable['output_type'] = 'display_data';\n",
              "          await google.colab.output.renderOutput(dataTable, element);\n",
              "          const docLink = document.createElement('div');\n",
              "          docLink.innerHTML = docLinkHtml;\n",
              "          element.appendChild(docLink);\n",
              "        }\n",
              "      </script>\n",
              "    </div>\n",
              "  </div>\n",
              "  "
            ],
            "text/plain": [
              "                  art_style  \\\n",
              "0        Post_Impressionism   \n",
              "1             Expressionism   \n",
              "2             Impressionism   \n",
              "3             Impressionism   \n",
              "4             Impressionism   \n",
              "...                     ...   \n",
              "80026  Northern_Renaissance   \n",
              "80027  Northern_Renaissance   \n",
              "80028  Northern_Renaissance   \n",
              "80029  Northern_Renaissance   \n",
              "80030  Northern_Renaissance   \n",
              "\n",
              "                                                painting         emotion  \n",
              "0      vincent-van-gogh_portrait-of-madame-ginoux-l-a...  something else  \n",
              "1                wassily-kandinsky_study-for-autumn-1909             awe  \n",
              "2            konstantin-korovin_yaroslavna-s-lament-1909             awe  \n",
              "3      paul-gauguin_mette-gauguin-in-an-evening-dress...             awe  \n",
              "4         pericles-pantazis_still-life-with-quinces-1880     contentment  \n",
              "...                                                  ...             ...  \n",
              "80026     pieter-bruegel-the-elder_go-ye-into-the-emmaus             awe  \n",
              "80027                   albrecht-durer_the-small-chariot             awe  \n",
              "80028             albrecht-durer_sitting-mary-with-child             awe  \n",
              "80029  jan-van-hemessen_tobias-restores-his-father-s-...         sadness  \n",
              "80030               albrecht-durer_standing-apostle-1508     contentment  \n",
              "\n",
              "[80031 rows x 3 columns]"
            ]
          },
          "execution_count": 4,
          "metadata": {},
          "output_type": "execute_result"
        }
      ],
      "source": [
        "painting_features"
      ]
    },
    {
      "cell_type": "code",
      "execution_count": null,
      "metadata": {
        "colab": {
          "background_save": true,
          "base_uri": "https://localhost:8080/",
          "height": 442
        },
        "id": "HA_QDp5ve4sF",
        "outputId": "9d4ffd17-863f-43d4-c930-a2ac3c3384d6"
      },
      "outputs": [
        {
          "name": "stdout",
          "output_type": "stream",
          "text": [
            "(1, 2048)\n",
            "(1, 2048)\n",
            "(1, 2048)\n",
            "(1, 2048)\n",
            "(1, 2048)\n",
            "(1, 2048)\n",
            "(1, 2048)\n"
          ]
        }
      ],
      "source": [
        "for i in range(8839, len(painting_features['art_style'])):\n",
        "    image_path = f\"/content/drive/MyDrive/College/Sem 6/CV/Project/wikiart/{painting_features['art_style'][i]}/{painting_features['painting'][i]}.jpg\"\n",
        "    image = load_img(image_path, target_size=(224, 224))\n",
        "    # convert the image pixels to a numpy array\n",
        "    image = img_to_array(image)\n",
        "    # reshape data for the model\n",
        "    image = image.reshape((1, image.shape[0], image.shape[1], image.shape[2]))\n",
        "    # prepare the image for the VGG model\n",
        "    image = preprocess_input(image)\n",
        "    # load model\n",
        "    model = ResNet50()\n",
        "    # remove the output layer\n",
        "    model = Model(inputs=model.inputs, outputs=model.layers[-2].output)\n",
        "    # get extracted features\n",
        "    features = model.predict(image)\n",
        "    if i % 500 == 0:\n",
        "      print(features.shape)\n",
        "    # save to file\n",
        "    dump(features, open(f'/content/drive/MyDrive/College/Sem 6/CV/Project/features/img{i}.pkl', 'wb'))"
      ]
    },
    {
      "cell_type": "code",
      "execution_count": null,
      "metadata": {
        "id": "C0CdAPogzEbP"
      },
      "outputs": [],
      "source": [
        "painting_features_1000_subset = pd.read_csv('/content/drive/MyDrive/College/Sem 6/CV/Project/painting_features_1000_subset.csv')"
      ]
    },
    {
      "cell_type": "code",
      "execution_count": null,
      "metadata": {
        "colab": {
          "base_uri": "https://localhost:8080/",
          "height": 423
        },
        "id": "iam7TKLczWnH",
        "outputId": "0ed2261f-cbab-4f6b-f3df-1a3726a0a7d6"
      },
      "outputs": [
        {
          "data": {
            "text/html": [
              "\n",
              "  <div id=\"df-e9047081-5ef8-421e-b35a-7b87c10b4f67\">\n",
              "    <div class=\"colab-df-container\">\n",
              "      <div>\n",
              "<style scoped>\n",
              "    .dataframe tbody tr th:only-of-type {\n",
              "        vertical-align: middle;\n",
              "    }\n",
              "\n",
              "    .dataframe tbody tr th {\n",
              "        vertical-align: top;\n",
              "    }\n",
              "\n",
              "    .dataframe thead th {\n",
              "        text-align: right;\n",
              "    }\n",
              "</style>\n",
              "<table border=\"1\" class=\"dataframe\">\n",
              "  <thead>\n",
              "    <tr style=\"text-align: right;\">\n",
              "      <th></th>\n",
              "      <th>art_style</th>\n",
              "      <th>painting</th>\n",
              "      <th>emotion</th>\n",
              "    </tr>\n",
              "  </thead>\n",
              "  <tbody>\n",
              "    <tr>\n",
              "      <th>0</th>\n",
              "      <td>Post_Impressionism</td>\n",
              "      <td>vincent-van-gogh_portrait-of-madame-ginoux-l-a...</td>\n",
              "      <td>something else</td>\n",
              "    </tr>\n",
              "    <tr>\n",
              "      <th>1</th>\n",
              "      <td>Expressionism</td>\n",
              "      <td>wassily-kandinsky_study-for-autumn-1909</td>\n",
              "      <td>awe</td>\n",
              "    </tr>\n",
              "    <tr>\n",
              "      <th>2</th>\n",
              "      <td>Impressionism</td>\n",
              "      <td>konstantin-korovin_yaroslavna-s-lament-1909</td>\n",
              "      <td>awe</td>\n",
              "    </tr>\n",
              "    <tr>\n",
              "      <th>3</th>\n",
              "      <td>Impressionism</td>\n",
              "      <td>paul-gauguin_mette-gauguin-in-an-evening-dress...</td>\n",
              "      <td>awe</td>\n",
              "    </tr>\n",
              "    <tr>\n",
              "      <th>4</th>\n",
              "      <td>Impressionism</td>\n",
              "      <td>pericles-pantazis_still-life-with-quinces-1880</td>\n",
              "      <td>contentment</td>\n",
              "    </tr>\n",
              "    <tr>\n",
              "      <th>...</th>\n",
              "      <td>...</td>\n",
              "      <td>...</td>\n",
              "      <td>...</td>\n",
              "    </tr>\n",
              "    <tr>\n",
              "      <th>995</th>\n",
              "      <td>Realism</td>\n",
              "      <td>vasily-vereshchagin_two-jews-1884</td>\n",
              "      <td>excitement</td>\n",
              "    </tr>\n",
              "    <tr>\n",
              "      <th>996</th>\n",
              "      <td>Realism</td>\n",
              "      <td>james-tissot_men-of-the-day-no-4-the-mob-rule-...</td>\n",
              "      <td>amusement</td>\n",
              "    </tr>\n",
              "    <tr>\n",
              "      <th>997</th>\n",
              "      <td>Impressionism</td>\n",
              "      <td>konstantin-korovin_on-the-square-1912</td>\n",
              "      <td>amusement</td>\n",
              "    </tr>\n",
              "    <tr>\n",
              "      <th>998</th>\n",
              "      <td>Post_Impressionism</td>\n",
              "      <td>vincent-van-gogh_zouave-sitting-whole-figure-1888</td>\n",
              "      <td>amusement</td>\n",
              "    </tr>\n",
              "    <tr>\n",
              "      <th>999</th>\n",
              "      <td>Northern_Renaissance</td>\n",
              "      <td>albrecht-durer_the-holy-family-with-st-john-th...</td>\n",
              "      <td>contentment</td>\n",
              "    </tr>\n",
              "  </tbody>\n",
              "</table>\n",
              "<p>1000 rows × 3 columns</p>\n",
              "</div>\n",
              "      <button class=\"colab-df-convert\" onclick=\"convertToInteractive('df-e9047081-5ef8-421e-b35a-7b87c10b4f67')\"\n",
              "              title=\"Convert this dataframe to an interactive table.\"\n",
              "              style=\"display:none;\">\n",
              "        \n",
              "  <svg xmlns=\"http://www.w3.org/2000/svg\" height=\"24px\"viewBox=\"0 0 24 24\"\n",
              "       width=\"24px\">\n",
              "    <path d=\"M0 0h24v24H0V0z\" fill=\"none\"/>\n",
              "    <path d=\"M18.56 5.44l.94 2.06.94-2.06 2.06-.94-2.06-.94-.94-2.06-.94 2.06-2.06.94zm-11 1L8.5 8.5l.94-2.06 2.06-.94-2.06-.94L8.5 2.5l-.94 2.06-2.06.94zm10 10l.94 2.06.94-2.06 2.06-.94-2.06-.94-.94-2.06-.94 2.06-2.06.94z\"/><path d=\"M17.41 7.96l-1.37-1.37c-.4-.4-.92-.59-1.43-.59-.52 0-1.04.2-1.43.59L10.3 9.45l-7.72 7.72c-.78.78-.78 2.05 0 2.83L4 21.41c.39.39.9.59 1.41.59.51 0 1.02-.2 1.41-.59l7.78-7.78 2.81-2.81c.8-.78.8-2.07 0-2.86zM5.41 20L4 18.59l7.72-7.72 1.47 1.35L5.41 20z\"/>\n",
              "  </svg>\n",
              "      </button>\n",
              "      \n",
              "  <style>\n",
              "    .colab-df-container {\n",
              "      display:flex;\n",
              "      flex-wrap:wrap;\n",
              "      gap: 12px;\n",
              "    }\n",
              "\n",
              "    .colab-df-convert {\n",
              "      background-color: #E8F0FE;\n",
              "      border: none;\n",
              "      border-radius: 50%;\n",
              "      cursor: pointer;\n",
              "      display: none;\n",
              "      fill: #1967D2;\n",
              "      height: 32px;\n",
              "      padding: 0 0 0 0;\n",
              "      width: 32px;\n",
              "    }\n",
              "\n",
              "    .colab-df-convert:hover {\n",
              "      background-color: #E2EBFA;\n",
              "      box-shadow: 0px 1px 2px rgba(60, 64, 67, 0.3), 0px 1px 3px 1px rgba(60, 64, 67, 0.15);\n",
              "      fill: #174EA6;\n",
              "    }\n",
              "\n",
              "    [theme=dark] .colab-df-convert {\n",
              "      background-color: #3B4455;\n",
              "      fill: #D2E3FC;\n",
              "    }\n",
              "\n",
              "    [theme=dark] .colab-df-convert:hover {\n",
              "      background-color: #434B5C;\n",
              "      box-shadow: 0px 1px 3px 1px rgba(0, 0, 0, 0.15);\n",
              "      filter: drop-shadow(0px 1px 2px rgba(0, 0, 0, 0.3));\n",
              "      fill: #FFFFFF;\n",
              "    }\n",
              "  </style>\n",
              "\n",
              "      <script>\n",
              "        const buttonEl =\n",
              "          document.querySelector('#df-e9047081-5ef8-421e-b35a-7b87c10b4f67 button.colab-df-convert');\n",
              "        buttonEl.style.display =\n",
              "          google.colab.kernel.accessAllowed ? 'block' : 'none';\n",
              "\n",
              "        async function convertToInteractive(key) {\n",
              "          const element = document.querySelector('#df-e9047081-5ef8-421e-b35a-7b87c10b4f67');\n",
              "          const dataTable =\n",
              "            await google.colab.kernel.invokeFunction('convertToInteractive',\n",
              "                                                     [key], {});\n",
              "          if (!dataTable) return;\n",
              "\n",
              "          const docLinkHtml = 'Like what you see? Visit the ' +\n",
              "            '<a target=\"_blank\" href=https://colab.research.google.com/notebooks/data_table.ipynb>data table notebook</a>'\n",
              "            + ' to learn more about interactive tables.';\n",
              "          element.innerHTML = '';\n",
              "          dataTable['output_type'] = 'display_data';\n",
              "          await google.colab.output.renderOutput(dataTable, element);\n",
              "          const docLink = document.createElement('div');\n",
              "          docLink.innerHTML = docLinkHtml;\n",
              "          element.appendChild(docLink);\n",
              "        }\n",
              "      </script>\n",
              "    </div>\n",
              "  </div>\n",
              "  "
            ],
            "text/plain": [
              "                art_style                                           painting  \\\n",
              "0      Post_Impressionism  vincent-van-gogh_portrait-of-madame-ginoux-l-a...   \n",
              "1           Expressionism            wassily-kandinsky_study-for-autumn-1909   \n",
              "2           Impressionism        konstantin-korovin_yaroslavna-s-lament-1909   \n",
              "3           Impressionism  paul-gauguin_mette-gauguin-in-an-evening-dress...   \n",
              "4           Impressionism     pericles-pantazis_still-life-with-quinces-1880   \n",
              "..                    ...                                                ...   \n",
              "995               Realism                  vasily-vereshchagin_two-jews-1884   \n",
              "996               Realism  james-tissot_men-of-the-day-no-4-the-mob-rule-...   \n",
              "997         Impressionism              konstantin-korovin_on-the-square-1912   \n",
              "998    Post_Impressionism  vincent-van-gogh_zouave-sitting-whole-figure-1888   \n",
              "999  Northern_Renaissance  albrecht-durer_the-holy-family-with-st-john-th...   \n",
              "\n",
              "            emotion  \n",
              "0    something else  \n",
              "1               awe  \n",
              "2               awe  \n",
              "3               awe  \n",
              "4       contentment  \n",
              "..              ...  \n",
              "995      excitement  \n",
              "996       amusement  \n",
              "997       amusement  \n",
              "998       amusement  \n",
              "999     contentment  \n",
              "\n",
              "[1000 rows x 3 columns]"
            ]
          },
          "execution_count": 47,
          "metadata": {},
          "output_type": "execute_result"
        }
      ],
      "source": [
        "painting_features_1000_subset"
      ]
    },
    {
      "cell_type": "code",
      "execution_count": null,
      "metadata": {
        "id": "w8ztPRQizxWy"
      },
      "outputs": [],
      "source": [
        "image_features = []\n",
        "for i in range(1000):\n",
        "    image_features.append(f'img{i}.pkl')\n",
        "painting_features_1000_subset['image_features'] = image_features"
      ]
    },
    {
      "cell_type": "code",
      "execution_count": null,
      "metadata": {
        "id": "kDE2NOnVqhjQ"
      },
      "outputs": [],
      "source": [
        "import pickle\n",
        "import numpy as np\n",
        "\n",
        "X = []\n",
        "for i in range(1000):\n",
        "    with open(f'/content/drive/MyDrive/College/Sem 6/CV/Project/features/img{i}.pkl', 'rb') as f:\n",
        "        data = pickle.load(f)\n",
        "    X.append(data[0])\n",
        "\n",
        "X = np.asarray(X)"
      ]
    },
    {
      "cell_type": "code",
      "execution_count": null,
      "metadata": {
        "colab": {
          "base_uri": "https://localhost:8080/"
        },
        "id": "5J-NBnneq0Xv",
        "outputId": "1b672cdc-d3fe-415b-cdf6-249b4f12b24e"
      },
      "outputs": [
        {
          "name": "stderr",
          "output_type": "stream",
          "text": [
            "/usr/local/lib/python3.7/dist-packages/ipykernel_launcher.py:5: PerformanceWarning: DataFrame is highly fragmented.  This is usually the result of calling `frame.insert` many times, which has poor performance.  Consider joining all columns at once using pd.concat(axis=1) instead.  To get a de-fragmented frame, use `newframe = frame.copy()`\n",
            "  \"\"\"\n"
          ]
        }
      ],
      "source": [
        "for i in range(2048):\n",
        "    feature = []\n",
        "    for j in range(1000):\n",
        "        feature.append(X[j][i])\n",
        "    painting_features_1000_subset[f'feature_{i}'] = feature"
      ]
    },
    {
      "cell_type": "code",
      "execution_count": null,
      "metadata": {
        "colab": {
          "base_uri": "https://localhost:8080/",
          "height": 887
        },
        "id": "vNt6HqgU0e9a",
        "outputId": "970bc57f-2c24-4b64-d470-b734b2f0d5eb"
      },
      "outputs": [
        {
          "data": {
            "text/html": [
              "\n",
              "  <div id=\"df-9d765cf4-875f-40ef-9b25-44f9141fca06\">\n",
              "    <div class=\"colab-df-container\">\n",
              "      <div>\n",
              "<style scoped>\n",
              "    .dataframe tbody tr th:only-of-type {\n",
              "        vertical-align: middle;\n",
              "    }\n",
              "\n",
              "    .dataframe tbody tr th {\n",
              "        vertical-align: top;\n",
              "    }\n",
              "\n",
              "    .dataframe thead th {\n",
              "        text-align: right;\n",
              "    }\n",
              "</style>\n",
              "<table border=\"1\" class=\"dataframe\">\n",
              "  <thead>\n",
              "    <tr style=\"text-align: right;\">\n",
              "      <th></th>\n",
              "      <th>art_style</th>\n",
              "      <th>painting</th>\n",
              "      <th>emotion</th>\n",
              "      <th>image_features</th>\n",
              "      <th>feature_0</th>\n",
              "      <th>feature_1</th>\n",
              "      <th>feature_2</th>\n",
              "      <th>feature_3</th>\n",
              "      <th>feature_4</th>\n",
              "      <th>feature_5</th>\n",
              "      <th>...</th>\n",
              "      <th>feature_2038</th>\n",
              "      <th>feature_2039</th>\n",
              "      <th>feature_2040</th>\n",
              "      <th>feature_2041</th>\n",
              "      <th>feature_2042</th>\n",
              "      <th>feature_2043</th>\n",
              "      <th>feature_2044</th>\n",
              "      <th>feature_2045</th>\n",
              "      <th>feature_2046</th>\n",
              "      <th>feature_2047</th>\n",
              "    </tr>\n",
              "  </thead>\n",
              "  <tbody>\n",
              "    <tr>\n",
              "      <th>0</th>\n",
              "      <td>Post_Impressionism</td>\n",
              "      <td>vincent-van-gogh_portrait-of-madame-ginoux-l-a...</td>\n",
              "      <td>something else</td>\n",
              "      <td>img0.pkl</td>\n",
              "      <td>0.278422</td>\n",
              "      <td>0.527606</td>\n",
              "      <td>0.021193</td>\n",
              "      <td>1.104790</td>\n",
              "      <td>0.033097</td>\n",
              "      <td>0.149384</td>\n",
              "      <td>...</td>\n",
              "      <td>0.000000</td>\n",
              "      <td>0.093969</td>\n",
              "      <td>0.058464</td>\n",
              "      <td>2.601777</td>\n",
              "      <td>0.581423</td>\n",
              "      <td>0.006962</td>\n",
              "      <td>0.031829</td>\n",
              "      <td>0.876327</td>\n",
              "      <td>1.170455</td>\n",
              "      <td>0.284816</td>\n",
              "    </tr>\n",
              "    <tr>\n",
              "      <th>1</th>\n",
              "      <td>Expressionism</td>\n",
              "      <td>wassily-kandinsky_study-for-autumn-1909</td>\n",
              "      <td>awe</td>\n",
              "      <td>img1.pkl</td>\n",
              "      <td>0.106432</td>\n",
              "      <td>0.703795</td>\n",
              "      <td>0.000000</td>\n",
              "      <td>0.007888</td>\n",
              "      <td>0.015668</td>\n",
              "      <td>0.182670</td>\n",
              "      <td>...</td>\n",
              "      <td>2.416146</td>\n",
              "      <td>0.076510</td>\n",
              "      <td>0.146113</td>\n",
              "      <td>0.001664</td>\n",
              "      <td>2.098103</td>\n",
              "      <td>0.197032</td>\n",
              "      <td>0.151990</td>\n",
              "      <td>0.000000</td>\n",
              "      <td>0.468789</td>\n",
              "      <td>0.256748</td>\n",
              "    </tr>\n",
              "    <tr>\n",
              "      <th>2</th>\n",
              "      <td>Impressionism</td>\n",
              "      <td>konstantin-korovin_yaroslavna-s-lament-1909</td>\n",
              "      <td>awe</td>\n",
              "      <td>img2.pkl</td>\n",
              "      <td>0.151917</td>\n",
              "      <td>2.557872</td>\n",
              "      <td>0.826035</td>\n",
              "      <td>0.093906</td>\n",
              "      <td>0.009230</td>\n",
              "      <td>0.494370</td>\n",
              "      <td>...</td>\n",
              "      <td>0.090455</td>\n",
              "      <td>0.159610</td>\n",
              "      <td>0.043264</td>\n",
              "      <td>0.000000</td>\n",
              "      <td>0.699022</td>\n",
              "      <td>0.902977</td>\n",
              "      <td>0.122635</td>\n",
              "      <td>0.026057</td>\n",
              "      <td>0.000000</td>\n",
              "      <td>0.046566</td>\n",
              "    </tr>\n",
              "    <tr>\n",
              "      <th>3</th>\n",
              "      <td>Impressionism</td>\n",
              "      <td>paul-gauguin_mette-gauguin-in-an-evening-dress...</td>\n",
              "      <td>awe</td>\n",
              "      <td>img3.pkl</td>\n",
              "      <td>0.063078</td>\n",
              "      <td>1.351175</td>\n",
              "      <td>0.037122</td>\n",
              "      <td>0.448079</td>\n",
              "      <td>0.033715</td>\n",
              "      <td>0.117056</td>\n",
              "      <td>...</td>\n",
              "      <td>0.398210</td>\n",
              "      <td>0.008081</td>\n",
              "      <td>0.017637</td>\n",
              "      <td>0.506607</td>\n",
              "      <td>1.234004</td>\n",
              "      <td>0.122929</td>\n",
              "      <td>0.000000</td>\n",
              "      <td>0.145163</td>\n",
              "      <td>1.442093</td>\n",
              "      <td>0.533309</td>\n",
              "    </tr>\n",
              "    <tr>\n",
              "      <th>4</th>\n",
              "      <td>Impressionism</td>\n",
              "      <td>pericles-pantazis_still-life-with-quinces-1880</td>\n",
              "      <td>contentment</td>\n",
              "      <td>img4.pkl</td>\n",
              "      <td>2.203687</td>\n",
              "      <td>0.367822</td>\n",
              "      <td>0.976512</td>\n",
              "      <td>0.472500</td>\n",
              "      <td>0.302199</td>\n",
              "      <td>0.152941</td>\n",
              "      <td>...</td>\n",
              "      <td>0.000000</td>\n",
              "      <td>0.532532</td>\n",
              "      <td>2.082811</td>\n",
              "      <td>0.121080</td>\n",
              "      <td>0.320085</td>\n",
              "      <td>0.154419</td>\n",
              "      <td>0.874045</td>\n",
              "      <td>0.415222</td>\n",
              "      <td>3.152984</td>\n",
              "      <td>0.093512</td>\n",
              "    </tr>\n",
              "    <tr>\n",
              "      <th>...</th>\n",
              "      <td>...</td>\n",
              "      <td>...</td>\n",
              "      <td>...</td>\n",
              "      <td>...</td>\n",
              "      <td>...</td>\n",
              "      <td>...</td>\n",
              "      <td>...</td>\n",
              "      <td>...</td>\n",
              "      <td>...</td>\n",
              "      <td>...</td>\n",
              "      <td>...</td>\n",
              "      <td>...</td>\n",
              "      <td>...</td>\n",
              "      <td>...</td>\n",
              "      <td>...</td>\n",
              "      <td>...</td>\n",
              "      <td>...</td>\n",
              "      <td>...</td>\n",
              "      <td>...</td>\n",
              "      <td>...</td>\n",
              "      <td>...</td>\n",
              "    </tr>\n",
              "    <tr>\n",
              "      <th>995</th>\n",
              "      <td>Realism</td>\n",
              "      <td>vasily-vereshchagin_two-jews-1884</td>\n",
              "      <td>excitement</td>\n",
              "      <td>img995.pkl</td>\n",
              "      <td>0.017043</td>\n",
              "      <td>2.136101</td>\n",
              "      <td>0.044468</td>\n",
              "      <td>0.118175</td>\n",
              "      <td>0.509737</td>\n",
              "      <td>0.597605</td>\n",
              "      <td>...</td>\n",
              "      <td>0.013717</td>\n",
              "      <td>0.013687</td>\n",
              "      <td>0.136816</td>\n",
              "      <td>1.167259</td>\n",
              "      <td>0.830424</td>\n",
              "      <td>0.985465</td>\n",
              "      <td>2.046885</td>\n",
              "      <td>0.104100</td>\n",
              "      <td>1.999464</td>\n",
              "      <td>0.612785</td>\n",
              "    </tr>\n",
              "    <tr>\n",
              "      <th>996</th>\n",
              "      <td>Realism</td>\n",
              "      <td>james-tissot_men-of-the-day-no-4-the-mob-rule-...</td>\n",
              "      <td>amusement</td>\n",
              "      <td>img996.pkl</td>\n",
              "      <td>1.255179</td>\n",
              "      <td>0.000000</td>\n",
              "      <td>1.611124</td>\n",
              "      <td>0.055478</td>\n",
              "      <td>1.011541</td>\n",
              "      <td>0.078781</td>\n",
              "      <td>...</td>\n",
              "      <td>0.009497</td>\n",
              "      <td>0.412178</td>\n",
              "      <td>0.052310</td>\n",
              "      <td>0.950175</td>\n",
              "      <td>0.748959</td>\n",
              "      <td>0.479490</td>\n",
              "      <td>0.423200</td>\n",
              "      <td>0.713766</td>\n",
              "      <td>0.091844</td>\n",
              "      <td>2.059211</td>\n",
              "    </tr>\n",
              "    <tr>\n",
              "      <th>997</th>\n",
              "      <td>Impressionism</td>\n",
              "      <td>konstantin-korovin_on-the-square-1912</td>\n",
              "      <td>amusement</td>\n",
              "      <td>img997.pkl</td>\n",
              "      <td>0.000000</td>\n",
              "      <td>4.839285</td>\n",
              "      <td>0.158369</td>\n",
              "      <td>0.084149</td>\n",
              "      <td>0.087437</td>\n",
              "      <td>0.362394</td>\n",
              "      <td>...</td>\n",
              "      <td>0.011490</td>\n",
              "      <td>0.383353</td>\n",
              "      <td>0.883084</td>\n",
              "      <td>0.047050</td>\n",
              "      <td>0.021787</td>\n",
              "      <td>0.549750</td>\n",
              "      <td>0.062910</td>\n",
              "      <td>0.000000</td>\n",
              "      <td>1.550344</td>\n",
              "      <td>0.015552</td>\n",
              "    </tr>\n",
              "    <tr>\n",
              "      <th>998</th>\n",
              "      <td>Post_Impressionism</td>\n",
              "      <td>vincent-van-gogh_zouave-sitting-whole-figure-1888</td>\n",
              "      <td>amusement</td>\n",
              "      <td>img998.pkl</td>\n",
              "      <td>0.082224</td>\n",
              "      <td>1.892309</td>\n",
              "      <td>0.065868</td>\n",
              "      <td>0.180113</td>\n",
              "      <td>0.583887</td>\n",
              "      <td>0.154840</td>\n",
              "      <td>...</td>\n",
              "      <td>0.003239</td>\n",
              "      <td>0.000000</td>\n",
              "      <td>0.021489</td>\n",
              "      <td>2.335641</td>\n",
              "      <td>0.703628</td>\n",
              "      <td>0.880139</td>\n",
              "      <td>0.318111</td>\n",
              "      <td>2.336420</td>\n",
              "      <td>0.000000</td>\n",
              "      <td>0.000000</td>\n",
              "    </tr>\n",
              "    <tr>\n",
              "      <th>999</th>\n",
              "      <td>Northern_Renaissance</td>\n",
              "      <td>albrecht-durer_the-holy-family-with-st-john-th...</td>\n",
              "      <td>contentment</td>\n",
              "      <td>img999.pkl</td>\n",
              "      <td>0.016874</td>\n",
              "      <td>0.687560</td>\n",
              "      <td>0.569180</td>\n",
              "      <td>0.144738</td>\n",
              "      <td>0.141986</td>\n",
              "      <td>0.686750</td>\n",
              "      <td>...</td>\n",
              "      <td>0.116440</td>\n",
              "      <td>0.003901</td>\n",
              "      <td>0.016596</td>\n",
              "      <td>0.872230</td>\n",
              "      <td>0.144178</td>\n",
              "      <td>2.412200</td>\n",
              "      <td>0.250112</td>\n",
              "      <td>0.063959</td>\n",
              "      <td>1.309669</td>\n",
              "      <td>0.811216</td>\n",
              "    </tr>\n",
              "  </tbody>\n",
              "</table>\n",
              "<p>1000 rows × 2052 columns</p>\n",
              "</div>\n",
              "      <button class=\"colab-df-convert\" onclick=\"convertToInteractive('df-9d765cf4-875f-40ef-9b25-44f9141fca06')\"\n",
              "              title=\"Convert this dataframe to an interactive table.\"\n",
              "              style=\"display:none;\">\n",
              "        \n",
              "  <svg xmlns=\"http://www.w3.org/2000/svg\" height=\"24px\"viewBox=\"0 0 24 24\"\n",
              "       width=\"24px\">\n",
              "    <path d=\"M0 0h24v24H0V0z\" fill=\"none\"/>\n",
              "    <path d=\"M18.56 5.44l.94 2.06.94-2.06 2.06-.94-2.06-.94-.94-2.06-.94 2.06-2.06.94zm-11 1L8.5 8.5l.94-2.06 2.06-.94-2.06-.94L8.5 2.5l-.94 2.06-2.06.94zm10 10l.94 2.06.94-2.06 2.06-.94-2.06-.94-.94-2.06-.94 2.06-2.06.94z\"/><path d=\"M17.41 7.96l-1.37-1.37c-.4-.4-.92-.59-1.43-.59-.52 0-1.04.2-1.43.59L10.3 9.45l-7.72 7.72c-.78.78-.78 2.05 0 2.83L4 21.41c.39.39.9.59 1.41.59.51 0 1.02-.2 1.41-.59l7.78-7.78 2.81-2.81c.8-.78.8-2.07 0-2.86zM5.41 20L4 18.59l7.72-7.72 1.47 1.35L5.41 20z\"/>\n",
              "  </svg>\n",
              "      </button>\n",
              "      \n",
              "  <style>\n",
              "    .colab-df-container {\n",
              "      display:flex;\n",
              "      flex-wrap:wrap;\n",
              "      gap: 12px;\n",
              "    }\n",
              "\n",
              "    .colab-df-convert {\n",
              "      background-color: #E8F0FE;\n",
              "      border: none;\n",
              "      border-radius: 50%;\n",
              "      cursor: pointer;\n",
              "      display: none;\n",
              "      fill: #1967D2;\n",
              "      height: 32px;\n",
              "      padding: 0 0 0 0;\n",
              "      width: 32px;\n",
              "    }\n",
              "\n",
              "    .colab-df-convert:hover {\n",
              "      background-color: #E2EBFA;\n",
              "      box-shadow: 0px 1px 2px rgba(60, 64, 67, 0.3), 0px 1px 3px 1px rgba(60, 64, 67, 0.15);\n",
              "      fill: #174EA6;\n",
              "    }\n",
              "\n",
              "    [theme=dark] .colab-df-convert {\n",
              "      background-color: #3B4455;\n",
              "      fill: #D2E3FC;\n",
              "    }\n",
              "\n",
              "    [theme=dark] .colab-df-convert:hover {\n",
              "      background-color: #434B5C;\n",
              "      box-shadow: 0px 1px 3px 1px rgba(0, 0, 0, 0.15);\n",
              "      filter: drop-shadow(0px 1px 2px rgba(0, 0, 0, 0.3));\n",
              "      fill: #FFFFFF;\n",
              "    }\n",
              "  </style>\n",
              "\n",
              "      <script>\n",
              "        const buttonEl =\n",
              "          document.querySelector('#df-9d765cf4-875f-40ef-9b25-44f9141fca06 button.colab-df-convert');\n",
              "        buttonEl.style.display =\n",
              "          google.colab.kernel.accessAllowed ? 'block' : 'none';\n",
              "\n",
              "        async function convertToInteractive(key) {\n",
              "          const element = document.querySelector('#df-9d765cf4-875f-40ef-9b25-44f9141fca06');\n",
              "          const dataTable =\n",
              "            await google.colab.kernel.invokeFunction('convertToInteractive',\n",
              "                                                     [key], {});\n",
              "          if (!dataTable) return;\n",
              "\n",
              "          const docLinkHtml = 'Like what you see? Visit the ' +\n",
              "            '<a target=\"_blank\" href=https://colab.research.google.com/notebooks/data_table.ipynb>data table notebook</a>'\n",
              "            + ' to learn more about interactive tables.';\n",
              "          element.innerHTML = '';\n",
              "          dataTable['output_type'] = 'display_data';\n",
              "          await google.colab.output.renderOutput(dataTable, element);\n",
              "          const docLink = document.createElement('div');\n",
              "          docLink.innerHTML = docLinkHtml;\n",
              "          element.appendChild(docLink);\n",
              "        }\n",
              "      </script>\n",
              "    </div>\n",
              "  </div>\n",
              "  "
            ],
            "text/plain": [
              "                art_style                                           painting  \\\n",
              "0      Post_Impressionism  vincent-van-gogh_portrait-of-madame-ginoux-l-a...   \n",
              "1           Expressionism            wassily-kandinsky_study-for-autumn-1909   \n",
              "2           Impressionism        konstantin-korovin_yaroslavna-s-lament-1909   \n",
              "3           Impressionism  paul-gauguin_mette-gauguin-in-an-evening-dress...   \n",
              "4           Impressionism     pericles-pantazis_still-life-with-quinces-1880   \n",
              "..                    ...                                                ...   \n",
              "995               Realism                  vasily-vereshchagin_two-jews-1884   \n",
              "996               Realism  james-tissot_men-of-the-day-no-4-the-mob-rule-...   \n",
              "997         Impressionism              konstantin-korovin_on-the-square-1912   \n",
              "998    Post_Impressionism  vincent-van-gogh_zouave-sitting-whole-figure-1888   \n",
              "999  Northern_Renaissance  albrecht-durer_the-holy-family-with-st-john-th...   \n",
              "\n",
              "            emotion image_features  feature_0  feature_1  feature_2  \\\n",
              "0    something else       img0.pkl   0.278422   0.527606   0.021193   \n",
              "1               awe       img1.pkl   0.106432   0.703795   0.000000   \n",
              "2               awe       img2.pkl   0.151917   2.557872   0.826035   \n",
              "3               awe       img3.pkl   0.063078   1.351175   0.037122   \n",
              "4       contentment       img4.pkl   2.203687   0.367822   0.976512   \n",
              "..              ...            ...        ...        ...        ...   \n",
              "995      excitement     img995.pkl   0.017043   2.136101   0.044468   \n",
              "996       amusement     img996.pkl   1.255179   0.000000   1.611124   \n",
              "997       amusement     img997.pkl   0.000000   4.839285   0.158369   \n",
              "998       amusement     img998.pkl   0.082224   1.892309   0.065868   \n",
              "999     contentment     img999.pkl   0.016874   0.687560   0.569180   \n",
              "\n",
              "     feature_3  feature_4  feature_5  ...  feature_2038  feature_2039  \\\n",
              "0     1.104790   0.033097   0.149384  ...      0.000000      0.093969   \n",
              "1     0.007888   0.015668   0.182670  ...      2.416146      0.076510   \n",
              "2     0.093906   0.009230   0.494370  ...      0.090455      0.159610   \n",
              "3     0.448079   0.033715   0.117056  ...      0.398210      0.008081   \n",
              "4     0.472500   0.302199   0.152941  ...      0.000000      0.532532   \n",
              "..         ...        ...        ...  ...           ...           ...   \n",
              "995   0.118175   0.509737   0.597605  ...      0.013717      0.013687   \n",
              "996   0.055478   1.011541   0.078781  ...      0.009497      0.412178   \n",
              "997   0.084149   0.087437   0.362394  ...      0.011490      0.383353   \n",
              "998   0.180113   0.583887   0.154840  ...      0.003239      0.000000   \n",
              "999   0.144738   0.141986   0.686750  ...      0.116440      0.003901   \n",
              "\n",
              "     feature_2040  feature_2041  feature_2042  feature_2043  feature_2044  \\\n",
              "0        0.058464      2.601777      0.581423      0.006962      0.031829   \n",
              "1        0.146113      0.001664      2.098103      0.197032      0.151990   \n",
              "2        0.043264      0.000000      0.699022      0.902977      0.122635   \n",
              "3        0.017637      0.506607      1.234004      0.122929      0.000000   \n",
              "4        2.082811      0.121080      0.320085      0.154419      0.874045   \n",
              "..            ...           ...           ...           ...           ...   \n",
              "995      0.136816      1.167259      0.830424      0.985465      2.046885   \n",
              "996      0.052310      0.950175      0.748959      0.479490      0.423200   \n",
              "997      0.883084      0.047050      0.021787      0.549750      0.062910   \n",
              "998      0.021489      2.335641      0.703628      0.880139      0.318111   \n",
              "999      0.016596      0.872230      0.144178      2.412200      0.250112   \n",
              "\n",
              "     feature_2045  feature_2046  feature_2047  \n",
              "0        0.876327      1.170455      0.284816  \n",
              "1        0.000000      0.468789      0.256748  \n",
              "2        0.026057      0.000000      0.046566  \n",
              "3        0.145163      1.442093      0.533309  \n",
              "4        0.415222      3.152984      0.093512  \n",
              "..            ...           ...           ...  \n",
              "995      0.104100      1.999464      0.612785  \n",
              "996      0.713766      0.091844      2.059211  \n",
              "997      0.000000      1.550344      0.015552  \n",
              "998      2.336420      0.000000      0.000000  \n",
              "999      0.063959      1.309669      0.811216  \n",
              "\n",
              "[1000 rows x 2052 columns]"
            ]
          },
          "execution_count": 51,
          "metadata": {},
          "output_type": "execute_result"
        }
      ],
      "source": [
        "painting_features_1000_subset"
      ]
    },
    {
      "cell_type": "code",
      "execution_count": null,
      "metadata": {
        "colab": {
          "base_uri": "https://localhost:8080/"
        },
        "id": "cL7AD3xy1Eab",
        "outputId": "d61641b5-3ca2-4cd5-8c3d-75ac1af6545f"
      },
      "outputs": [
        {
          "name": "stderr",
          "output_type": "stream",
          "text": [
            "/usr/local/lib/python3.7/dist-packages/ipykernel_launcher.py:8: PerformanceWarning: DataFrame is highly fragmented.  This is usually the result of calling `frame.insert` many times, which has poor performance.  Consider joining all columns at once using pd.concat(axis=1) instead.  To get a de-fragmented frame, use `newframe = frame.copy()`\n",
            "  \n"
          ]
        },
        {
          "data": {
            "text/plain": [
              "array([8, 2, 3, 0, 7, 6, 5, 4, 1])"
            ]
          },
          "execution_count": 52,
          "metadata": {},
          "output_type": "execute_result"
        }
      ],
      "source": [
        "# Import label encoder\n",
        "from sklearn import preprocessing\n",
        "\n",
        "# label_encoder object knows how to understand word labels.\n",
        "label_encoder = preprocessing.LabelEncoder()\n",
        "\n",
        "# Encode labels in column 'species'.\n",
        "painting_features_1000_subset['label']= label_encoder.fit_transform(painting_features_1000_subset['emotion'])\n",
        "\n",
        "painting_features_1000_subset['label'].unique()"
      ]
    },
    {
      "cell_type": "code",
      "execution_count": null,
      "metadata": {
        "colab": {
          "base_uri": "https://localhost:8080/"
        },
        "id": "kCz42UyG7T8T",
        "outputId": "a39fe741-86d2-4e2a-99f5-ff4d3b6d8484"
      },
      "outputs": [
        {
          "data": {
            "text/plain": [
              "array(['something else', 'awe', 'contentment', 'amusement', 'sadness',\n",
              "       'fear', 'excitement', 'disgust', 'anger'], dtype=object)"
            ]
          },
          "execution_count": 65,
          "metadata": {},
          "output_type": "execute_result"
        }
      ],
      "source": [
        "painting_features_1000_subset['emotion'].unique()"
      ]
    },
    {
      "cell_type": "code",
      "execution_count": null,
      "metadata": {
        "id": "ZAGkUdKB5EG5"
      },
      "outputs": [],
      "source": [
        "painting_features_1000_subset.to_csv('/content/drive/MyDrive/College/Sem 6/CV/Project/features_1000_subset.csv')"
      ]
    },
    {
      "cell_type": "code",
      "execution_count": null,
      "metadata": {
        "colab": {
          "base_uri": "https://localhost:8080/"
        },
        "id": "IZMloRkP10lW",
        "outputId": "1a94121f-7dab-49be-adee-71ab08bd168c"
      },
      "outputs": [
        {
          "data": {
            "text/plain": [
              "array([[0.2784216 , 0.527606  , 0.02119292, ..., 0.8763272 , 1.1704551 ,\n",
              "        0.28481564],\n",
              "       [0.10643183, 0.7037948 , 0.        , ..., 0.        , 0.46878865,\n",
              "        0.2567478 ],\n",
              "       [0.15191746, 2.557872  , 0.826035  , ..., 0.02605702, 0.        ,\n",
              "        0.0465658 ],\n",
              "       ...,\n",
              "       [0.        , 4.839285  , 0.15836889, ..., 0.        , 1.5503438 ,\n",
              "        0.01555244],\n",
              "       [0.08222382, 1.8923091 , 0.06586791, ..., 2.3364198 , 0.        ,\n",
              "        0.        ],\n",
              "       [0.01687362, 0.68755996, 0.5691797 , ..., 0.06395859, 1.3096694 ,\n",
              "        0.81121606]], dtype=float32)"
            ]
          },
          "execution_count": 55,
          "metadata": {},
          "output_type": "execute_result"
        }
      ],
      "source": [
        "X"
      ]
    },
    {
      "cell_type": "code",
      "execution_count": null,
      "metadata": {
        "colab": {
          "base_uri": "https://localhost:8080/"
        },
        "id": "r_z9RZpR14_R",
        "outputId": "b99026ca-62af-47e3-ca60-ae76cff0a641"
      },
      "outputs": [
        {
          "data": {
            "text/plain": [
              "0      8\n",
              "1      2\n",
              "2      2\n",
              "3      2\n",
              "4      3\n",
              "      ..\n",
              "995    5\n",
              "996    0\n",
              "997    0\n",
              "998    0\n",
              "999    3\n",
              "Name: label, Length: 1000, dtype: int64"
            ]
          },
          "execution_count": 56,
          "metadata": {},
          "output_type": "execute_result"
        }
      ],
      "source": [
        "y = painting_features_1000_subset['label']\n",
        "y"
      ]
    },
    {
      "cell_type": "markdown",
      "metadata": {
        "id": "Kq5XTaA7Il-w"
      },
      "source": [
        "# **Stratified train test split**"
      ]
    },
    {
      "cell_type": "code",
      "execution_count": null,
      "metadata": {
        "id": "LsMHw3kOZ85j"
      },
      "outputs": [],
      "source": [
        "test_dataset = painting_features_1000_subset.groupby('label', group_keys=False).apply(lambda x: x.sample(frac=0.2))"
      ]
    },
    {
      "cell_type": "code",
      "execution_count": null,
      "metadata": {
        "colab": {
          "base_uri": "https://localhost:8080/",
          "height": 852
        },
        "id": "j4WtDxFS8nNh",
        "outputId": "e0c6d97a-2dcc-4fc0-d683-e84c0565333f"
      },
      "outputs": [
        {
          "data": {
            "text/html": [
              "\n",
              "  <div id=\"df-f25ebc90-4bbc-4bd0-b545-48f0891711e0\">\n",
              "    <div class=\"colab-df-container\">\n",
              "      <div>\n",
              "<style scoped>\n",
              "    .dataframe tbody tr th:only-of-type {\n",
              "        vertical-align: middle;\n",
              "    }\n",
              "\n",
              "    .dataframe tbody tr th {\n",
              "        vertical-align: top;\n",
              "    }\n",
              "\n",
              "    .dataframe thead th {\n",
              "        text-align: right;\n",
              "    }\n",
              "</style>\n",
              "<table border=\"1\" class=\"dataframe\">\n",
              "  <thead>\n",
              "    <tr style=\"text-align: right;\">\n",
              "      <th></th>\n",
              "      <th>art_style</th>\n",
              "      <th>painting</th>\n",
              "      <th>emotion</th>\n",
              "      <th>image_features</th>\n",
              "      <th>feature_0</th>\n",
              "      <th>feature_1</th>\n",
              "      <th>feature_2</th>\n",
              "      <th>feature_3</th>\n",
              "      <th>feature_4</th>\n",
              "      <th>feature_5</th>\n",
              "      <th>...</th>\n",
              "      <th>feature_2039</th>\n",
              "      <th>feature_2040</th>\n",
              "      <th>feature_2041</th>\n",
              "      <th>feature_2042</th>\n",
              "      <th>feature_2043</th>\n",
              "      <th>feature_2044</th>\n",
              "      <th>feature_2045</th>\n",
              "      <th>feature_2046</th>\n",
              "      <th>feature_2047</th>\n",
              "      <th>label</th>\n",
              "    </tr>\n",
              "  </thead>\n",
              "  <tbody>\n",
              "    <tr>\n",
              "      <th>245</th>\n",
              "      <td>Impressionism</td>\n",
              "      <td>joaquã­n-sorolla_pulling-the-boat-1916</td>\n",
              "      <td>amusement</td>\n",
              "      <td>img245.pkl</td>\n",
              "      <td>0.166044</td>\n",
              "      <td>2.197955</td>\n",
              "      <td>1.023054</td>\n",
              "      <td>1.235119</td>\n",
              "      <td>0.000000</td>\n",
              "      <td>0.437646</td>\n",
              "      <td>...</td>\n",
              "      <td>0.363186</td>\n",
              "      <td>0.051580</td>\n",
              "      <td>0.642920</td>\n",
              "      <td>0.352508</td>\n",
              "      <td>1.595905</td>\n",
              "      <td>0.000000</td>\n",
              "      <td>0.041211</td>\n",
              "      <td>0.994471</td>\n",
              "      <td>1.036317</td>\n",
              "      <td>0</td>\n",
              "    </tr>\n",
              "    <tr>\n",
              "      <th>251</th>\n",
              "      <td>Realism</td>\n",
              "      <td>thomas-eakins_photograph-1910-19</td>\n",
              "      <td>amusement</td>\n",
              "      <td>img251.pkl</td>\n",
              "      <td>0.456372</td>\n",
              "      <td>0.277109</td>\n",
              "      <td>0.533297</td>\n",
              "      <td>0.089471</td>\n",
              "      <td>1.683744</td>\n",
              "      <td>0.282309</td>\n",
              "      <td>...</td>\n",
              "      <td>0.217372</td>\n",
              "      <td>0.292344</td>\n",
              "      <td>0.782890</td>\n",
              "      <td>0.270933</td>\n",
              "      <td>1.421841</td>\n",
              "      <td>0.000000</td>\n",
              "      <td>0.180432</td>\n",
              "      <td>0.028785</td>\n",
              "      <td>0.048267</td>\n",
              "      <td>0</td>\n",
              "    </tr>\n",
              "    <tr>\n",
              "      <th>516</th>\n",
              "      <td>Impressionism</td>\n",
              "      <td>william-merritt-chase_long-island-landscape-af...</td>\n",
              "      <td>amusement</td>\n",
              "      <td>img516.pkl</td>\n",
              "      <td>0.152622</td>\n",
              "      <td>0.032002</td>\n",
              "      <td>0.287799</td>\n",
              "      <td>0.000000</td>\n",
              "      <td>0.004655</td>\n",
              "      <td>0.246127</td>\n",
              "      <td>...</td>\n",
              "      <td>0.471001</td>\n",
              "      <td>0.394759</td>\n",
              "      <td>0.004864</td>\n",
              "      <td>0.832902</td>\n",
              "      <td>0.283388</td>\n",
              "      <td>0.137584</td>\n",
              "      <td>0.056295</td>\n",
              "      <td>0.130895</td>\n",
              "      <td>0.118189</td>\n",
              "      <td>0</td>\n",
              "    </tr>\n",
              "    <tr>\n",
              "      <th>486</th>\n",
              "      <td>Northern_Renaissance</td>\n",
              "      <td>hugo-van-der-goes_portinari-triptych-detail-1478</td>\n",
              "      <td>amusement</td>\n",
              "      <td>img486.pkl</td>\n",
              "      <td>1.158494</td>\n",
              "      <td>1.033744</td>\n",
              "      <td>0.078254</td>\n",
              "      <td>0.541306</td>\n",
              "      <td>0.269185</td>\n",
              "      <td>0.114427</td>\n",
              "      <td>...</td>\n",
              "      <td>0.012790</td>\n",
              "      <td>0.012287</td>\n",
              "      <td>3.463528</td>\n",
              "      <td>0.223222</td>\n",
              "      <td>0.148459</td>\n",
              "      <td>1.398204</td>\n",
              "      <td>0.171793</td>\n",
              "      <td>1.836089</td>\n",
              "      <td>0.182203</td>\n",
              "      <td>0</td>\n",
              "    </tr>\n",
              "    <tr>\n",
              "      <th>457</th>\n",
              "      <td>Romanticism</td>\n",
              "      <td>orest-kiprensky_portrait-of-the-abbot-skarpell...</td>\n",
              "      <td>amusement</td>\n",
              "      <td>img457.pkl</td>\n",
              "      <td>0.080189</td>\n",
              "      <td>2.324681</td>\n",
              "      <td>0.000000</td>\n",
              "      <td>0.268366</td>\n",
              "      <td>0.129128</td>\n",
              "      <td>0.000000</td>\n",
              "      <td>...</td>\n",
              "      <td>0.000000</td>\n",
              "      <td>0.665128</td>\n",
              "      <td>8.395813</td>\n",
              "      <td>0.651509</td>\n",
              "      <td>0.000000</td>\n",
              "      <td>0.603657</td>\n",
              "      <td>0.213957</td>\n",
              "      <td>0.000000</td>\n",
              "      <td>0.348410</td>\n",
              "      <td>0</td>\n",
              "    </tr>\n",
              "    <tr>\n",
              "      <th>...</th>\n",
              "      <td>...</td>\n",
              "      <td>...</td>\n",
              "      <td>...</td>\n",
              "      <td>...</td>\n",
              "      <td>...</td>\n",
              "      <td>...</td>\n",
              "      <td>...</td>\n",
              "      <td>...</td>\n",
              "      <td>...</td>\n",
              "      <td>...</td>\n",
              "      <td>...</td>\n",
              "      <td>...</td>\n",
              "      <td>...</td>\n",
              "      <td>...</td>\n",
              "      <td>...</td>\n",
              "      <td>...</td>\n",
              "      <td>...</td>\n",
              "      <td>...</td>\n",
              "      <td>...</td>\n",
              "      <td>...</td>\n",
              "      <td>...</td>\n",
              "    </tr>\n",
              "    <tr>\n",
              "      <th>813</th>\n",
              "      <td>Northern_Renaissance</td>\n",
              "      <td>albrecht-durer_st-paul</td>\n",
              "      <td>something else</td>\n",
              "      <td>img813.pkl</td>\n",
              "      <td>0.092874</td>\n",
              "      <td>0.309151</td>\n",
              "      <td>1.051254</td>\n",
              "      <td>0.442404</td>\n",
              "      <td>0.634865</td>\n",
              "      <td>0.138964</td>\n",
              "      <td>...</td>\n",
              "      <td>0.000000</td>\n",
              "      <td>0.000000</td>\n",
              "      <td>0.787677</td>\n",
              "      <td>0.610717</td>\n",
              "      <td>1.801702</td>\n",
              "      <td>0.132479</td>\n",
              "      <td>0.154987</td>\n",
              "      <td>1.102277</td>\n",
              "      <td>0.116004</td>\n",
              "      <td>8</td>\n",
              "    </tr>\n",
              "    <tr>\n",
              "      <th>825</th>\n",
              "      <td>Impressionism</td>\n",
              "      <td>joaquã­n-sorolla_the-beach-at-biarritz-1906</td>\n",
              "      <td>something else</td>\n",
              "      <td>img825.pkl</td>\n",
              "      <td>0.057224</td>\n",
              "      <td>2.081779</td>\n",
              "      <td>0.365008</td>\n",
              "      <td>0.000000</td>\n",
              "      <td>0.096517</td>\n",
              "      <td>0.000000</td>\n",
              "      <td>...</td>\n",
              "      <td>0.001220</td>\n",
              "      <td>0.053152</td>\n",
              "      <td>0.167914</td>\n",
              "      <td>0.203468</td>\n",
              "      <td>0.685938</td>\n",
              "      <td>0.076232</td>\n",
              "      <td>0.231343</td>\n",
              "      <td>0.911162</td>\n",
              "      <td>0.005268</td>\n",
              "      <td>8</td>\n",
              "    </tr>\n",
              "    <tr>\n",
              "      <th>47</th>\n",
              "      <td>Realism</td>\n",
              "      <td>vincent-van-gogh_woman-mending-stockings-1881</td>\n",
              "      <td>something else</td>\n",
              "      <td>img47.pkl</td>\n",
              "      <td>0.612480</td>\n",
              "      <td>0.235132</td>\n",
              "      <td>0.000000</td>\n",
              "      <td>0.421110</td>\n",
              "      <td>0.776868</td>\n",
              "      <td>0.000000</td>\n",
              "      <td>...</td>\n",
              "      <td>0.024271</td>\n",
              "      <td>0.005451</td>\n",
              "      <td>5.641107</td>\n",
              "      <td>1.130129</td>\n",
              "      <td>0.880607</td>\n",
              "      <td>0.120828</td>\n",
              "      <td>0.036784</td>\n",
              "      <td>0.159306</td>\n",
              "      <td>0.905283</td>\n",
              "      <td>8</td>\n",
              "    </tr>\n",
              "    <tr>\n",
              "      <th>290</th>\n",
              "      <td>Impressionism</td>\n",
              "      <td>konstantin-korovin_paris-cafe-de-la-paix-1906</td>\n",
              "      <td>something else</td>\n",
              "      <td>img290.pkl</td>\n",
              "      <td>0.404573</td>\n",
              "      <td>0.550946</td>\n",
              "      <td>0.000000</td>\n",
              "      <td>0.000000</td>\n",
              "      <td>0.028533</td>\n",
              "      <td>0.318469</td>\n",
              "      <td>...</td>\n",
              "      <td>0.017207</td>\n",
              "      <td>0.203184</td>\n",
              "      <td>0.190020</td>\n",
              "      <td>0.038150</td>\n",
              "      <td>0.462343</td>\n",
              "      <td>0.035897</td>\n",
              "      <td>0.030622</td>\n",
              "      <td>0.339621</td>\n",
              "      <td>0.000000</td>\n",
              "      <td>8</td>\n",
              "    </tr>\n",
              "    <tr>\n",
              "      <th>962</th>\n",
              "      <td>Realism</td>\n",
              "      <td>vasily-surikov_room-in-surikov-s-house</td>\n",
              "      <td>something else</td>\n",
              "      <td>img962.pkl</td>\n",
              "      <td>0.024893</td>\n",
              "      <td>2.360402</td>\n",
              "      <td>0.027124</td>\n",
              "      <td>0.505856</td>\n",
              "      <td>0.412851</td>\n",
              "      <td>0.014342</td>\n",
              "      <td>...</td>\n",
              "      <td>0.171104</td>\n",
              "      <td>0.077503</td>\n",
              "      <td>0.419468</td>\n",
              "      <td>0.000000</td>\n",
              "      <td>0.200134</td>\n",
              "      <td>0.275144</td>\n",
              "      <td>0.885185</td>\n",
              "      <td>0.282791</td>\n",
              "      <td>0.000000</td>\n",
              "      <td>8</td>\n",
              "    </tr>\n",
              "  </tbody>\n",
              "</table>\n",
              "<p>200 rows × 2053 columns</p>\n",
              "</div>\n",
              "      <button class=\"colab-df-convert\" onclick=\"convertToInteractive('df-f25ebc90-4bbc-4bd0-b545-48f0891711e0')\"\n",
              "              title=\"Convert this dataframe to an interactive table.\"\n",
              "              style=\"display:none;\">\n",
              "        \n",
              "  <svg xmlns=\"http://www.w3.org/2000/svg\" height=\"24px\"viewBox=\"0 0 24 24\"\n",
              "       width=\"24px\">\n",
              "    <path d=\"M0 0h24v24H0V0z\" fill=\"none\"/>\n",
              "    <path d=\"M18.56 5.44l.94 2.06.94-2.06 2.06-.94-2.06-.94-.94-2.06-.94 2.06-2.06.94zm-11 1L8.5 8.5l.94-2.06 2.06-.94-2.06-.94L8.5 2.5l-.94 2.06-2.06.94zm10 10l.94 2.06.94-2.06 2.06-.94-2.06-.94-.94-2.06-.94 2.06-2.06.94z\"/><path d=\"M17.41 7.96l-1.37-1.37c-.4-.4-.92-.59-1.43-.59-.52 0-1.04.2-1.43.59L10.3 9.45l-7.72 7.72c-.78.78-.78 2.05 0 2.83L4 21.41c.39.39.9.59 1.41.59.51 0 1.02-.2 1.41-.59l7.78-7.78 2.81-2.81c.8-.78.8-2.07 0-2.86zM5.41 20L4 18.59l7.72-7.72 1.47 1.35L5.41 20z\"/>\n",
              "  </svg>\n",
              "      </button>\n",
              "      \n",
              "  <style>\n",
              "    .colab-df-container {\n",
              "      display:flex;\n",
              "      flex-wrap:wrap;\n",
              "      gap: 12px;\n",
              "    }\n",
              "\n",
              "    .colab-df-convert {\n",
              "      background-color: #E8F0FE;\n",
              "      border: none;\n",
              "      border-radius: 50%;\n",
              "      cursor: pointer;\n",
              "      display: none;\n",
              "      fill: #1967D2;\n",
              "      height: 32px;\n",
              "      padding: 0 0 0 0;\n",
              "      width: 32px;\n",
              "    }\n",
              "\n",
              "    .colab-df-convert:hover {\n",
              "      background-color: #E2EBFA;\n",
              "      box-shadow: 0px 1px 2px rgba(60, 64, 67, 0.3), 0px 1px 3px 1px rgba(60, 64, 67, 0.15);\n",
              "      fill: #174EA6;\n",
              "    }\n",
              "\n",
              "    [theme=dark] .colab-df-convert {\n",
              "      background-color: #3B4455;\n",
              "      fill: #D2E3FC;\n",
              "    }\n",
              "\n",
              "    [theme=dark] .colab-df-convert:hover {\n",
              "      background-color: #434B5C;\n",
              "      box-shadow: 0px 1px 3px 1px rgba(0, 0, 0, 0.15);\n",
              "      filter: drop-shadow(0px 1px 2px rgba(0, 0, 0, 0.3));\n",
              "      fill: #FFFFFF;\n",
              "    }\n",
              "  </style>\n",
              "\n",
              "      <script>\n",
              "        const buttonEl =\n",
              "          document.querySelector('#df-f25ebc90-4bbc-4bd0-b545-48f0891711e0 button.colab-df-convert');\n",
              "        buttonEl.style.display =\n",
              "          google.colab.kernel.accessAllowed ? 'block' : 'none';\n",
              "\n",
              "        async function convertToInteractive(key) {\n",
              "          const element = document.querySelector('#df-f25ebc90-4bbc-4bd0-b545-48f0891711e0');\n",
              "          const dataTable =\n",
              "            await google.colab.kernel.invokeFunction('convertToInteractive',\n",
              "                                                     [key], {});\n",
              "          if (!dataTable) return;\n",
              "\n",
              "          const docLinkHtml = 'Like what you see? Visit the ' +\n",
              "            '<a target=\"_blank\" href=https://colab.research.google.com/notebooks/data_table.ipynb>data table notebook</a>'\n",
              "            + ' to learn more about interactive tables.';\n",
              "          element.innerHTML = '';\n",
              "          dataTable['output_type'] = 'display_data';\n",
              "          await google.colab.output.renderOutput(dataTable, element);\n",
              "          const docLink = document.createElement('div');\n",
              "          docLink.innerHTML = docLinkHtml;\n",
              "          element.appendChild(docLink);\n",
              "        }\n",
              "      </script>\n",
              "    </div>\n",
              "  </div>\n",
              "  "
            ],
            "text/plain": [
              "                art_style                                           painting  \\\n",
              "245         Impressionism             joaquã­n-sorolla_pulling-the-boat-1916   \n",
              "251               Realism                   thomas-eakins_photograph-1910-19   \n",
              "516         Impressionism  william-merritt-chase_long-island-landscape-af...   \n",
              "486  Northern_Renaissance   hugo-van-der-goes_portinari-triptych-detail-1478   \n",
              "457           Romanticism  orest-kiprensky_portrait-of-the-abbot-skarpell...   \n",
              "..                    ...                                                ...   \n",
              "813  Northern_Renaissance                             albrecht-durer_st-paul   \n",
              "825         Impressionism        joaquã­n-sorolla_the-beach-at-biarritz-1906   \n",
              "47                Realism      vincent-van-gogh_woman-mending-stockings-1881   \n",
              "290         Impressionism      konstantin-korovin_paris-cafe-de-la-paix-1906   \n",
              "962               Realism             vasily-surikov_room-in-surikov-s-house   \n",
              "\n",
              "            emotion image_features  feature_0  feature_1  feature_2  \\\n",
              "245       amusement     img245.pkl   0.166044   2.197955   1.023054   \n",
              "251       amusement     img251.pkl   0.456372   0.277109   0.533297   \n",
              "516       amusement     img516.pkl   0.152622   0.032002   0.287799   \n",
              "486       amusement     img486.pkl   1.158494   1.033744   0.078254   \n",
              "457       amusement     img457.pkl   0.080189   2.324681   0.000000   \n",
              "..              ...            ...        ...        ...        ...   \n",
              "813  something else     img813.pkl   0.092874   0.309151   1.051254   \n",
              "825  something else     img825.pkl   0.057224   2.081779   0.365008   \n",
              "47   something else      img47.pkl   0.612480   0.235132   0.000000   \n",
              "290  something else     img290.pkl   0.404573   0.550946   0.000000   \n",
              "962  something else     img962.pkl   0.024893   2.360402   0.027124   \n",
              "\n",
              "     feature_3  feature_4  feature_5  ...  feature_2039  feature_2040  \\\n",
              "245   1.235119   0.000000   0.437646  ...      0.363186      0.051580   \n",
              "251   0.089471   1.683744   0.282309  ...      0.217372      0.292344   \n",
              "516   0.000000   0.004655   0.246127  ...      0.471001      0.394759   \n",
              "486   0.541306   0.269185   0.114427  ...      0.012790      0.012287   \n",
              "457   0.268366   0.129128   0.000000  ...      0.000000      0.665128   \n",
              "..         ...        ...        ...  ...           ...           ...   \n",
              "813   0.442404   0.634865   0.138964  ...      0.000000      0.000000   \n",
              "825   0.000000   0.096517   0.000000  ...      0.001220      0.053152   \n",
              "47    0.421110   0.776868   0.000000  ...      0.024271      0.005451   \n",
              "290   0.000000   0.028533   0.318469  ...      0.017207      0.203184   \n",
              "962   0.505856   0.412851   0.014342  ...      0.171104      0.077503   \n",
              "\n",
              "     feature_2041  feature_2042  feature_2043  feature_2044  feature_2045  \\\n",
              "245      0.642920      0.352508      1.595905      0.000000      0.041211   \n",
              "251      0.782890      0.270933      1.421841      0.000000      0.180432   \n",
              "516      0.004864      0.832902      0.283388      0.137584      0.056295   \n",
              "486      3.463528      0.223222      0.148459      1.398204      0.171793   \n",
              "457      8.395813      0.651509      0.000000      0.603657      0.213957   \n",
              "..            ...           ...           ...           ...           ...   \n",
              "813      0.787677      0.610717      1.801702      0.132479      0.154987   \n",
              "825      0.167914      0.203468      0.685938      0.076232      0.231343   \n",
              "47       5.641107      1.130129      0.880607      0.120828      0.036784   \n",
              "290      0.190020      0.038150      0.462343      0.035897      0.030622   \n",
              "962      0.419468      0.000000      0.200134      0.275144      0.885185   \n",
              "\n",
              "     feature_2046  feature_2047  label  \n",
              "245      0.994471      1.036317      0  \n",
              "251      0.028785      0.048267      0  \n",
              "516      0.130895      0.118189      0  \n",
              "486      1.836089      0.182203      0  \n",
              "457      0.000000      0.348410      0  \n",
              "..            ...           ...    ...  \n",
              "813      1.102277      0.116004      8  \n",
              "825      0.911162      0.005268      8  \n",
              "47       0.159306      0.905283      8  \n",
              "290      0.339621      0.000000      8  \n",
              "962      0.282791      0.000000      8  \n",
              "\n",
              "[200 rows x 2053 columns]"
            ]
          },
          "execution_count": 72,
          "metadata": {},
          "output_type": "execute_result"
        }
      ],
      "source": [
        "test_dataset"
      ]
    },
    {
      "cell_type": "code",
      "execution_count": null,
      "metadata": {
        "colab": {
          "base_uri": "https://localhost:8080/",
          "height": 142
        },
        "id": "iwdraonv9eRg",
        "outputId": "a270703b-46f9-42a1-84c9-c6bd9be18bbe"
      },
      "outputs": [
        {
          "data": {
            "text/html": [
              "\n",
              "  <div id=\"df-98cb55a8-7e0d-4bba-ac2a-d8aee42c01ef\">\n",
              "    <div class=\"colab-df-container\">\n",
              "      <div>\n",
              "<style scoped>\n",
              "    .dataframe tbody tr th:only-of-type {\n",
              "        vertical-align: middle;\n",
              "    }\n",
              "\n",
              "    .dataframe tbody tr th {\n",
              "        vertical-align: top;\n",
              "    }\n",
              "\n",
              "    .dataframe thead th {\n",
              "        text-align: right;\n",
              "    }\n",
              "</style>\n",
              "<table border=\"1\" class=\"dataframe\">\n",
              "  <thead>\n",
              "    <tr style=\"text-align: right;\">\n",
              "      <th></th>\n",
              "      <th>art_style</th>\n",
              "      <th>painting</th>\n",
              "      <th>emotion</th>\n",
              "      <th>image_features</th>\n",
              "      <th>feature_0</th>\n",
              "      <th>feature_1</th>\n",
              "      <th>feature_2</th>\n",
              "      <th>feature_3</th>\n",
              "      <th>feature_4</th>\n",
              "      <th>feature_5</th>\n",
              "      <th>...</th>\n",
              "      <th>feature_2039</th>\n",
              "      <th>feature_2040</th>\n",
              "      <th>feature_2041</th>\n",
              "      <th>feature_2042</th>\n",
              "      <th>feature_2043</th>\n",
              "      <th>feature_2044</th>\n",
              "      <th>feature_2045</th>\n",
              "      <th>feature_2046</th>\n",
              "      <th>feature_2047</th>\n",
              "      <th>label</th>\n",
              "    </tr>\n",
              "  </thead>\n",
              "  <tbody>\n",
              "  </tbody>\n",
              "</table>\n",
              "<p>0 rows × 2053 columns</p>\n",
              "</div>\n",
              "      <button class=\"colab-df-convert\" onclick=\"convertToInteractive('df-98cb55a8-7e0d-4bba-ac2a-d8aee42c01ef')\"\n",
              "              title=\"Convert this dataframe to an interactive table.\"\n",
              "              style=\"display:none;\">\n",
              "        \n",
              "  <svg xmlns=\"http://www.w3.org/2000/svg\" height=\"24px\"viewBox=\"0 0 24 24\"\n",
              "       width=\"24px\">\n",
              "    <path d=\"M0 0h24v24H0V0z\" fill=\"none\"/>\n",
              "    <path d=\"M18.56 5.44l.94 2.06.94-2.06 2.06-.94-2.06-.94-.94-2.06-.94 2.06-2.06.94zm-11 1L8.5 8.5l.94-2.06 2.06-.94-2.06-.94L8.5 2.5l-.94 2.06-2.06.94zm10 10l.94 2.06.94-2.06 2.06-.94-2.06-.94-.94-2.06-.94 2.06-2.06.94z\"/><path d=\"M17.41 7.96l-1.37-1.37c-.4-.4-.92-.59-1.43-.59-.52 0-1.04.2-1.43.59L10.3 9.45l-7.72 7.72c-.78.78-.78 2.05 0 2.83L4 21.41c.39.39.9.59 1.41.59.51 0 1.02-.2 1.41-.59l7.78-7.78 2.81-2.81c.8-.78.8-2.07 0-2.86zM5.41 20L4 18.59l7.72-7.72 1.47 1.35L5.41 20z\"/>\n",
              "  </svg>\n",
              "      </button>\n",
              "      \n",
              "  <style>\n",
              "    .colab-df-container {\n",
              "      display:flex;\n",
              "      flex-wrap:wrap;\n",
              "      gap: 12px;\n",
              "    }\n",
              "\n",
              "    .colab-df-convert {\n",
              "      background-color: #E8F0FE;\n",
              "      border: none;\n",
              "      border-radius: 50%;\n",
              "      cursor: pointer;\n",
              "      display: none;\n",
              "      fill: #1967D2;\n",
              "      height: 32px;\n",
              "      padding: 0 0 0 0;\n",
              "      width: 32px;\n",
              "    }\n",
              "\n",
              "    .colab-df-convert:hover {\n",
              "      background-color: #E2EBFA;\n",
              "      box-shadow: 0px 1px 2px rgba(60, 64, 67, 0.3), 0px 1px 3px 1px rgba(60, 64, 67, 0.15);\n",
              "      fill: #174EA6;\n",
              "    }\n",
              "\n",
              "    [theme=dark] .colab-df-convert {\n",
              "      background-color: #3B4455;\n",
              "      fill: #D2E3FC;\n",
              "    }\n",
              "\n",
              "    [theme=dark] .colab-df-convert:hover {\n",
              "      background-color: #434B5C;\n",
              "      box-shadow: 0px 1px 3px 1px rgba(0, 0, 0, 0.15);\n",
              "      filter: drop-shadow(0px 1px 2px rgba(0, 0, 0, 0.3));\n",
              "      fill: #FFFFFF;\n",
              "    }\n",
              "  </style>\n",
              "\n",
              "      <script>\n",
              "        const buttonEl =\n",
              "          document.querySelector('#df-98cb55a8-7e0d-4bba-ac2a-d8aee42c01ef button.colab-df-convert');\n",
              "        buttonEl.style.display =\n",
              "          google.colab.kernel.accessAllowed ? 'block' : 'none';\n",
              "\n",
              "        async function convertToInteractive(key) {\n",
              "          const element = document.querySelector('#df-98cb55a8-7e0d-4bba-ac2a-d8aee42c01ef');\n",
              "          const dataTable =\n",
              "            await google.colab.kernel.invokeFunction('convertToInteractive',\n",
              "                                                     [key], {});\n",
              "          if (!dataTable) return;\n",
              "\n",
              "          const docLinkHtml = 'Like what you see? Visit the ' +\n",
              "            '<a target=\"_blank\" href=https://colab.research.google.com/notebooks/data_table.ipynb>data table notebook</a>'\n",
              "            + ' to learn more about interactive tables.';\n",
              "          element.innerHTML = '';\n",
              "          dataTable['output_type'] = 'display_data';\n",
              "          await google.colab.output.renderOutput(dataTable, element);\n",
              "          const docLink = document.createElement('div');\n",
              "          docLink.innerHTML = docLinkHtml;\n",
              "          element.appendChild(docLink);\n",
              "        }\n",
              "      </script>\n",
              "    </div>\n",
              "  </div>\n",
              "  "
            ],
            "text/plain": [
              "Empty DataFrame\n",
              "Columns: [art_style, painting, emotion, image_features, feature_0, feature_1, feature_2, feature_3, feature_4, feature_5, feature_6, feature_7, feature_8, feature_9, feature_10, feature_11, feature_12, feature_13, feature_14, feature_15, feature_16, feature_17, feature_18, feature_19, feature_20, feature_21, feature_22, feature_23, feature_24, feature_25, feature_26, feature_27, feature_28, feature_29, feature_30, feature_31, feature_32, feature_33, feature_34, feature_35, feature_36, feature_37, feature_38, feature_39, feature_40, feature_41, feature_42, feature_43, feature_44, feature_45, feature_46, feature_47, feature_48, feature_49, feature_50, feature_51, feature_52, feature_53, feature_54, feature_55, feature_56, feature_57, feature_58, feature_59, feature_60, feature_61, feature_62, feature_63, feature_64, feature_65, feature_66, feature_67, feature_68, feature_69, feature_70, feature_71, feature_72, feature_73, feature_74, feature_75, feature_76, feature_77, feature_78, feature_79, feature_80, feature_81, feature_82, feature_83, feature_84, feature_85, feature_86, feature_87, feature_88, feature_89, feature_90, feature_91, feature_92, feature_93, feature_94, feature_95, ...]\n",
              "Index: []\n",
              "\n",
              "[0 rows x 2053 columns]"
            ]
          },
          "execution_count": 75,
          "metadata": {},
          "output_type": "execute_result"
        }
      ],
      "source": [
        "train_dataset = pd.DataFrame(columns=list(painting_features_1000_subset.columns))\n",
        "train_dataset"
      ]
    },
    {
      "cell_type": "code",
      "execution_count": null,
      "metadata": {
        "id": "zCuz04BY9azh"
      },
      "outputs": [],
      "source": [
        "for i in range(0, len(painting_features_1000_subset['painting'])):\n",
        "    if painting_features_1000_subset.iloc[i]['painting'] not in list(test_dataset['painting']):\n",
        "      train_dataset.loc[len(train_dataset)] = [painting_features_1000_subset.iloc[i][col] for col in list(painting_features_1000_subset.columns)]"
      ]
    },
    {
      "cell_type": "code",
      "execution_count": null,
      "metadata": {
        "id": "pPLifS9BHqcs"
      },
      "outputs": [],
      "source": [
        "train_dataset.to_csv('/content/drive/MyDrive/College/Sem 6/CV/Project/datasets/train_dataset_1000.csv')"
      ]
    },
    {
      "cell_type": "code",
      "execution_count": null,
      "metadata": {
        "id": "LZ5FcxLEH5Kc"
      },
      "outputs": [],
      "source": [
        "test_dataset.to_csv('/content/drive/MyDrive/College/Sem 6/CV/Project/datasets/test_dataset_1000.csv')"
      ]
    },
    {
      "cell_type": "code",
      "execution_count": null,
      "metadata": {
        "id": "CZ3kgwdBIFzQ"
      },
      "outputs": [],
      "source": [
        "X_train = train_dataset[train_dataset.columns[4:2052]]\n",
        "y_train = train_dataset['label']"
      ]
    },
    {
      "cell_type": "code",
      "execution_count": null,
      "metadata": {
        "id": "1YF8xKD2JSNw"
      },
      "outputs": [],
      "source": [
        "X_train = np.array(X_train)\n",
        "y_train = np.array([int(x) for x in y_train])"
      ]
    },
    {
      "cell_type": "code",
      "execution_count": null,
      "metadata": {
        "id": "vy5aNG-a8X3S"
      },
      "outputs": [],
      "source": [
        "X_test = test_dataset[test_dataset.columns[4:2052]]\n",
        "y_test = test_dataset['label']"
      ]
    },
    {
      "cell_type": "code",
      "execution_count": null,
      "metadata": {
        "id": "lXYAle-NJXCv"
      },
      "outputs": [],
      "source": [
        "X_test = np.array(X_test)\n",
        "y_test = np.array([int(x) for x in y_test])"
      ]
    },
    {
      "cell_type": "markdown",
      "metadata": {
        "id": "iWhr3_kp2U4q"
      },
      "source": [
        "# **KNN**"
      ]
    },
    {
      "cell_type": "code",
      "execution_count": null,
      "metadata": {
        "id": "KCOW0iK22UaM"
      },
      "outputs": [],
      "source": [
        "from sklearn.neighbors import KNeighborsClassifier\n",
        "\n",
        "def KNN(X, y, X_test, k):\n",
        "    neigh = KNeighborsClassifier(n_neighbors = k)\n",
        "    neigh.fit(X, y)\n",
        "    y_pred = neigh.predict(X_test)\n",
        "    return y_pred"
      ]
    },
    {
      "cell_type": "code",
      "execution_count": null,
      "metadata": {
        "id": "dpIHXQlc2dFr"
      },
      "outputs": [],
      "source": [
        "from sklearn.metrics import accuracy_score\n",
        "\n",
        "def calc_accuracy_sklearn(k, X, y, X_test, y_test):\n",
        "    y_pred = KNN(X, y, X_test, k)\n",
        "    return accuracy_score(y_test, y_pred)"
      ]
    },
    {
      "cell_type": "code",
      "execution_count": null,
      "metadata": {
        "colab": {
          "base_uri": "https://localhost:8080/"
        },
        "id": "3OBR3ufB2oo4",
        "outputId": "438a9517-6ea3-4550-e509-ad87c1082ab4"
      },
      "outputs": [
        {
          "data": {
            "text/plain": [
              "0.245"
            ]
          },
          "execution_count": 134,
          "metadata": {},
          "output_type": "execute_result"
        }
      ],
      "source": [
        "#K = 1\n",
        "calc_accuracy_sklearn(1, X_train, y_train, X_test, y_test)"
      ]
    },
    {
      "cell_type": "code",
      "execution_count": null,
      "metadata": {
        "colab": {
          "base_uri": "https://localhost:8080/"
        },
        "id": "cswlX46X2w05",
        "outputId": "0e857fde-22da-4a17-d649-8c1b7e7954ec"
      },
      "outputs": [
        {
          "data": {
            "text/plain": [
              "0.285"
            ]
          },
          "execution_count": 135,
          "metadata": {},
          "output_type": "execute_result"
        }
      ],
      "source": [
        "#K = 3\n",
        "calc_accuracy_sklearn(3, X_train, y_train, X_test, y_test)"
      ]
    },
    {
      "cell_type": "code",
      "execution_count": null,
      "metadata": {
        "colab": {
          "base_uri": "https://localhost:8080/"
        },
        "id": "VreO142s2z7i",
        "outputId": "befa1ae6-0766-4c95-e12d-25f3091db2c7"
      },
      "outputs": [
        {
          "data": {
            "text/plain": [
              "0.27"
            ]
          },
          "execution_count": 136,
          "metadata": {},
          "output_type": "execute_result"
        }
      ],
      "source": [
        "#K = 5\n",
        "calc_accuracy_sklearn(5, X_train, y_train, X_test, y_test)"
      ]
    },
    {
      "cell_type": "code",
      "execution_count": null,
      "metadata": {
        "colab": {
          "base_uri": "https://localhost:8080/"
        },
        "id": "P3lHIYIJ22uC",
        "outputId": "e4454cbd-c65e-4b58-83b8-57912445ebb0"
      },
      "outputs": [
        {
          "data": {
            "text/plain": [
              "0.305"
            ]
          },
          "execution_count": 137,
          "metadata": {},
          "output_type": "execute_result"
        }
      ],
      "source": [
        "#K = 7\n",
        "calc_accuracy_sklearn(7, X_train, y_train, X_test, y_test)"
      ]
    },
    {
      "cell_type": "code",
      "execution_count": null,
      "metadata": {
        "colab": {
          "base_uri": "https://localhost:8080/"
        },
        "id": "VsUCMVTC26wC",
        "outputId": "19281d0c-3ca4-4592-f83f-85f8a67ff259"
      },
      "outputs": [
        {
          "data": {
            "text/plain": [
              "0.32"
            ]
          },
          "execution_count": 138,
          "metadata": {},
          "output_type": "execute_result"
        }
      ],
      "source": [
        "#K = 9\n",
        "calc_accuracy_sklearn(9, X_train, y_train, X_test, y_test)"
      ]
    },
    {
      "cell_type": "code",
      "execution_count": null,
      "metadata": {
        "id": "uJt3Q0Q83eXx"
      },
      "outputs": [],
      "source": [
        "k_list = [k for k in range(1, 52, 2)]"
      ]
    },
    {
      "cell_type": "code",
      "execution_count": null,
      "metadata": {
        "id": "k5Vf81ir3Bdg"
      },
      "outputs": [],
      "source": [
        "accuracies_artemis_sklearn = [calc_accuracy_sklearn(k, X_train, y_train, X_test, y_test) for k in k_list]"
      ]
    },
    {
      "cell_type": "code",
      "execution_count": null,
      "metadata": {
        "colab": {
          "base_uri": "https://localhost:8080/",
          "height": 295
        },
        "id": "IrGXmIIj3WOe",
        "outputId": "4b17cd95-24f6-46cf-b746-b73dc2f7d949"
      },
      "outputs": [
        {
          "data": {
            "image/png": "[encoded data removed]",
            "text/plain": [
              "<Figure size 432x288 with 1 Axes>"
            ]
          },
          "metadata": {},
          "output_type": "display_data"
        }
      ],
      "source": [
        "import matplotlib.pyplot as plt\n",
        "\n",
        "plt.plot(k_list, accuracies_artemis_sklearn)\n",
        "plt.xlabel('K')\n",
        "plt.ylabel('Accuracy')\n",
        "plt.title('Accuracy v/s K')\n",
        "plt.show()"
      ]
    },
    {
      "cell_type": "code",
      "execution_count": null,
      "metadata": {
        "colab": {
          "base_uri": "https://localhost:8080/"
        },
        "id": "S1TZgy4hWeLr",
        "outputId": "8ffc3ad6-bdbb-4c2d-be76-fd7abc3cd1a0"
      },
      "outputs": [
        {
          "name": "stdout",
          "output_type": "stream",
          "text": [
            "Tuned KNN Parameters: {'metric': 'manhattan', 'n_neighbors': 7}\n",
            "Best score is 0.26875\n"
          ]
        }
      ],
      "source": [
        "from sklearn.model_selection import GridSearchCV\n",
        "knn = KNeighborsClassifier()\n",
        "param_grid = {'n_neighbors': [1,3,5,7], \n",
        "              'metric': ['euclidean', 'manhattan']}\n",
        "knn_cv = GridSearchCV(knn, param_grid, cv = 5)\n",
        "knn_cv.fit(X_train, y_train)\n",
        "print(\"Tuned KNN Parameters: {}\".format(knn_cv.best_params_)) \n",
        "print(\"Best score is {}\".format(knn_cv.best_score_))"
      ]
    },
    {
      "cell_type": "code",
      "execution_count": null,
      "metadata": {
        "id": "9-FWxVEPUpL2"
      },
      "outputs": [],
      "source": [
        "knn_best = KNeighborsClassifier(n_neighbors = 7, metric = 'manhattan')\n",
        "knn_best.fit(X_train, y_train)\n",
        "y_pred_k_7 = knn_best.predict(X_test)\n"
      ]
    },
    {
      "cell_type": "code",
      "execution_count": null,
      "metadata": {
        "colab": {
          "base_uri": "https://localhost:8080/"
        },
        "id": "uqaFrM16UpL2",
        "outputId": "b28d78ac-dd37-48ef-fdb1-7e35a336e39e"
      },
      "outputs": [
        {
          "name": "stdout",
          "output_type": "stream",
          "text": [
            "              precision    recall  f1-score   support\n",
            "\n",
            "           0       0.11      0.09      0.10        22\n",
            "           1       0.00      0.00      0.00         1\n",
            "           2       0.29      0.42      0.34        43\n",
            "           3       0.38      0.58      0.46        66\n",
            "           4       0.00      0.00      0.00         8\n",
            "           5       0.20      0.08      0.11        13\n",
            "           6       0.25      0.11      0.15        18\n",
            "           7       0.00      0.00      0.00        23\n",
            "           8       0.00      0.00      0.00         6\n",
            "\n",
            "    accuracy                           0.30       200\n",
            "   macro avg       0.14      0.14      0.13       200\n",
            "weighted avg       0.24      0.30      0.26       200\n",
            "\n"
          ]
        },
        {
          "name": "stderr",
          "output_type": "stream",
          "text": [
            "/usr/local/lib/python3.7/dist-packages/sklearn/metrics/_classification.py:1318: UndefinedMetricWarning: Precision and F-score are ill-defined and being set to 0.0 in labels with no predicted samples. Use `zero_division` parameter to control this behavior.\n",
            "  _warn_prf(average, modifier, msg_start, len(result))\n",
            "/usr/local/lib/python3.7/dist-packages/sklearn/metrics/_classification.py:1318: UndefinedMetricWarning: Precision and F-score are ill-defined and being set to 0.0 in labels with no predicted samples. Use `zero_division` parameter to control this behavior.\n",
            "  _warn_prf(average, modifier, msg_start, len(result))\n",
            "/usr/local/lib/python3.7/dist-packages/sklearn/metrics/_classification.py:1318: UndefinedMetricWarning: Precision and F-score are ill-defined and being set to 0.0 in labels with no predicted samples. Use `zero_division` parameter to control this behavior.\n",
            "  _warn_prf(average, modifier, msg_start, len(result))\n",
            "/usr/local/lib/python3.7/dist-packages/sklearn/metrics/_classification.py:1318: UndefinedMetricWarning: Precision and F-score are ill-defined and being set to 0.0 in labels with no predicted samples. Use `zero_division` parameter to control this behavior.\n",
            "  _warn_prf(average, modifier, msg_start, len(result))\n",
            "/usr/local/lib/python3.7/dist-packages/sklearn/metrics/_classification.py:1318: UndefinedMetricWarning: Precision and F-score are ill-defined and being set to 0.0 in labels with no predicted samples. Use `zero_division` parameter to control this behavior.\n",
            "  _warn_prf(average, modifier, msg_start, len(result))\n",
            "/usr/local/lib/python3.7/dist-packages/sklearn/metrics/_classification.py:1318: UndefinedMetricWarning: Precision and F-score are ill-defined and being set to 0.0 in labels with no predicted samples. Use `zero_division` parameter to control this behavior.\n",
            "  _warn_prf(average, modifier, msg_start, len(result))\n"
          ]
        }
      ],
      "source": [
        "# Displaying precision, recall and F1 score for each class\n",
        "from sklearn.metrics import classification_report \n",
        "\n",
        "report_knn = classification_report(y_test, y_pred_k_7)\n",
        "report_knn_dict = classification_report(y_test, y_pred_k_7, output_dict = True)\n",
        "print(report_knn)"
      ]
    },
    {
      "cell_type": "code",
      "execution_count": null,
      "metadata": {
        "id": "yN39vmGPGCPk"
      },
      "outputs": [],
      "source": [
        "# Function to get a list of values of a performance metric corresponding to each class \n",
        "# Possible performance metrics: precision, recall and f1_score\n",
        "\n",
        "def get_performance_from_classification_report(report, performance_metric):\n",
        "  performance = []\n",
        "  for class_id in range(9):\n",
        "    class_id = str(class_id)\n",
        "    performance.append(round(report[class_id][performance_metric], 2))\n",
        "  return performance"
      ]
    },
    {
      "cell_type": "code",
      "execution_count": null,
      "metadata": {
        "id": "gNfNXFCHG2ux"
      },
      "outputs": [],
      "source": [
        "# Storing the class-wise values of performance metrics which will be needed to draw the bar plot\n",
        "\n",
        "precision = get_performance_from_classification_report(report_knn_dict, 'precision')\n",
        "recall =  get_performance_from_classification_report(report_knn_dict, 'recall')\n",
        "f1_score = get_performance_from_classification_report(report_knn_dict, 'f1-score')"
      ]
    },
    {
      "cell_type": "code",
      "execution_count": null,
      "metadata": {
        "colab": {
          "base_uri": "https://localhost:8080/"
        },
        "id": "n3UF5FUnIZpi",
        "outputId": "82e238cc-5835-4e98-fda4-1449178bb91b"
      },
      "outputs": [
        {
          "name": "stdout",
          "output_type": "stream",
          "text": [
            "[0.2, 0.0, 0.2, 0.34, 0.0, 0.0, 0.0, 0.0, 0.0]\n",
            "[0.05, 0.0, 0.12, 0.85, 0.0, 0.0, 0.0, 0.0, 0.0]\n",
            "[0.07, 0.0, 0.15, 0.48, 0.0, 0.0, 0.0, 0.0, 0.0]\n"
          ]
        }
      ],
      "source": [
        "print(precision)\n",
        "print(recall)\n",
        "print(f1_score)"
      ]
    },
    {
      "cell_type": "code",
      "execution_count": null,
      "metadata": {
        "id": "4z530C6F7cxn"
      },
      "outputs": [],
      "source": [
        "classes = painting_features_1000_subset['emotion'].unique()"
      ]
    },
    {
      "cell_type": "code",
      "execution_count": null,
      "metadata": {
        "id": "MEEBzRiHlMsg"
      },
      "outputs": [],
      "source": [
        "# Function to plot performance bar plot to show classification report graphically\n",
        "\n",
        "import numpy as np\n",
        "import matplotlib.pyplot as plt\n",
        "\n",
        "def draw_performance_plot(precision, recall, f1_score, model_name): \n",
        "\tbarWidth = 0.25\n",
        "\tfig = plt.subplots(figsize =(12, 8))\n",
        " \n",
        "\tbr1 = np.arange(9)\n",
        "\tbr2 = [x + barWidth for x in br1]\n",
        "\tbr3 = [x + barWidth for x in br2]\n",
        "\n",
        "\tplt.bar(br1, precision, color ='mediumaquamarine', width = barWidth,\n",
        "\t\t\tedgecolor ='grey', label ='Precision')\n",
        "\tplt.bar(br2, recall, color ='palegreen', width = barWidth,\n",
        "\t\t\tedgecolor ='grey', label ='Recall')\n",
        "\tplt.bar(br3, f1_score, color ='moccasin', width = barWidth,\n",
        "\t\t\tedgecolor ='grey', label ='F1 Score')\n",
        "\n",
        "\tplt.title(f'Performance of {model_name} on Artemis', fontweight ='bold', fontsize = 20)\n",
        "\tplt.ylabel('Performance', fontweight ='bold', fontsize = 15)\n",
        "\tplt.xlabel('Classes', fontweight ='bold', fontsize = 15)\n",
        "\tplt.xticks([r + barWidth for r in range(9)], classes)\n",
        "\n",
        "\tplt.legend()\n",
        "\tplt.show()"
      ]
    },
    {
      "cell_type": "code",
      "execution_count": null,
      "metadata": {
        "colab": {
          "base_uri": "https://localhost:8080/",
          "height": 523
        },
        "id": "JNEN1L8HU1PH",
        "outputId": "bfef519a-c04c-404d-d0f6-30204071089a"
      },
      "outputs": [
        {
          "data": {
            "image/png": "[encoded data removed]",
            "text/plain": [
              "<Figure size 864x576 with 1 Axes>"
            ]
          },
          "metadata": {},
          "output_type": "display_data"
        }
      ],
      "source": [
        "draw_performance_plot(precision, recall, f1_score, 'KNN')"
      ]
    },
    {
      "cell_type": "markdown",
      "metadata": {
        "id": "XJjPs_LdmXHm"
      },
      "source": [
        "## **Function to plot learning curves**"
      ]
    },
    {
      "cell_type": "code",
      "execution_count": null,
      "metadata": {
        "id": "bQCfrj6QmWc8"
      },
      "outputs": [],
      "source": [
        "from matplotlib import pyplot\n",
        "\n",
        "def summarize_model(history):\n",
        "\t# plot loss during training\n",
        "  pyplot.figure(figsize=(8,6))\n",
        "  pyplot.subplot(211)\n",
        "  pyplot.title('Loss')\n",
        "  pyplot.plot(history.history['loss'], label='train')\n",
        "  pyplot.plot(history.history['val_loss'], label='validation')\n",
        "  pyplot.legend()\n",
        "  # plot accuracy during training\n",
        "  pyplot.subplot(212)\n",
        "  pyplot.title('Accuracy')\n",
        "  pyplot.plot(history.history['accuracy'], label='train')\n",
        "  pyplot.plot(history.history['val_accuracy'], label='validation')\n",
        "  pyplot.legend()\n",
        "  pyplot.show()"
      ]
    },
    {
      "cell_type": "markdown",
      "metadata": {
        "id": "7s3RYSyS3_uk"
      },
      "source": [
        "# **Neural Networks**"
      ]
    },
    {
      "cell_type": "code",
      "execution_count": null,
      "metadata": {
        "id": "bS_ThRUoMWtA"
      },
      "outputs": [],
      "source": [
        "# Converting y_train and y_test to one-hot vectors before feeding it to the neural network\n",
        "from tensorflow.keras.utils import to_categorical\n",
        "y_train = to_categorical(y_train, 9)\n",
        "y_test = to_categorical(y_test, 9)"
      ]
    },
    {
      "cell_type": "code",
      "execution_count": null,
      "metadata": {
        "colab": {
          "base_uri": "https://localhost:8080/"
        },
        "id": "Uv6U2zlFl4bw",
        "outputId": "b9d7f260-1817-4158-844f-68e6f4e1bff3"
      },
      "outputs": [
        {
          "name": "stdout",
          "output_type": "stream",
          "text": [
            "Model: \"sequential_4\"\n",
            "_________________________________________________________________\n",
            " Layer (type)                Output Shape              Param #   \n",
            "=================================================================\n",
            " dense_28 (Dense)            (None, 50)                102450    \n",
            "                                                                 \n",
            " dense_29 (Dense)            (None, 55)                2805      \n",
            "                                                                 \n",
            " dense_30 (Dense)            (None, 60)                3360      \n",
            "                                                                 \n",
            " dense_31 (Dense)            (None, 60)                3660      \n",
            "                                                                 \n",
            " dense_32 (Dense)            (None, 60)                3660      \n",
            "                                                                 \n",
            " dense_33 (Dense)            (None, 60)                3660      \n",
            "                                                                 \n",
            " dense_34 (Dense)            (None, 9)                 549       \n",
            "                                                                 \n",
            "=================================================================\n",
            "Total params: 120,144\n",
            "Trainable params: 120,144\n",
            "Non-trainable params: 0\n",
            "_________________________________________________________________\n"
          ]
        }
      ],
      "source": [
        "from tensorflow.keras.models import Model, Sequential\n",
        "from tensorflow.keras.layers import Dense\n",
        "from tensorflow.keras.optimizers import Adam\n",
        "\n",
        "# Creating the Neural Network Model\n",
        "NN = Sequential()\n",
        "NN.add(Dense(50, activation = 'relu',  input_shape=(2048,)))\n",
        "NN.add(Dense(55, activation = 'relu'))\n",
        "NN.add(Dense(60, activation = 'relu'))\n",
        "NN.add(Dense(60, activation = 'relu'))\n",
        "NN.add(Dense(60, activation = 'relu'))\n",
        "NN.add(Dense(60, activation = 'relu'))\n",
        "NN.add(Dense(9, activation = 'softmax'))\n",
        "NN.summary()"
      ]
    },
    {
      "cell_type": "code",
      "execution_count": null,
      "metadata": {
        "id": "smIS444F67aM"
      },
      "outputs": [],
      "source": [
        "# Compiling the neural network model\n",
        "NN.compile(loss='categorical_crossentropy',\n",
        "              optimizer= Adam(learning_rate = 0.0001),\n",
        "              metrics=['accuracy'])"
      ]
    },
    {
      "cell_type": "code",
      "execution_count": null,
      "metadata": {
        "colab": {
          "base_uri": "https://localhost:8080/"
        },
        "id": "V9U5LmOX7Esz",
        "outputId": "fdb3f46a-7d07-47cf-934d-d5fae74e85bc"
      },
      "outputs": [
        {
          "name": "stdout",
          "output_type": "stream",
          "text": [
            "Epoch 1/10\n",
            "20/20 [==============================] - 1s 19ms/step - loss: 2.2024 - accuracy: 0.0781 - val_loss: 2.1503 - val_accuracy: 0.0812\n",
            "Epoch 2/10\n",
            "20/20 [==============================] - 0s 6ms/step - loss: 2.0982 - accuracy: 0.2375 - val_loss: 2.0307 - val_accuracy: 0.3625\n",
            "Epoch 3/10\n",
            "20/20 [==============================] - 0s 7ms/step - loss: 1.9913 - accuracy: 0.3156 - val_loss: 1.8977 - val_accuracy: 0.3812\n",
            "Epoch 4/10\n",
            "20/20 [==============================] - 0s 6ms/step - loss: 1.9080 - accuracy: 0.3156 - val_loss: 1.8306 - val_accuracy: 0.3812\n",
            "Epoch 5/10\n",
            "20/20 [==============================] - 0s 6ms/step - loss: 1.8569 - accuracy: 0.3156 - val_loss: 1.8023 - val_accuracy: 0.3812\n",
            "Epoch 6/10\n",
            "20/20 [==============================] - 0s 6ms/step - loss: 1.8180 - accuracy: 0.3187 - val_loss: 1.7891 - val_accuracy: 0.3750\n",
            "Epoch 7/10\n",
            "20/20 [==============================] - 0s 6ms/step - loss: 1.7859 - accuracy: 0.3359 - val_loss: 1.7668 - val_accuracy: 0.3750\n",
            "Epoch 8/10\n",
            "20/20 [==============================] - 0s 9ms/step - loss: 1.7501 - accuracy: 0.3344 - val_loss: 1.7616 - val_accuracy: 0.3688\n",
            "Epoch 9/10\n",
            "20/20 [==============================] - 0s 7ms/step - loss: 1.7159 - accuracy: 0.3625 - val_loss: 1.7578 - val_accuracy: 0.3750\n",
            "Epoch 10/10\n",
            "20/20 [==============================] - 0s 6ms/step - loss: 1.6793 - accuracy: 0.3969 - val_loss: 1.7444 - val_accuracy: 0.3812\n"
          ]
        }
      ],
      "source": [
        "# Training the complex neural network model on the training data with 10 epochs,\n",
        "# using 20% of the training data for validation\n",
        "history_NN_10 = NN.fit(X_train, y_train, epochs = 10, validation_split = 0.2)"
      ]
    },
    {
      "cell_type": "code",
      "execution_count": null,
      "metadata": {
        "colab": {
          "base_uri": "https://localhost:8080/",
          "height": 390
        },
        "id": "HBSirEDQGhss",
        "outputId": "5d933ea2-202b-48f7-d974-9d1c1fa5a773"
      },
      "outputs": [
        {
          "data": {
            "image/png": "[encoded data removed]",
            "text/plain": [
              "<Figure size 576x432 with 2 Axes>"
            ]
          },
          "metadata": {},
          "output_type": "display_data"
        }
      ],
      "source": [
        "# Learning curve for the model\n",
        "\n",
        "summarize_model(history_NN_10)"
      ]
    },
    {
      "cell_type": "code",
      "execution_count": null,
      "metadata": {
        "colab": {
          "base_uri": "https://localhost:8080/"
        },
        "id": "L6hDYv_HG4Eg",
        "outputId": "5109ab3c-31d4-4d3b-8ec0-9d5d06f91269"
      },
      "outputs": [
        {
          "name": "stdout",
          "output_type": "stream",
          "text": [
            "7/7 [==============================] - 0s 5ms/step - loss: 1.8210 - accuracy: 0.3250\n"
          ]
        }
      ],
      "source": [
        "# Evaluating the trained NN model on the test data\n",
        "testLoss_NN, testAccuracy_NN = NN.evaluate(X_test, y_test)"
      ]
    },
    {
      "cell_type": "markdown",
      "metadata": {
        "id": "yA6TqHzLLsdq"
      },
      "source": [
        "The test average accuracy is 32.50%"
      ]
    },
    {
      "cell_type": "code",
      "execution_count": null,
      "metadata": {
        "id": "9_T6nq0JG-T_"
      },
      "outputs": [],
      "source": [
        "# Using the NN model to make predictions\n",
        "y_pred = NN.predict(X_test)"
      ]
    },
    {
      "cell_type": "code",
      "execution_count": null,
      "metadata": {
        "id": "T8h_MTdkLzdg"
      },
      "outputs": [],
      "source": [
        "import numpy as np \n",
        "# Converting the predicted classes and actual classes vectors to get the predicted and actual classes\n",
        "y_pred_classes = np.argmax(y_pred, axis = 1) \n",
        "y_true_classes = np.argmax(y_test,axis = 1)"
      ]
    },
    {
      "cell_type": "markdown",
      "metadata": {
        "id": "iMd2DzmXMLQP"
      },
      "source": [
        "**Output precision, recall, F1-score for each class**"
      ]
    },
    {
      "cell_type": "code",
      "execution_count": null,
      "metadata": {
        "colab": {
          "base_uri": "https://localhost:8080/"
        },
        "id": "bdOBYeq_MKWo",
        "outputId": "8bc1db83-eb10-444f-d213-95c1e0460e50"
      },
      "outputs": [
        {
          "name": "stdout",
          "output_type": "stream",
          "text": [
            "              precision    recall  f1-score   support\n",
            "\n",
            "           0       0.29      0.09      0.14        22\n",
            "           1       0.00      0.00      0.00         1\n",
            "           2       0.11      0.02      0.04        43\n",
            "           3       0.34      0.94      0.50        66\n",
            "           4       0.00      0.00      0.00         8\n",
            "           5       0.00      0.00      0.00        13\n",
            "           6       0.00      0.00      0.00        18\n",
            "           7       0.00      0.00      0.00        23\n",
            "           8       0.00      0.00      0.00         6\n",
            "\n",
            "    accuracy                           0.33       200\n",
            "   macro avg       0.08      0.12      0.07       200\n",
            "weighted avg       0.17      0.33      0.19       200\n",
            "\n"
          ]
        },
        {
          "name": "stderr",
          "output_type": "stream",
          "text": [
            "/usr/local/lib/python3.7/dist-packages/sklearn/metrics/_classification.py:1318: UndefinedMetricWarning: Precision and F-score are ill-defined and being set to 0.0 in labels with no predicted samples. Use `zero_division` parameter to control this behavior.\n",
            "  _warn_prf(average, modifier, msg_start, len(result))\n",
            "/usr/local/lib/python3.7/dist-packages/sklearn/metrics/_classification.py:1318: UndefinedMetricWarning: Precision and F-score are ill-defined and being set to 0.0 in labels with no predicted samples. Use `zero_division` parameter to control this behavior.\n",
            "  _warn_prf(average, modifier, msg_start, len(result))\n",
            "/usr/local/lib/python3.7/dist-packages/sklearn/metrics/_classification.py:1318: UndefinedMetricWarning: Precision and F-score are ill-defined and being set to 0.0 in labels with no predicted samples. Use `zero_division` parameter to control this behavior.\n",
            "  _warn_prf(average, modifier, msg_start, len(result))\n",
            "/usr/local/lib/python3.7/dist-packages/sklearn/metrics/_classification.py:1318: UndefinedMetricWarning: Precision and F-score are ill-defined and being set to 0.0 in labels with no predicted samples. Use `zero_division` parameter to control this behavior.\n",
            "  _warn_prf(average, modifier, msg_start, len(result))\n",
            "/usr/local/lib/python3.7/dist-packages/sklearn/metrics/_classification.py:1318: UndefinedMetricWarning: Precision and F-score are ill-defined and being set to 0.0 in labels with no predicted samples. Use `zero_division` parameter to control this behavior.\n",
            "  _warn_prf(average, modifier, msg_start, len(result))\n",
            "/usr/local/lib/python3.7/dist-packages/sklearn/metrics/_classification.py:1318: UndefinedMetricWarning: Precision and F-score are ill-defined and being set to 0.0 in labels with no predicted samples. Use `zero_division` parameter to control this behavior.\n",
            "  _warn_prf(average, modifier, msg_start, len(result))\n"
          ]
        }
      ],
      "source": [
        "# Classification Report\n",
        "from sklearn.metrics import classification_report \n",
        "\n",
        "report_NN_dict = classification_report(y_true_classes, y_pred_classes, output_dict = True)\n",
        "report = classification_report(y_true_classes, y_pred_classes)\n",
        "print(report)"
      ]
    },
    {
      "cell_type": "code",
      "execution_count": null,
      "metadata": {
        "id": "cHNS71XOtcWC"
      },
      "outputs": [],
      "source": [
        "# Storing the class-wise values of performance metrics which will be needed to draw the bar plot\n",
        "\n",
        "precision = get_performance_from_classification_report(report_NN_dict, 'precision')\n",
        "recall =  get_performance_from_classification_report(report_NN_dict, 'recall')\n",
        "f1_score = get_performance_from_classification_report(report_NN_dict, 'f1-score')"
      ]
    },
    {
      "cell_type": "code",
      "execution_count": null,
      "metadata": {
        "colab": {
          "base_uri": "https://localhost:8080/",
          "height": 523
        },
        "id": "wV1aO-BhtjHi",
        "outputId": "be17ba3e-acdb-4f79-e035-67df8043fdad"
      },
      "outputs": [
        {
          "data": {
            "image/png": "[encoded data removed]",
            "text/plain": [
              "<Figure size 864x576 with 1 Axes>"
            ]
          },
          "metadata": {},
          "output_type": "display_data"
        }
      ],
      "source": [
        "# Displaying classification report as a bar plot\n",
        "draw_performance_plot(precision, recall, f1_score, 'Neural Network')"
      ]
    },
    {
      "cell_type": "code",
      "execution_count": null,
      "metadata": {
        "colab": {
          "base_uri": "https://localhost:8080/"
        },
        "id": "VwJRIQXlNC_B",
        "outputId": "a817160d-815d-417a-bdf2-bb14fc6f84b6"
      },
      "outputs": [
        {
          "name": "stdout",
          "output_type": "stream",
          "text": [
            "Epoch 1/20\n",
            "20/20 [==============================] - 2s 26ms/step - loss: 2.2145 - accuracy: 0.0891 - val_loss: 2.1507 - val_accuracy: 0.2125\n",
            "Epoch 2/20\n",
            "20/20 [==============================] - 0s 9ms/step - loss: 2.1220 - accuracy: 0.2656 - val_loss: 2.0399 - val_accuracy: 0.3750\n",
            "Epoch 3/20\n",
            "20/20 [==============================] - 0s 9ms/step - loss: 2.0152 - accuracy: 0.3156 - val_loss: 1.9007 - val_accuracy: 0.3812\n",
            "Epoch 4/20\n",
            "20/20 [==============================] - 0s 9ms/step - loss: 1.9283 - accuracy: 0.3156 - val_loss: 1.8272 - val_accuracy: 0.3812\n",
            "Epoch 5/20\n",
            "20/20 [==============================] - 0s 11ms/step - loss: 1.8783 - accuracy: 0.3156 - val_loss: 1.8009 - val_accuracy: 0.3812\n",
            "Epoch 6/20\n",
            "20/20 [==============================] - 0s 9ms/step - loss: 1.8497 - accuracy: 0.3156 - val_loss: 1.7851 - val_accuracy: 0.3812\n",
            "Epoch 7/20\n",
            "20/20 [==============================] - 0s 9ms/step - loss: 1.8242 - accuracy: 0.3234 - val_loss: 1.7741 - val_accuracy: 0.3750\n",
            "Epoch 8/20\n",
            "20/20 [==============================] - 0s 10ms/step - loss: 1.7982 - accuracy: 0.3250 - val_loss: 1.7625 - val_accuracy: 0.3812\n",
            "Epoch 9/20\n",
            "20/20 [==============================] - 0s 12ms/step - loss: 1.7739 - accuracy: 0.3266 - val_loss: 1.7553 - val_accuracy: 0.3750\n",
            "Epoch 10/20\n",
            "20/20 [==============================] - 0s 12ms/step - loss: 1.7463 - accuracy: 0.3359 - val_loss: 1.7518 - val_accuracy: 0.3750\n",
            "Epoch 11/20\n",
            "20/20 [==============================] - 0s 10ms/step - loss: 1.7179 - accuracy: 0.3562 - val_loss: 1.7412 - val_accuracy: 0.3812\n",
            "Epoch 12/20\n",
            "20/20 [==============================] - 0s 7ms/step - loss: 1.6848 - accuracy: 0.3516 - val_loss: 1.7439 - val_accuracy: 0.3938\n",
            "Epoch 13/20\n",
            "20/20 [==============================] - 0s 6ms/step - loss: 1.6516 - accuracy: 0.3719 - val_loss: 1.7343 - val_accuracy: 0.3938\n",
            "Epoch 14/20\n",
            "20/20 [==============================] - 0s 6ms/step - loss: 1.6130 - accuracy: 0.3781 - val_loss: 1.7342 - val_accuracy: 0.3938\n",
            "Epoch 15/20\n",
            "20/20 [==============================] - 0s 6ms/step - loss: 1.5715 - accuracy: 0.4016 - val_loss: 1.7332 - val_accuracy: 0.3938\n",
            "Epoch 16/20\n",
            "20/20 [==============================] - 0s 6ms/step - loss: 1.5227 - accuracy: 0.4219 - val_loss: 1.7419 - val_accuracy: 0.3625\n",
            "Epoch 17/20\n",
            "20/20 [==============================] - 0s 7ms/step - loss: 1.4716 - accuracy: 0.4578 - val_loss: 1.7545 - val_accuracy: 0.3625\n",
            "Epoch 18/20\n",
            "20/20 [==============================] - 0s 7ms/step - loss: 1.4141 - accuracy: 0.4812 - val_loss: 1.7354 - val_accuracy: 0.4000\n",
            "Epoch 19/20\n",
            "20/20 [==============================] - 0s 6ms/step - loss: 1.3484 - accuracy: 0.5203 - val_loss: 1.7696 - val_accuracy: 0.3688\n",
            "Epoch 20/20\n",
            "20/20 [==============================] - 0s 5ms/step - loss: 1.2851 - accuracy: 0.5359 - val_loss: 1.8077 - val_accuracy: 0.3313\n"
          ]
        }
      ],
      "source": [
        "# Training the complex neural network model on the training data with 10 epochs,\n",
        "# using 20% of the training data for validation\n",
        "history_NN_20 = NN.fit(X_train, y_train, epochs = 20, validation_split = 0.2)"
      ]
    },
    {
      "cell_type": "code",
      "execution_count": null,
      "metadata": {
        "colab": {
          "base_uri": "https://localhost:8080/",
          "height": 390
        },
        "id": "cAJIwyPhNC_C",
        "outputId": "d6d02fb1-f5fe-4ac9-b694-4e206b6f40e8"
      },
      "outputs": [
        {
          "data": {
            "image/png": "[encoded data removed]",
            "text/plain": [
              "<Figure size 576x432 with 2 Axes>"
            ]
          },
          "metadata": {},
          "output_type": "display_data"
        }
      ],
      "source": [
        "# Learning curve for the model\n",
        "\n",
        "summarize_model(history_NN_20)"
      ]
    },
    {
      "cell_type": "code",
      "execution_count": null,
      "metadata": {
        "colab": {
          "base_uri": "https://localhost:8080/"
        },
        "id": "Vmna4AvCNC_C",
        "outputId": "7eb2bc61-6175-412d-d75d-aff1e026fbd2"
      },
      "outputs": [
        {
          "name": "stdout",
          "output_type": "stream",
          "text": [
            "7/7 [==============================] - 0s 4ms/step - loss: 1.8713 - accuracy: 0.3300\n"
          ]
        }
      ],
      "source": [
        "# Evaluating the trained NN model on the test data\n",
        "testLoss_NN, testAccuracy_NN = NN.evaluate(X_test, y_test)"
      ]
    },
    {
      "cell_type": "markdown",
      "metadata": {
        "id": "XWkmhtoyNC_C"
      },
      "source": [
        "The test average accuracy is 33.00%. Hence, it shows a minor improvement."
      ]
    },
    {
      "cell_type": "code",
      "execution_count": null,
      "metadata": {
        "id": "CoJvn0lOOHfz"
      },
      "outputs": [],
      "source": [
        "# Using the NN model to make predictions\n",
        "y_pred = NN.predict(X_test)"
      ]
    },
    {
      "cell_type": "code",
      "execution_count": null,
      "metadata": {
        "id": "Gfc7BDBkOHf0"
      },
      "outputs": [],
      "source": [
        "import numpy as np \n",
        "# Converting the predicted classes and actual classes vectors to get the predicted and actual classes\n",
        "y_pred_classes = np.argmax(y_pred, axis = 1) \n",
        "y_true_classes = np.argmax(y_test,axis = 1)"
      ]
    },
    {
      "cell_type": "markdown",
      "metadata": {
        "id": "2sVDyL4BOHf0"
      },
      "source": [
        "**Output precision, recall, F1-score for each class**"
      ]
    },
    {
      "cell_type": "code",
      "execution_count": null,
      "metadata": {
        "colab": {
          "base_uri": "https://localhost:8080/"
        },
        "id": "heM-ho7GOHf0",
        "outputId": "8773dd4d-be6d-4ed8-f1ed-79c728a4d223"
      },
      "outputs": [
        {
          "name": "stdout",
          "output_type": "stream",
          "text": [
            "              precision    recall  f1-score   support\n",
            "\n",
            "           0       0.25      0.05      0.08        22\n",
            "           1       0.00      0.00      0.00         1\n",
            "           2       0.22      0.30      0.25        43\n",
            "           3       0.39      0.76      0.52        66\n",
            "           4       0.00      0.00      0.00         8\n",
            "           5       0.50      0.08      0.13        13\n",
            "           6       0.17      0.06      0.08        18\n",
            "           7       0.00      0.00      0.00        23\n",
            "           8       0.00      0.00      0.00         6\n",
            "\n",
            "    accuracy                           0.33       200\n",
            "   macro avg       0.17      0.14      0.12       200\n",
            "weighted avg       0.25      0.33      0.25       200\n",
            "\n"
          ]
        },
        {
          "name": "stderr",
          "output_type": "stream",
          "text": [
            "/usr/local/lib/python3.7/dist-packages/sklearn/metrics/_classification.py:1318: UndefinedMetricWarning: Precision and F-score are ill-defined and being set to 0.0 in labels with no predicted samples. Use `zero_division` parameter to control this behavior.\n",
            "  _warn_prf(average, modifier, msg_start, len(result))\n",
            "/usr/local/lib/python3.7/dist-packages/sklearn/metrics/_classification.py:1318: UndefinedMetricWarning: Precision and F-score are ill-defined and being set to 0.0 in labels with no predicted samples. Use `zero_division` parameter to control this behavior.\n",
            "  _warn_prf(average, modifier, msg_start, len(result))\n",
            "/usr/local/lib/python3.7/dist-packages/sklearn/metrics/_classification.py:1318: UndefinedMetricWarning: Precision and F-score are ill-defined and being set to 0.0 in labels with no predicted samples. Use `zero_division` parameter to control this behavior.\n",
            "  _warn_prf(average, modifier, msg_start, len(result))\n",
            "/usr/local/lib/python3.7/dist-packages/sklearn/metrics/_classification.py:1318: UndefinedMetricWarning: Precision and F-score are ill-defined and being set to 0.0 in labels with no predicted samples. Use `zero_division` parameter to control this behavior.\n",
            "  _warn_prf(average, modifier, msg_start, len(result))\n",
            "/usr/local/lib/python3.7/dist-packages/sklearn/metrics/_classification.py:1318: UndefinedMetricWarning: Precision and F-score are ill-defined and being set to 0.0 in labels with no predicted samples. Use `zero_division` parameter to control this behavior.\n",
            "  _warn_prf(average, modifier, msg_start, len(result))\n",
            "/usr/local/lib/python3.7/dist-packages/sklearn/metrics/_classification.py:1318: UndefinedMetricWarning: Precision and F-score are ill-defined and being set to 0.0 in labels with no predicted samples. Use `zero_division` parameter to control this behavior.\n",
            "  _warn_prf(average, modifier, msg_start, len(result))\n"
          ]
        }
      ],
      "source": [
        "# Classification Report\n",
        "\n",
        "report_NN_dict = classification_report(y_true_classes, y_pred_classes, output_dict = True)\n",
        "report = classification_report(y_true_classes, y_pred_classes)\n",
        "print(report)"
      ]
    },
    {
      "cell_type": "code",
      "execution_count": null,
      "metadata": {
        "id": "bm9HvitTOHf0"
      },
      "outputs": [],
      "source": [
        "# Storing the class-wise values of performance metrics which will be needed to draw the bar plot\n",
        "\n",
        "precision = get_performance_from_classification_report(report_NN_dict, 'precision')\n",
        "recall =  get_performance_from_classification_report(report_NN_dict, 'recall')\n",
        "f1_score = get_performance_from_classification_report(report_NN_dict, 'f1-score')"
      ]
    },
    {
      "cell_type": "code",
      "execution_count": null,
      "metadata": {
        "colab": {
          "base_uri": "https://localhost:8080/",
          "height": 523
        },
        "id": "xCKFuz8QOHf0",
        "outputId": "725f8840-501a-4e01-cbb2-39d59a6134ff"
      },
      "outputs": [
        {
          "data": {
            "image/png": "[encoded data removed]",
            "text/plain": [
              "<Figure size 864x576 with 1 Axes>"
            ]
          },
          "metadata": {},
          "output_type": "display_data"
        }
      ],
      "source": [
        "# Displaying classification report as a bar plot\n",
        "draw_performance_plot(precision, recall, f1_score, 'Neural Network (20 Epochs)')"
      ]
    }
  ],
  "metadata": {
    "colab": {
      "collapsed_sections": [],
      "name": "M1_Artemis.ipynb",
      "provenance": []
    },
    "kernelspec": {
      "display_name": "Python 3",
      "name": "python3"
    },
    "language_info": {
      "name": "python"
    }
  },
  "nbformat": 4,
  "nbformat_minor": 0
}